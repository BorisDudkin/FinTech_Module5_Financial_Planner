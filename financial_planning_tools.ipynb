{
 "cells": [
  {
   "cell_type": "markdown",
   "metadata": {},
   "source": [
    "# Financial Planning with APIs and Simulations\n",
    "\n",
    "In this Challenge, you’ll create two financial analysis tools by using a single Jupyter notebook:\n",
    "\n",
    "Part 1: A financial planner for emergencies. The members will be able to use this tool to visualize their current savings. The members can then determine if they have enough reserves for an emergency fund.\n",
    "\n",
    "Part 2: A financial planner for retirement. This tool will forecast the performance of their retirement portfolio in 30 years. To do this, the tool will make an Alpaca API call via the Alpaca SDK to get historical price data for use in Monte Carlo simulations.\n",
    "\n",
    "You’ll use the information from the Monte Carlo simulation to answer questions about the portfolio in your Jupyter notebook.\n",
    "\n"
   ]
  },
  {
   "cell_type": "code",
   "execution_count": 1,
   "metadata": {},
   "outputs": [],
   "source": [
    "# Import the required libraries and dependencies\n",
    "import os\n",
    "import requests\n",
    "import json\n",
    "import pandas as pd\n",
    "from dotenv import load_dotenv\n",
    "import alpaca_trade_api as tradeapi\n",
    "from MCForecastTools import MCSimulation\n",
    "\n",
    "%matplotlib inline"
   ]
  },
  {
   "cell_type": "code",
   "execution_count": 2,
   "metadata": {},
   "outputs": [
    {
     "data": {
      "text/plain": [
       "True"
      ]
     },
     "execution_count": 2,
     "metadata": {},
     "output_type": "execute_result"
    }
   ],
   "source": [
    "# Load the environment variables from the .env file\n",
    "#by calling the load_dotenv function\n",
    "load_dotenv()"
   ]
  },
  {
   "cell_type": "markdown",
   "metadata": {},
   "source": [
    "## Part 1: Create a Financial Planner for Emergencies"
   ]
  },
  {
   "cell_type": "markdown",
   "metadata": {},
   "source": [
    "### Evaluate the Cryptocurrency Wallet by Using the Requests Library\n",
    "\n",
    "In this section, you’ll determine the current value of a member’s cryptocurrency wallet. You’ll collect the current prices for the Bitcoin and Ethereum cryptocurrencies by using the Python Requests library. For the prototype, you’ll assume that the member holds the 1.2 Bitcoins (BTC) and 5.3 Ethereum coins (ETH). To do all this, complete the following steps:\n",
    "\n",
    "1. Create a variable named `monthly_income`, and set its value to `12000`.\n",
    "\n",
    "2. Use the Requests library to get the current price (in US dollars) of Bitcoin (BTC) and Ethereum (ETH) by using the API endpoints that the starter code supplies.\n",
    "\n",
    "3. Navigate the JSON response object to access the current price of each coin, and store each in a variable.\n",
    "\n",
    "    > **Hint** Note the specific identifier for each cryptocurrency in the API JSON response. The Bitcoin identifier is `1`, and the Ethereum identifier is `1027`.\n",
    "\n",
    "4. Calculate the value, in US dollars, of the current amount of each cryptocurrency and of the entire cryptocurrency wallet.\n",
    "\n"
   ]
  },
  {
   "cell_type": "code",
   "execution_count": 3,
   "metadata": {},
   "outputs": [],
   "source": [
    "# The current number of coins for each cryptocurrency asset held in the portfolio.\n",
    "btc_coins = 1.2\n",
    "eth_coins = 5.3"
   ]
  },
  {
   "cell_type": "markdown",
   "metadata": {},
   "source": [
    "#### Step 1: Create a variable named `monthly_income`, and set its value to `12000`."
   ]
  },
  {
   "cell_type": "code",
   "execution_count": 4,
   "metadata": {},
   "outputs": [],
   "source": [
    "# The monthly amount for the member's household income\n",
    "monthly_income = 12000\n"
   ]
  },
  {
   "cell_type": "markdown",
   "metadata": {},
   "source": [
    "#### Review the endpoint URLs for the API calls to Free Crypto API in order to get the current pricing information for both BTC and ETH."
   ]
  },
  {
   "cell_type": "code",
   "execution_count": 5,
   "metadata": {},
   "outputs": [],
   "source": [
    "# The Free Crypto API Call endpoint URLs for the held cryptocurrency assets\n",
    "btc_url = \"https://api.alternative.me/v2/ticker/Bitcoin/?convert=USD\"\n",
    "eth_url = \"https://api.alternative.me/v2/ticker/Ethereum/?convert=USD\""
   ]
  },
  {
   "cell_type": "markdown",
   "metadata": {},
   "source": [
    "#### Step 2. Use the Requests library to get the current price (in US dollars) of Bitcoin (BTC) and Ethereum (ETH) by using the API endpoints that the starter code supplied."
   ]
  },
  {
   "cell_type": "code",
   "execution_count": 6,
   "metadata": {},
   "outputs": [
    {
     "name": "stdout",
     "output_type": "stream",
     "text": [
      "{\n",
      "    \"data\": {\n",
      "        \"1\": {\n",
      "            \"circulating_supply\": 19249431,\n",
      "            \"id\": 1,\n",
      "            \"last_updated\": 1672600493,\n",
      "            \"max_supply\": 21000000,\n",
      "            \"name\": \"Bitcoin\",\n",
      "            \"quotes\": {\n",
      "                \"USD\": {\n",
      "                    \"market_cap\": 319437015106,\n",
      "                    \"percent_change_1h\": 0.0753670519812681,\n",
      "                    \"percent_change_24h\": 0.178019285582447,\n",
      "                    \"percent_change_7d\": -1.42584229546861,\n",
      "                    \"percentage_change_1h\": 0.0753670519812681,\n",
      "                    \"percentage_change_24h\": 0.178019285582447,\n",
      "                    \"percentage_change_7d\": -1.42584229546861,\n",
      "                    \"price\": 16608.33,\n",
      "                    \"volume_24h\": 10022593386\n",
      "                }\n",
      "            },\n",
      "            \"rank\": 1,\n",
      "            \"symbol\": \"BTC\",\n",
      "            \"total_supply\": 19249431,\n",
      "            \"website_slug\": \"bitcoin\"\n",
      "        }\n",
      "    },\n",
      "    \"metadata\": {\n",
      "        \"error\": null,\n",
      "        \"num_cryptocurrencies\": 3119,\n",
      "        \"timestamp\": 1672600493\n",
      "    }\n",
      "}\n"
     ]
    }
   ],
   "source": [
    "# Using the Python requests library, make an API call to access the current price of BTC\n",
    "btc_response = requests.get(btc_url).json()\n",
    "\n",
    "# Use the json.dumps function to review the response data from the API call\n",
    "# Use the indent and sort_keys parameters to make the response object readable\n",
    "print(json.dumps(btc_response, indent=4, sort_keys=True))\n"
   ]
  },
  {
   "cell_type": "code",
   "execution_count": 7,
   "metadata": {},
   "outputs": [
    {
     "name": "stdout",
     "output_type": "stream",
     "text": [
      "{\n",
      "    \"data\": {\n",
      "        \"1027\": {\n",
      "            \"circulating_supply\": 120525445,\n",
      "            \"id\": 1027,\n",
      "            \"last_updated\": 1672600496,\n",
      "            \"max_supply\": 120525445,\n",
      "            \"name\": \"Ethereum\",\n",
      "            \"quotes\": {\n",
      "                \"USD\": {\n",
      "                    \"market_cap\": 144845407370,\n",
      "                    \"percent_change_1h\": 0.0424719317833428,\n",
      "                    \"percent_change_24h\": 0.229749660261622,\n",
      "                    \"percent_change_7d\": -1.52270227848457,\n",
      "                    \"percentage_change_1h\": 0.0424719317833428,\n",
      "                    \"percentage_change_24h\": 0.229749660261622,\n",
      "                    \"percentage_change_7d\": -1.52270227848457,\n",
      "                    \"price\": 1202.76,\n",
      "                    \"volume_24h\": 2327768523\n",
      "                }\n",
      "            },\n",
      "            \"rank\": 2,\n",
      "            \"symbol\": \"ETH\",\n",
      "            \"total_supply\": 120525445,\n",
      "            \"website_slug\": \"ethereum\"\n",
      "        }\n",
      "    },\n",
      "    \"metadata\": {\n",
      "        \"error\": null,\n",
      "        \"num_cryptocurrencies\": 3119,\n",
      "        \"timestamp\": 1672600496\n",
      "    }\n",
      "}\n"
     ]
    }
   ],
   "source": [
    "# Using the Python requests library, make an API call to access the current price ETH\n",
    "eth_response = requests.get(eth_url).json()\n",
    "\n",
    "# Use the json.dumps function to review the response data from the API call\n",
    "# Use the indent and sort_keys parameters to make the response object readable\n",
    "print(json.dumps(eth_response, indent=4, sort_keys=True))\n"
   ]
  },
  {
   "cell_type": "markdown",
   "metadata": {},
   "source": [
    "#### Step 3: Navigate the JSON response object to access the current price of each coin, and store each in a variable."
   ]
  },
  {
   "cell_type": "code",
   "execution_count": 8,
   "metadata": {},
   "outputs": [
    {
     "data": {
      "text/plain": [
       "16608.33"
      ]
     },
     "execution_count": 8,
     "metadata": {},
     "output_type": "execute_result"
    }
   ],
   "source": [
    "# Navigate the BTC response object to access the current price of BTC\n",
    "btc_price = btc_response['data']['1']['quotes']['USD']['price']\n",
    "\n",
    "# Print the current price of BTC\n",
    "btc_price\n"
   ]
  },
  {
   "cell_type": "code",
   "execution_count": 9,
   "metadata": {},
   "outputs": [
    {
     "data": {
      "text/plain": [
       "1202.76"
      ]
     },
     "execution_count": 9,
     "metadata": {},
     "output_type": "execute_result"
    }
   ],
   "source": [
    "# Navigate the BTC response object to access the current price of ETH\n",
    "eth_price = eth_response['data']['1027']['quotes']['USD']['price']\n",
    "\n",
    "# Print the current price of ETH\n",
    "eth_price\n"
   ]
  },
  {
   "cell_type": "markdown",
   "metadata": {},
   "source": [
    "### Step 4: Calculate the value, in US dollars, of the current amount of each cryptocurrency and of the entire cryptocurrency wallet."
   ]
  },
  {
   "cell_type": "code",
   "execution_count": 10,
   "metadata": {},
   "outputs": [
    {
     "data": {
      "text/plain": [
       "19929.996000000003"
      ]
     },
     "execution_count": 10,
     "metadata": {},
     "output_type": "execute_result"
    }
   ],
   "source": [
    "# Compute the current value of the BTC holding \n",
    "btc_value = btc_price * btc_coins\n",
    "\n",
    "# Print current value of your holding in BTC\n",
    "btc_value\n"
   ]
  },
  {
   "cell_type": "code",
   "execution_count": 11,
   "metadata": {},
   "outputs": [
    {
     "data": {
      "text/plain": [
       "6374.628"
      ]
     },
     "execution_count": 11,
     "metadata": {},
     "output_type": "execute_result"
    }
   ],
   "source": [
    "# Compute the current value of the ETH holding \n",
    "eth_value =eth_price * eth_coins\n",
    "\n",
    "# Print current value of your holding in ETH\n",
    "eth_value\n"
   ]
  },
  {
   "cell_type": "code",
   "execution_count": 12,
   "metadata": {},
   "outputs": [
    {
     "data": {
      "text/plain": [
       "26304.624000000003"
      ]
     },
     "execution_count": 12,
     "metadata": {},
     "output_type": "execute_result"
    }
   ],
   "source": [
    "# Compute the total value of the cryptocurrency wallet\n",
    "# Add the value of the BTC holding to the value of the ETH holding\n",
    "total_crypto_wallet = btc_value + eth_value\n",
    "\n",
    "# Print current cryptocurrency wallet balance\n",
    "total_crypto_wallet\n"
   ]
  },
  {
   "cell_type": "markdown",
   "metadata": {},
   "source": [
    "### Evaluate the Stock and Bond Holdings by Using the Alpaca SDK\n",
    "\n",
    "In this section, you’ll determine the current value of a member’s stock and bond holdings. You’ll make an API call to Alpaca via the Alpaca SDK to get the current closing prices of the SPDR S&P 500 ETF Trust (ticker: SPY) and of the iShares Core US Aggregate Bond ETF (ticker: AGG). For the prototype, assume that the member holds 110 shares of SPY, which represents the stock portion of their portfolio, and 200 shares of AGG, which represents the bond portion. To do all this, complete the following steps:\n",
    "\n",
    "1. In the `Starter_Code` folder, create an environment file (`.env`) to store the values of your Alpaca API key and Alpaca secret key.\n",
    "\n",
    "2. Set the variables for the Alpaca API and secret keys. Using the Alpaca SDK, create the Alpaca `tradeapi.REST` object. In this object, include the parameters for the Alpaca API key, the secret key, and the version number.\n",
    "\n",
    "3. Set the following parameters for the Alpaca API call:\n",
    "\n",
    "    - `tickers`: Use the tickers for the member’s stock and bond holdings.\n",
    "\n",
    "    - `timeframe`: Use a time frame of one day.\n",
    "\n",
    "    - `start_date` and `end_date`: Use the same date for these parameters, and format them with the date of the previous weekday (or `2020-08-07`). This is because you want the one closing price for the most-recent trading day.\n",
    "\n",
    "4. Get the current closing prices for `SPY` and `AGG` by using the Alpaca `get_bars` function. Format the response as a Pandas DataFrame by including the `df` property at the end of the `get_bars` function.\n",
    "\n",
    "5. Navigating the Alpaca response DataFrame, select the `SPY` and `AGG` closing prices, and store them as variables.\n",
    "\n",
    "6. Calculate the value, in US dollars, of the current amount of shares in each of the stock and bond portions of the portfolio, and print the results.\n"
   ]
  },
  {
   "cell_type": "markdown",
   "metadata": {},
   "source": [
    "#### Review the total number of shares held in both (SPY) and (AGG)."
   ]
  },
  {
   "cell_type": "code",
   "execution_count": 13,
   "metadata": {},
   "outputs": [],
   "source": [
    "# Current amount of shares held in both the stock (SPY) and bond (AGG) portion of the portfolio.\n",
    "spy_shares = 110\n",
    "agg_shares = 200\n"
   ]
  },
  {
   "cell_type": "markdown",
   "metadata": {},
   "source": [
    "#### Step 1: In the `Starter_Code` folder, create an environment file (`.env`) to store the values of your Alpaca API key and Alpaca secret key."
   ]
  },
  {
   "cell_type": "markdown",
   "metadata": {},
   "source": [
    "#### Step 2: Set the variables for the Alpaca API and secret keys. Using the Alpaca SDK, create the Alpaca `tradeapi.REST` object. In this object, include the parameters for the Alpaca API key, the secret key, and the version number."
   ]
  },
  {
   "cell_type": "code",
   "execution_count": 14,
   "metadata": {},
   "outputs": [],
   "source": [
    "# Set the variables for the Alpaca API and secret keys\n",
    "alpaca_api_key = os.getenv(\"ALPACA_API_KEY\")\n",
    "alpaca_secret_key = os.getenv(\"ALPACA_SECRET_KEY\")\n",
    "\n",
    "# Create the Alpaca tradeapi.REST object\n",
    "alpaca = tradeapi.REST(\n",
    "    alpaca_api_key,\n",
    "    alpaca_secret_key,\n",
    "    api_version=\"v2\")\n"
   ]
  },
  {
   "cell_type": "markdown",
   "metadata": {},
   "source": [
    "#### Step 3: Set the following parameters for the Alpaca API call:\n",
    "\n",
    "- `tickers`: Use the tickers for the member’s stock and bond holdings.\n",
    "\n",
    "- `timeframe`: Use a time frame of one day.\n",
    "\n",
    "- `start_date` and `end_date`: Use the same date for these parameters, and format them with the date of the previous weekday (or `2020-08-07`). This is because you want the one closing price for the most-recent trading day.\n"
   ]
  },
  {
   "cell_type": "code",
   "execution_count": 15,
   "metadata": {},
   "outputs": [],
   "source": [
    "# Set the tickers for both the bond and stock portion of the portfolio\n",
    "tickers = ['SPY', 'AGG']\n",
    "\n",
    "# Set timeframe to 1Day\n",
    "timeframe = '1Day'\n",
    "\n",
    "# Format current date as ISO format\n",
    "# Set both the start and end date at the date of your prior weekday \n",
    "# This will give you the closing price of the previous trading day\n",
    "# Alternatively you can use a start and end date of 2020-08-07\n",
    "start_date = pd.Timestamp(\"2022-12-30\", tz=\"America/New_York\").isoformat()\n",
    "end_date = pd.Timestamp(\"2022-12-30\", tz=\"America/New_York\").isoformat()\n"
   ]
  },
  {
   "cell_type": "markdown",
   "metadata": {},
   "source": [
    "#### Step 4: Get the current closing prices for `SPY` and `AGG` by using the Alpaca `get_bars` function. Format the response as a Pandas DataFrame by including the `df` property at the end of the `get_bars` function."
   ]
  },
  {
   "cell_type": "code",
   "execution_count": 16,
   "metadata": {},
   "outputs": [
    {
     "data": {
      "text/html": [
       "<div>\n",
       "<style scoped>\n",
       "    .dataframe tbody tr th:only-of-type {\n",
       "        vertical-align: middle;\n",
       "    }\n",
       "\n",
       "    .dataframe tbody tr th {\n",
       "        vertical-align: top;\n",
       "    }\n",
       "\n",
       "    .dataframe thead tr th {\n",
       "        text-align: left;\n",
       "    }\n",
       "\n",
       "    .dataframe thead tr:last-of-type th {\n",
       "        text-align: right;\n",
       "    }\n",
       "</style>\n",
       "<table border=\"1\" class=\"dataframe\">\n",
       "  <thead>\n",
       "    <tr>\n",
       "      <th></th>\n",
       "      <th colspan=\"7\" halign=\"left\">SPY</th>\n",
       "      <th colspan=\"7\" halign=\"left\">AGG</th>\n",
       "    </tr>\n",
       "    <tr>\n",
       "      <th></th>\n",
       "      <th>open</th>\n",
       "      <th>high</th>\n",
       "      <th>low</th>\n",
       "      <th>close</th>\n",
       "      <th>volume</th>\n",
       "      <th>trade_count</th>\n",
       "      <th>vwap</th>\n",
       "      <th>open</th>\n",
       "      <th>high</th>\n",
       "      <th>low</th>\n",
       "      <th>close</th>\n",
       "      <th>volume</th>\n",
       "      <th>trade_count</th>\n",
       "      <th>vwap</th>\n",
       "    </tr>\n",
       "    <tr>\n",
       "      <th>timestamp</th>\n",
       "      <th></th>\n",
       "      <th></th>\n",
       "      <th></th>\n",
       "      <th></th>\n",
       "      <th></th>\n",
       "      <th></th>\n",
       "      <th></th>\n",
       "      <th></th>\n",
       "      <th></th>\n",
       "      <th></th>\n",
       "      <th></th>\n",
       "      <th></th>\n",
       "      <th></th>\n",
       "      <th></th>\n",
       "    </tr>\n",
       "  </thead>\n",
       "  <tbody>\n",
       "    <tr>\n",
       "      <th>2022-12-30 05:00:00+00:00</th>\n",
       "      <td>380.64</td>\n",
       "      <td>382.58</td>\n",
       "      <td>378.43</td>\n",
       "      <td>382.43</td>\n",
       "      <td>83474793</td>\n",
       "      <td>544591</td>\n",
       "      <td>381.220108</td>\n",
       "      <td>97.25</td>\n",
       "      <td>97.36</td>\n",
       "      <td>96.9741</td>\n",
       "      <td>96.99</td>\n",
       "      <td>8460107</td>\n",
       "      <td>29791</td>\n",
       "      <td>97.066805</td>\n",
       "    </tr>\n",
       "  </tbody>\n",
       "</table>\n",
       "</div>"
      ],
      "text/plain": [
       "                              SPY                                    \\\n",
       "                             open    high     low   close    volume   \n",
       "timestamp                                                             \n",
       "2022-12-30 05:00:00+00:00  380.64  382.58  378.43  382.43  83474793   \n",
       "\n",
       "                                                     AGG                  \\\n",
       "                          trade_count        vwap   open   high      low   \n",
       "timestamp                                                                  \n",
       "2022-12-30 05:00:00+00:00      544591  381.220108  97.25  97.36  96.9741   \n",
       "\n",
       "                                                                  \n",
       "                           close   volume trade_count       vwap  \n",
       "timestamp                                                         \n",
       "2022-12-30 05:00:00+00:00  96.99  8460107       29791  97.066805  "
      ]
     },
     "execution_count": 16,
     "metadata": {},
     "output_type": "execute_result"
    }
   ],
   "source": [
    "# Use the Alpaca get_bars function to get current closing prices the portfolio\n",
    "# Be sure to set the `df` property after the function to format the response object as a DataFrame\n",
    "df_portfolio = alpaca.get_bars(\n",
    "    tickers,\n",
    "    timeframe,\n",
    "    start = start_date,\n",
    "    end = end_date\n",
    ").df\n",
    "\n",
    "# Reorganize the DataFrame\n",
    "# Separate ticker data\n",
    "SPY = df_portfolio[df_portfolio['symbol']=='SPY'].drop('symbol', axis=1)\n",
    "AGG = df_portfolio[df_portfolio['symbol']=='AGG'].drop('symbol', axis=1)\n",
    "\n",
    "# Concatenate the ticker DataFrames\n",
    "df_portfolio = pd.concat([SPY,AGG],axis=1, keys=['SPY','AGG'])\n",
    "\n",
    "# Review the first 5 rows of the Alpaca DataFrame\n",
    "df_portfolio.head()\n"
   ]
  },
  {
   "cell_type": "markdown",
   "metadata": {},
   "source": [
    "#### Step 5: Navigating the Alpaca response DataFrame, select the `SPY` and `AGG` closing prices, and store them as variables."
   ]
  },
  {
   "cell_type": "code",
   "execution_count": 17,
   "metadata": {},
   "outputs": [
    {
     "data": {
      "text/plain": [
       "96.99"
      ]
     },
     "execution_count": 17,
     "metadata": {},
     "output_type": "execute_result"
    }
   ],
   "source": [
    "# Access the closing price for AGG from the Alpaca DataFrame\n",
    "# Converting the value to a floating point number\n",
    "agg_close_price = float(df_portfolio['AGG']['close'])\n",
    "\n",
    "# Print the AGG closing price\n",
    "agg_close_price\n"
   ]
  },
  {
   "cell_type": "code",
   "execution_count": 18,
   "metadata": {},
   "outputs": [
    {
     "data": {
      "text/plain": [
       "382.43"
      ]
     },
     "execution_count": 18,
     "metadata": {},
     "output_type": "execute_result"
    }
   ],
   "source": [
    "# Access the closing price for SPY from the Alpaca DataFrame\n",
    "# Converting the value to a floating point number\n",
    "spy_close_price = float(df_portfolio['SPY']['close'])\n",
    "\n",
    "# Print the SPY closing price\n",
    "spy_close_price\n"
   ]
  },
  {
   "cell_type": "markdown",
   "metadata": {},
   "source": [
    "#### Step 6: Calculate the value, in US dollars, of the current amount of shares in each of the stock and bond portions of the portfolio, and print the results."
   ]
  },
  {
   "cell_type": "code",
   "execution_count": 19,
   "metadata": {},
   "outputs": [
    {
     "data": {
      "text/plain": [
       "19398.0"
      ]
     },
     "execution_count": 19,
     "metadata": {},
     "output_type": "execute_result"
    }
   ],
   "source": [
    "# Calculate the current value of the bond portion of the portfolio\n",
    "agg_value = agg_shares * agg_close_price\n",
    "\n",
    "# Print the current value of the bond portfolio\n",
    "agg_value\n"
   ]
  },
  {
   "cell_type": "code",
   "execution_count": 20,
   "metadata": {},
   "outputs": [
    {
     "data": {
      "text/plain": [
       "42067.3"
      ]
     },
     "execution_count": 20,
     "metadata": {},
     "output_type": "execute_result"
    }
   ],
   "source": [
    "# Calculate the current value of the stock portion of the portfolio\n",
    "spy_value = spy_shares * spy_close_price\n",
    "\n",
    "# Print the current value of the stock portfolio\n",
    "spy_value\n"
   ]
  },
  {
   "cell_type": "code",
   "execution_count": 21,
   "metadata": {},
   "outputs": [
    {
     "data": {
      "text/plain": [
       "61465.3"
      ]
     },
     "execution_count": 21,
     "metadata": {},
     "output_type": "execute_result"
    }
   ],
   "source": [
    "# Calculate the total value of the stock and bond portion of the portfolio\n",
    "total_stocks_bonds = agg_value + spy_value\n",
    "\n",
    "# Print the current balance of the stock and bond portion of the portfolio\n",
    "total_stocks_bonds\n"
   ]
  },
  {
   "cell_type": "code",
   "execution_count": 22,
   "metadata": {},
   "outputs": [
    {
     "data": {
      "text/plain": [
       "87769.924"
      ]
     },
     "execution_count": 22,
     "metadata": {},
     "output_type": "execute_result"
    }
   ],
   "source": [
    "# Calculate the total value of the member's entire savings portfolio\n",
    "# Add the value of the cryptocurrency walled to the value of the total stocks and bonds\n",
    "total_portfolio = total_stocks_bonds + total_crypto_wallet\n",
    "\n",
    "# Print portfolio balance balance\n",
    "total_portfolio\n"
   ]
  },
  {
   "cell_type": "markdown",
   "metadata": {},
   "source": [
    "### Evaluate the Emergency Fund\n",
    "\n",
    "In this section, you’ll use the valuations for the cryptocurrency wallet and for the stock and bond portions of the portfolio to determine if the credit union member has enough savings to build an emergency fund into their financial plan. To do this, complete the following steps:\n",
    "\n",
    "1. Create a Python list named `savings_data` that has two elements. The first element contains the total value of the cryptocurrency wallet. The second element contains the total value of the stock and bond portions of the portfolio.\n",
    "\n",
    "2. Use the `savings_data` list to create a Pandas DataFrame named `savings_df`, and then display this DataFrame. The function to create the DataFrame should take the following three parameters:\n",
    "\n",
    "    - `savings_data`: Use the list that you just created.\n",
    "\n",
    "    - `columns`: Set this parameter equal to a Python list with a single value called `amount`.\n",
    "\n",
    "    - `index`: Set this parameter equal to a Python list with the values of `crypto` and `stock/bond`.\n",
    "\n",
    "3. Use the `savings_df` DataFrame to plot a pie chart that visualizes the composition of the member’s portfolio. The y-axis of the pie chart uses `amount`. Be sure to add a title.\n",
    "\n",
    "4. Using Python, determine if the current portfolio has enough to create an emergency fund as part of the member’s financial plan. Ideally, an emergency fund should equal to three times the member’s monthly income. To do this, implement the following steps:\n",
    "\n",
    "    1. Create a variable named `emergency_fund_value`, and set it equal to three times the value of the member’s `monthly_income` of $12000. (You set this earlier in Part 1).\n",
    "\n",
    "    2. Create a series of three if statements to determine if the member’s total portfolio is large enough to fund the emergency portfolio:\n",
    "\n",
    "        1. If the total portfolio value is greater than the emergency fund value, display a message congratulating the member for having enough money in this fund.\n",
    "\n",
    "        2. Else if the total portfolio value is equal to the emergency fund value, display a message congratulating the member on reaching this important financial goal.\n",
    "\n",
    "        3. Else the total portfolio is less than the emergency fund value, so display a message showing how many dollars away the member is from reaching the goal. (Subtract the total portfolio value from the emergency fund value.)\n"
   ]
  },
  {
   "cell_type": "markdown",
   "metadata": {},
   "source": [
    "#### Step 1: Create a Python list named `savings_data` that has two elements. The first element contains the total value of the cryptocurrency wallet. The second element contains the total value of the stock and bond portions of the portfolio."
   ]
  },
  {
   "cell_type": "code",
   "execution_count": 23,
   "metadata": {},
   "outputs": [
    {
     "data": {
      "text/plain": [
       "[26304.624000000003, 61465.3]"
      ]
     },
     "execution_count": 23,
     "metadata": {},
     "output_type": "execute_result"
    }
   ],
   "source": [
    "# Consolidate financial assets data into a Python list\n",
    "savings_data = [total_crypto_wallet, total_stocks_bonds]\n",
    "\n",
    "# Review the Python list savings_data\n",
    "savings_data\n",
    "    "
   ]
  },
  {
   "cell_type": "markdown",
   "metadata": {},
   "source": [
    "#### Step 2: Use the `savings_data` list to create a Pandas DataFrame named `savings_df`, and then display this DataFrame. The function to create the DataFrame should take the following three parameters:\n",
    "\n",
    "- `savings_data`: Use the list that you just created.\n",
    "\n",
    "- `columns`: Set this parameter equal to a Python list with a single value called `amount`.\n",
    "\n",
    "- `index`: Set this parameter equal to a Python list with the values of `crypto` and `stock/bond`.\n"
   ]
  },
  {
   "cell_type": "code",
   "execution_count": 24,
   "metadata": {},
   "outputs": [
    {
     "data": {
      "text/html": [
       "<div>\n",
       "<style scoped>\n",
       "    .dataframe tbody tr th:only-of-type {\n",
       "        vertical-align: middle;\n",
       "    }\n",
       "\n",
       "    .dataframe tbody tr th {\n",
       "        vertical-align: top;\n",
       "    }\n",
       "\n",
       "    .dataframe thead th {\n",
       "        text-align: right;\n",
       "    }\n",
       "</style>\n",
       "<table border=\"1\" class=\"dataframe\">\n",
       "  <thead>\n",
       "    <tr style=\"text-align: right;\">\n",
       "      <th></th>\n",
       "      <th>amount</th>\n",
       "    </tr>\n",
       "  </thead>\n",
       "  <tbody>\n",
       "    <tr>\n",
       "      <th>crypto</th>\n",
       "      <td>26304.624</td>\n",
       "    </tr>\n",
       "    <tr>\n",
       "      <th>stock/bond</th>\n",
       "      <td>61465.300</td>\n",
       "    </tr>\n",
       "  </tbody>\n",
       "</table>\n",
       "</div>"
      ],
      "text/plain": [
       "               amount\n",
       "crypto      26304.624\n",
       "stock/bond  61465.300"
      ]
     },
     "execution_count": 24,
     "metadata": {},
     "output_type": "execute_result"
    }
   ],
   "source": [
    "# Create a Pandas DataFrame called savings_df \n",
    "savings_df = pd.DataFrame(savings_data, columns = ['amount'], index = ['crypto', 'stock/bond'])\n",
    "\n",
    "# Display the savings_df DataFrame\n",
    "savings_df\n"
   ]
  },
  {
   "cell_type": "markdown",
   "metadata": {},
   "source": [
    "#### Step 3: Use the `savings_df` DataFrame to plot a pie chart that visualizes the composition of the member’s portfolio. The y-axis of the pie chart uses `amount`. Be sure to add a title."
   ]
  },
  {
   "cell_type": "code",
   "execution_count": 25,
   "metadata": {},
   "outputs": [
    {
     "data": {
      "text/plain": [
       "<AxesSubplot:title={'center':'Portfolio Composition'}, ylabel='amount'>"
      ]
     },
     "execution_count": 25,
     "metadata": {},
     "output_type": "execute_result"
    },
    {
     "data": {
      "image/png": "[encoded data removed]",
      "text/plain": [
       "<Figure size 640x480 with 1 Axes>"
      ]
     },
     "metadata": {},
     "output_type": "display_data"
    }
   ],
   "source": [
    "# Plot the total value of the member's portfolio (crypto and stock/bond) in a pie chart\n",
    "savings_df.plot.pie(title = 'Portfolio Composition', y ='amount', autopct = '%1.2f%%', explode = [0.03,0])"
   ]
  },
  {
   "cell_type": "markdown",
   "metadata": {},
   "source": [
    "#### Step 4: Using Python, determine if the current portfolio has enough to create an emergency fund as part of the member’s financial plan. Ideally, an emergency fund should equal to three times the member’s monthly income. To do this, implement the following steps:\n",
    "\n",
    "Step 1. Create a variable named `emergency_fund_value`, and set it equal to three times the value of the member’s `monthly_income` of 12000. (You set this earlier in Part 1).\n",
    "\n",
    "Step 2. Create a series of three if statements to determine if the member’s total portfolio is large enough to fund the emergency portfolio:\n",
    "\n",
    "* If the total portfolio value is greater than the emergency fund value, display a message congratulating the member for having enough money in this fund.\n",
    "\n",
    "* Else if the total portfolio value is equal to the emergency fund value, display a message congratulating the member on reaching this important financial goal.\n",
    "\n",
    "* Else the total portfolio is less than the emergency fund value, so display a message showing how many dollars away the member is from reaching the goal. (Subtract the total portfolio value from the emergency fund value.)\n"
   ]
  },
  {
   "cell_type": "markdown",
   "metadata": {},
   "source": [
    "##### Step 4-1: Create a variable named `emergency_fund_value`, and set it equal to three times the value of the member’s `monthly_income` of 12000. (You set this earlier in Part 1)."
   ]
  },
  {
   "cell_type": "code",
   "execution_count": 26,
   "metadata": {},
   "outputs": [],
   "source": [
    "# Create a variable named emergency_fund_value\n",
    "emergency_fund_value = 3 * monthly_income \n"
   ]
  },
  {
   "cell_type": "markdown",
   "metadata": {},
   "source": [
    "##### Step 4-2: Create a series of three if statements to determine if the member’s total portfolio is large enough to fund the emergency portfolio:\n",
    "\n",
    "* If the total portfolio value is greater than the emergency fund value, display a message congratulating the member for having enough money in this fund.\n",
    "\n",
    "* Else if the total portfolio value is equal to the emergency fund value, display a message congratulating the member on reaching this important financial goal.\n",
    "\n",
    "* Else the total portfolio is less than the emergency fund value, so display a message showing how many dollars away the member is from reaching the goal. (Subtract the total portfolio value from the emergency fund value.)"
   ]
  },
  {
   "cell_type": "code",
   "execution_count": 27,
   "metadata": {},
   "outputs": [
    {
     "name": "stdout",
     "output_type": "stream",
     "text": [
      "Congratulations, you have sufficient reserves ($ 87770 vs. the threshold of $ 36000) for an emergency fund\n"
     ]
    }
   ],
   "source": [
    "# Evaluate the possibility of creating an emergency fund with 3 conditions:\n",
    "if total_portfolio > emergency_fund_value:\n",
    "    print(f'Congratulations, you have sufficient reserves (${total_portfolio: .0f} vs. the threshold of ${emergency_fund_value: .0f}) for an emergency fund')\n",
    "elif total_portfolio == emergency_fund_value:\n",
    "    print(f'Congratulations, you just qualified for an emergency fund (your portfolio value of ${total_portfolio: .0f} is equal to the emergency fund threshold: ${emergency_fund_value: .0f})')\n",
    "else:\n",
    "    print(f'Unfortunately, you do not qualify for an emergency fund (you are ${(emergency_fund_value - total_portfolio): .0f} away for having sufficient funds)')\n"
   ]
  },
  {
   "cell_type": "markdown",
   "metadata": {},
   "source": [
    "## Part 2: Create a Financial Planner for Retirement"
   ]
  },
  {
   "cell_type": "markdown",
   "metadata": {},
   "source": [
    "### Create the Monte Carlo Simulation\n",
    "\n",
    "In this section, you’ll use the MCForecastTools library to create a Monte Carlo simulation for the member’s savings portfolio. To do this, complete the following steps:\n",
    "\n",
    "1. Make an API call via the Alpaca SDK to get 3 years of historical closing prices for a traditional 60/40 portfolio split: 60% stocks (SPY) and 40% bonds (AGG).\n",
    "\n",
    "2. Run a Monte Carlo simulation of 500 samples and 30 years for the 60/40 portfolio, and then plot the results.The following image shows the overlay line plot resulting from a simulation with these characteristics. However, because a random number generator is used to run each live Monte Carlo simulation, your image will differ slightly from this exact image:\n",
    "\n",
    "![A screenshot depicts the resulting plot.](Images/5-4-monte-carlo-line-plot.png)\n",
    "\n",
    "3. Plot the probability distribution of the Monte Carlo simulation. Plot the probability distribution of the Monte Carlo simulation. The following image shows the histogram plot resulting from a simulation with these characteristics. However, because a random number generator is used to run each live Monte Carlo simulation, your image will differ slightly from this exact image:\n",
    "\n",
    "![A screenshot depicts the histogram plot.](Images/5-4-monte-carlo-histogram.png)\n",
    "\n",
    "4. Generate the summary statistics for the Monte Carlo simulation.\n",
    "\n"
   ]
  },
  {
   "cell_type": "markdown",
   "metadata": {},
   "source": [
    "#### Step 1: Make an API call via the Alpaca SDK to get 3 years of historical closing prices for a traditional 60/40 portfolio split: 60% stocks (SPY) and 40% bonds (AGG)."
   ]
  },
  {
   "cell_type": "code",
   "execution_count": 28,
   "metadata": {},
   "outputs": [],
   "source": [
    "# Set start and end dates of 3 years back from your current date\n",
    "# Alternatively, you can use an end date of 2020-08-07 and work 3 years back from that date \n",
    "start_date = pd.Timestamp(\"2019-12-30\", tz=\"America/New_York\").isoformat()\n",
    "end_date = pd.Timestamp(\"2022-12-30\", tz=\"America/New_York\").isoformat()"
   ]
  },
  {
   "cell_type": "code",
   "execution_count": 29,
   "metadata": {},
   "outputs": [
    {
     "data": {
      "text/html": [
       "<div>\n",
       "<style scoped>\n",
       "    .dataframe tbody tr th:only-of-type {\n",
       "        vertical-align: middle;\n",
       "    }\n",
       "\n",
       "    .dataframe tbody tr th {\n",
       "        vertical-align: top;\n",
       "    }\n",
       "\n",
       "    .dataframe thead tr th {\n",
       "        text-align: left;\n",
       "    }\n",
       "\n",
       "    .dataframe thead tr:last-of-type th {\n",
       "        text-align: right;\n",
       "    }\n",
       "</style>\n",
       "<table border=\"1\" class=\"dataframe\">\n",
       "  <thead>\n",
       "    <tr>\n",
       "      <th></th>\n",
       "      <th colspan=\"7\" halign=\"left\">SPY</th>\n",
       "      <th colspan=\"7\" halign=\"left\">AGG</th>\n",
       "    </tr>\n",
       "    <tr>\n",
       "      <th></th>\n",
       "      <th>open</th>\n",
       "      <th>high</th>\n",
       "      <th>low</th>\n",
       "      <th>close</th>\n",
       "      <th>volume</th>\n",
       "      <th>trade_count</th>\n",
       "      <th>vwap</th>\n",
       "      <th>open</th>\n",
       "      <th>high</th>\n",
       "      <th>low</th>\n",
       "      <th>close</th>\n",
       "      <th>volume</th>\n",
       "      <th>trade_count</th>\n",
       "      <th>vwap</th>\n",
       "    </tr>\n",
       "    <tr>\n",
       "      <th>timestamp</th>\n",
       "      <th></th>\n",
       "      <th></th>\n",
       "      <th></th>\n",
       "      <th></th>\n",
       "      <th></th>\n",
       "      <th></th>\n",
       "      <th></th>\n",
       "      <th></th>\n",
       "      <th></th>\n",
       "      <th></th>\n",
       "      <th></th>\n",
       "      <th></th>\n",
       "      <th></th>\n",
       "      <th></th>\n",
       "    </tr>\n",
       "  </thead>\n",
       "  <tbody>\n",
       "    <tr>\n",
       "      <th>2019-12-30 05:00:00+00:00</th>\n",
       "      <td>322.95</td>\n",
       "      <td>323.10</td>\n",
       "      <td>320.55</td>\n",
       "      <td>321.13</td>\n",
       "      <td>49782805</td>\n",
       "      <td>245064</td>\n",
       "      <td>321.464803</td>\n",
       "      <td>112.42</td>\n",
       "      <td>112.645</td>\n",
       "      <td>112.3400</td>\n",
       "      <td>112.63</td>\n",
       "      <td>3979209</td>\n",
       "      <td>11922</td>\n",
       "      <td>112.529642</td>\n",
       "    </tr>\n",
       "    <tr>\n",
       "      <th>2019-12-31 05:00:00+00:00</th>\n",
       "      <td>320.53</td>\n",
       "      <td>322.13</td>\n",
       "      <td>320.15</td>\n",
       "      <td>321.85</td>\n",
       "      <td>57173534</td>\n",
       "      <td>212945</td>\n",
       "      <td>321.379997</td>\n",
       "      <td>112.54</td>\n",
       "      <td>112.540</td>\n",
       "      <td>112.3650</td>\n",
       "      <td>112.37</td>\n",
       "      <td>6807706</td>\n",
       "      <td>19647</td>\n",
       "      <td>112.410957</td>\n",
       "    </tr>\n",
       "    <tr>\n",
       "      <th>2020-01-02 05:00:00+00:00</th>\n",
       "      <td>323.54</td>\n",
       "      <td>324.89</td>\n",
       "      <td>322.53</td>\n",
       "      <td>324.87</td>\n",
       "      <td>59253833</td>\n",
       "      <td>304884</td>\n",
       "      <td>323.710023</td>\n",
       "      <td>112.68</td>\n",
       "      <td>112.800</td>\n",
       "      <td>112.5600</td>\n",
       "      <td>112.68</td>\n",
       "      <td>6791537</td>\n",
       "      <td>17763</td>\n",
       "      <td>112.645004</td>\n",
       "    </tr>\n",
       "    <tr>\n",
       "      <th>2020-01-03 05:00:00+00:00</th>\n",
       "      <td>321.16</td>\n",
       "      <td>323.64</td>\n",
       "      <td>321.10</td>\n",
       "      <td>322.43</td>\n",
       "      <td>77783121</td>\n",
       "      <td>358500</td>\n",
       "      <td>322.791701</td>\n",
       "      <td>112.89</td>\n",
       "      <td>113.050</td>\n",
       "      <td>112.7814</td>\n",
       "      <td>113.01</td>\n",
       "      <td>3664283</td>\n",
       "      <td>14453</td>\n",
       "      <td>112.958798</td>\n",
       "    </tr>\n",
       "    <tr>\n",
       "      <th>2020-01-06 05:00:00+00:00</th>\n",
       "      <td>320.49</td>\n",
       "      <td>323.73</td>\n",
       "      <td>320.36</td>\n",
       "      <td>323.73</td>\n",
       "      <td>55817168</td>\n",
       "      <td>255767</td>\n",
       "      <td>322.722391</td>\n",
       "      <td>113.13</td>\n",
       "      <td>113.130</td>\n",
       "      <td>112.8400</td>\n",
       "      <td>112.92</td>\n",
       "      <td>8131608</td>\n",
       "      <td>17277</td>\n",
       "      <td>112.949600</td>\n",
       "    </tr>\n",
       "  </tbody>\n",
       "</table>\n",
       "</div>"
      ],
      "text/plain": [
       "                              SPY                                    \\\n",
       "                             open    high     low   close    volume   \n",
       "timestamp                                                             \n",
       "2019-12-30 05:00:00+00:00  322.95  323.10  320.55  321.13  49782805   \n",
       "2019-12-31 05:00:00+00:00  320.53  322.13  320.15  321.85  57173534   \n",
       "2020-01-02 05:00:00+00:00  323.54  324.89  322.53  324.87  59253833   \n",
       "2020-01-03 05:00:00+00:00  321.16  323.64  321.10  322.43  77783121   \n",
       "2020-01-06 05:00:00+00:00  320.49  323.73  320.36  323.73  55817168   \n",
       "\n",
       "                                                      AGG                     \\\n",
       "                          trade_count        vwap    open     high       low   \n",
       "timestamp                                                                      \n",
       "2019-12-30 05:00:00+00:00      245064  321.464803  112.42  112.645  112.3400   \n",
       "2019-12-31 05:00:00+00:00      212945  321.379997  112.54  112.540  112.3650   \n",
       "2020-01-02 05:00:00+00:00      304884  323.710023  112.68  112.800  112.5600   \n",
       "2020-01-03 05:00:00+00:00      358500  322.791701  112.89  113.050  112.7814   \n",
       "2020-01-06 05:00:00+00:00      255767  322.722391  113.13  113.130  112.8400   \n",
       "\n",
       "                                                                    \n",
       "                            close   volume trade_count        vwap  \n",
       "timestamp                                                           \n",
       "2019-12-30 05:00:00+00:00  112.63  3979209       11922  112.529642  \n",
       "2019-12-31 05:00:00+00:00  112.37  6807706       19647  112.410957  \n",
       "2020-01-02 05:00:00+00:00  112.68  6791537       17763  112.645004  \n",
       "2020-01-03 05:00:00+00:00  113.01  3664283       14453  112.958798  \n",
       "2020-01-06 05:00:00+00:00  112.92  8131608       17277  112.949600  "
      ]
     },
     "metadata": {},
     "output_type": "display_data"
    },
    {
     "data": {
      "text/html": [
       "<div>\n",
       "<style scoped>\n",
       "    .dataframe tbody tr th:only-of-type {\n",
       "        vertical-align: middle;\n",
       "    }\n",
       "\n",
       "    .dataframe tbody tr th {\n",
       "        vertical-align: top;\n",
       "    }\n",
       "\n",
       "    .dataframe thead tr th {\n",
       "        text-align: left;\n",
       "    }\n",
       "\n",
       "    .dataframe thead tr:last-of-type th {\n",
       "        text-align: right;\n",
       "    }\n",
       "</style>\n",
       "<table border=\"1\" class=\"dataframe\">\n",
       "  <thead>\n",
       "    <tr>\n",
       "      <th></th>\n",
       "      <th colspan=\"7\" halign=\"left\">SPY</th>\n",
       "      <th colspan=\"7\" halign=\"left\">AGG</th>\n",
       "    </tr>\n",
       "    <tr>\n",
       "      <th></th>\n",
       "      <th>open</th>\n",
       "      <th>high</th>\n",
       "      <th>low</th>\n",
       "      <th>close</th>\n",
       "      <th>volume</th>\n",
       "      <th>trade_count</th>\n",
       "      <th>vwap</th>\n",
       "      <th>open</th>\n",
       "      <th>high</th>\n",
       "      <th>low</th>\n",
       "      <th>close</th>\n",
       "      <th>volume</th>\n",
       "      <th>trade_count</th>\n",
       "      <th>vwap</th>\n",
       "    </tr>\n",
       "    <tr>\n",
       "      <th>timestamp</th>\n",
       "      <th></th>\n",
       "      <th></th>\n",
       "      <th></th>\n",
       "      <th></th>\n",
       "      <th></th>\n",
       "      <th></th>\n",
       "      <th></th>\n",
       "      <th></th>\n",
       "      <th></th>\n",
       "      <th></th>\n",
       "      <th></th>\n",
       "      <th></th>\n",
       "      <th></th>\n",
       "      <th></th>\n",
       "    </tr>\n",
       "  </thead>\n",
       "  <tbody>\n",
       "    <tr>\n",
       "      <th>2022-12-23 05:00:00+00:00</th>\n",
       "      <td>379.65</td>\n",
       "      <td>383.06</td>\n",
       "      <td>378.03</td>\n",
       "      <td>382.91</td>\n",
       "      <td>58757557</td>\n",
       "      <td>441157</td>\n",
       "      <td>381.501493</td>\n",
       "      <td>98.05</td>\n",
       "      <td>98.110</td>\n",
       "      <td>97.8950</td>\n",
       "      <td>97.97</td>\n",
       "      <td>4761697</td>\n",
       "      <td>17054</td>\n",
       "      <td>97.980418</td>\n",
       "    </tr>\n",
       "    <tr>\n",
       "      <th>2022-12-27 05:00:00+00:00</th>\n",
       "      <td>382.79</td>\n",
       "      <td>383.15</td>\n",
       "      <td>379.65</td>\n",
       "      <td>381.40</td>\n",
       "      <td>51494435</td>\n",
       "      <td>427772</td>\n",
       "      <td>381.776690</td>\n",
       "      <td>97.46</td>\n",
       "      <td>97.615</td>\n",
       "      <td>97.2121</td>\n",
       "      <td>97.26</td>\n",
       "      <td>7922269</td>\n",
       "      <td>28214</td>\n",
       "      <td>97.353687</td>\n",
       "    </tr>\n",
       "    <tr>\n",
       "      <th>2022-12-28 05:00:00+00:00</th>\n",
       "      <td>381.33</td>\n",
       "      <td>383.39</td>\n",
       "      <td>376.42</td>\n",
       "      <td>376.66</td>\n",
       "      <td>70660057</td>\n",
       "      <td>500857</td>\n",
       "      <td>379.062108</td>\n",
       "      <td>97.47</td>\n",
       "      <td>97.500</td>\n",
       "      <td>97.0800</td>\n",
       "      <td>97.09</td>\n",
       "      <td>12129529</td>\n",
       "      <td>25595</td>\n",
       "      <td>97.269523</td>\n",
       "    </tr>\n",
       "    <tr>\n",
       "      <th>2022-12-29 05:00:00+00:00</th>\n",
       "      <td>379.63</td>\n",
       "      <td>384.35</td>\n",
       "      <td>379.08</td>\n",
       "      <td>383.44</td>\n",
       "      <td>64517045</td>\n",
       "      <td>480519</td>\n",
       "      <td>382.399055</td>\n",
       "      <td>97.21</td>\n",
       "      <td>97.470</td>\n",
       "      <td>97.1825</td>\n",
       "      <td>97.45</td>\n",
       "      <td>7475702</td>\n",
       "      <td>21522</td>\n",
       "      <td>97.335261</td>\n",
       "    </tr>\n",
       "    <tr>\n",
       "      <th>2022-12-30 05:00:00+00:00</th>\n",
       "      <td>380.64</td>\n",
       "      <td>382.58</td>\n",
       "      <td>378.43</td>\n",
       "      <td>382.43</td>\n",
       "      <td>83474793</td>\n",
       "      <td>544591</td>\n",
       "      <td>381.220108</td>\n",
       "      <td>97.25</td>\n",
       "      <td>97.360</td>\n",
       "      <td>96.9741</td>\n",
       "      <td>96.99</td>\n",
       "      <td>8460107</td>\n",
       "      <td>29791</td>\n",
       "      <td>97.066805</td>\n",
       "    </tr>\n",
       "  </tbody>\n",
       "</table>\n",
       "</div>"
      ],
      "text/plain": [
       "                              SPY                                    \\\n",
       "                             open    high     low   close    volume   \n",
       "timestamp                                                             \n",
       "2022-12-23 05:00:00+00:00  379.65  383.06  378.03  382.91  58757557   \n",
       "2022-12-27 05:00:00+00:00  382.79  383.15  379.65  381.40  51494435   \n",
       "2022-12-28 05:00:00+00:00  381.33  383.39  376.42  376.66  70660057   \n",
       "2022-12-29 05:00:00+00:00  379.63  384.35  379.08  383.44  64517045   \n",
       "2022-12-30 05:00:00+00:00  380.64  382.58  378.43  382.43  83474793   \n",
       "\n",
       "                                                     AGG                   \\\n",
       "                          trade_count        vwap   open    high      low   \n",
       "timestamp                                                                   \n",
       "2022-12-23 05:00:00+00:00      441157  381.501493  98.05  98.110  97.8950   \n",
       "2022-12-27 05:00:00+00:00      427772  381.776690  97.46  97.615  97.2121   \n",
       "2022-12-28 05:00:00+00:00      500857  379.062108  97.47  97.500  97.0800   \n",
       "2022-12-29 05:00:00+00:00      480519  382.399055  97.21  97.470  97.1825   \n",
       "2022-12-30 05:00:00+00:00      544591  381.220108  97.25  97.360  96.9741   \n",
       "\n",
       "                                                                   \n",
       "                           close    volume trade_count       vwap  \n",
       "timestamp                                                          \n",
       "2022-12-23 05:00:00+00:00  97.97   4761697       17054  97.980418  \n",
       "2022-12-27 05:00:00+00:00  97.26   7922269       28214  97.353687  \n",
       "2022-12-28 05:00:00+00:00  97.09  12129529       25595  97.269523  \n",
       "2022-12-29 05:00:00+00:00  97.45   7475702       21522  97.335261  \n",
       "2022-12-30 05:00:00+00:00  96.99   8460107       29791  97.066805  "
      ]
     },
     "metadata": {},
     "output_type": "display_data"
    }
   ],
   "source": [
    "# Use the Alpaca get_bars function to make the API call to get the 3 years worth of pricing data\n",
    "# The tickers and timeframe parameters should have been set in Part 1 of this activity \n",
    "# The start and end dates should be updated with the information set above\n",
    "# Remember to add the df property to the end of the call so the response is returned as a DataFrame\n",
    "prices_df_retire = alpaca.get_bars(\n",
    "    tickers,\n",
    "    timeframe,\n",
    "    start=start_date,\n",
    "    end=end_date\n",
    ").df\n",
    "\n",
    "# Reorganize the DataFrame\n",
    "SPY = prices_df_retire[prices_df_retire['symbol']=='SPY'].drop('symbol', axis=1)\n",
    "AGG = prices_df_retire[prices_df_retire['symbol']=='AGG'].drop('symbol', axis=1)\n",
    "\n",
    "# Concatenate the ticker DataFrames\n",
    "prices_df_retire = pd.concat([SPY, AGG],axis=1, keys=['SPY','AGG'])\n",
    "\n",
    "# Display both the first and last five rows of the DataFrame\n",
    "display(prices_df_retire.head())\n",
    "display(prices_df_retire.tail())"
   ]
  },
  {
   "cell_type": "markdown",
   "metadata": {},
   "source": [
    "#### Step 2: Run a Monte Carlo simulation of 500 samples and 30 years for the 60/40 portfolio, and then plot the results."
   ]
  },
  {
   "cell_type": "code",
   "execution_count": 30,
   "metadata": {},
   "outputs": [
    {
     "data": {
      "text/html": [
       "<div>\n",
       "<style scoped>\n",
       "    .dataframe tbody tr th:only-of-type {\n",
       "        vertical-align: middle;\n",
       "    }\n",
       "\n",
       "    .dataframe tbody tr th {\n",
       "        vertical-align: top;\n",
       "    }\n",
       "\n",
       "    .dataframe thead tr th {\n",
       "        text-align: left;\n",
       "    }\n",
       "\n",
       "    .dataframe thead tr:last-of-type th {\n",
       "        text-align: right;\n",
       "    }\n",
       "</style>\n",
       "<table border=\"1\" class=\"dataframe\">\n",
       "  <thead>\n",
       "    <tr>\n",
       "      <th></th>\n",
       "      <th colspan=\"8\" halign=\"left\">SPY</th>\n",
       "      <th colspan=\"8\" halign=\"left\">AGG</th>\n",
       "    </tr>\n",
       "    <tr>\n",
       "      <th></th>\n",
       "      <th>open</th>\n",
       "      <th>high</th>\n",
       "      <th>low</th>\n",
       "      <th>close</th>\n",
       "      <th>volume</th>\n",
       "      <th>trade_count</th>\n",
       "      <th>vwap</th>\n",
       "      <th>daily_return</th>\n",
       "      <th>open</th>\n",
       "      <th>high</th>\n",
       "      <th>low</th>\n",
       "      <th>close</th>\n",
       "      <th>volume</th>\n",
       "      <th>trade_count</th>\n",
       "      <th>vwap</th>\n",
       "      <th>daily_return</th>\n",
       "    </tr>\n",
       "    <tr>\n",
       "      <th>timestamp</th>\n",
       "      <th></th>\n",
       "      <th></th>\n",
       "      <th></th>\n",
       "      <th></th>\n",
       "      <th></th>\n",
       "      <th></th>\n",
       "      <th></th>\n",
       "      <th></th>\n",
       "      <th></th>\n",
       "      <th></th>\n",
       "      <th></th>\n",
       "      <th></th>\n",
       "      <th></th>\n",
       "      <th></th>\n",
       "      <th></th>\n",
       "      <th></th>\n",
       "    </tr>\n",
       "  </thead>\n",
       "  <tbody>\n",
       "    <tr>\n",
       "      <th>2019-12-30 05:00:00+00:00</th>\n",
       "      <td>322.95</td>\n",
       "      <td>323.10</td>\n",
       "      <td>320.55</td>\n",
       "      <td>321.13</td>\n",
       "      <td>49782805</td>\n",
       "      <td>245064</td>\n",
       "      <td>321.464803</td>\n",
       "      <td>NaN</td>\n",
       "      <td>112.42</td>\n",
       "      <td>112.645</td>\n",
       "      <td>112.3400</td>\n",
       "      <td>112.63</td>\n",
       "      <td>3979209</td>\n",
       "      <td>11922</td>\n",
       "      <td>112.529642</td>\n",
       "      <td>NaN</td>\n",
       "    </tr>\n",
       "    <tr>\n",
       "      <th>2019-12-31 05:00:00+00:00</th>\n",
       "      <td>320.53</td>\n",
       "      <td>322.13</td>\n",
       "      <td>320.15</td>\n",
       "      <td>321.85</td>\n",
       "      <td>57173534</td>\n",
       "      <td>212945</td>\n",
       "      <td>321.379997</td>\n",
       "      <td>0.002242</td>\n",
       "      <td>112.54</td>\n",
       "      <td>112.540</td>\n",
       "      <td>112.3650</td>\n",
       "      <td>112.37</td>\n",
       "      <td>6807706</td>\n",
       "      <td>19647</td>\n",
       "      <td>112.410957</td>\n",
       "      <td>-0.002308</td>\n",
       "    </tr>\n",
       "    <tr>\n",
       "      <th>2020-01-02 05:00:00+00:00</th>\n",
       "      <td>323.54</td>\n",
       "      <td>324.89</td>\n",
       "      <td>322.53</td>\n",
       "      <td>324.87</td>\n",
       "      <td>59253833</td>\n",
       "      <td>304884</td>\n",
       "      <td>323.710023</td>\n",
       "      <td>0.009383</td>\n",
       "      <td>112.68</td>\n",
       "      <td>112.800</td>\n",
       "      <td>112.5600</td>\n",
       "      <td>112.68</td>\n",
       "      <td>6791537</td>\n",
       "      <td>17763</td>\n",
       "      <td>112.645004</td>\n",
       "      <td>0.002759</td>\n",
       "    </tr>\n",
       "    <tr>\n",
       "      <th>2020-01-03 05:00:00+00:00</th>\n",
       "      <td>321.16</td>\n",
       "      <td>323.64</td>\n",
       "      <td>321.10</td>\n",
       "      <td>322.43</td>\n",
       "      <td>77783121</td>\n",
       "      <td>358500</td>\n",
       "      <td>322.791701</td>\n",
       "      <td>-0.007511</td>\n",
       "      <td>112.89</td>\n",
       "      <td>113.050</td>\n",
       "      <td>112.7814</td>\n",
       "      <td>113.01</td>\n",
       "      <td>3664283</td>\n",
       "      <td>14453</td>\n",
       "      <td>112.958798</td>\n",
       "      <td>0.002929</td>\n",
       "    </tr>\n",
       "    <tr>\n",
       "      <th>2020-01-06 05:00:00+00:00</th>\n",
       "      <td>320.49</td>\n",
       "      <td>323.73</td>\n",
       "      <td>320.36</td>\n",
       "      <td>323.73</td>\n",
       "      <td>55817168</td>\n",
       "      <td>255767</td>\n",
       "      <td>322.722391</td>\n",
       "      <td>0.004032</td>\n",
       "      <td>113.13</td>\n",
       "      <td>113.130</td>\n",
       "      <td>112.8400</td>\n",
       "      <td>112.92</td>\n",
       "      <td>8131608</td>\n",
       "      <td>17277</td>\n",
       "      <td>112.949600</td>\n",
       "      <td>-0.000796</td>\n",
       "    </tr>\n",
       "  </tbody>\n",
       "</table>\n",
       "</div>"
      ],
      "text/plain": [
       "                              SPY                                    \\\n",
       "                             open    high     low   close    volume   \n",
       "timestamp                                                             \n",
       "2019-12-30 05:00:00+00:00  322.95  323.10  320.55  321.13  49782805   \n",
       "2019-12-31 05:00:00+00:00  320.53  322.13  320.15  321.85  57173534   \n",
       "2020-01-02 05:00:00+00:00  323.54  324.89  322.53  324.87  59253833   \n",
       "2020-01-03 05:00:00+00:00  321.16  323.64  321.10  322.43  77783121   \n",
       "2020-01-06 05:00:00+00:00  320.49  323.73  320.36  323.73  55817168   \n",
       "\n",
       "                                                                   AGG  \\\n",
       "                          trade_count        vwap daily_return    open   \n",
       "timestamp                                                                \n",
       "2019-12-30 05:00:00+00:00      245064  321.464803          NaN  112.42   \n",
       "2019-12-31 05:00:00+00:00      212945  321.379997     0.002242  112.54   \n",
       "2020-01-02 05:00:00+00:00      304884  323.710023     0.009383  112.68   \n",
       "2020-01-03 05:00:00+00:00      358500  322.791701    -0.007511  112.89   \n",
       "2020-01-06 05:00:00+00:00      255767  322.722391     0.004032  113.13   \n",
       "\n",
       "                                                                           \\\n",
       "                              high       low   close   volume trade_count   \n",
       "timestamp                                                                   \n",
       "2019-12-30 05:00:00+00:00  112.645  112.3400  112.63  3979209       11922   \n",
       "2019-12-31 05:00:00+00:00  112.540  112.3650  112.37  6807706       19647   \n",
       "2020-01-02 05:00:00+00:00  112.800  112.5600  112.68  6791537       17763   \n",
       "2020-01-03 05:00:00+00:00  113.050  112.7814  113.01  3664283       14453   \n",
       "2020-01-06 05:00:00+00:00  113.130  112.8400  112.92  8131608       17277   \n",
       "\n",
       "                                                    \n",
       "                                 vwap daily_return  \n",
       "timestamp                                           \n",
       "2019-12-30 05:00:00+00:00  112.529642          NaN  \n",
       "2019-12-31 05:00:00+00:00  112.410957    -0.002308  \n",
       "2020-01-02 05:00:00+00:00  112.645004     0.002759  \n",
       "2020-01-03 05:00:00+00:00  112.958798     0.002929  \n",
       "2020-01-06 05:00:00+00:00  112.949600    -0.000796  "
      ]
     },
     "execution_count": 30,
     "metadata": {},
     "output_type": "execute_result"
    }
   ],
   "source": [
    "# Configure the Monte Carlo simulation to forecast 30 years cumulative returns\n",
    "# The weights should be split 40% to AGG and 60% to SPY.\n",
    "# Run 500 samples.\n",
    "MC_30year = MCSimulation(\n",
    "    portfolio_data = prices_df_retire,\n",
    "    weights = [.60,.40],\n",
    "    num_simulation = 500,\n",
    "    num_trading_days = 252*30\n",
    ")\n",
    "\n",
    "\n",
    "# Review the simulation input data\n",
    "MC_30year.portfolio_data.head()\n"
   ]
  },
  {
   "cell_type": "code",
   "execution_count": 31,
   "metadata": {},
   "outputs": [
    {
     "name": "stdout",
     "output_type": "stream",
     "text": [
      "Running Monte Carlo simulation number 0.\n",
      "Running Monte Carlo simulation number 10.\n",
      "Running Monte Carlo simulation number 20.\n",
      "Running Monte Carlo simulation number 30.\n",
      "Running Monte Carlo simulation number 40.\n",
      "Running Monte Carlo simulation number 50.\n",
      "Running Monte Carlo simulation number 60.\n",
      "Running Monte Carlo simulation number 70.\n",
      "Running Monte Carlo simulation number 80.\n",
      "Running Monte Carlo simulation number 90.\n",
      "Running Monte Carlo simulation number 100.\n"
     ]
    },
    {
     "name": "stderr",
     "output_type": "stream",
     "text": [
      "C:\\Users\\boris\\OneDrive\\Documents\\Studies\\ColumbiaBootCamp\\FinTech-Workspace\\Module_5\\Challenge_5\\Starter_Code\\FinTech_Module5_Financial_Planner\\MCForecastTools.py:117: PerformanceWarning: DataFrame is highly fragmented.  This is usually the result of calling `frame.insert` many times, which has poor performance.  Consider joining all columns at once using pd.concat(axis=1) instead. To get a de-fragmented frame, use `newframe = frame.copy()`\n",
      "  portfolio_cumulative_returns[n] = (1 + sim_df.fillna(0)).cumprod()\n",
      "C:\\Users\\boris\\OneDrive\\Documents\\Studies\\ColumbiaBootCamp\\FinTech-Workspace\\Module_5\\Challenge_5\\Starter_Code\\FinTech_Module5_Financial_Planner\\MCForecastTools.py:117: PerformanceWarning: DataFrame is highly fragmented.  This is usually the result of calling `frame.insert` many times, which has poor performance.  Consider joining all columns at once using pd.concat(axis=1) instead. To get a de-fragmented frame, use `newframe = frame.copy()`\n",
      "  portfolio_cumulative_returns[n] = (1 + sim_df.fillna(0)).cumprod()\n",
      "C:\\Users\\boris\\OneDrive\\Documents\\Studies\\ColumbiaBootCamp\\FinTech-Workspace\\Module_5\\Challenge_5\\Starter_Code\\FinTech_Module5_Financial_Planner\\MCForecastTools.py:117: PerformanceWarning: DataFrame is highly fragmented.  This is usually the result of calling `frame.insert` many times, which has poor performance.  Consider joining all columns at once using pd.concat(axis=1) instead. To get a de-fragmented frame, use `newframe = frame.copy()`\n",
      "  portfolio_cumulative_returns[n] = (1 + sim_df.fillna(0)).cumprod()\n",
      "C:\\Users\\boris\\OneDrive\\Documents\\Studies\\ColumbiaBootCamp\\FinTech-Workspace\\Module_5\\Challenge_5\\Starter_Code\\FinTech_Module5_Financial_Planner\\MCForecastTools.py:117: PerformanceWarning: DataFrame is highly fragmented.  This is usually the result of calling `frame.insert` many times, which has poor performance.  Consider joining all columns at once using pd.concat(axis=1) instead. To get a de-fragmented frame, use `newframe = frame.copy()`\n",
      "  portfolio_cumulative_returns[n] = (1 + sim_df.fillna(0)).cumprod()\n",
      "C:\\Users\\boris\\OneDrive\\Documents\\Studies\\ColumbiaBootCamp\\FinTech-Workspace\\Module_5\\Challenge_5\\Starter_Code\\FinTech_Module5_Financial_Planner\\MCForecastTools.py:117: PerformanceWarning: DataFrame is highly fragmented.  This is usually the result of calling `frame.insert` many times, which has poor performance.  Consider joining all columns at once using pd.concat(axis=1) instead. To get a de-fragmented frame, use `newframe = frame.copy()`\n",
      "  portfolio_cumulative_returns[n] = (1 + sim_df.fillna(0)).cumprod()\n",
      "C:\\Users\\boris\\OneDrive\\Documents\\Studies\\ColumbiaBootCamp\\FinTech-Workspace\\Module_5\\Challenge_5\\Starter_Code\\FinTech_Module5_Financial_Planner\\MCForecastTools.py:117: PerformanceWarning: DataFrame is highly fragmented.  This is usually the result of calling `frame.insert` many times, which has poor performance.  Consider joining all columns at once using pd.concat(axis=1) instead. To get a de-fragmented frame, use `newframe = frame.copy()`\n",
      "  portfolio_cumulative_returns[n] = (1 + sim_df.fillna(0)).cumprod()\n",
      "C:\\Users\\boris\\OneDrive\\Documents\\Studies\\ColumbiaBootCamp\\FinTech-Workspace\\Module_5\\Challenge_5\\Starter_Code\\FinTech_Module5_Financial_Planner\\MCForecastTools.py:117: PerformanceWarning: DataFrame is highly fragmented.  This is usually the result of calling `frame.insert` many times, which has poor performance.  Consider joining all columns at once using pd.concat(axis=1) instead. To get a de-fragmented frame, use `newframe = frame.copy()`\n",
      "  portfolio_cumulative_returns[n] = (1 + sim_df.fillna(0)).cumprod()\n",
      "C:\\Users\\boris\\OneDrive\\Documents\\Studies\\ColumbiaBootCamp\\FinTech-Workspace\\Module_5\\Challenge_5\\Starter_Code\\FinTech_Module5_Financial_Planner\\MCForecastTools.py:117: PerformanceWarning: DataFrame is highly fragmented.  This is usually the result of calling `frame.insert` many times, which has poor performance.  Consider joining all columns at once using pd.concat(axis=1) instead. To get a de-fragmented frame, use `newframe = frame.copy()`\n",
      "  portfolio_cumulative_returns[n] = (1 + sim_df.fillna(0)).cumprod()\n",
      "C:\\Users\\boris\\OneDrive\\Documents\\Studies\\ColumbiaBootCamp\\FinTech-Workspace\\Module_5\\Challenge_5\\Starter_Code\\FinTech_Module5_Financial_Planner\\MCForecastTools.py:117: PerformanceWarning: DataFrame is highly fragmented.  This is usually the result of calling `frame.insert` many times, which has poor performance.  Consider joining all columns at once using pd.concat(axis=1) instead. To get a de-fragmented frame, use `newframe = frame.copy()`\n",
      "  portfolio_cumulative_returns[n] = (1 + sim_df.fillna(0)).cumprod()\n",
      "C:\\Users\\boris\\OneDrive\\Documents\\Studies\\ColumbiaBootCamp\\FinTech-Workspace\\Module_5\\Challenge_5\\Starter_Code\\FinTech_Module5_Financial_Planner\\MCForecastTools.py:117: PerformanceWarning: DataFrame is highly fragmented.  This is usually the result of calling `frame.insert` many times, which has poor performance.  Consider joining all columns at once using pd.concat(axis=1) instead. To get a de-fragmented frame, use `newframe = frame.copy()`\n",
      "  portfolio_cumulative_returns[n] = (1 + sim_df.fillna(0)).cumprod()\n"
     ]
    },
    {
     "name": "stdout",
     "output_type": "stream",
     "text": [
      "Running Monte Carlo simulation number 110.\n"
     ]
    },
    {
     "name": "stderr",
     "output_type": "stream",
     "text": [
      "C:\\Users\\boris\\OneDrive\\Documents\\Studies\\ColumbiaBootCamp\\FinTech-Workspace\\Module_5\\Challenge_5\\Starter_Code\\FinTech_Module5_Financial_Planner\\MCForecastTools.py:117: PerformanceWarning: DataFrame is highly fragmented.  This is usually the result of calling `frame.insert` many times, which has poor performance.  Consider joining all columns at once using pd.concat(axis=1) instead. To get a de-fragmented frame, use `newframe = frame.copy()`\n",
      "  portfolio_cumulative_returns[n] = (1 + sim_df.fillna(0)).cumprod()\n",
      "C:\\Users\\boris\\OneDrive\\Documents\\Studies\\ColumbiaBootCamp\\FinTech-Workspace\\Module_5\\Challenge_5\\Starter_Code\\FinTech_Module5_Financial_Planner\\MCForecastTools.py:117: PerformanceWarning: DataFrame is highly fragmented.  This is usually the result of calling `frame.insert` many times, which has poor performance.  Consider joining all columns at once using pd.concat(axis=1) instead. To get a de-fragmented frame, use `newframe = frame.copy()`\n",
      "  portfolio_cumulative_returns[n] = (1 + sim_df.fillna(0)).cumprod()\n",
      "C:\\Users\\boris\\OneDrive\\Documents\\Studies\\ColumbiaBootCamp\\FinTech-Workspace\\Module_5\\Challenge_5\\Starter_Code\\FinTech_Module5_Financial_Planner\\MCForecastTools.py:117: PerformanceWarning: DataFrame is highly fragmented.  This is usually the result of calling `frame.insert` many times, which has poor performance.  Consider joining all columns at once using pd.concat(axis=1) instead. To get a de-fragmented frame, use `newframe = frame.copy()`\n",
      "  portfolio_cumulative_returns[n] = (1 + sim_df.fillna(0)).cumprod()\n",
      "C:\\Users\\boris\\OneDrive\\Documents\\Studies\\ColumbiaBootCamp\\FinTech-Workspace\\Module_5\\Challenge_5\\Starter_Code\\FinTech_Module5_Financial_Planner\\MCForecastTools.py:117: PerformanceWarning: DataFrame is highly fragmented.  This is usually the result of calling `frame.insert` many times, which has poor performance.  Consider joining all columns at once using pd.concat(axis=1) instead. To get a de-fragmented frame, use `newframe = frame.copy()`\n",
      "  portfolio_cumulative_returns[n] = (1 + sim_df.fillna(0)).cumprod()\n",
      "C:\\Users\\boris\\OneDrive\\Documents\\Studies\\ColumbiaBootCamp\\FinTech-Workspace\\Module_5\\Challenge_5\\Starter_Code\\FinTech_Module5_Financial_Planner\\MCForecastTools.py:117: PerformanceWarning: DataFrame is highly fragmented.  This is usually the result of calling `frame.insert` many times, which has poor performance.  Consider joining all columns at once using pd.concat(axis=1) instead. To get a de-fragmented frame, use `newframe = frame.copy()`\n",
      "  portfolio_cumulative_returns[n] = (1 + sim_df.fillna(0)).cumprod()\n",
      "C:\\Users\\boris\\OneDrive\\Documents\\Studies\\ColumbiaBootCamp\\FinTech-Workspace\\Module_5\\Challenge_5\\Starter_Code\\FinTech_Module5_Financial_Planner\\MCForecastTools.py:117: PerformanceWarning: DataFrame is highly fragmented.  This is usually the result of calling `frame.insert` many times, which has poor performance.  Consider joining all columns at once using pd.concat(axis=1) instead. To get a de-fragmented frame, use `newframe = frame.copy()`\n",
      "  portfolio_cumulative_returns[n] = (1 + sim_df.fillna(0)).cumprod()\n",
      "C:\\Users\\boris\\OneDrive\\Documents\\Studies\\ColumbiaBootCamp\\FinTech-Workspace\\Module_5\\Challenge_5\\Starter_Code\\FinTech_Module5_Financial_Planner\\MCForecastTools.py:117: PerformanceWarning: DataFrame is highly fragmented.  This is usually the result of calling `frame.insert` many times, which has poor performance.  Consider joining all columns at once using pd.concat(axis=1) instead. To get a de-fragmented frame, use `newframe = frame.copy()`\n",
      "  portfolio_cumulative_returns[n] = (1 + sim_df.fillna(0)).cumprod()\n",
      "C:\\Users\\boris\\OneDrive\\Documents\\Studies\\ColumbiaBootCamp\\FinTech-Workspace\\Module_5\\Challenge_5\\Starter_Code\\FinTech_Module5_Financial_Planner\\MCForecastTools.py:117: PerformanceWarning: DataFrame is highly fragmented.  This is usually the result of calling `frame.insert` many times, which has poor performance.  Consider joining all columns at once using pd.concat(axis=1) instead. To get a de-fragmented frame, use `newframe = frame.copy()`\n",
      "  portfolio_cumulative_returns[n] = (1 + sim_df.fillna(0)).cumprod()\n",
      "C:\\Users\\boris\\OneDrive\\Documents\\Studies\\ColumbiaBootCamp\\FinTech-Workspace\\Module_5\\Challenge_5\\Starter_Code\\FinTech_Module5_Financial_Planner\\MCForecastTools.py:117: PerformanceWarning: DataFrame is highly fragmented.  This is usually the result of calling `frame.insert` many times, which has poor performance.  Consider joining all columns at once using pd.concat(axis=1) instead. To get a de-fragmented frame, use `newframe = frame.copy()`\n",
      "  portfolio_cumulative_returns[n] = (1 + sim_df.fillna(0)).cumprod()\n",
      "C:\\Users\\boris\\OneDrive\\Documents\\Studies\\ColumbiaBootCamp\\FinTech-Workspace\\Module_5\\Challenge_5\\Starter_Code\\FinTech_Module5_Financial_Planner\\MCForecastTools.py:117: PerformanceWarning: DataFrame is highly fragmented.  This is usually the result of calling `frame.insert` many times, which has poor performance.  Consider joining all columns at once using pd.concat(axis=1) instead. To get a de-fragmented frame, use `newframe = frame.copy()`\n",
      "  portfolio_cumulative_returns[n] = (1 + sim_df.fillna(0)).cumprod()\n"
     ]
    },
    {
     "name": "stdout",
     "output_type": "stream",
     "text": [
      "Running Monte Carlo simulation number 120.\n"
     ]
    },
    {
     "name": "stderr",
     "output_type": "stream",
     "text": [
      "C:\\Users\\boris\\OneDrive\\Documents\\Studies\\ColumbiaBootCamp\\FinTech-Workspace\\Module_5\\Challenge_5\\Starter_Code\\FinTech_Module5_Financial_Planner\\MCForecastTools.py:117: PerformanceWarning: DataFrame is highly fragmented.  This is usually the result of calling `frame.insert` many times, which has poor performance.  Consider joining all columns at once using pd.concat(axis=1) instead. To get a de-fragmented frame, use `newframe = frame.copy()`\n",
      "  portfolio_cumulative_returns[n] = (1 + sim_df.fillna(0)).cumprod()\n",
      "C:\\Users\\boris\\OneDrive\\Documents\\Studies\\ColumbiaBootCamp\\FinTech-Workspace\\Module_5\\Challenge_5\\Starter_Code\\FinTech_Module5_Financial_Planner\\MCForecastTools.py:117: PerformanceWarning: DataFrame is highly fragmented.  This is usually the result of calling `frame.insert` many times, which has poor performance.  Consider joining all columns at once using pd.concat(axis=1) instead. To get a de-fragmented frame, use `newframe = frame.copy()`\n",
      "  portfolio_cumulative_returns[n] = (1 + sim_df.fillna(0)).cumprod()\n",
      "C:\\Users\\boris\\OneDrive\\Documents\\Studies\\ColumbiaBootCamp\\FinTech-Workspace\\Module_5\\Challenge_5\\Starter_Code\\FinTech_Module5_Financial_Planner\\MCForecastTools.py:117: PerformanceWarning: DataFrame is highly fragmented.  This is usually the result of calling `frame.insert` many times, which has poor performance.  Consider joining all columns at once using pd.concat(axis=1) instead. To get a de-fragmented frame, use `newframe = frame.copy()`\n",
      "  portfolio_cumulative_returns[n] = (1 + sim_df.fillna(0)).cumprod()\n",
      "C:\\Users\\boris\\OneDrive\\Documents\\Studies\\ColumbiaBootCamp\\FinTech-Workspace\\Module_5\\Challenge_5\\Starter_Code\\FinTech_Module5_Financial_Planner\\MCForecastTools.py:117: PerformanceWarning: DataFrame is highly fragmented.  This is usually the result of calling `frame.insert` many times, which has poor performance.  Consider joining all columns at once using pd.concat(axis=1) instead. To get a de-fragmented frame, use `newframe = frame.copy()`\n",
      "  portfolio_cumulative_returns[n] = (1 + sim_df.fillna(0)).cumprod()\n",
      "C:\\Users\\boris\\OneDrive\\Documents\\Studies\\ColumbiaBootCamp\\FinTech-Workspace\\Module_5\\Challenge_5\\Starter_Code\\FinTech_Module5_Financial_Planner\\MCForecastTools.py:117: PerformanceWarning: DataFrame is highly fragmented.  This is usually the result of calling `frame.insert` many times, which has poor performance.  Consider joining all columns at once using pd.concat(axis=1) instead. To get a de-fragmented frame, use `newframe = frame.copy()`\n",
      "  portfolio_cumulative_returns[n] = (1 + sim_df.fillna(0)).cumprod()\n",
      "C:\\Users\\boris\\OneDrive\\Documents\\Studies\\ColumbiaBootCamp\\FinTech-Workspace\\Module_5\\Challenge_5\\Starter_Code\\FinTech_Module5_Financial_Planner\\MCForecastTools.py:117: PerformanceWarning: DataFrame is highly fragmented.  This is usually the result of calling `frame.insert` many times, which has poor performance.  Consider joining all columns at once using pd.concat(axis=1) instead. To get a de-fragmented frame, use `newframe = frame.copy()`\n",
      "  portfolio_cumulative_returns[n] = (1 + sim_df.fillna(0)).cumprod()\n",
      "C:\\Users\\boris\\OneDrive\\Documents\\Studies\\ColumbiaBootCamp\\FinTech-Workspace\\Module_5\\Challenge_5\\Starter_Code\\FinTech_Module5_Financial_Planner\\MCForecastTools.py:117: PerformanceWarning: DataFrame is highly fragmented.  This is usually the result of calling `frame.insert` many times, which has poor performance.  Consider joining all columns at once using pd.concat(axis=1) instead. To get a de-fragmented frame, use `newframe = frame.copy()`\n",
      "  portfolio_cumulative_returns[n] = (1 + sim_df.fillna(0)).cumprod()\n",
      "C:\\Users\\boris\\OneDrive\\Documents\\Studies\\ColumbiaBootCamp\\FinTech-Workspace\\Module_5\\Challenge_5\\Starter_Code\\FinTech_Module5_Financial_Planner\\MCForecastTools.py:117: PerformanceWarning: DataFrame is highly fragmented.  This is usually the result of calling `frame.insert` many times, which has poor performance.  Consider joining all columns at once using pd.concat(axis=1) instead. To get a de-fragmented frame, use `newframe = frame.copy()`\n",
      "  portfolio_cumulative_returns[n] = (1 + sim_df.fillna(0)).cumprod()\n",
      "C:\\Users\\boris\\OneDrive\\Documents\\Studies\\ColumbiaBootCamp\\FinTech-Workspace\\Module_5\\Challenge_5\\Starter_Code\\FinTech_Module5_Financial_Planner\\MCForecastTools.py:117: PerformanceWarning: DataFrame is highly fragmented.  This is usually the result of calling `frame.insert` many times, which has poor performance.  Consider joining all columns at once using pd.concat(axis=1) instead. To get a de-fragmented frame, use `newframe = frame.copy()`\n",
      "  portfolio_cumulative_returns[n] = (1 + sim_df.fillna(0)).cumprod()\n",
      "C:\\Users\\boris\\OneDrive\\Documents\\Studies\\ColumbiaBootCamp\\FinTech-Workspace\\Module_5\\Challenge_5\\Starter_Code\\FinTech_Module5_Financial_Planner\\MCForecastTools.py:117: PerformanceWarning: DataFrame is highly fragmented.  This is usually the result of calling `frame.insert` many times, which has poor performance.  Consider joining all columns at once using pd.concat(axis=1) instead. To get a de-fragmented frame, use `newframe = frame.copy()`\n",
      "  portfolio_cumulative_returns[n] = (1 + sim_df.fillna(0)).cumprod()\n"
     ]
    },
    {
     "name": "stdout",
     "output_type": "stream",
     "text": [
      "Running Monte Carlo simulation number 130.\n"
     ]
    },
    {
     "name": "stderr",
     "output_type": "stream",
     "text": [
      "C:\\Users\\boris\\OneDrive\\Documents\\Studies\\ColumbiaBootCamp\\FinTech-Workspace\\Module_5\\Challenge_5\\Starter_Code\\FinTech_Module5_Financial_Planner\\MCForecastTools.py:117: PerformanceWarning: DataFrame is highly fragmented.  This is usually the result of calling `frame.insert` many times, which has poor performance.  Consider joining all columns at once using pd.concat(axis=1) instead. To get a de-fragmented frame, use `newframe = frame.copy()`\n",
      "  portfolio_cumulative_returns[n] = (1 + sim_df.fillna(0)).cumprod()\n",
      "C:\\Users\\boris\\OneDrive\\Documents\\Studies\\ColumbiaBootCamp\\FinTech-Workspace\\Module_5\\Challenge_5\\Starter_Code\\FinTech_Module5_Financial_Planner\\MCForecastTools.py:117: PerformanceWarning: DataFrame is highly fragmented.  This is usually the result of calling `frame.insert` many times, which has poor performance.  Consider joining all columns at once using pd.concat(axis=1) instead. To get a de-fragmented frame, use `newframe = frame.copy()`\n",
      "  portfolio_cumulative_returns[n] = (1 + sim_df.fillna(0)).cumprod()\n",
      "C:\\Users\\boris\\OneDrive\\Documents\\Studies\\ColumbiaBootCamp\\FinTech-Workspace\\Module_5\\Challenge_5\\Starter_Code\\FinTech_Module5_Financial_Planner\\MCForecastTools.py:117: PerformanceWarning: DataFrame is highly fragmented.  This is usually the result of calling `frame.insert` many times, which has poor performance.  Consider joining all columns at once using pd.concat(axis=1) instead. To get a de-fragmented frame, use `newframe = frame.copy()`\n",
      "  portfolio_cumulative_returns[n] = (1 + sim_df.fillna(0)).cumprod()\n",
      "C:\\Users\\boris\\OneDrive\\Documents\\Studies\\ColumbiaBootCamp\\FinTech-Workspace\\Module_5\\Challenge_5\\Starter_Code\\FinTech_Module5_Financial_Planner\\MCForecastTools.py:117: PerformanceWarning: DataFrame is highly fragmented.  This is usually the result of calling `frame.insert` many times, which has poor performance.  Consider joining all columns at once using pd.concat(axis=1) instead. To get a de-fragmented frame, use `newframe = frame.copy()`\n",
      "  portfolio_cumulative_returns[n] = (1 + sim_df.fillna(0)).cumprod()\n",
      "C:\\Users\\boris\\OneDrive\\Documents\\Studies\\ColumbiaBootCamp\\FinTech-Workspace\\Module_5\\Challenge_5\\Starter_Code\\FinTech_Module5_Financial_Planner\\MCForecastTools.py:117: PerformanceWarning: DataFrame is highly fragmented.  This is usually the result of calling `frame.insert` many times, which has poor performance.  Consider joining all columns at once using pd.concat(axis=1) instead. To get a de-fragmented frame, use `newframe = frame.copy()`\n",
      "  portfolio_cumulative_returns[n] = (1 + sim_df.fillna(0)).cumprod()\n",
      "C:\\Users\\boris\\OneDrive\\Documents\\Studies\\ColumbiaBootCamp\\FinTech-Workspace\\Module_5\\Challenge_5\\Starter_Code\\FinTech_Module5_Financial_Planner\\MCForecastTools.py:117: PerformanceWarning: DataFrame is highly fragmented.  This is usually the result of calling `frame.insert` many times, which has poor performance.  Consider joining all columns at once using pd.concat(axis=1) instead. To get a de-fragmented frame, use `newframe = frame.copy()`\n",
      "  portfolio_cumulative_returns[n] = (1 + sim_df.fillna(0)).cumprod()\n",
      "C:\\Users\\boris\\OneDrive\\Documents\\Studies\\ColumbiaBootCamp\\FinTech-Workspace\\Module_5\\Challenge_5\\Starter_Code\\FinTech_Module5_Financial_Planner\\MCForecastTools.py:117: PerformanceWarning: DataFrame is highly fragmented.  This is usually the result of calling `frame.insert` many times, which has poor performance.  Consider joining all columns at once using pd.concat(axis=1) instead. To get a de-fragmented frame, use `newframe = frame.copy()`\n",
      "  portfolio_cumulative_returns[n] = (1 + sim_df.fillna(0)).cumprod()\n",
      "C:\\Users\\boris\\OneDrive\\Documents\\Studies\\ColumbiaBootCamp\\FinTech-Workspace\\Module_5\\Challenge_5\\Starter_Code\\FinTech_Module5_Financial_Planner\\MCForecastTools.py:117: PerformanceWarning: DataFrame is highly fragmented.  This is usually the result of calling `frame.insert` many times, which has poor performance.  Consider joining all columns at once using pd.concat(axis=1) instead. To get a de-fragmented frame, use `newframe = frame.copy()`\n",
      "  portfolio_cumulative_returns[n] = (1 + sim_df.fillna(0)).cumprod()\n",
      "C:\\Users\\boris\\OneDrive\\Documents\\Studies\\ColumbiaBootCamp\\FinTech-Workspace\\Module_5\\Challenge_5\\Starter_Code\\FinTech_Module5_Financial_Planner\\MCForecastTools.py:117: PerformanceWarning: DataFrame is highly fragmented.  This is usually the result of calling `frame.insert` many times, which has poor performance.  Consider joining all columns at once using pd.concat(axis=1) instead. To get a de-fragmented frame, use `newframe = frame.copy()`\n",
      "  portfolio_cumulative_returns[n] = (1 + sim_df.fillna(0)).cumprod()\n",
      "C:\\Users\\boris\\OneDrive\\Documents\\Studies\\ColumbiaBootCamp\\FinTech-Workspace\\Module_5\\Challenge_5\\Starter_Code\\FinTech_Module5_Financial_Planner\\MCForecastTools.py:117: PerformanceWarning: DataFrame is highly fragmented.  This is usually the result of calling `frame.insert` many times, which has poor performance.  Consider joining all columns at once using pd.concat(axis=1) instead. To get a de-fragmented frame, use `newframe = frame.copy()`\n",
      "  portfolio_cumulative_returns[n] = (1 + sim_df.fillna(0)).cumprod()\n"
     ]
    },
    {
     "name": "stdout",
     "output_type": "stream",
     "text": [
      "Running Monte Carlo simulation number 140.\n"
     ]
    },
    {
     "name": "stderr",
     "output_type": "stream",
     "text": [
      "C:\\Users\\boris\\OneDrive\\Documents\\Studies\\ColumbiaBootCamp\\FinTech-Workspace\\Module_5\\Challenge_5\\Starter_Code\\FinTech_Module5_Financial_Planner\\MCForecastTools.py:117: PerformanceWarning: DataFrame is highly fragmented.  This is usually the result of calling `frame.insert` many times, which has poor performance.  Consider joining all columns at once using pd.concat(axis=1) instead. To get a de-fragmented frame, use `newframe = frame.copy()`\n",
      "  portfolio_cumulative_returns[n] = (1 + sim_df.fillna(0)).cumprod()\n",
      "C:\\Users\\boris\\OneDrive\\Documents\\Studies\\ColumbiaBootCamp\\FinTech-Workspace\\Module_5\\Challenge_5\\Starter_Code\\FinTech_Module5_Financial_Planner\\MCForecastTools.py:117: PerformanceWarning: DataFrame is highly fragmented.  This is usually the result of calling `frame.insert` many times, which has poor performance.  Consider joining all columns at once using pd.concat(axis=1) instead. To get a de-fragmented frame, use `newframe = frame.copy()`\n",
      "  portfolio_cumulative_returns[n] = (1 + sim_df.fillna(0)).cumprod()\n",
      "C:\\Users\\boris\\OneDrive\\Documents\\Studies\\ColumbiaBootCamp\\FinTech-Workspace\\Module_5\\Challenge_5\\Starter_Code\\FinTech_Module5_Financial_Planner\\MCForecastTools.py:117: PerformanceWarning: DataFrame is highly fragmented.  This is usually the result of calling `frame.insert` many times, which has poor performance.  Consider joining all columns at once using pd.concat(axis=1) instead. To get a de-fragmented frame, use `newframe = frame.copy()`\n",
      "  portfolio_cumulative_returns[n] = (1 + sim_df.fillna(0)).cumprod()\n",
      "C:\\Users\\boris\\OneDrive\\Documents\\Studies\\ColumbiaBootCamp\\FinTech-Workspace\\Module_5\\Challenge_5\\Starter_Code\\FinTech_Module5_Financial_Planner\\MCForecastTools.py:117: PerformanceWarning: DataFrame is highly fragmented.  This is usually the result of calling `frame.insert` many times, which has poor performance.  Consider joining all columns at once using pd.concat(axis=1) instead. To get a de-fragmented frame, use `newframe = frame.copy()`\n",
      "  portfolio_cumulative_returns[n] = (1 + sim_df.fillna(0)).cumprod()\n",
      "C:\\Users\\boris\\OneDrive\\Documents\\Studies\\ColumbiaBootCamp\\FinTech-Workspace\\Module_5\\Challenge_5\\Starter_Code\\FinTech_Module5_Financial_Planner\\MCForecastTools.py:117: PerformanceWarning: DataFrame is highly fragmented.  This is usually the result of calling `frame.insert` many times, which has poor performance.  Consider joining all columns at once using pd.concat(axis=1) instead. To get a de-fragmented frame, use `newframe = frame.copy()`\n",
      "  portfolio_cumulative_returns[n] = (1 + sim_df.fillna(0)).cumprod()\n",
      "C:\\Users\\boris\\OneDrive\\Documents\\Studies\\ColumbiaBootCamp\\FinTech-Workspace\\Module_5\\Challenge_5\\Starter_Code\\FinTech_Module5_Financial_Planner\\MCForecastTools.py:117: PerformanceWarning: DataFrame is highly fragmented.  This is usually the result of calling `frame.insert` many times, which has poor performance.  Consider joining all columns at once using pd.concat(axis=1) instead. To get a de-fragmented frame, use `newframe = frame.copy()`\n",
      "  portfolio_cumulative_returns[n] = (1 + sim_df.fillna(0)).cumprod()\n",
      "C:\\Users\\boris\\OneDrive\\Documents\\Studies\\ColumbiaBootCamp\\FinTech-Workspace\\Module_5\\Challenge_5\\Starter_Code\\FinTech_Module5_Financial_Planner\\MCForecastTools.py:117: PerformanceWarning: DataFrame is highly fragmented.  This is usually the result of calling `frame.insert` many times, which has poor performance.  Consider joining all columns at once using pd.concat(axis=1) instead. To get a de-fragmented frame, use `newframe = frame.copy()`\n",
      "  portfolio_cumulative_returns[n] = (1 + sim_df.fillna(0)).cumprod()\n",
      "C:\\Users\\boris\\OneDrive\\Documents\\Studies\\ColumbiaBootCamp\\FinTech-Workspace\\Module_5\\Challenge_5\\Starter_Code\\FinTech_Module5_Financial_Planner\\MCForecastTools.py:117: PerformanceWarning: DataFrame is highly fragmented.  This is usually the result of calling `frame.insert` many times, which has poor performance.  Consider joining all columns at once using pd.concat(axis=1) instead. To get a de-fragmented frame, use `newframe = frame.copy()`\n",
      "  portfolio_cumulative_returns[n] = (1 + sim_df.fillna(0)).cumprod()\n",
      "C:\\Users\\boris\\OneDrive\\Documents\\Studies\\ColumbiaBootCamp\\FinTech-Workspace\\Module_5\\Challenge_5\\Starter_Code\\FinTech_Module5_Financial_Planner\\MCForecastTools.py:117: PerformanceWarning: DataFrame is highly fragmented.  This is usually the result of calling `frame.insert` many times, which has poor performance.  Consider joining all columns at once using pd.concat(axis=1) instead. To get a de-fragmented frame, use `newframe = frame.copy()`\n",
      "  portfolio_cumulative_returns[n] = (1 + sim_df.fillna(0)).cumprod()\n",
      "C:\\Users\\boris\\OneDrive\\Documents\\Studies\\ColumbiaBootCamp\\FinTech-Workspace\\Module_5\\Challenge_5\\Starter_Code\\FinTech_Module5_Financial_Planner\\MCForecastTools.py:117: PerformanceWarning: DataFrame is highly fragmented.  This is usually the result of calling `frame.insert` many times, which has poor performance.  Consider joining all columns at once using pd.concat(axis=1) instead. To get a de-fragmented frame, use `newframe = frame.copy()`\n",
      "  portfolio_cumulative_returns[n] = (1 + sim_df.fillna(0)).cumprod()\n"
     ]
    },
    {
     "name": "stdout",
     "output_type": "stream",
     "text": [
      "Running Monte Carlo simulation number 150.\n"
     ]
    },
    {
     "name": "stderr",
     "output_type": "stream",
     "text": [
      "C:\\Users\\boris\\OneDrive\\Documents\\Studies\\ColumbiaBootCamp\\FinTech-Workspace\\Module_5\\Challenge_5\\Starter_Code\\FinTech_Module5_Financial_Planner\\MCForecastTools.py:117: PerformanceWarning: DataFrame is highly fragmented.  This is usually the result of calling `frame.insert` many times, which has poor performance.  Consider joining all columns at once using pd.concat(axis=1) instead. To get a de-fragmented frame, use `newframe = frame.copy()`\n",
      "  portfolio_cumulative_returns[n] = (1 + sim_df.fillna(0)).cumprod()\n",
      "C:\\Users\\boris\\OneDrive\\Documents\\Studies\\ColumbiaBootCamp\\FinTech-Workspace\\Module_5\\Challenge_5\\Starter_Code\\FinTech_Module5_Financial_Planner\\MCForecastTools.py:117: PerformanceWarning: DataFrame is highly fragmented.  This is usually the result of calling `frame.insert` many times, which has poor performance.  Consider joining all columns at once using pd.concat(axis=1) instead. To get a de-fragmented frame, use `newframe = frame.copy()`\n",
      "  portfolio_cumulative_returns[n] = (1 + sim_df.fillna(0)).cumprod()\n",
      "C:\\Users\\boris\\OneDrive\\Documents\\Studies\\ColumbiaBootCamp\\FinTech-Workspace\\Module_5\\Challenge_5\\Starter_Code\\FinTech_Module5_Financial_Planner\\MCForecastTools.py:117: PerformanceWarning: DataFrame is highly fragmented.  This is usually the result of calling `frame.insert` many times, which has poor performance.  Consider joining all columns at once using pd.concat(axis=1) instead. To get a de-fragmented frame, use `newframe = frame.copy()`\n",
      "  portfolio_cumulative_returns[n] = (1 + sim_df.fillna(0)).cumprod()\n",
      "C:\\Users\\boris\\OneDrive\\Documents\\Studies\\ColumbiaBootCamp\\FinTech-Workspace\\Module_5\\Challenge_5\\Starter_Code\\FinTech_Module5_Financial_Planner\\MCForecastTools.py:117: PerformanceWarning: DataFrame is highly fragmented.  This is usually the result of calling `frame.insert` many times, which has poor performance.  Consider joining all columns at once using pd.concat(axis=1) instead. To get a de-fragmented frame, use `newframe = frame.copy()`\n",
      "  portfolio_cumulative_returns[n] = (1 + sim_df.fillna(0)).cumprod()\n",
      "C:\\Users\\boris\\OneDrive\\Documents\\Studies\\ColumbiaBootCamp\\FinTech-Workspace\\Module_5\\Challenge_5\\Starter_Code\\FinTech_Module5_Financial_Planner\\MCForecastTools.py:117: PerformanceWarning: DataFrame is highly fragmented.  This is usually the result of calling `frame.insert` many times, which has poor performance.  Consider joining all columns at once using pd.concat(axis=1) instead. To get a de-fragmented frame, use `newframe = frame.copy()`\n",
      "  portfolio_cumulative_returns[n] = (1 + sim_df.fillna(0)).cumprod()\n",
      "C:\\Users\\boris\\OneDrive\\Documents\\Studies\\ColumbiaBootCamp\\FinTech-Workspace\\Module_5\\Challenge_5\\Starter_Code\\FinTech_Module5_Financial_Planner\\MCForecastTools.py:117: PerformanceWarning: DataFrame is highly fragmented.  This is usually the result of calling `frame.insert` many times, which has poor performance.  Consider joining all columns at once using pd.concat(axis=1) instead. To get a de-fragmented frame, use `newframe = frame.copy()`\n",
      "  portfolio_cumulative_returns[n] = (1 + sim_df.fillna(0)).cumprod()\n",
      "C:\\Users\\boris\\OneDrive\\Documents\\Studies\\ColumbiaBootCamp\\FinTech-Workspace\\Module_5\\Challenge_5\\Starter_Code\\FinTech_Module5_Financial_Planner\\MCForecastTools.py:117: PerformanceWarning: DataFrame is highly fragmented.  This is usually the result of calling `frame.insert` many times, which has poor performance.  Consider joining all columns at once using pd.concat(axis=1) instead. To get a de-fragmented frame, use `newframe = frame.copy()`\n",
      "  portfolio_cumulative_returns[n] = (1 + sim_df.fillna(0)).cumprod()\n",
      "C:\\Users\\boris\\OneDrive\\Documents\\Studies\\ColumbiaBootCamp\\FinTech-Workspace\\Module_5\\Challenge_5\\Starter_Code\\FinTech_Module5_Financial_Planner\\MCForecastTools.py:117: PerformanceWarning: DataFrame is highly fragmented.  This is usually the result of calling `frame.insert` many times, which has poor performance.  Consider joining all columns at once using pd.concat(axis=1) instead. To get a de-fragmented frame, use `newframe = frame.copy()`\n",
      "  portfolio_cumulative_returns[n] = (1 + sim_df.fillna(0)).cumprod()\n",
      "C:\\Users\\boris\\OneDrive\\Documents\\Studies\\ColumbiaBootCamp\\FinTech-Workspace\\Module_5\\Challenge_5\\Starter_Code\\FinTech_Module5_Financial_Planner\\MCForecastTools.py:117: PerformanceWarning: DataFrame is highly fragmented.  This is usually the result of calling `frame.insert` many times, which has poor performance.  Consider joining all columns at once using pd.concat(axis=1) instead. To get a de-fragmented frame, use `newframe = frame.copy()`\n",
      "  portfolio_cumulative_returns[n] = (1 + sim_df.fillna(0)).cumprod()\n",
      "C:\\Users\\boris\\OneDrive\\Documents\\Studies\\ColumbiaBootCamp\\FinTech-Workspace\\Module_5\\Challenge_5\\Starter_Code\\FinTech_Module5_Financial_Planner\\MCForecastTools.py:117: PerformanceWarning: DataFrame is highly fragmented.  This is usually the result of calling `frame.insert` many times, which has poor performance.  Consider joining all columns at once using pd.concat(axis=1) instead. To get a de-fragmented frame, use `newframe = frame.copy()`\n",
      "  portfolio_cumulative_returns[n] = (1 + sim_df.fillna(0)).cumprod()\n"
     ]
    },
    {
     "name": "stdout",
     "output_type": "stream",
     "text": [
      "Running Monte Carlo simulation number 160.\n"
     ]
    },
    {
     "name": "stderr",
     "output_type": "stream",
     "text": [
      "C:\\Users\\boris\\OneDrive\\Documents\\Studies\\ColumbiaBootCamp\\FinTech-Workspace\\Module_5\\Challenge_5\\Starter_Code\\FinTech_Module5_Financial_Planner\\MCForecastTools.py:117: PerformanceWarning: DataFrame is highly fragmented.  This is usually the result of calling `frame.insert` many times, which has poor performance.  Consider joining all columns at once using pd.concat(axis=1) instead. To get a de-fragmented frame, use `newframe = frame.copy()`\n",
      "  portfolio_cumulative_returns[n] = (1 + sim_df.fillna(0)).cumprod()\n",
      "C:\\Users\\boris\\OneDrive\\Documents\\Studies\\ColumbiaBootCamp\\FinTech-Workspace\\Module_5\\Challenge_5\\Starter_Code\\FinTech_Module5_Financial_Planner\\MCForecastTools.py:117: PerformanceWarning: DataFrame is highly fragmented.  This is usually the result of calling `frame.insert` many times, which has poor performance.  Consider joining all columns at once using pd.concat(axis=1) instead. To get a de-fragmented frame, use `newframe = frame.copy()`\n",
      "  portfolio_cumulative_returns[n] = (1 + sim_df.fillna(0)).cumprod()\n",
      "C:\\Users\\boris\\OneDrive\\Documents\\Studies\\ColumbiaBootCamp\\FinTech-Workspace\\Module_5\\Challenge_5\\Starter_Code\\FinTech_Module5_Financial_Planner\\MCForecastTools.py:117: PerformanceWarning: DataFrame is highly fragmented.  This is usually the result of calling `frame.insert` many times, which has poor performance.  Consider joining all columns at once using pd.concat(axis=1) instead. To get a de-fragmented frame, use `newframe = frame.copy()`\n",
      "  portfolio_cumulative_returns[n] = (1 + sim_df.fillna(0)).cumprod()\n",
      "C:\\Users\\boris\\OneDrive\\Documents\\Studies\\ColumbiaBootCamp\\FinTech-Workspace\\Module_5\\Challenge_5\\Starter_Code\\FinTech_Module5_Financial_Planner\\MCForecastTools.py:117: PerformanceWarning: DataFrame is highly fragmented.  This is usually the result of calling `frame.insert` many times, which has poor performance.  Consider joining all columns at once using pd.concat(axis=1) instead. To get a de-fragmented frame, use `newframe = frame.copy()`\n",
      "  portfolio_cumulative_returns[n] = (1 + sim_df.fillna(0)).cumprod()\n",
      "C:\\Users\\boris\\OneDrive\\Documents\\Studies\\ColumbiaBootCamp\\FinTech-Workspace\\Module_5\\Challenge_5\\Starter_Code\\FinTech_Module5_Financial_Planner\\MCForecastTools.py:117: PerformanceWarning: DataFrame is highly fragmented.  This is usually the result of calling `frame.insert` many times, which has poor performance.  Consider joining all columns at once using pd.concat(axis=1) instead. To get a de-fragmented frame, use `newframe = frame.copy()`\n",
      "  portfolio_cumulative_returns[n] = (1 + sim_df.fillna(0)).cumprod()\n",
      "C:\\Users\\boris\\OneDrive\\Documents\\Studies\\ColumbiaBootCamp\\FinTech-Workspace\\Module_5\\Challenge_5\\Starter_Code\\FinTech_Module5_Financial_Planner\\MCForecastTools.py:117: PerformanceWarning: DataFrame is highly fragmented.  This is usually the result of calling `frame.insert` many times, which has poor performance.  Consider joining all columns at once using pd.concat(axis=1) instead. To get a de-fragmented frame, use `newframe = frame.copy()`\n",
      "  portfolio_cumulative_returns[n] = (1 + sim_df.fillna(0)).cumprod()\n",
      "C:\\Users\\boris\\OneDrive\\Documents\\Studies\\ColumbiaBootCamp\\FinTech-Workspace\\Module_5\\Challenge_5\\Starter_Code\\FinTech_Module5_Financial_Planner\\MCForecastTools.py:117: PerformanceWarning: DataFrame is highly fragmented.  This is usually the result of calling `frame.insert` many times, which has poor performance.  Consider joining all columns at once using pd.concat(axis=1) instead. To get a de-fragmented frame, use `newframe = frame.copy()`\n",
      "  portfolio_cumulative_returns[n] = (1 + sim_df.fillna(0)).cumprod()\n",
      "C:\\Users\\boris\\OneDrive\\Documents\\Studies\\ColumbiaBootCamp\\FinTech-Workspace\\Module_5\\Challenge_5\\Starter_Code\\FinTech_Module5_Financial_Planner\\MCForecastTools.py:117: PerformanceWarning: DataFrame is highly fragmented.  This is usually the result of calling `frame.insert` many times, which has poor performance.  Consider joining all columns at once using pd.concat(axis=1) instead. To get a de-fragmented frame, use `newframe = frame.copy()`\n",
      "  portfolio_cumulative_returns[n] = (1 + sim_df.fillna(0)).cumprod()\n",
      "C:\\Users\\boris\\OneDrive\\Documents\\Studies\\ColumbiaBootCamp\\FinTech-Workspace\\Module_5\\Challenge_5\\Starter_Code\\FinTech_Module5_Financial_Planner\\MCForecastTools.py:117: PerformanceWarning: DataFrame is highly fragmented.  This is usually the result of calling `frame.insert` many times, which has poor performance.  Consider joining all columns at once using pd.concat(axis=1) instead. To get a de-fragmented frame, use `newframe = frame.copy()`\n",
      "  portfolio_cumulative_returns[n] = (1 + sim_df.fillna(0)).cumprod()\n",
      "C:\\Users\\boris\\OneDrive\\Documents\\Studies\\ColumbiaBootCamp\\FinTech-Workspace\\Module_5\\Challenge_5\\Starter_Code\\FinTech_Module5_Financial_Planner\\MCForecastTools.py:117: PerformanceWarning: DataFrame is highly fragmented.  This is usually the result of calling `frame.insert` many times, which has poor performance.  Consider joining all columns at once using pd.concat(axis=1) instead. To get a de-fragmented frame, use `newframe = frame.copy()`\n",
      "  portfolio_cumulative_returns[n] = (1 + sim_df.fillna(0)).cumprod()\n"
     ]
    },
    {
     "name": "stdout",
     "output_type": "stream",
     "text": [
      "Running Monte Carlo simulation number 170.\n"
     ]
    },
    {
     "name": "stderr",
     "output_type": "stream",
     "text": [
      "C:\\Users\\boris\\OneDrive\\Documents\\Studies\\ColumbiaBootCamp\\FinTech-Workspace\\Module_5\\Challenge_5\\Starter_Code\\FinTech_Module5_Financial_Planner\\MCForecastTools.py:117: PerformanceWarning: DataFrame is highly fragmented.  This is usually the result of calling `frame.insert` many times, which has poor performance.  Consider joining all columns at once using pd.concat(axis=1) instead. To get a de-fragmented frame, use `newframe = frame.copy()`\n",
      "  portfolio_cumulative_returns[n] = (1 + sim_df.fillna(0)).cumprod()\n",
      "C:\\Users\\boris\\OneDrive\\Documents\\Studies\\ColumbiaBootCamp\\FinTech-Workspace\\Module_5\\Challenge_5\\Starter_Code\\FinTech_Module5_Financial_Planner\\MCForecastTools.py:117: PerformanceWarning: DataFrame is highly fragmented.  This is usually the result of calling `frame.insert` many times, which has poor performance.  Consider joining all columns at once using pd.concat(axis=1) instead. To get a de-fragmented frame, use `newframe = frame.copy()`\n",
      "  portfolio_cumulative_returns[n] = (1 + sim_df.fillna(0)).cumprod()\n",
      "C:\\Users\\boris\\OneDrive\\Documents\\Studies\\ColumbiaBootCamp\\FinTech-Workspace\\Module_5\\Challenge_5\\Starter_Code\\FinTech_Module5_Financial_Planner\\MCForecastTools.py:117: PerformanceWarning: DataFrame is highly fragmented.  This is usually the result of calling `frame.insert` many times, which has poor performance.  Consider joining all columns at once using pd.concat(axis=1) instead. To get a de-fragmented frame, use `newframe = frame.copy()`\n",
      "  portfolio_cumulative_returns[n] = (1 + sim_df.fillna(0)).cumprod()\n",
      "C:\\Users\\boris\\OneDrive\\Documents\\Studies\\ColumbiaBootCamp\\FinTech-Workspace\\Module_5\\Challenge_5\\Starter_Code\\FinTech_Module5_Financial_Planner\\MCForecastTools.py:117: PerformanceWarning: DataFrame is highly fragmented.  This is usually the result of calling `frame.insert` many times, which has poor performance.  Consider joining all columns at once using pd.concat(axis=1) instead. To get a de-fragmented frame, use `newframe = frame.copy()`\n",
      "  portfolio_cumulative_returns[n] = (1 + sim_df.fillna(0)).cumprod()\n",
      "C:\\Users\\boris\\OneDrive\\Documents\\Studies\\ColumbiaBootCamp\\FinTech-Workspace\\Module_5\\Challenge_5\\Starter_Code\\FinTech_Module5_Financial_Planner\\MCForecastTools.py:117: PerformanceWarning: DataFrame is highly fragmented.  This is usually the result of calling `frame.insert` many times, which has poor performance.  Consider joining all columns at once using pd.concat(axis=1) instead. To get a de-fragmented frame, use `newframe = frame.copy()`\n",
      "  portfolio_cumulative_returns[n] = (1 + sim_df.fillna(0)).cumprod()\n",
      "C:\\Users\\boris\\OneDrive\\Documents\\Studies\\ColumbiaBootCamp\\FinTech-Workspace\\Module_5\\Challenge_5\\Starter_Code\\FinTech_Module5_Financial_Planner\\MCForecastTools.py:117: PerformanceWarning: DataFrame is highly fragmented.  This is usually the result of calling `frame.insert` many times, which has poor performance.  Consider joining all columns at once using pd.concat(axis=1) instead. To get a de-fragmented frame, use `newframe = frame.copy()`\n",
      "  portfolio_cumulative_returns[n] = (1 + sim_df.fillna(0)).cumprod()\n",
      "C:\\Users\\boris\\OneDrive\\Documents\\Studies\\ColumbiaBootCamp\\FinTech-Workspace\\Module_5\\Challenge_5\\Starter_Code\\FinTech_Module5_Financial_Planner\\MCForecastTools.py:117: PerformanceWarning: DataFrame is highly fragmented.  This is usually the result of calling `frame.insert` many times, which has poor performance.  Consider joining all columns at once using pd.concat(axis=1) instead. To get a de-fragmented frame, use `newframe = frame.copy()`\n",
      "  portfolio_cumulative_returns[n] = (1 + sim_df.fillna(0)).cumprod()\n",
      "C:\\Users\\boris\\OneDrive\\Documents\\Studies\\ColumbiaBootCamp\\FinTech-Workspace\\Module_5\\Challenge_5\\Starter_Code\\FinTech_Module5_Financial_Planner\\MCForecastTools.py:117: PerformanceWarning: DataFrame is highly fragmented.  This is usually the result of calling `frame.insert` many times, which has poor performance.  Consider joining all columns at once using pd.concat(axis=1) instead. To get a de-fragmented frame, use `newframe = frame.copy()`\n",
      "  portfolio_cumulative_returns[n] = (1 + sim_df.fillna(0)).cumprod()\n",
      "C:\\Users\\boris\\OneDrive\\Documents\\Studies\\ColumbiaBootCamp\\FinTech-Workspace\\Module_5\\Challenge_5\\Starter_Code\\FinTech_Module5_Financial_Planner\\MCForecastTools.py:117: PerformanceWarning: DataFrame is highly fragmented.  This is usually the result of calling `frame.insert` many times, which has poor performance.  Consider joining all columns at once using pd.concat(axis=1) instead. To get a de-fragmented frame, use `newframe = frame.copy()`\n",
      "  portfolio_cumulative_returns[n] = (1 + sim_df.fillna(0)).cumprod()\n",
      "C:\\Users\\boris\\OneDrive\\Documents\\Studies\\ColumbiaBootCamp\\FinTech-Workspace\\Module_5\\Challenge_5\\Starter_Code\\FinTech_Module5_Financial_Planner\\MCForecastTools.py:117: PerformanceWarning: DataFrame is highly fragmented.  This is usually the result of calling `frame.insert` many times, which has poor performance.  Consider joining all columns at once using pd.concat(axis=1) instead. To get a de-fragmented frame, use `newframe = frame.copy()`\n",
      "  portfolio_cumulative_returns[n] = (1 + sim_df.fillna(0)).cumprod()\n",
      "C:\\Users\\boris\\OneDrive\\Documents\\Studies\\ColumbiaBootCamp\\FinTech-Workspace\\Module_5\\Challenge_5\\Starter_Code\\FinTech_Module5_Financial_Planner\\MCForecastTools.py:117: PerformanceWarning: DataFrame is highly fragmented.  This is usually the result of calling `frame.insert` many times, which has poor performance.  Consider joining all columns at once using pd.concat(axis=1) instead. To get a de-fragmented frame, use `newframe = frame.copy()`\n",
      "  portfolio_cumulative_returns[n] = (1 + sim_df.fillna(0)).cumprod()\n"
     ]
    },
    {
     "name": "stdout",
     "output_type": "stream",
     "text": [
      "Running Monte Carlo simulation number 180.\n"
     ]
    },
    {
     "name": "stderr",
     "output_type": "stream",
     "text": [
      "C:\\Users\\boris\\OneDrive\\Documents\\Studies\\ColumbiaBootCamp\\FinTech-Workspace\\Module_5\\Challenge_5\\Starter_Code\\FinTech_Module5_Financial_Planner\\MCForecastTools.py:117: PerformanceWarning: DataFrame is highly fragmented.  This is usually the result of calling `frame.insert` many times, which has poor performance.  Consider joining all columns at once using pd.concat(axis=1) instead. To get a de-fragmented frame, use `newframe = frame.copy()`\n",
      "  portfolio_cumulative_returns[n] = (1 + sim_df.fillna(0)).cumprod()\n",
      "C:\\Users\\boris\\OneDrive\\Documents\\Studies\\ColumbiaBootCamp\\FinTech-Workspace\\Module_5\\Challenge_5\\Starter_Code\\FinTech_Module5_Financial_Planner\\MCForecastTools.py:117: PerformanceWarning: DataFrame is highly fragmented.  This is usually the result of calling `frame.insert` many times, which has poor performance.  Consider joining all columns at once using pd.concat(axis=1) instead. To get a de-fragmented frame, use `newframe = frame.copy()`\n",
      "  portfolio_cumulative_returns[n] = (1 + sim_df.fillna(0)).cumprod()\n",
      "C:\\Users\\boris\\OneDrive\\Documents\\Studies\\ColumbiaBootCamp\\FinTech-Workspace\\Module_5\\Challenge_5\\Starter_Code\\FinTech_Module5_Financial_Planner\\MCForecastTools.py:117: PerformanceWarning: DataFrame is highly fragmented.  This is usually the result of calling `frame.insert` many times, which has poor performance.  Consider joining all columns at once using pd.concat(axis=1) instead. To get a de-fragmented frame, use `newframe = frame.copy()`\n",
      "  portfolio_cumulative_returns[n] = (1 + sim_df.fillna(0)).cumprod()\n",
      "C:\\Users\\boris\\OneDrive\\Documents\\Studies\\ColumbiaBootCamp\\FinTech-Workspace\\Module_5\\Challenge_5\\Starter_Code\\FinTech_Module5_Financial_Planner\\MCForecastTools.py:117: PerformanceWarning: DataFrame is highly fragmented.  This is usually the result of calling `frame.insert` many times, which has poor performance.  Consider joining all columns at once using pd.concat(axis=1) instead. To get a de-fragmented frame, use `newframe = frame.copy()`\n",
      "  portfolio_cumulative_returns[n] = (1 + sim_df.fillna(0)).cumprod()\n",
      "C:\\Users\\boris\\OneDrive\\Documents\\Studies\\ColumbiaBootCamp\\FinTech-Workspace\\Module_5\\Challenge_5\\Starter_Code\\FinTech_Module5_Financial_Planner\\MCForecastTools.py:117: PerformanceWarning: DataFrame is highly fragmented.  This is usually the result of calling `frame.insert` many times, which has poor performance.  Consider joining all columns at once using pd.concat(axis=1) instead. To get a de-fragmented frame, use `newframe = frame.copy()`\n",
      "  portfolio_cumulative_returns[n] = (1 + sim_df.fillna(0)).cumprod()\n",
      "C:\\Users\\boris\\OneDrive\\Documents\\Studies\\ColumbiaBootCamp\\FinTech-Workspace\\Module_5\\Challenge_5\\Starter_Code\\FinTech_Module5_Financial_Planner\\MCForecastTools.py:117: PerformanceWarning: DataFrame is highly fragmented.  This is usually the result of calling `frame.insert` many times, which has poor performance.  Consider joining all columns at once using pd.concat(axis=1) instead. To get a de-fragmented frame, use `newframe = frame.copy()`\n",
      "  portfolio_cumulative_returns[n] = (1 + sim_df.fillna(0)).cumprod()\n",
      "C:\\Users\\boris\\OneDrive\\Documents\\Studies\\ColumbiaBootCamp\\FinTech-Workspace\\Module_5\\Challenge_5\\Starter_Code\\FinTech_Module5_Financial_Planner\\MCForecastTools.py:117: PerformanceWarning: DataFrame is highly fragmented.  This is usually the result of calling `frame.insert` many times, which has poor performance.  Consider joining all columns at once using pd.concat(axis=1) instead. To get a de-fragmented frame, use `newframe = frame.copy()`\n",
      "  portfolio_cumulative_returns[n] = (1 + sim_df.fillna(0)).cumprod()\n",
      "C:\\Users\\boris\\OneDrive\\Documents\\Studies\\ColumbiaBootCamp\\FinTech-Workspace\\Module_5\\Challenge_5\\Starter_Code\\FinTech_Module5_Financial_Planner\\MCForecastTools.py:117: PerformanceWarning: DataFrame is highly fragmented.  This is usually the result of calling `frame.insert` many times, which has poor performance.  Consider joining all columns at once using pd.concat(axis=1) instead. To get a de-fragmented frame, use `newframe = frame.copy()`\n",
      "  portfolio_cumulative_returns[n] = (1 + sim_df.fillna(0)).cumprod()\n",
      "C:\\Users\\boris\\OneDrive\\Documents\\Studies\\ColumbiaBootCamp\\FinTech-Workspace\\Module_5\\Challenge_5\\Starter_Code\\FinTech_Module5_Financial_Planner\\MCForecastTools.py:117: PerformanceWarning: DataFrame is highly fragmented.  This is usually the result of calling `frame.insert` many times, which has poor performance.  Consider joining all columns at once using pd.concat(axis=1) instead. To get a de-fragmented frame, use `newframe = frame.copy()`\n",
      "  portfolio_cumulative_returns[n] = (1 + sim_df.fillna(0)).cumprod()\n",
      "C:\\Users\\boris\\OneDrive\\Documents\\Studies\\ColumbiaBootCamp\\FinTech-Workspace\\Module_5\\Challenge_5\\Starter_Code\\FinTech_Module5_Financial_Planner\\MCForecastTools.py:117: PerformanceWarning: DataFrame is highly fragmented.  This is usually the result of calling `frame.insert` many times, which has poor performance.  Consider joining all columns at once using pd.concat(axis=1) instead. To get a de-fragmented frame, use `newframe = frame.copy()`\n",
      "  portfolio_cumulative_returns[n] = (1 + sim_df.fillna(0)).cumprod()\n"
     ]
    },
    {
     "name": "stdout",
     "output_type": "stream",
     "text": [
      "Running Monte Carlo simulation number 190.\n"
     ]
    },
    {
     "name": "stderr",
     "output_type": "stream",
     "text": [
      "C:\\Users\\boris\\OneDrive\\Documents\\Studies\\ColumbiaBootCamp\\FinTech-Workspace\\Module_5\\Challenge_5\\Starter_Code\\FinTech_Module5_Financial_Planner\\MCForecastTools.py:117: PerformanceWarning: DataFrame is highly fragmented.  This is usually the result of calling `frame.insert` many times, which has poor performance.  Consider joining all columns at once using pd.concat(axis=1) instead. To get a de-fragmented frame, use `newframe = frame.copy()`\n",
      "  portfolio_cumulative_returns[n] = (1 + sim_df.fillna(0)).cumprod()\n",
      "C:\\Users\\boris\\OneDrive\\Documents\\Studies\\ColumbiaBootCamp\\FinTech-Workspace\\Module_5\\Challenge_5\\Starter_Code\\FinTech_Module5_Financial_Planner\\MCForecastTools.py:117: PerformanceWarning: DataFrame is highly fragmented.  This is usually the result of calling `frame.insert` many times, which has poor performance.  Consider joining all columns at once using pd.concat(axis=1) instead. To get a de-fragmented frame, use `newframe = frame.copy()`\n",
      "  portfolio_cumulative_returns[n] = (1 + sim_df.fillna(0)).cumprod()\n",
      "C:\\Users\\boris\\OneDrive\\Documents\\Studies\\ColumbiaBootCamp\\FinTech-Workspace\\Module_5\\Challenge_5\\Starter_Code\\FinTech_Module5_Financial_Planner\\MCForecastTools.py:117: PerformanceWarning: DataFrame is highly fragmented.  This is usually the result of calling `frame.insert` many times, which has poor performance.  Consider joining all columns at once using pd.concat(axis=1) instead. To get a de-fragmented frame, use `newframe = frame.copy()`\n",
      "  portfolio_cumulative_returns[n] = (1 + sim_df.fillna(0)).cumprod()\n",
      "C:\\Users\\boris\\OneDrive\\Documents\\Studies\\ColumbiaBootCamp\\FinTech-Workspace\\Module_5\\Challenge_5\\Starter_Code\\FinTech_Module5_Financial_Planner\\MCForecastTools.py:117: PerformanceWarning: DataFrame is highly fragmented.  This is usually the result of calling `frame.insert` many times, which has poor performance.  Consider joining all columns at once using pd.concat(axis=1) instead. To get a de-fragmented frame, use `newframe = frame.copy()`\n",
      "  portfolio_cumulative_returns[n] = (1 + sim_df.fillna(0)).cumprod()\n",
      "C:\\Users\\boris\\OneDrive\\Documents\\Studies\\ColumbiaBootCamp\\FinTech-Workspace\\Module_5\\Challenge_5\\Starter_Code\\FinTech_Module5_Financial_Planner\\MCForecastTools.py:117: PerformanceWarning: DataFrame is highly fragmented.  This is usually the result of calling `frame.insert` many times, which has poor performance.  Consider joining all columns at once using pd.concat(axis=1) instead. To get a de-fragmented frame, use `newframe = frame.copy()`\n",
      "  portfolio_cumulative_returns[n] = (1 + sim_df.fillna(0)).cumprod()\n",
      "C:\\Users\\boris\\OneDrive\\Documents\\Studies\\ColumbiaBootCamp\\FinTech-Workspace\\Module_5\\Challenge_5\\Starter_Code\\FinTech_Module5_Financial_Planner\\MCForecastTools.py:117: PerformanceWarning: DataFrame is highly fragmented.  This is usually the result of calling `frame.insert` many times, which has poor performance.  Consider joining all columns at once using pd.concat(axis=1) instead. To get a de-fragmented frame, use `newframe = frame.copy()`\n",
      "  portfolio_cumulative_returns[n] = (1 + sim_df.fillna(0)).cumprod()\n",
      "C:\\Users\\boris\\OneDrive\\Documents\\Studies\\ColumbiaBootCamp\\FinTech-Workspace\\Module_5\\Challenge_5\\Starter_Code\\FinTech_Module5_Financial_Planner\\MCForecastTools.py:117: PerformanceWarning: DataFrame is highly fragmented.  This is usually the result of calling `frame.insert` many times, which has poor performance.  Consider joining all columns at once using pd.concat(axis=1) instead. To get a de-fragmented frame, use `newframe = frame.copy()`\n",
      "  portfolio_cumulative_returns[n] = (1 + sim_df.fillna(0)).cumprod()\n",
      "C:\\Users\\boris\\OneDrive\\Documents\\Studies\\ColumbiaBootCamp\\FinTech-Workspace\\Module_5\\Challenge_5\\Starter_Code\\FinTech_Module5_Financial_Planner\\MCForecastTools.py:117: PerformanceWarning: DataFrame is highly fragmented.  This is usually the result of calling `frame.insert` many times, which has poor performance.  Consider joining all columns at once using pd.concat(axis=1) instead. To get a de-fragmented frame, use `newframe = frame.copy()`\n",
      "  portfolio_cumulative_returns[n] = (1 + sim_df.fillna(0)).cumprod()\n",
      "C:\\Users\\boris\\OneDrive\\Documents\\Studies\\ColumbiaBootCamp\\FinTech-Workspace\\Module_5\\Challenge_5\\Starter_Code\\FinTech_Module5_Financial_Planner\\MCForecastTools.py:117: PerformanceWarning: DataFrame is highly fragmented.  This is usually the result of calling `frame.insert` many times, which has poor performance.  Consider joining all columns at once using pd.concat(axis=1) instead. To get a de-fragmented frame, use `newframe = frame.copy()`\n",
      "  portfolio_cumulative_returns[n] = (1 + sim_df.fillna(0)).cumprod()\n",
      "C:\\Users\\boris\\OneDrive\\Documents\\Studies\\ColumbiaBootCamp\\FinTech-Workspace\\Module_5\\Challenge_5\\Starter_Code\\FinTech_Module5_Financial_Planner\\MCForecastTools.py:117: PerformanceWarning: DataFrame is highly fragmented.  This is usually the result of calling `frame.insert` many times, which has poor performance.  Consider joining all columns at once using pd.concat(axis=1) instead. To get a de-fragmented frame, use `newframe = frame.copy()`\n",
      "  portfolio_cumulative_returns[n] = (1 + sim_df.fillna(0)).cumprod()\n"
     ]
    },
    {
     "name": "stdout",
     "output_type": "stream",
     "text": [
      "Running Monte Carlo simulation number 200.\n"
     ]
    },
    {
     "name": "stderr",
     "output_type": "stream",
     "text": [
      "C:\\Users\\boris\\OneDrive\\Documents\\Studies\\ColumbiaBootCamp\\FinTech-Workspace\\Module_5\\Challenge_5\\Starter_Code\\FinTech_Module5_Financial_Planner\\MCForecastTools.py:117: PerformanceWarning: DataFrame is highly fragmented.  This is usually the result of calling `frame.insert` many times, which has poor performance.  Consider joining all columns at once using pd.concat(axis=1) instead. To get a de-fragmented frame, use `newframe = frame.copy()`\n",
      "  portfolio_cumulative_returns[n] = (1 + sim_df.fillna(0)).cumprod()\n",
      "C:\\Users\\boris\\OneDrive\\Documents\\Studies\\ColumbiaBootCamp\\FinTech-Workspace\\Module_5\\Challenge_5\\Starter_Code\\FinTech_Module5_Financial_Planner\\MCForecastTools.py:117: PerformanceWarning: DataFrame is highly fragmented.  This is usually the result of calling `frame.insert` many times, which has poor performance.  Consider joining all columns at once using pd.concat(axis=1) instead. To get a de-fragmented frame, use `newframe = frame.copy()`\n",
      "  portfolio_cumulative_returns[n] = (1 + sim_df.fillna(0)).cumprod()\n",
      "C:\\Users\\boris\\OneDrive\\Documents\\Studies\\ColumbiaBootCamp\\FinTech-Workspace\\Module_5\\Challenge_5\\Starter_Code\\FinTech_Module5_Financial_Planner\\MCForecastTools.py:117: PerformanceWarning: DataFrame is highly fragmented.  This is usually the result of calling `frame.insert` many times, which has poor performance.  Consider joining all columns at once using pd.concat(axis=1) instead. To get a de-fragmented frame, use `newframe = frame.copy()`\n",
      "  portfolio_cumulative_returns[n] = (1 + sim_df.fillna(0)).cumprod()\n",
      "C:\\Users\\boris\\OneDrive\\Documents\\Studies\\ColumbiaBootCamp\\FinTech-Workspace\\Module_5\\Challenge_5\\Starter_Code\\FinTech_Module5_Financial_Planner\\MCForecastTools.py:117: PerformanceWarning: DataFrame is highly fragmented.  This is usually the result of calling `frame.insert` many times, which has poor performance.  Consider joining all columns at once using pd.concat(axis=1) instead. To get a de-fragmented frame, use `newframe = frame.copy()`\n",
      "  portfolio_cumulative_returns[n] = (1 + sim_df.fillna(0)).cumprod()\n",
      "C:\\Users\\boris\\OneDrive\\Documents\\Studies\\ColumbiaBootCamp\\FinTech-Workspace\\Module_5\\Challenge_5\\Starter_Code\\FinTech_Module5_Financial_Planner\\MCForecastTools.py:117: PerformanceWarning: DataFrame is highly fragmented.  This is usually the result of calling `frame.insert` many times, which has poor performance.  Consider joining all columns at once using pd.concat(axis=1) instead. To get a de-fragmented frame, use `newframe = frame.copy()`\n",
      "  portfolio_cumulative_returns[n] = (1 + sim_df.fillna(0)).cumprod()\n",
      "C:\\Users\\boris\\OneDrive\\Documents\\Studies\\ColumbiaBootCamp\\FinTech-Workspace\\Module_5\\Challenge_5\\Starter_Code\\FinTech_Module5_Financial_Planner\\MCForecastTools.py:117: PerformanceWarning: DataFrame is highly fragmented.  This is usually the result of calling `frame.insert` many times, which has poor performance.  Consider joining all columns at once using pd.concat(axis=1) instead. To get a de-fragmented frame, use `newframe = frame.copy()`\n",
      "  portfolio_cumulative_returns[n] = (1 + sim_df.fillna(0)).cumprod()\n",
      "C:\\Users\\boris\\OneDrive\\Documents\\Studies\\ColumbiaBootCamp\\FinTech-Workspace\\Module_5\\Challenge_5\\Starter_Code\\FinTech_Module5_Financial_Planner\\MCForecastTools.py:117: PerformanceWarning: DataFrame is highly fragmented.  This is usually the result of calling `frame.insert` many times, which has poor performance.  Consider joining all columns at once using pd.concat(axis=1) instead. To get a de-fragmented frame, use `newframe = frame.copy()`\n",
      "  portfolio_cumulative_returns[n] = (1 + sim_df.fillna(0)).cumprod()\n",
      "C:\\Users\\boris\\OneDrive\\Documents\\Studies\\ColumbiaBootCamp\\FinTech-Workspace\\Module_5\\Challenge_5\\Starter_Code\\FinTech_Module5_Financial_Planner\\MCForecastTools.py:117: PerformanceWarning: DataFrame is highly fragmented.  This is usually the result of calling `frame.insert` many times, which has poor performance.  Consider joining all columns at once using pd.concat(axis=1) instead. To get a de-fragmented frame, use `newframe = frame.copy()`\n",
      "  portfolio_cumulative_returns[n] = (1 + sim_df.fillna(0)).cumprod()\n",
      "C:\\Users\\boris\\OneDrive\\Documents\\Studies\\ColumbiaBootCamp\\FinTech-Workspace\\Module_5\\Challenge_5\\Starter_Code\\FinTech_Module5_Financial_Planner\\MCForecastTools.py:117: PerformanceWarning: DataFrame is highly fragmented.  This is usually the result of calling `frame.insert` many times, which has poor performance.  Consider joining all columns at once using pd.concat(axis=1) instead. To get a de-fragmented frame, use `newframe = frame.copy()`\n",
      "  portfolio_cumulative_returns[n] = (1 + sim_df.fillna(0)).cumprod()\n",
      "C:\\Users\\boris\\OneDrive\\Documents\\Studies\\ColumbiaBootCamp\\FinTech-Workspace\\Module_5\\Challenge_5\\Starter_Code\\FinTech_Module5_Financial_Planner\\MCForecastTools.py:117: PerformanceWarning: DataFrame is highly fragmented.  This is usually the result of calling `frame.insert` many times, which has poor performance.  Consider joining all columns at once using pd.concat(axis=1) instead. To get a de-fragmented frame, use `newframe = frame.copy()`\n",
      "  portfolio_cumulative_returns[n] = (1 + sim_df.fillna(0)).cumprod()\n"
     ]
    },
    {
     "name": "stdout",
     "output_type": "stream",
     "text": [
      "Running Monte Carlo simulation number 210.\n"
     ]
    },
    {
     "name": "stderr",
     "output_type": "stream",
     "text": [
      "C:\\Users\\boris\\OneDrive\\Documents\\Studies\\ColumbiaBootCamp\\FinTech-Workspace\\Module_5\\Challenge_5\\Starter_Code\\FinTech_Module5_Financial_Planner\\MCForecastTools.py:117: PerformanceWarning: DataFrame is highly fragmented.  This is usually the result of calling `frame.insert` many times, which has poor performance.  Consider joining all columns at once using pd.concat(axis=1) instead. To get a de-fragmented frame, use `newframe = frame.copy()`\n",
      "  portfolio_cumulative_returns[n] = (1 + sim_df.fillna(0)).cumprod()\n",
      "C:\\Users\\boris\\OneDrive\\Documents\\Studies\\ColumbiaBootCamp\\FinTech-Workspace\\Module_5\\Challenge_5\\Starter_Code\\FinTech_Module5_Financial_Planner\\MCForecastTools.py:117: PerformanceWarning: DataFrame is highly fragmented.  This is usually the result of calling `frame.insert` many times, which has poor performance.  Consider joining all columns at once using pd.concat(axis=1) instead. To get a de-fragmented frame, use `newframe = frame.copy()`\n",
      "  portfolio_cumulative_returns[n] = (1 + sim_df.fillna(0)).cumprod()\n",
      "C:\\Users\\boris\\OneDrive\\Documents\\Studies\\ColumbiaBootCamp\\FinTech-Workspace\\Module_5\\Challenge_5\\Starter_Code\\FinTech_Module5_Financial_Planner\\MCForecastTools.py:117: PerformanceWarning: DataFrame is highly fragmented.  This is usually the result of calling `frame.insert` many times, which has poor performance.  Consider joining all columns at once using pd.concat(axis=1) instead. To get a de-fragmented frame, use `newframe = frame.copy()`\n",
      "  portfolio_cumulative_returns[n] = (1 + sim_df.fillna(0)).cumprod()\n",
      "C:\\Users\\boris\\OneDrive\\Documents\\Studies\\ColumbiaBootCamp\\FinTech-Workspace\\Module_5\\Challenge_5\\Starter_Code\\FinTech_Module5_Financial_Planner\\MCForecastTools.py:117: PerformanceWarning: DataFrame is highly fragmented.  This is usually the result of calling `frame.insert` many times, which has poor performance.  Consider joining all columns at once using pd.concat(axis=1) instead. To get a de-fragmented frame, use `newframe = frame.copy()`\n",
      "  portfolio_cumulative_returns[n] = (1 + sim_df.fillna(0)).cumprod()\n",
      "C:\\Users\\boris\\OneDrive\\Documents\\Studies\\ColumbiaBootCamp\\FinTech-Workspace\\Module_5\\Challenge_5\\Starter_Code\\FinTech_Module5_Financial_Planner\\MCForecastTools.py:117: PerformanceWarning: DataFrame is highly fragmented.  This is usually the result of calling `frame.insert` many times, which has poor performance.  Consider joining all columns at once using pd.concat(axis=1) instead. To get a de-fragmented frame, use `newframe = frame.copy()`\n",
      "  portfolio_cumulative_returns[n] = (1 + sim_df.fillna(0)).cumprod()\n",
      "C:\\Users\\boris\\OneDrive\\Documents\\Studies\\ColumbiaBootCamp\\FinTech-Workspace\\Module_5\\Challenge_5\\Starter_Code\\FinTech_Module5_Financial_Planner\\MCForecastTools.py:117: PerformanceWarning: DataFrame is highly fragmented.  This is usually the result of calling `frame.insert` many times, which has poor performance.  Consider joining all columns at once using pd.concat(axis=1) instead. To get a de-fragmented frame, use `newframe = frame.copy()`\n",
      "  portfolio_cumulative_returns[n] = (1 + sim_df.fillna(0)).cumprod()\n",
      "C:\\Users\\boris\\OneDrive\\Documents\\Studies\\ColumbiaBootCamp\\FinTech-Workspace\\Module_5\\Challenge_5\\Starter_Code\\FinTech_Module5_Financial_Planner\\MCForecastTools.py:117: PerformanceWarning: DataFrame is highly fragmented.  This is usually the result of calling `frame.insert` many times, which has poor performance.  Consider joining all columns at once using pd.concat(axis=1) instead. To get a de-fragmented frame, use `newframe = frame.copy()`\n",
      "  portfolio_cumulative_returns[n] = (1 + sim_df.fillna(0)).cumprod()\n",
      "C:\\Users\\boris\\OneDrive\\Documents\\Studies\\ColumbiaBootCamp\\FinTech-Workspace\\Module_5\\Challenge_5\\Starter_Code\\FinTech_Module5_Financial_Planner\\MCForecastTools.py:117: PerformanceWarning: DataFrame is highly fragmented.  This is usually the result of calling `frame.insert` many times, which has poor performance.  Consider joining all columns at once using pd.concat(axis=1) instead. To get a de-fragmented frame, use `newframe = frame.copy()`\n",
      "  portfolio_cumulative_returns[n] = (1 + sim_df.fillna(0)).cumprod()\n",
      "C:\\Users\\boris\\OneDrive\\Documents\\Studies\\ColumbiaBootCamp\\FinTech-Workspace\\Module_5\\Challenge_5\\Starter_Code\\FinTech_Module5_Financial_Planner\\MCForecastTools.py:117: PerformanceWarning: DataFrame is highly fragmented.  This is usually the result of calling `frame.insert` many times, which has poor performance.  Consider joining all columns at once using pd.concat(axis=1) instead. To get a de-fragmented frame, use `newframe = frame.copy()`\n",
      "  portfolio_cumulative_returns[n] = (1 + sim_df.fillna(0)).cumprod()\n",
      "C:\\Users\\boris\\OneDrive\\Documents\\Studies\\ColumbiaBootCamp\\FinTech-Workspace\\Module_5\\Challenge_5\\Starter_Code\\FinTech_Module5_Financial_Planner\\MCForecastTools.py:117: PerformanceWarning: DataFrame is highly fragmented.  This is usually the result of calling `frame.insert` many times, which has poor performance.  Consider joining all columns at once using pd.concat(axis=1) instead. To get a de-fragmented frame, use `newframe = frame.copy()`\n",
      "  portfolio_cumulative_returns[n] = (1 + sim_df.fillna(0)).cumprod()\n"
     ]
    },
    {
     "name": "stdout",
     "output_type": "stream",
     "text": [
      "Running Monte Carlo simulation number 220.\n"
     ]
    },
    {
     "name": "stderr",
     "output_type": "stream",
     "text": [
      "C:\\Users\\boris\\OneDrive\\Documents\\Studies\\ColumbiaBootCamp\\FinTech-Workspace\\Module_5\\Challenge_5\\Starter_Code\\FinTech_Module5_Financial_Planner\\MCForecastTools.py:117: PerformanceWarning: DataFrame is highly fragmented.  This is usually the result of calling `frame.insert` many times, which has poor performance.  Consider joining all columns at once using pd.concat(axis=1) instead. To get a de-fragmented frame, use `newframe = frame.copy()`\n",
      "  portfolio_cumulative_returns[n] = (1 + sim_df.fillna(0)).cumprod()\n",
      "C:\\Users\\boris\\OneDrive\\Documents\\Studies\\ColumbiaBootCamp\\FinTech-Workspace\\Module_5\\Challenge_5\\Starter_Code\\FinTech_Module5_Financial_Planner\\MCForecastTools.py:117: PerformanceWarning: DataFrame is highly fragmented.  This is usually the result of calling `frame.insert` many times, which has poor performance.  Consider joining all columns at once using pd.concat(axis=1) instead. To get a de-fragmented frame, use `newframe = frame.copy()`\n",
      "  portfolio_cumulative_returns[n] = (1 + sim_df.fillna(0)).cumprod()\n",
      "C:\\Users\\boris\\OneDrive\\Documents\\Studies\\ColumbiaBootCamp\\FinTech-Workspace\\Module_5\\Challenge_5\\Starter_Code\\FinTech_Module5_Financial_Planner\\MCForecastTools.py:117: PerformanceWarning: DataFrame is highly fragmented.  This is usually the result of calling `frame.insert` many times, which has poor performance.  Consider joining all columns at once using pd.concat(axis=1) instead. To get a de-fragmented frame, use `newframe = frame.copy()`\n",
      "  portfolio_cumulative_returns[n] = (1 + sim_df.fillna(0)).cumprod()\n",
      "C:\\Users\\boris\\OneDrive\\Documents\\Studies\\ColumbiaBootCamp\\FinTech-Workspace\\Module_5\\Challenge_5\\Starter_Code\\FinTech_Module5_Financial_Planner\\MCForecastTools.py:117: PerformanceWarning: DataFrame is highly fragmented.  This is usually the result of calling `frame.insert` many times, which has poor performance.  Consider joining all columns at once using pd.concat(axis=1) instead. To get a de-fragmented frame, use `newframe = frame.copy()`\n",
      "  portfolio_cumulative_returns[n] = (1 + sim_df.fillna(0)).cumprod()\n",
      "C:\\Users\\boris\\OneDrive\\Documents\\Studies\\ColumbiaBootCamp\\FinTech-Workspace\\Module_5\\Challenge_5\\Starter_Code\\FinTech_Module5_Financial_Planner\\MCForecastTools.py:117: PerformanceWarning: DataFrame is highly fragmented.  This is usually the result of calling `frame.insert` many times, which has poor performance.  Consider joining all columns at once using pd.concat(axis=1) instead. To get a de-fragmented frame, use `newframe = frame.copy()`\n",
      "  portfolio_cumulative_returns[n] = (1 + sim_df.fillna(0)).cumprod()\n",
      "C:\\Users\\boris\\OneDrive\\Documents\\Studies\\ColumbiaBootCamp\\FinTech-Workspace\\Module_5\\Challenge_5\\Starter_Code\\FinTech_Module5_Financial_Planner\\MCForecastTools.py:117: PerformanceWarning: DataFrame is highly fragmented.  This is usually the result of calling `frame.insert` many times, which has poor performance.  Consider joining all columns at once using pd.concat(axis=1) instead. To get a de-fragmented frame, use `newframe = frame.copy()`\n",
      "  portfolio_cumulative_returns[n] = (1 + sim_df.fillna(0)).cumprod()\n",
      "C:\\Users\\boris\\OneDrive\\Documents\\Studies\\ColumbiaBootCamp\\FinTech-Workspace\\Module_5\\Challenge_5\\Starter_Code\\FinTech_Module5_Financial_Planner\\MCForecastTools.py:117: PerformanceWarning: DataFrame is highly fragmented.  This is usually the result of calling `frame.insert` many times, which has poor performance.  Consider joining all columns at once using pd.concat(axis=1) instead. To get a de-fragmented frame, use `newframe = frame.copy()`\n",
      "  portfolio_cumulative_returns[n] = (1 + sim_df.fillna(0)).cumprod()\n",
      "C:\\Users\\boris\\OneDrive\\Documents\\Studies\\ColumbiaBootCamp\\FinTech-Workspace\\Module_5\\Challenge_5\\Starter_Code\\FinTech_Module5_Financial_Planner\\MCForecastTools.py:117: PerformanceWarning: DataFrame is highly fragmented.  This is usually the result of calling `frame.insert` many times, which has poor performance.  Consider joining all columns at once using pd.concat(axis=1) instead. To get a de-fragmented frame, use `newframe = frame.copy()`\n",
      "  portfolio_cumulative_returns[n] = (1 + sim_df.fillna(0)).cumprod()\n",
      "C:\\Users\\boris\\OneDrive\\Documents\\Studies\\ColumbiaBootCamp\\FinTech-Workspace\\Module_5\\Challenge_5\\Starter_Code\\FinTech_Module5_Financial_Planner\\MCForecastTools.py:117: PerformanceWarning: DataFrame is highly fragmented.  This is usually the result of calling `frame.insert` many times, which has poor performance.  Consider joining all columns at once using pd.concat(axis=1) instead. To get a de-fragmented frame, use `newframe = frame.copy()`\n",
      "  portfolio_cumulative_returns[n] = (1 + sim_df.fillna(0)).cumprod()\n",
      "C:\\Users\\boris\\OneDrive\\Documents\\Studies\\ColumbiaBootCamp\\FinTech-Workspace\\Module_5\\Challenge_5\\Starter_Code\\FinTech_Module5_Financial_Planner\\MCForecastTools.py:117: PerformanceWarning: DataFrame is highly fragmented.  This is usually the result of calling `frame.insert` many times, which has poor performance.  Consider joining all columns at once using pd.concat(axis=1) instead. To get a de-fragmented frame, use `newframe = frame.copy()`\n",
      "  portfolio_cumulative_returns[n] = (1 + sim_df.fillna(0)).cumprod()\n"
     ]
    },
    {
     "name": "stdout",
     "output_type": "stream",
     "text": [
      "Running Monte Carlo simulation number 230.\n"
     ]
    },
    {
     "name": "stderr",
     "output_type": "stream",
     "text": [
      "C:\\Users\\boris\\OneDrive\\Documents\\Studies\\ColumbiaBootCamp\\FinTech-Workspace\\Module_5\\Challenge_5\\Starter_Code\\FinTech_Module5_Financial_Planner\\MCForecastTools.py:117: PerformanceWarning: DataFrame is highly fragmented.  This is usually the result of calling `frame.insert` many times, which has poor performance.  Consider joining all columns at once using pd.concat(axis=1) instead. To get a de-fragmented frame, use `newframe = frame.copy()`\n",
      "  portfolio_cumulative_returns[n] = (1 + sim_df.fillna(0)).cumprod()\n",
      "C:\\Users\\boris\\OneDrive\\Documents\\Studies\\ColumbiaBootCamp\\FinTech-Workspace\\Module_5\\Challenge_5\\Starter_Code\\FinTech_Module5_Financial_Planner\\MCForecastTools.py:117: PerformanceWarning: DataFrame is highly fragmented.  This is usually the result of calling `frame.insert` many times, which has poor performance.  Consider joining all columns at once using pd.concat(axis=1) instead. To get a de-fragmented frame, use `newframe = frame.copy()`\n",
      "  portfolio_cumulative_returns[n] = (1 + sim_df.fillna(0)).cumprod()\n",
      "C:\\Users\\boris\\OneDrive\\Documents\\Studies\\ColumbiaBootCamp\\FinTech-Workspace\\Module_5\\Challenge_5\\Starter_Code\\FinTech_Module5_Financial_Planner\\MCForecastTools.py:117: PerformanceWarning: DataFrame is highly fragmented.  This is usually the result of calling `frame.insert` many times, which has poor performance.  Consider joining all columns at once using pd.concat(axis=1) instead. To get a de-fragmented frame, use `newframe = frame.copy()`\n",
      "  portfolio_cumulative_returns[n] = (1 + sim_df.fillna(0)).cumprod()\n",
      "C:\\Users\\boris\\OneDrive\\Documents\\Studies\\ColumbiaBootCamp\\FinTech-Workspace\\Module_5\\Challenge_5\\Starter_Code\\FinTech_Module5_Financial_Planner\\MCForecastTools.py:117: PerformanceWarning: DataFrame is highly fragmented.  This is usually the result of calling `frame.insert` many times, which has poor performance.  Consider joining all columns at once using pd.concat(axis=1) instead. To get a de-fragmented frame, use `newframe = frame.copy()`\n",
      "  portfolio_cumulative_returns[n] = (1 + sim_df.fillna(0)).cumprod()\n",
      "C:\\Users\\boris\\OneDrive\\Documents\\Studies\\ColumbiaBootCamp\\FinTech-Workspace\\Module_5\\Challenge_5\\Starter_Code\\FinTech_Module5_Financial_Planner\\MCForecastTools.py:117: PerformanceWarning: DataFrame is highly fragmented.  This is usually the result of calling `frame.insert` many times, which has poor performance.  Consider joining all columns at once using pd.concat(axis=1) instead. To get a de-fragmented frame, use `newframe = frame.copy()`\n",
      "  portfolio_cumulative_returns[n] = (1 + sim_df.fillna(0)).cumprod()\n",
      "C:\\Users\\boris\\OneDrive\\Documents\\Studies\\ColumbiaBootCamp\\FinTech-Workspace\\Module_5\\Challenge_5\\Starter_Code\\FinTech_Module5_Financial_Planner\\MCForecastTools.py:117: PerformanceWarning: DataFrame is highly fragmented.  This is usually the result of calling `frame.insert` many times, which has poor performance.  Consider joining all columns at once using pd.concat(axis=1) instead. To get a de-fragmented frame, use `newframe = frame.copy()`\n",
      "  portfolio_cumulative_returns[n] = (1 + sim_df.fillna(0)).cumprod()\n",
      "C:\\Users\\boris\\OneDrive\\Documents\\Studies\\ColumbiaBootCamp\\FinTech-Workspace\\Module_5\\Challenge_5\\Starter_Code\\FinTech_Module5_Financial_Planner\\MCForecastTools.py:117: PerformanceWarning: DataFrame is highly fragmented.  This is usually the result of calling `frame.insert` many times, which has poor performance.  Consider joining all columns at once using pd.concat(axis=1) instead. To get a de-fragmented frame, use `newframe = frame.copy()`\n",
      "  portfolio_cumulative_returns[n] = (1 + sim_df.fillna(0)).cumprod()\n",
      "C:\\Users\\boris\\OneDrive\\Documents\\Studies\\ColumbiaBootCamp\\FinTech-Workspace\\Module_5\\Challenge_5\\Starter_Code\\FinTech_Module5_Financial_Planner\\MCForecastTools.py:117: PerformanceWarning: DataFrame is highly fragmented.  This is usually the result of calling `frame.insert` many times, which has poor performance.  Consider joining all columns at once using pd.concat(axis=1) instead. To get a de-fragmented frame, use `newframe = frame.copy()`\n",
      "  portfolio_cumulative_returns[n] = (1 + sim_df.fillna(0)).cumprod()\n",
      "C:\\Users\\boris\\OneDrive\\Documents\\Studies\\ColumbiaBootCamp\\FinTech-Workspace\\Module_5\\Challenge_5\\Starter_Code\\FinTech_Module5_Financial_Planner\\MCForecastTools.py:117: PerformanceWarning: DataFrame is highly fragmented.  This is usually the result of calling `frame.insert` many times, which has poor performance.  Consider joining all columns at once using pd.concat(axis=1) instead. To get a de-fragmented frame, use `newframe = frame.copy()`\n",
      "  portfolio_cumulative_returns[n] = (1 + sim_df.fillna(0)).cumprod()\n",
      "C:\\Users\\boris\\OneDrive\\Documents\\Studies\\ColumbiaBootCamp\\FinTech-Workspace\\Module_5\\Challenge_5\\Starter_Code\\FinTech_Module5_Financial_Planner\\MCForecastTools.py:117: PerformanceWarning: DataFrame is highly fragmented.  This is usually the result of calling `frame.insert` many times, which has poor performance.  Consider joining all columns at once using pd.concat(axis=1) instead. To get a de-fragmented frame, use `newframe = frame.copy()`\n",
      "  portfolio_cumulative_returns[n] = (1 + sim_df.fillna(0)).cumprod()\n"
     ]
    },
    {
     "name": "stdout",
     "output_type": "stream",
     "text": [
      "Running Monte Carlo simulation number 240.\n"
     ]
    },
    {
     "name": "stderr",
     "output_type": "stream",
     "text": [
      "C:\\Users\\boris\\OneDrive\\Documents\\Studies\\ColumbiaBootCamp\\FinTech-Workspace\\Module_5\\Challenge_5\\Starter_Code\\FinTech_Module5_Financial_Planner\\MCForecastTools.py:117: PerformanceWarning: DataFrame is highly fragmented.  This is usually the result of calling `frame.insert` many times, which has poor performance.  Consider joining all columns at once using pd.concat(axis=1) instead. To get a de-fragmented frame, use `newframe = frame.copy()`\n",
      "  portfolio_cumulative_returns[n] = (1 + sim_df.fillna(0)).cumprod()\n",
      "C:\\Users\\boris\\OneDrive\\Documents\\Studies\\ColumbiaBootCamp\\FinTech-Workspace\\Module_5\\Challenge_5\\Starter_Code\\FinTech_Module5_Financial_Planner\\MCForecastTools.py:117: PerformanceWarning: DataFrame is highly fragmented.  This is usually the result of calling `frame.insert` many times, which has poor performance.  Consider joining all columns at once using pd.concat(axis=1) instead. To get a de-fragmented frame, use `newframe = frame.copy()`\n",
      "  portfolio_cumulative_returns[n] = (1 + sim_df.fillna(0)).cumprod()\n",
      "C:\\Users\\boris\\OneDrive\\Documents\\Studies\\ColumbiaBootCamp\\FinTech-Workspace\\Module_5\\Challenge_5\\Starter_Code\\FinTech_Module5_Financial_Planner\\MCForecastTools.py:117: PerformanceWarning: DataFrame is highly fragmented.  This is usually the result of calling `frame.insert` many times, which has poor performance.  Consider joining all columns at once using pd.concat(axis=1) instead. To get a de-fragmented frame, use `newframe = frame.copy()`\n",
      "  portfolio_cumulative_returns[n] = (1 + sim_df.fillna(0)).cumprod()\n",
      "C:\\Users\\boris\\OneDrive\\Documents\\Studies\\ColumbiaBootCamp\\FinTech-Workspace\\Module_5\\Challenge_5\\Starter_Code\\FinTech_Module5_Financial_Planner\\MCForecastTools.py:117: PerformanceWarning: DataFrame is highly fragmented.  This is usually the result of calling `frame.insert` many times, which has poor performance.  Consider joining all columns at once using pd.concat(axis=1) instead. To get a de-fragmented frame, use `newframe = frame.copy()`\n",
      "  portfolio_cumulative_returns[n] = (1 + sim_df.fillna(0)).cumprod()\n",
      "C:\\Users\\boris\\OneDrive\\Documents\\Studies\\ColumbiaBootCamp\\FinTech-Workspace\\Module_5\\Challenge_5\\Starter_Code\\FinTech_Module5_Financial_Planner\\MCForecastTools.py:117: PerformanceWarning: DataFrame is highly fragmented.  This is usually the result of calling `frame.insert` many times, which has poor performance.  Consider joining all columns at once using pd.concat(axis=1) instead. To get a de-fragmented frame, use `newframe = frame.copy()`\n",
      "  portfolio_cumulative_returns[n] = (1 + sim_df.fillna(0)).cumprod()\n",
      "C:\\Users\\boris\\OneDrive\\Documents\\Studies\\ColumbiaBootCamp\\FinTech-Workspace\\Module_5\\Challenge_5\\Starter_Code\\FinTech_Module5_Financial_Planner\\MCForecastTools.py:117: PerformanceWarning: DataFrame is highly fragmented.  This is usually the result of calling `frame.insert` many times, which has poor performance.  Consider joining all columns at once using pd.concat(axis=1) instead. To get a de-fragmented frame, use `newframe = frame.copy()`\n",
      "  portfolio_cumulative_returns[n] = (1 + sim_df.fillna(0)).cumprod()\n",
      "C:\\Users\\boris\\OneDrive\\Documents\\Studies\\ColumbiaBootCamp\\FinTech-Workspace\\Module_5\\Challenge_5\\Starter_Code\\FinTech_Module5_Financial_Planner\\MCForecastTools.py:117: PerformanceWarning: DataFrame is highly fragmented.  This is usually the result of calling `frame.insert` many times, which has poor performance.  Consider joining all columns at once using pd.concat(axis=1) instead. To get a de-fragmented frame, use `newframe = frame.copy()`\n",
      "  portfolio_cumulative_returns[n] = (1 + sim_df.fillna(0)).cumprod()\n",
      "C:\\Users\\boris\\OneDrive\\Documents\\Studies\\ColumbiaBootCamp\\FinTech-Workspace\\Module_5\\Challenge_5\\Starter_Code\\FinTech_Module5_Financial_Planner\\MCForecastTools.py:117: PerformanceWarning: DataFrame is highly fragmented.  This is usually the result of calling `frame.insert` many times, which has poor performance.  Consider joining all columns at once using pd.concat(axis=1) instead. To get a de-fragmented frame, use `newframe = frame.copy()`\n",
      "  portfolio_cumulative_returns[n] = (1 + sim_df.fillna(0)).cumprod()\n",
      "C:\\Users\\boris\\OneDrive\\Documents\\Studies\\ColumbiaBootCamp\\FinTech-Workspace\\Module_5\\Challenge_5\\Starter_Code\\FinTech_Module5_Financial_Planner\\MCForecastTools.py:117: PerformanceWarning: DataFrame is highly fragmented.  This is usually the result of calling `frame.insert` many times, which has poor performance.  Consider joining all columns at once using pd.concat(axis=1) instead. To get a de-fragmented frame, use `newframe = frame.copy()`\n",
      "  portfolio_cumulative_returns[n] = (1 + sim_df.fillna(0)).cumprod()\n",
      "C:\\Users\\boris\\OneDrive\\Documents\\Studies\\ColumbiaBootCamp\\FinTech-Workspace\\Module_5\\Challenge_5\\Starter_Code\\FinTech_Module5_Financial_Planner\\MCForecastTools.py:117: PerformanceWarning: DataFrame is highly fragmented.  This is usually the result of calling `frame.insert` many times, which has poor performance.  Consider joining all columns at once using pd.concat(axis=1) instead. To get a de-fragmented frame, use `newframe = frame.copy()`\n",
      "  portfolio_cumulative_returns[n] = (1 + sim_df.fillna(0)).cumprod()\n"
     ]
    },
    {
     "name": "stdout",
     "output_type": "stream",
     "text": [
      "Running Monte Carlo simulation number 250.\n"
     ]
    },
    {
     "name": "stderr",
     "output_type": "stream",
     "text": [
      "C:\\Users\\boris\\OneDrive\\Documents\\Studies\\ColumbiaBootCamp\\FinTech-Workspace\\Module_5\\Challenge_5\\Starter_Code\\FinTech_Module5_Financial_Planner\\MCForecastTools.py:117: PerformanceWarning: DataFrame is highly fragmented.  This is usually the result of calling `frame.insert` many times, which has poor performance.  Consider joining all columns at once using pd.concat(axis=1) instead. To get a de-fragmented frame, use `newframe = frame.copy()`\n",
      "  portfolio_cumulative_returns[n] = (1 + sim_df.fillna(0)).cumprod()\n",
      "C:\\Users\\boris\\OneDrive\\Documents\\Studies\\ColumbiaBootCamp\\FinTech-Workspace\\Module_5\\Challenge_5\\Starter_Code\\FinTech_Module5_Financial_Planner\\MCForecastTools.py:117: PerformanceWarning: DataFrame is highly fragmented.  This is usually the result of calling `frame.insert` many times, which has poor performance.  Consider joining all columns at once using pd.concat(axis=1) instead. To get a de-fragmented frame, use `newframe = frame.copy()`\n",
      "  portfolio_cumulative_returns[n] = (1 + sim_df.fillna(0)).cumprod()\n",
      "C:\\Users\\boris\\OneDrive\\Documents\\Studies\\ColumbiaBootCamp\\FinTech-Workspace\\Module_5\\Challenge_5\\Starter_Code\\FinTech_Module5_Financial_Planner\\MCForecastTools.py:117: PerformanceWarning: DataFrame is highly fragmented.  This is usually the result of calling `frame.insert` many times, which has poor performance.  Consider joining all columns at once using pd.concat(axis=1) instead. To get a de-fragmented frame, use `newframe = frame.copy()`\n",
      "  portfolio_cumulative_returns[n] = (1 + sim_df.fillna(0)).cumprod()\n",
      "C:\\Users\\boris\\OneDrive\\Documents\\Studies\\ColumbiaBootCamp\\FinTech-Workspace\\Module_5\\Challenge_5\\Starter_Code\\FinTech_Module5_Financial_Planner\\MCForecastTools.py:117: PerformanceWarning: DataFrame is highly fragmented.  This is usually the result of calling `frame.insert` many times, which has poor performance.  Consider joining all columns at once using pd.concat(axis=1) instead. To get a de-fragmented frame, use `newframe = frame.copy()`\n",
      "  portfolio_cumulative_returns[n] = (1 + sim_df.fillna(0)).cumprod()\n",
      "C:\\Users\\boris\\OneDrive\\Documents\\Studies\\ColumbiaBootCamp\\FinTech-Workspace\\Module_5\\Challenge_5\\Starter_Code\\FinTech_Module5_Financial_Planner\\MCForecastTools.py:117: PerformanceWarning: DataFrame is highly fragmented.  This is usually the result of calling `frame.insert` many times, which has poor performance.  Consider joining all columns at once using pd.concat(axis=1) instead. To get a de-fragmented frame, use `newframe = frame.copy()`\n",
      "  portfolio_cumulative_returns[n] = (1 + sim_df.fillna(0)).cumprod()\n",
      "C:\\Users\\boris\\OneDrive\\Documents\\Studies\\ColumbiaBootCamp\\FinTech-Workspace\\Module_5\\Challenge_5\\Starter_Code\\FinTech_Module5_Financial_Planner\\MCForecastTools.py:117: PerformanceWarning: DataFrame is highly fragmented.  This is usually the result of calling `frame.insert` many times, which has poor performance.  Consider joining all columns at once using pd.concat(axis=1) instead. To get a de-fragmented frame, use `newframe = frame.copy()`\n",
      "  portfolio_cumulative_returns[n] = (1 + sim_df.fillna(0)).cumprod()\n",
      "C:\\Users\\boris\\OneDrive\\Documents\\Studies\\ColumbiaBootCamp\\FinTech-Workspace\\Module_5\\Challenge_5\\Starter_Code\\FinTech_Module5_Financial_Planner\\MCForecastTools.py:117: PerformanceWarning: DataFrame is highly fragmented.  This is usually the result of calling `frame.insert` many times, which has poor performance.  Consider joining all columns at once using pd.concat(axis=1) instead. To get a de-fragmented frame, use `newframe = frame.copy()`\n",
      "  portfolio_cumulative_returns[n] = (1 + sim_df.fillna(0)).cumprod()\n",
      "C:\\Users\\boris\\OneDrive\\Documents\\Studies\\ColumbiaBootCamp\\FinTech-Workspace\\Module_5\\Challenge_5\\Starter_Code\\FinTech_Module5_Financial_Planner\\MCForecastTools.py:117: PerformanceWarning: DataFrame is highly fragmented.  This is usually the result of calling `frame.insert` many times, which has poor performance.  Consider joining all columns at once using pd.concat(axis=1) instead. To get a de-fragmented frame, use `newframe = frame.copy()`\n",
      "  portfolio_cumulative_returns[n] = (1 + sim_df.fillna(0)).cumprod()\n",
      "C:\\Users\\boris\\OneDrive\\Documents\\Studies\\ColumbiaBootCamp\\FinTech-Workspace\\Module_5\\Challenge_5\\Starter_Code\\FinTech_Module5_Financial_Planner\\MCForecastTools.py:117: PerformanceWarning: DataFrame is highly fragmented.  This is usually the result of calling `frame.insert` many times, which has poor performance.  Consider joining all columns at once using pd.concat(axis=1) instead. To get a de-fragmented frame, use `newframe = frame.copy()`\n",
      "  portfolio_cumulative_returns[n] = (1 + sim_df.fillna(0)).cumprod()\n",
      "C:\\Users\\boris\\OneDrive\\Documents\\Studies\\ColumbiaBootCamp\\FinTech-Workspace\\Module_5\\Challenge_5\\Starter_Code\\FinTech_Module5_Financial_Planner\\MCForecastTools.py:117: PerformanceWarning: DataFrame is highly fragmented.  This is usually the result of calling `frame.insert` many times, which has poor performance.  Consider joining all columns at once using pd.concat(axis=1) instead. To get a de-fragmented frame, use `newframe = frame.copy()`\n",
      "  portfolio_cumulative_returns[n] = (1 + sim_df.fillna(0)).cumprod()\n"
     ]
    },
    {
     "name": "stdout",
     "output_type": "stream",
     "text": [
      "Running Monte Carlo simulation number 260.\n"
     ]
    },
    {
     "name": "stderr",
     "output_type": "stream",
     "text": [
      "C:\\Users\\boris\\OneDrive\\Documents\\Studies\\ColumbiaBootCamp\\FinTech-Workspace\\Module_5\\Challenge_5\\Starter_Code\\FinTech_Module5_Financial_Planner\\MCForecastTools.py:117: PerformanceWarning: DataFrame is highly fragmented.  This is usually the result of calling `frame.insert` many times, which has poor performance.  Consider joining all columns at once using pd.concat(axis=1) instead. To get a de-fragmented frame, use `newframe = frame.copy()`\n",
      "  portfolio_cumulative_returns[n] = (1 + sim_df.fillna(0)).cumprod()\n",
      "C:\\Users\\boris\\OneDrive\\Documents\\Studies\\ColumbiaBootCamp\\FinTech-Workspace\\Module_5\\Challenge_5\\Starter_Code\\FinTech_Module5_Financial_Planner\\MCForecastTools.py:117: PerformanceWarning: DataFrame is highly fragmented.  This is usually the result of calling `frame.insert` many times, which has poor performance.  Consider joining all columns at once using pd.concat(axis=1) instead. To get a de-fragmented frame, use `newframe = frame.copy()`\n",
      "  portfolio_cumulative_returns[n] = (1 + sim_df.fillna(0)).cumprod()\n",
      "C:\\Users\\boris\\OneDrive\\Documents\\Studies\\ColumbiaBootCamp\\FinTech-Workspace\\Module_5\\Challenge_5\\Starter_Code\\FinTech_Module5_Financial_Planner\\MCForecastTools.py:117: PerformanceWarning: DataFrame is highly fragmented.  This is usually the result of calling `frame.insert` many times, which has poor performance.  Consider joining all columns at once using pd.concat(axis=1) instead. To get a de-fragmented frame, use `newframe = frame.copy()`\n",
      "  portfolio_cumulative_returns[n] = (1 + sim_df.fillna(0)).cumprod()\n",
      "C:\\Users\\boris\\OneDrive\\Documents\\Studies\\ColumbiaBootCamp\\FinTech-Workspace\\Module_5\\Challenge_5\\Starter_Code\\FinTech_Module5_Financial_Planner\\MCForecastTools.py:117: PerformanceWarning: DataFrame is highly fragmented.  This is usually the result of calling `frame.insert` many times, which has poor performance.  Consider joining all columns at once using pd.concat(axis=1) instead. To get a de-fragmented frame, use `newframe = frame.copy()`\n",
      "  portfolio_cumulative_returns[n] = (1 + sim_df.fillna(0)).cumprod()\n",
      "C:\\Users\\boris\\OneDrive\\Documents\\Studies\\ColumbiaBootCamp\\FinTech-Workspace\\Module_5\\Challenge_5\\Starter_Code\\FinTech_Module5_Financial_Planner\\MCForecastTools.py:117: PerformanceWarning: DataFrame is highly fragmented.  This is usually the result of calling `frame.insert` many times, which has poor performance.  Consider joining all columns at once using pd.concat(axis=1) instead. To get a de-fragmented frame, use `newframe = frame.copy()`\n",
      "  portfolio_cumulative_returns[n] = (1 + sim_df.fillna(0)).cumprod()\n",
      "C:\\Users\\boris\\OneDrive\\Documents\\Studies\\ColumbiaBootCamp\\FinTech-Workspace\\Module_5\\Challenge_5\\Starter_Code\\FinTech_Module5_Financial_Planner\\MCForecastTools.py:117: PerformanceWarning: DataFrame is highly fragmented.  This is usually the result of calling `frame.insert` many times, which has poor performance.  Consider joining all columns at once using pd.concat(axis=1) instead. To get a de-fragmented frame, use `newframe = frame.copy()`\n",
      "  portfolio_cumulative_returns[n] = (1 + sim_df.fillna(0)).cumprod()\n",
      "C:\\Users\\boris\\OneDrive\\Documents\\Studies\\ColumbiaBootCamp\\FinTech-Workspace\\Module_5\\Challenge_5\\Starter_Code\\FinTech_Module5_Financial_Planner\\MCForecastTools.py:117: PerformanceWarning: DataFrame is highly fragmented.  This is usually the result of calling `frame.insert` many times, which has poor performance.  Consider joining all columns at once using pd.concat(axis=1) instead. To get a de-fragmented frame, use `newframe = frame.copy()`\n",
      "  portfolio_cumulative_returns[n] = (1 + sim_df.fillna(0)).cumprod()\n",
      "C:\\Users\\boris\\OneDrive\\Documents\\Studies\\ColumbiaBootCamp\\FinTech-Workspace\\Module_5\\Challenge_5\\Starter_Code\\FinTech_Module5_Financial_Planner\\MCForecastTools.py:117: PerformanceWarning: DataFrame is highly fragmented.  This is usually the result of calling `frame.insert` many times, which has poor performance.  Consider joining all columns at once using pd.concat(axis=1) instead. To get a de-fragmented frame, use `newframe = frame.copy()`\n",
      "  portfolio_cumulative_returns[n] = (1 + sim_df.fillna(0)).cumprod()\n",
      "C:\\Users\\boris\\OneDrive\\Documents\\Studies\\ColumbiaBootCamp\\FinTech-Workspace\\Module_5\\Challenge_5\\Starter_Code\\FinTech_Module5_Financial_Planner\\MCForecastTools.py:117: PerformanceWarning: DataFrame is highly fragmented.  This is usually the result of calling `frame.insert` many times, which has poor performance.  Consider joining all columns at once using pd.concat(axis=1) instead. To get a de-fragmented frame, use `newframe = frame.copy()`\n",
      "  portfolio_cumulative_returns[n] = (1 + sim_df.fillna(0)).cumprod()\n",
      "C:\\Users\\boris\\OneDrive\\Documents\\Studies\\ColumbiaBootCamp\\FinTech-Workspace\\Module_5\\Challenge_5\\Starter_Code\\FinTech_Module5_Financial_Planner\\MCForecastTools.py:117: PerformanceWarning: DataFrame is highly fragmented.  This is usually the result of calling `frame.insert` many times, which has poor performance.  Consider joining all columns at once using pd.concat(axis=1) instead. To get a de-fragmented frame, use `newframe = frame.copy()`\n",
      "  portfolio_cumulative_returns[n] = (1 + sim_df.fillna(0)).cumprod()\n"
     ]
    },
    {
     "name": "stdout",
     "output_type": "stream",
     "text": [
      "Running Monte Carlo simulation number 270.\n"
     ]
    },
    {
     "name": "stderr",
     "output_type": "stream",
     "text": [
      "C:\\Users\\boris\\OneDrive\\Documents\\Studies\\ColumbiaBootCamp\\FinTech-Workspace\\Module_5\\Challenge_5\\Starter_Code\\FinTech_Module5_Financial_Planner\\MCForecastTools.py:117: PerformanceWarning: DataFrame is highly fragmented.  This is usually the result of calling `frame.insert` many times, which has poor performance.  Consider joining all columns at once using pd.concat(axis=1) instead. To get a de-fragmented frame, use `newframe = frame.copy()`\n",
      "  portfolio_cumulative_returns[n] = (1 + sim_df.fillna(0)).cumprod()\n",
      "C:\\Users\\boris\\OneDrive\\Documents\\Studies\\ColumbiaBootCamp\\FinTech-Workspace\\Module_5\\Challenge_5\\Starter_Code\\FinTech_Module5_Financial_Planner\\MCForecastTools.py:117: PerformanceWarning: DataFrame is highly fragmented.  This is usually the result of calling `frame.insert` many times, which has poor performance.  Consider joining all columns at once using pd.concat(axis=1) instead. To get a de-fragmented frame, use `newframe = frame.copy()`\n",
      "  portfolio_cumulative_returns[n] = (1 + sim_df.fillna(0)).cumprod()\n",
      "C:\\Users\\boris\\OneDrive\\Documents\\Studies\\ColumbiaBootCamp\\FinTech-Workspace\\Module_5\\Challenge_5\\Starter_Code\\FinTech_Module5_Financial_Planner\\MCForecastTools.py:117: PerformanceWarning: DataFrame is highly fragmented.  This is usually the result of calling `frame.insert` many times, which has poor performance.  Consider joining all columns at once using pd.concat(axis=1) instead. To get a de-fragmented frame, use `newframe = frame.copy()`\n",
      "  portfolio_cumulative_returns[n] = (1 + sim_df.fillna(0)).cumprod()\n",
      "C:\\Users\\boris\\OneDrive\\Documents\\Studies\\ColumbiaBootCamp\\FinTech-Workspace\\Module_5\\Challenge_5\\Starter_Code\\FinTech_Module5_Financial_Planner\\MCForecastTools.py:117: PerformanceWarning: DataFrame is highly fragmented.  This is usually the result of calling `frame.insert` many times, which has poor performance.  Consider joining all columns at once using pd.concat(axis=1) instead. To get a de-fragmented frame, use `newframe = frame.copy()`\n",
      "  portfolio_cumulative_returns[n] = (1 + sim_df.fillna(0)).cumprod()\n",
      "C:\\Users\\boris\\OneDrive\\Documents\\Studies\\ColumbiaBootCamp\\FinTech-Workspace\\Module_5\\Challenge_5\\Starter_Code\\FinTech_Module5_Financial_Planner\\MCForecastTools.py:117: PerformanceWarning: DataFrame is highly fragmented.  This is usually the result of calling `frame.insert` many times, which has poor performance.  Consider joining all columns at once using pd.concat(axis=1) instead. To get a de-fragmented frame, use `newframe = frame.copy()`\n",
      "  portfolio_cumulative_returns[n] = (1 + sim_df.fillna(0)).cumprod()\n",
      "C:\\Users\\boris\\OneDrive\\Documents\\Studies\\ColumbiaBootCamp\\FinTech-Workspace\\Module_5\\Challenge_5\\Starter_Code\\FinTech_Module5_Financial_Planner\\MCForecastTools.py:117: PerformanceWarning: DataFrame is highly fragmented.  This is usually the result of calling `frame.insert` many times, which has poor performance.  Consider joining all columns at once using pd.concat(axis=1) instead. To get a de-fragmented frame, use `newframe = frame.copy()`\n",
      "  portfolio_cumulative_returns[n] = (1 + sim_df.fillna(0)).cumprod()\n",
      "C:\\Users\\boris\\OneDrive\\Documents\\Studies\\ColumbiaBootCamp\\FinTech-Workspace\\Module_5\\Challenge_5\\Starter_Code\\FinTech_Module5_Financial_Planner\\MCForecastTools.py:117: PerformanceWarning: DataFrame is highly fragmented.  This is usually the result of calling `frame.insert` many times, which has poor performance.  Consider joining all columns at once using pd.concat(axis=1) instead. To get a de-fragmented frame, use `newframe = frame.copy()`\n",
      "  portfolio_cumulative_returns[n] = (1 + sim_df.fillna(0)).cumprod()\n",
      "C:\\Users\\boris\\OneDrive\\Documents\\Studies\\ColumbiaBootCamp\\FinTech-Workspace\\Module_5\\Challenge_5\\Starter_Code\\FinTech_Module5_Financial_Planner\\MCForecastTools.py:117: PerformanceWarning: DataFrame is highly fragmented.  This is usually the result of calling `frame.insert` many times, which has poor performance.  Consider joining all columns at once using pd.concat(axis=1) instead. To get a de-fragmented frame, use `newframe = frame.copy()`\n",
      "  portfolio_cumulative_returns[n] = (1 + sim_df.fillna(0)).cumprod()\n",
      "C:\\Users\\boris\\OneDrive\\Documents\\Studies\\ColumbiaBootCamp\\FinTech-Workspace\\Module_5\\Challenge_5\\Starter_Code\\FinTech_Module5_Financial_Planner\\MCForecastTools.py:117: PerformanceWarning: DataFrame is highly fragmented.  This is usually the result of calling `frame.insert` many times, which has poor performance.  Consider joining all columns at once using pd.concat(axis=1) instead. To get a de-fragmented frame, use `newframe = frame.copy()`\n",
      "  portfolio_cumulative_returns[n] = (1 + sim_df.fillna(0)).cumprod()\n",
      "C:\\Users\\boris\\OneDrive\\Documents\\Studies\\ColumbiaBootCamp\\FinTech-Workspace\\Module_5\\Challenge_5\\Starter_Code\\FinTech_Module5_Financial_Planner\\MCForecastTools.py:117: PerformanceWarning: DataFrame is highly fragmented.  This is usually the result of calling `frame.insert` many times, which has poor performance.  Consider joining all columns at once using pd.concat(axis=1) instead. To get a de-fragmented frame, use `newframe = frame.copy()`\n",
      "  portfolio_cumulative_returns[n] = (1 + sim_df.fillna(0)).cumprod()\n"
     ]
    },
    {
     "name": "stdout",
     "output_type": "stream",
     "text": [
      "Running Monte Carlo simulation number 280.\n"
     ]
    },
    {
     "name": "stderr",
     "output_type": "stream",
     "text": [
      "C:\\Users\\boris\\OneDrive\\Documents\\Studies\\ColumbiaBootCamp\\FinTech-Workspace\\Module_5\\Challenge_5\\Starter_Code\\FinTech_Module5_Financial_Planner\\MCForecastTools.py:117: PerformanceWarning: DataFrame is highly fragmented.  This is usually the result of calling `frame.insert` many times, which has poor performance.  Consider joining all columns at once using pd.concat(axis=1) instead. To get a de-fragmented frame, use `newframe = frame.copy()`\n",
      "  portfolio_cumulative_returns[n] = (1 + sim_df.fillna(0)).cumprod()\n",
      "C:\\Users\\boris\\OneDrive\\Documents\\Studies\\ColumbiaBootCamp\\FinTech-Workspace\\Module_5\\Challenge_5\\Starter_Code\\FinTech_Module5_Financial_Planner\\MCForecastTools.py:117: PerformanceWarning: DataFrame is highly fragmented.  This is usually the result of calling `frame.insert` many times, which has poor performance.  Consider joining all columns at once using pd.concat(axis=1) instead. To get a de-fragmented frame, use `newframe = frame.copy()`\n",
      "  portfolio_cumulative_returns[n] = (1 + sim_df.fillna(0)).cumprod()\n",
      "C:\\Users\\boris\\OneDrive\\Documents\\Studies\\ColumbiaBootCamp\\FinTech-Workspace\\Module_5\\Challenge_5\\Starter_Code\\FinTech_Module5_Financial_Planner\\MCForecastTools.py:117: PerformanceWarning: DataFrame is highly fragmented.  This is usually the result of calling `frame.insert` many times, which has poor performance.  Consider joining all columns at once using pd.concat(axis=1) instead. To get a de-fragmented frame, use `newframe = frame.copy()`\n",
      "  portfolio_cumulative_returns[n] = (1 + sim_df.fillna(0)).cumprod()\n",
      "C:\\Users\\boris\\OneDrive\\Documents\\Studies\\ColumbiaBootCamp\\FinTech-Workspace\\Module_5\\Challenge_5\\Starter_Code\\FinTech_Module5_Financial_Planner\\MCForecastTools.py:117: PerformanceWarning: DataFrame is highly fragmented.  This is usually the result of calling `frame.insert` many times, which has poor performance.  Consider joining all columns at once using pd.concat(axis=1) instead. To get a de-fragmented frame, use `newframe = frame.copy()`\n",
      "  portfolio_cumulative_returns[n] = (1 + sim_df.fillna(0)).cumprod()\n",
      "C:\\Users\\boris\\OneDrive\\Documents\\Studies\\ColumbiaBootCamp\\FinTech-Workspace\\Module_5\\Challenge_5\\Starter_Code\\FinTech_Module5_Financial_Planner\\MCForecastTools.py:117: PerformanceWarning: DataFrame is highly fragmented.  This is usually the result of calling `frame.insert` many times, which has poor performance.  Consider joining all columns at once using pd.concat(axis=1) instead. To get a de-fragmented frame, use `newframe = frame.copy()`\n",
      "  portfolio_cumulative_returns[n] = (1 + sim_df.fillna(0)).cumprod()\n",
      "C:\\Users\\boris\\OneDrive\\Documents\\Studies\\ColumbiaBootCamp\\FinTech-Workspace\\Module_5\\Challenge_5\\Starter_Code\\FinTech_Module5_Financial_Planner\\MCForecastTools.py:117: PerformanceWarning: DataFrame is highly fragmented.  This is usually the result of calling `frame.insert` many times, which has poor performance.  Consider joining all columns at once using pd.concat(axis=1) instead. To get a de-fragmented frame, use `newframe = frame.copy()`\n",
      "  portfolio_cumulative_returns[n] = (1 + sim_df.fillna(0)).cumprod()\n",
      "C:\\Users\\boris\\OneDrive\\Documents\\Studies\\ColumbiaBootCamp\\FinTech-Workspace\\Module_5\\Challenge_5\\Starter_Code\\FinTech_Module5_Financial_Planner\\MCForecastTools.py:117: PerformanceWarning: DataFrame is highly fragmented.  This is usually the result of calling `frame.insert` many times, which has poor performance.  Consider joining all columns at once using pd.concat(axis=1) instead. To get a de-fragmented frame, use `newframe = frame.copy()`\n",
      "  portfolio_cumulative_returns[n] = (1 + sim_df.fillna(0)).cumprod()\n",
      "C:\\Users\\boris\\OneDrive\\Documents\\Studies\\ColumbiaBootCamp\\FinTech-Workspace\\Module_5\\Challenge_5\\Starter_Code\\FinTech_Module5_Financial_Planner\\MCForecastTools.py:117: PerformanceWarning: DataFrame is highly fragmented.  This is usually the result of calling `frame.insert` many times, which has poor performance.  Consider joining all columns at once using pd.concat(axis=1) instead. To get a de-fragmented frame, use `newframe = frame.copy()`\n",
      "  portfolio_cumulative_returns[n] = (1 + sim_df.fillna(0)).cumprod()\n",
      "C:\\Users\\boris\\OneDrive\\Documents\\Studies\\ColumbiaBootCamp\\FinTech-Workspace\\Module_5\\Challenge_5\\Starter_Code\\FinTech_Module5_Financial_Planner\\MCForecastTools.py:117: PerformanceWarning: DataFrame is highly fragmented.  This is usually the result of calling `frame.insert` many times, which has poor performance.  Consider joining all columns at once using pd.concat(axis=1) instead. To get a de-fragmented frame, use `newframe = frame.copy()`\n",
      "  portfolio_cumulative_returns[n] = (1 + sim_df.fillna(0)).cumprod()\n",
      "C:\\Users\\boris\\OneDrive\\Documents\\Studies\\ColumbiaBootCamp\\FinTech-Workspace\\Module_5\\Challenge_5\\Starter_Code\\FinTech_Module5_Financial_Planner\\MCForecastTools.py:117: PerformanceWarning: DataFrame is highly fragmented.  This is usually the result of calling `frame.insert` many times, which has poor performance.  Consider joining all columns at once using pd.concat(axis=1) instead. To get a de-fragmented frame, use `newframe = frame.copy()`\n",
      "  portfolio_cumulative_returns[n] = (1 + sim_df.fillna(0)).cumprod()\n"
     ]
    },
    {
     "name": "stdout",
     "output_type": "stream",
     "text": [
      "Running Monte Carlo simulation number 290.\n"
     ]
    },
    {
     "name": "stderr",
     "output_type": "stream",
     "text": [
      "C:\\Users\\boris\\OneDrive\\Documents\\Studies\\ColumbiaBootCamp\\FinTech-Workspace\\Module_5\\Challenge_5\\Starter_Code\\FinTech_Module5_Financial_Planner\\MCForecastTools.py:117: PerformanceWarning: DataFrame is highly fragmented.  This is usually the result of calling `frame.insert` many times, which has poor performance.  Consider joining all columns at once using pd.concat(axis=1) instead. To get a de-fragmented frame, use `newframe = frame.copy()`\n",
      "  portfolio_cumulative_returns[n] = (1 + sim_df.fillna(0)).cumprod()\n",
      "C:\\Users\\boris\\OneDrive\\Documents\\Studies\\ColumbiaBootCamp\\FinTech-Workspace\\Module_5\\Challenge_5\\Starter_Code\\FinTech_Module5_Financial_Planner\\MCForecastTools.py:117: PerformanceWarning: DataFrame is highly fragmented.  This is usually the result of calling `frame.insert` many times, which has poor performance.  Consider joining all columns at once using pd.concat(axis=1) instead. To get a de-fragmented frame, use `newframe = frame.copy()`\n",
      "  portfolio_cumulative_returns[n] = (1 + sim_df.fillna(0)).cumprod()\n",
      "C:\\Users\\boris\\OneDrive\\Documents\\Studies\\ColumbiaBootCamp\\FinTech-Workspace\\Module_5\\Challenge_5\\Starter_Code\\FinTech_Module5_Financial_Planner\\MCForecastTools.py:117: PerformanceWarning: DataFrame is highly fragmented.  This is usually the result of calling `frame.insert` many times, which has poor performance.  Consider joining all columns at once using pd.concat(axis=1) instead. To get a de-fragmented frame, use `newframe = frame.copy()`\n",
      "  portfolio_cumulative_returns[n] = (1 + sim_df.fillna(0)).cumprod()\n",
      "C:\\Users\\boris\\OneDrive\\Documents\\Studies\\ColumbiaBootCamp\\FinTech-Workspace\\Module_5\\Challenge_5\\Starter_Code\\FinTech_Module5_Financial_Planner\\MCForecastTools.py:117: PerformanceWarning: DataFrame is highly fragmented.  This is usually the result of calling `frame.insert` many times, which has poor performance.  Consider joining all columns at once using pd.concat(axis=1) instead. To get a de-fragmented frame, use `newframe = frame.copy()`\n",
      "  portfolio_cumulative_returns[n] = (1 + sim_df.fillna(0)).cumprod()\n",
      "C:\\Users\\boris\\OneDrive\\Documents\\Studies\\ColumbiaBootCamp\\FinTech-Workspace\\Module_5\\Challenge_5\\Starter_Code\\FinTech_Module5_Financial_Planner\\MCForecastTools.py:117: PerformanceWarning: DataFrame is highly fragmented.  This is usually the result of calling `frame.insert` many times, which has poor performance.  Consider joining all columns at once using pd.concat(axis=1) instead. To get a de-fragmented frame, use `newframe = frame.copy()`\n",
      "  portfolio_cumulative_returns[n] = (1 + sim_df.fillna(0)).cumprod()\n",
      "C:\\Users\\boris\\OneDrive\\Documents\\Studies\\ColumbiaBootCamp\\FinTech-Workspace\\Module_5\\Challenge_5\\Starter_Code\\FinTech_Module5_Financial_Planner\\MCForecastTools.py:117: PerformanceWarning: DataFrame is highly fragmented.  This is usually the result of calling `frame.insert` many times, which has poor performance.  Consider joining all columns at once using pd.concat(axis=1) instead. To get a de-fragmented frame, use `newframe = frame.copy()`\n",
      "  portfolio_cumulative_returns[n] = (1 + sim_df.fillna(0)).cumprod()\n",
      "C:\\Users\\boris\\OneDrive\\Documents\\Studies\\ColumbiaBootCamp\\FinTech-Workspace\\Module_5\\Challenge_5\\Starter_Code\\FinTech_Module5_Financial_Planner\\MCForecastTools.py:117: PerformanceWarning: DataFrame is highly fragmented.  This is usually the result of calling `frame.insert` many times, which has poor performance.  Consider joining all columns at once using pd.concat(axis=1) instead. To get a de-fragmented frame, use `newframe = frame.copy()`\n",
      "  portfolio_cumulative_returns[n] = (1 + sim_df.fillna(0)).cumprod()\n",
      "C:\\Users\\boris\\OneDrive\\Documents\\Studies\\ColumbiaBootCamp\\FinTech-Workspace\\Module_5\\Challenge_5\\Starter_Code\\FinTech_Module5_Financial_Planner\\MCForecastTools.py:117: PerformanceWarning: DataFrame is highly fragmented.  This is usually the result of calling `frame.insert` many times, which has poor performance.  Consider joining all columns at once using pd.concat(axis=1) instead. To get a de-fragmented frame, use `newframe = frame.copy()`\n",
      "  portfolio_cumulative_returns[n] = (1 + sim_df.fillna(0)).cumprod()\n",
      "C:\\Users\\boris\\OneDrive\\Documents\\Studies\\ColumbiaBootCamp\\FinTech-Workspace\\Module_5\\Challenge_5\\Starter_Code\\FinTech_Module5_Financial_Planner\\MCForecastTools.py:117: PerformanceWarning: DataFrame is highly fragmented.  This is usually the result of calling `frame.insert` many times, which has poor performance.  Consider joining all columns at once using pd.concat(axis=1) instead. To get a de-fragmented frame, use `newframe = frame.copy()`\n",
      "  portfolio_cumulative_returns[n] = (1 + sim_df.fillna(0)).cumprod()\n",
      "C:\\Users\\boris\\OneDrive\\Documents\\Studies\\ColumbiaBootCamp\\FinTech-Workspace\\Module_5\\Challenge_5\\Starter_Code\\FinTech_Module5_Financial_Planner\\MCForecastTools.py:117: PerformanceWarning: DataFrame is highly fragmented.  This is usually the result of calling `frame.insert` many times, which has poor performance.  Consider joining all columns at once using pd.concat(axis=1) instead. To get a de-fragmented frame, use `newframe = frame.copy()`\n",
      "  portfolio_cumulative_returns[n] = (1 + sim_df.fillna(0)).cumprod()\n"
     ]
    },
    {
     "name": "stdout",
     "output_type": "stream",
     "text": [
      "Running Monte Carlo simulation number 300.\n"
     ]
    },
    {
     "name": "stderr",
     "output_type": "stream",
     "text": [
      "C:\\Users\\boris\\OneDrive\\Documents\\Studies\\ColumbiaBootCamp\\FinTech-Workspace\\Module_5\\Challenge_5\\Starter_Code\\FinTech_Module5_Financial_Planner\\MCForecastTools.py:117: PerformanceWarning: DataFrame is highly fragmented.  This is usually the result of calling `frame.insert` many times, which has poor performance.  Consider joining all columns at once using pd.concat(axis=1) instead. To get a de-fragmented frame, use `newframe = frame.copy()`\n",
      "  portfolio_cumulative_returns[n] = (1 + sim_df.fillna(0)).cumprod()\n",
      "C:\\Users\\boris\\OneDrive\\Documents\\Studies\\ColumbiaBootCamp\\FinTech-Workspace\\Module_5\\Challenge_5\\Starter_Code\\FinTech_Module5_Financial_Planner\\MCForecastTools.py:117: PerformanceWarning: DataFrame is highly fragmented.  This is usually the result of calling `frame.insert` many times, which has poor performance.  Consider joining all columns at once using pd.concat(axis=1) instead. To get a de-fragmented frame, use `newframe = frame.copy()`\n",
      "  portfolio_cumulative_returns[n] = (1 + sim_df.fillna(0)).cumprod()\n",
      "C:\\Users\\boris\\OneDrive\\Documents\\Studies\\ColumbiaBootCamp\\FinTech-Workspace\\Module_5\\Challenge_5\\Starter_Code\\FinTech_Module5_Financial_Planner\\MCForecastTools.py:117: PerformanceWarning: DataFrame is highly fragmented.  This is usually the result of calling `frame.insert` many times, which has poor performance.  Consider joining all columns at once using pd.concat(axis=1) instead. To get a de-fragmented frame, use `newframe = frame.copy()`\n",
      "  portfolio_cumulative_returns[n] = (1 + sim_df.fillna(0)).cumprod()\n",
      "C:\\Users\\boris\\OneDrive\\Documents\\Studies\\ColumbiaBootCamp\\FinTech-Workspace\\Module_5\\Challenge_5\\Starter_Code\\FinTech_Module5_Financial_Planner\\MCForecastTools.py:117: PerformanceWarning: DataFrame is highly fragmented.  This is usually the result of calling `frame.insert` many times, which has poor performance.  Consider joining all columns at once using pd.concat(axis=1) instead. To get a de-fragmented frame, use `newframe = frame.copy()`\n",
      "  portfolio_cumulative_returns[n] = (1 + sim_df.fillna(0)).cumprod()\n",
      "C:\\Users\\boris\\OneDrive\\Documents\\Studies\\ColumbiaBootCamp\\FinTech-Workspace\\Module_5\\Challenge_5\\Starter_Code\\FinTech_Module5_Financial_Planner\\MCForecastTools.py:117: PerformanceWarning: DataFrame is highly fragmented.  This is usually the result of calling `frame.insert` many times, which has poor performance.  Consider joining all columns at once using pd.concat(axis=1) instead. To get a de-fragmented frame, use `newframe = frame.copy()`\n",
      "  portfolio_cumulative_returns[n] = (1 + sim_df.fillna(0)).cumprod()\n",
      "C:\\Users\\boris\\OneDrive\\Documents\\Studies\\ColumbiaBootCamp\\FinTech-Workspace\\Module_5\\Challenge_5\\Starter_Code\\FinTech_Module5_Financial_Planner\\MCForecastTools.py:117: PerformanceWarning: DataFrame is highly fragmented.  This is usually the result of calling `frame.insert` many times, which has poor performance.  Consider joining all columns at once using pd.concat(axis=1) instead. To get a de-fragmented frame, use `newframe = frame.copy()`\n",
      "  portfolio_cumulative_returns[n] = (1 + sim_df.fillna(0)).cumprod()\n",
      "C:\\Users\\boris\\OneDrive\\Documents\\Studies\\ColumbiaBootCamp\\FinTech-Workspace\\Module_5\\Challenge_5\\Starter_Code\\FinTech_Module5_Financial_Planner\\MCForecastTools.py:117: PerformanceWarning: DataFrame is highly fragmented.  This is usually the result of calling `frame.insert` many times, which has poor performance.  Consider joining all columns at once using pd.concat(axis=1) instead. To get a de-fragmented frame, use `newframe = frame.copy()`\n",
      "  portfolio_cumulative_returns[n] = (1 + sim_df.fillna(0)).cumprod()\n",
      "C:\\Users\\boris\\OneDrive\\Documents\\Studies\\ColumbiaBootCamp\\FinTech-Workspace\\Module_5\\Challenge_5\\Starter_Code\\FinTech_Module5_Financial_Planner\\MCForecastTools.py:117: PerformanceWarning: DataFrame is highly fragmented.  This is usually the result of calling `frame.insert` many times, which has poor performance.  Consider joining all columns at once using pd.concat(axis=1) instead. To get a de-fragmented frame, use `newframe = frame.copy()`\n",
      "  portfolio_cumulative_returns[n] = (1 + sim_df.fillna(0)).cumprod()\n",
      "C:\\Users\\boris\\OneDrive\\Documents\\Studies\\ColumbiaBootCamp\\FinTech-Workspace\\Module_5\\Challenge_5\\Starter_Code\\FinTech_Module5_Financial_Planner\\MCForecastTools.py:117: PerformanceWarning: DataFrame is highly fragmented.  This is usually the result of calling `frame.insert` many times, which has poor performance.  Consider joining all columns at once using pd.concat(axis=1) instead. To get a de-fragmented frame, use `newframe = frame.copy()`\n",
      "  portfolio_cumulative_returns[n] = (1 + sim_df.fillna(0)).cumprod()\n",
      "C:\\Users\\boris\\OneDrive\\Documents\\Studies\\ColumbiaBootCamp\\FinTech-Workspace\\Module_5\\Challenge_5\\Starter_Code\\FinTech_Module5_Financial_Planner\\MCForecastTools.py:117: PerformanceWarning: DataFrame is highly fragmented.  This is usually the result of calling `frame.insert` many times, which has poor performance.  Consider joining all columns at once using pd.concat(axis=1) instead. To get a de-fragmented frame, use `newframe = frame.copy()`\n",
      "  portfolio_cumulative_returns[n] = (1 + sim_df.fillna(0)).cumprod()\n"
     ]
    },
    {
     "name": "stdout",
     "output_type": "stream",
     "text": [
      "Running Monte Carlo simulation number 310.\n"
     ]
    },
    {
     "name": "stderr",
     "output_type": "stream",
     "text": [
      "C:\\Users\\boris\\OneDrive\\Documents\\Studies\\ColumbiaBootCamp\\FinTech-Workspace\\Module_5\\Challenge_5\\Starter_Code\\FinTech_Module5_Financial_Planner\\MCForecastTools.py:117: PerformanceWarning: DataFrame is highly fragmented.  This is usually the result of calling `frame.insert` many times, which has poor performance.  Consider joining all columns at once using pd.concat(axis=1) instead. To get a de-fragmented frame, use `newframe = frame.copy()`\n",
      "  portfolio_cumulative_returns[n] = (1 + sim_df.fillna(0)).cumprod()\n",
      "C:\\Users\\boris\\OneDrive\\Documents\\Studies\\ColumbiaBootCamp\\FinTech-Workspace\\Module_5\\Challenge_5\\Starter_Code\\FinTech_Module5_Financial_Planner\\MCForecastTools.py:117: PerformanceWarning: DataFrame is highly fragmented.  This is usually the result of calling `frame.insert` many times, which has poor performance.  Consider joining all columns at once using pd.concat(axis=1) instead. To get a de-fragmented frame, use `newframe = frame.copy()`\n",
      "  portfolio_cumulative_returns[n] = (1 + sim_df.fillna(0)).cumprod()\n",
      "C:\\Users\\boris\\OneDrive\\Documents\\Studies\\ColumbiaBootCamp\\FinTech-Workspace\\Module_5\\Challenge_5\\Starter_Code\\FinTech_Module5_Financial_Planner\\MCForecastTools.py:117: PerformanceWarning: DataFrame is highly fragmented.  This is usually the result of calling `frame.insert` many times, which has poor performance.  Consider joining all columns at once using pd.concat(axis=1) instead. To get a de-fragmented frame, use `newframe = frame.copy()`\n",
      "  portfolio_cumulative_returns[n] = (1 + sim_df.fillna(0)).cumprod()\n",
      "C:\\Users\\boris\\OneDrive\\Documents\\Studies\\ColumbiaBootCamp\\FinTech-Workspace\\Module_5\\Challenge_5\\Starter_Code\\FinTech_Module5_Financial_Planner\\MCForecastTools.py:117: PerformanceWarning: DataFrame is highly fragmented.  This is usually the result of calling `frame.insert` many times, which has poor performance.  Consider joining all columns at once using pd.concat(axis=1) instead. To get a de-fragmented frame, use `newframe = frame.copy()`\n",
      "  portfolio_cumulative_returns[n] = (1 + sim_df.fillna(0)).cumprod()\n",
      "C:\\Users\\boris\\OneDrive\\Documents\\Studies\\ColumbiaBootCamp\\FinTech-Workspace\\Module_5\\Challenge_5\\Starter_Code\\FinTech_Module5_Financial_Planner\\MCForecastTools.py:117: PerformanceWarning: DataFrame is highly fragmented.  This is usually the result of calling `frame.insert` many times, which has poor performance.  Consider joining all columns at once using pd.concat(axis=1) instead. To get a de-fragmented frame, use `newframe = frame.copy()`\n",
      "  portfolio_cumulative_returns[n] = (1 + sim_df.fillna(0)).cumprod()\n",
      "C:\\Users\\boris\\OneDrive\\Documents\\Studies\\ColumbiaBootCamp\\FinTech-Workspace\\Module_5\\Challenge_5\\Starter_Code\\FinTech_Module5_Financial_Planner\\MCForecastTools.py:117: PerformanceWarning: DataFrame is highly fragmented.  This is usually the result of calling `frame.insert` many times, which has poor performance.  Consider joining all columns at once using pd.concat(axis=1) instead. To get a de-fragmented frame, use `newframe = frame.copy()`\n",
      "  portfolio_cumulative_returns[n] = (1 + sim_df.fillna(0)).cumprod()\n",
      "C:\\Users\\boris\\OneDrive\\Documents\\Studies\\ColumbiaBootCamp\\FinTech-Workspace\\Module_5\\Challenge_5\\Starter_Code\\FinTech_Module5_Financial_Planner\\MCForecastTools.py:117: PerformanceWarning: DataFrame is highly fragmented.  This is usually the result of calling `frame.insert` many times, which has poor performance.  Consider joining all columns at once using pd.concat(axis=1) instead. To get a de-fragmented frame, use `newframe = frame.copy()`\n",
      "  portfolio_cumulative_returns[n] = (1 + sim_df.fillna(0)).cumprod()\n",
      "C:\\Users\\boris\\OneDrive\\Documents\\Studies\\ColumbiaBootCamp\\FinTech-Workspace\\Module_5\\Challenge_5\\Starter_Code\\FinTech_Module5_Financial_Planner\\MCForecastTools.py:117: PerformanceWarning: DataFrame is highly fragmented.  This is usually the result of calling `frame.insert` many times, which has poor performance.  Consider joining all columns at once using pd.concat(axis=1) instead. To get a de-fragmented frame, use `newframe = frame.copy()`\n",
      "  portfolio_cumulative_returns[n] = (1 + sim_df.fillna(0)).cumprod()\n",
      "C:\\Users\\boris\\OneDrive\\Documents\\Studies\\ColumbiaBootCamp\\FinTech-Workspace\\Module_5\\Challenge_5\\Starter_Code\\FinTech_Module5_Financial_Planner\\MCForecastTools.py:117: PerformanceWarning: DataFrame is highly fragmented.  This is usually the result of calling `frame.insert` many times, which has poor performance.  Consider joining all columns at once using pd.concat(axis=1) instead. To get a de-fragmented frame, use `newframe = frame.copy()`\n",
      "  portfolio_cumulative_returns[n] = (1 + sim_df.fillna(0)).cumprod()\n",
      "C:\\Users\\boris\\OneDrive\\Documents\\Studies\\ColumbiaBootCamp\\FinTech-Workspace\\Module_5\\Challenge_5\\Starter_Code\\FinTech_Module5_Financial_Planner\\MCForecastTools.py:117: PerformanceWarning: DataFrame is highly fragmented.  This is usually the result of calling `frame.insert` many times, which has poor performance.  Consider joining all columns at once using pd.concat(axis=1) instead. To get a de-fragmented frame, use `newframe = frame.copy()`\n",
      "  portfolio_cumulative_returns[n] = (1 + sim_df.fillna(0)).cumprod()\n"
     ]
    },
    {
     "name": "stdout",
     "output_type": "stream",
     "text": [
      "Running Monte Carlo simulation number 320.\n"
     ]
    },
    {
     "name": "stderr",
     "output_type": "stream",
     "text": [
      "C:\\Users\\boris\\OneDrive\\Documents\\Studies\\ColumbiaBootCamp\\FinTech-Workspace\\Module_5\\Challenge_5\\Starter_Code\\FinTech_Module5_Financial_Planner\\MCForecastTools.py:117: PerformanceWarning: DataFrame is highly fragmented.  This is usually the result of calling `frame.insert` many times, which has poor performance.  Consider joining all columns at once using pd.concat(axis=1) instead. To get a de-fragmented frame, use `newframe = frame.copy()`\n",
      "  portfolio_cumulative_returns[n] = (1 + sim_df.fillna(0)).cumprod()\n",
      "C:\\Users\\boris\\OneDrive\\Documents\\Studies\\ColumbiaBootCamp\\FinTech-Workspace\\Module_5\\Challenge_5\\Starter_Code\\FinTech_Module5_Financial_Planner\\MCForecastTools.py:117: PerformanceWarning: DataFrame is highly fragmented.  This is usually the result of calling `frame.insert` many times, which has poor performance.  Consider joining all columns at once using pd.concat(axis=1) instead. To get a de-fragmented frame, use `newframe = frame.copy()`\n",
      "  portfolio_cumulative_returns[n] = (1 + sim_df.fillna(0)).cumprod()\n",
      "C:\\Users\\boris\\OneDrive\\Documents\\Studies\\ColumbiaBootCamp\\FinTech-Workspace\\Module_5\\Challenge_5\\Starter_Code\\FinTech_Module5_Financial_Planner\\MCForecastTools.py:117: PerformanceWarning: DataFrame is highly fragmented.  This is usually the result of calling `frame.insert` many times, which has poor performance.  Consider joining all columns at once using pd.concat(axis=1) instead. To get a de-fragmented frame, use `newframe = frame.copy()`\n",
      "  portfolio_cumulative_returns[n] = (1 + sim_df.fillna(0)).cumprod()\n",
      "C:\\Users\\boris\\OneDrive\\Documents\\Studies\\ColumbiaBootCamp\\FinTech-Workspace\\Module_5\\Challenge_5\\Starter_Code\\FinTech_Module5_Financial_Planner\\MCForecastTools.py:117: PerformanceWarning: DataFrame is highly fragmented.  This is usually the result of calling `frame.insert` many times, which has poor performance.  Consider joining all columns at once using pd.concat(axis=1) instead. To get a de-fragmented frame, use `newframe = frame.copy()`\n",
      "  portfolio_cumulative_returns[n] = (1 + sim_df.fillna(0)).cumprod()\n",
      "C:\\Users\\boris\\OneDrive\\Documents\\Studies\\ColumbiaBootCamp\\FinTech-Workspace\\Module_5\\Challenge_5\\Starter_Code\\FinTech_Module5_Financial_Planner\\MCForecastTools.py:117: PerformanceWarning: DataFrame is highly fragmented.  This is usually the result of calling `frame.insert` many times, which has poor performance.  Consider joining all columns at once using pd.concat(axis=1) instead. To get a de-fragmented frame, use `newframe = frame.copy()`\n",
      "  portfolio_cumulative_returns[n] = (1 + sim_df.fillna(0)).cumprod()\n",
      "C:\\Users\\boris\\OneDrive\\Documents\\Studies\\ColumbiaBootCamp\\FinTech-Workspace\\Module_5\\Challenge_5\\Starter_Code\\FinTech_Module5_Financial_Planner\\MCForecastTools.py:117: PerformanceWarning: DataFrame is highly fragmented.  This is usually the result of calling `frame.insert` many times, which has poor performance.  Consider joining all columns at once using pd.concat(axis=1) instead. To get a de-fragmented frame, use `newframe = frame.copy()`\n",
      "  portfolio_cumulative_returns[n] = (1 + sim_df.fillna(0)).cumprod()\n",
      "C:\\Users\\boris\\OneDrive\\Documents\\Studies\\ColumbiaBootCamp\\FinTech-Workspace\\Module_5\\Challenge_5\\Starter_Code\\FinTech_Module5_Financial_Planner\\MCForecastTools.py:117: PerformanceWarning: DataFrame is highly fragmented.  This is usually the result of calling `frame.insert` many times, which has poor performance.  Consider joining all columns at once using pd.concat(axis=1) instead. To get a de-fragmented frame, use `newframe = frame.copy()`\n",
      "  portfolio_cumulative_returns[n] = (1 + sim_df.fillna(0)).cumprod()\n",
      "C:\\Users\\boris\\OneDrive\\Documents\\Studies\\ColumbiaBootCamp\\FinTech-Workspace\\Module_5\\Challenge_5\\Starter_Code\\FinTech_Module5_Financial_Planner\\MCForecastTools.py:117: PerformanceWarning: DataFrame is highly fragmented.  This is usually the result of calling `frame.insert` many times, which has poor performance.  Consider joining all columns at once using pd.concat(axis=1) instead. To get a de-fragmented frame, use `newframe = frame.copy()`\n",
      "  portfolio_cumulative_returns[n] = (1 + sim_df.fillna(0)).cumprod()\n",
      "C:\\Users\\boris\\OneDrive\\Documents\\Studies\\ColumbiaBootCamp\\FinTech-Workspace\\Module_5\\Challenge_5\\Starter_Code\\FinTech_Module5_Financial_Planner\\MCForecastTools.py:117: PerformanceWarning: DataFrame is highly fragmented.  This is usually the result of calling `frame.insert` many times, which has poor performance.  Consider joining all columns at once using pd.concat(axis=1) instead. To get a de-fragmented frame, use `newframe = frame.copy()`\n",
      "  portfolio_cumulative_returns[n] = (1 + sim_df.fillna(0)).cumprod()\n",
      "C:\\Users\\boris\\OneDrive\\Documents\\Studies\\ColumbiaBootCamp\\FinTech-Workspace\\Module_5\\Challenge_5\\Starter_Code\\FinTech_Module5_Financial_Planner\\MCForecastTools.py:117: PerformanceWarning: DataFrame is highly fragmented.  This is usually the result of calling `frame.insert` many times, which has poor performance.  Consider joining all columns at once using pd.concat(axis=1) instead. To get a de-fragmented frame, use `newframe = frame.copy()`\n",
      "  portfolio_cumulative_returns[n] = (1 + sim_df.fillna(0)).cumprod()\n"
     ]
    },
    {
     "name": "stdout",
     "output_type": "stream",
     "text": [
      "Running Monte Carlo simulation number 330.\n"
     ]
    },
    {
     "name": "stderr",
     "output_type": "stream",
     "text": [
      "C:\\Users\\boris\\OneDrive\\Documents\\Studies\\ColumbiaBootCamp\\FinTech-Workspace\\Module_5\\Challenge_5\\Starter_Code\\FinTech_Module5_Financial_Planner\\MCForecastTools.py:117: PerformanceWarning: DataFrame is highly fragmented.  This is usually the result of calling `frame.insert` many times, which has poor performance.  Consider joining all columns at once using pd.concat(axis=1) instead. To get a de-fragmented frame, use `newframe = frame.copy()`\n",
      "  portfolio_cumulative_returns[n] = (1 + sim_df.fillna(0)).cumprod()\n",
      "C:\\Users\\boris\\OneDrive\\Documents\\Studies\\ColumbiaBootCamp\\FinTech-Workspace\\Module_5\\Challenge_5\\Starter_Code\\FinTech_Module5_Financial_Planner\\MCForecastTools.py:117: PerformanceWarning: DataFrame is highly fragmented.  This is usually the result of calling `frame.insert` many times, which has poor performance.  Consider joining all columns at once using pd.concat(axis=1) instead. To get a de-fragmented frame, use `newframe = frame.copy()`\n",
      "  portfolio_cumulative_returns[n] = (1 + sim_df.fillna(0)).cumprod()\n",
      "C:\\Users\\boris\\OneDrive\\Documents\\Studies\\ColumbiaBootCamp\\FinTech-Workspace\\Module_5\\Challenge_5\\Starter_Code\\FinTech_Module5_Financial_Planner\\MCForecastTools.py:117: PerformanceWarning: DataFrame is highly fragmented.  This is usually the result of calling `frame.insert` many times, which has poor performance.  Consider joining all columns at once using pd.concat(axis=1) instead. To get a de-fragmented frame, use `newframe = frame.copy()`\n",
      "  portfolio_cumulative_returns[n] = (1 + sim_df.fillna(0)).cumprod()\n",
      "C:\\Users\\boris\\OneDrive\\Documents\\Studies\\ColumbiaBootCamp\\FinTech-Workspace\\Module_5\\Challenge_5\\Starter_Code\\FinTech_Module5_Financial_Planner\\MCForecastTools.py:117: PerformanceWarning: DataFrame is highly fragmented.  This is usually the result of calling `frame.insert` many times, which has poor performance.  Consider joining all columns at once using pd.concat(axis=1) instead. To get a de-fragmented frame, use `newframe = frame.copy()`\n",
      "  portfolio_cumulative_returns[n] = (1 + sim_df.fillna(0)).cumprod()\n",
      "C:\\Users\\boris\\OneDrive\\Documents\\Studies\\ColumbiaBootCamp\\FinTech-Workspace\\Module_5\\Challenge_5\\Starter_Code\\FinTech_Module5_Financial_Planner\\MCForecastTools.py:117: PerformanceWarning: DataFrame is highly fragmented.  This is usually the result of calling `frame.insert` many times, which has poor performance.  Consider joining all columns at once using pd.concat(axis=1) instead. To get a de-fragmented frame, use `newframe = frame.copy()`\n",
      "  portfolio_cumulative_returns[n] = (1 + sim_df.fillna(0)).cumprod()\n",
      "C:\\Users\\boris\\OneDrive\\Documents\\Studies\\ColumbiaBootCamp\\FinTech-Workspace\\Module_5\\Challenge_5\\Starter_Code\\FinTech_Module5_Financial_Planner\\MCForecastTools.py:117: PerformanceWarning: DataFrame is highly fragmented.  This is usually the result of calling `frame.insert` many times, which has poor performance.  Consider joining all columns at once using pd.concat(axis=1) instead. To get a de-fragmented frame, use `newframe = frame.copy()`\n",
      "  portfolio_cumulative_returns[n] = (1 + sim_df.fillna(0)).cumprod()\n",
      "C:\\Users\\boris\\OneDrive\\Documents\\Studies\\ColumbiaBootCamp\\FinTech-Workspace\\Module_5\\Challenge_5\\Starter_Code\\FinTech_Module5_Financial_Planner\\MCForecastTools.py:117: PerformanceWarning: DataFrame is highly fragmented.  This is usually the result of calling `frame.insert` many times, which has poor performance.  Consider joining all columns at once using pd.concat(axis=1) instead. To get a de-fragmented frame, use `newframe = frame.copy()`\n",
      "  portfolio_cumulative_returns[n] = (1 + sim_df.fillna(0)).cumprod()\n",
      "C:\\Users\\boris\\OneDrive\\Documents\\Studies\\ColumbiaBootCamp\\FinTech-Workspace\\Module_5\\Challenge_5\\Starter_Code\\FinTech_Module5_Financial_Planner\\MCForecastTools.py:117: PerformanceWarning: DataFrame is highly fragmented.  This is usually the result of calling `frame.insert` many times, which has poor performance.  Consider joining all columns at once using pd.concat(axis=1) instead. To get a de-fragmented frame, use `newframe = frame.copy()`\n",
      "  portfolio_cumulative_returns[n] = (1 + sim_df.fillna(0)).cumprod()\n",
      "C:\\Users\\boris\\OneDrive\\Documents\\Studies\\ColumbiaBootCamp\\FinTech-Workspace\\Module_5\\Challenge_5\\Starter_Code\\FinTech_Module5_Financial_Planner\\MCForecastTools.py:117: PerformanceWarning: DataFrame is highly fragmented.  This is usually the result of calling `frame.insert` many times, which has poor performance.  Consider joining all columns at once using pd.concat(axis=1) instead. To get a de-fragmented frame, use `newframe = frame.copy()`\n",
      "  portfolio_cumulative_returns[n] = (1 + sim_df.fillna(0)).cumprod()\n",
      "C:\\Users\\boris\\OneDrive\\Documents\\Studies\\ColumbiaBootCamp\\FinTech-Workspace\\Module_5\\Challenge_5\\Starter_Code\\FinTech_Module5_Financial_Planner\\MCForecastTools.py:117: PerformanceWarning: DataFrame is highly fragmented.  This is usually the result of calling `frame.insert` many times, which has poor performance.  Consider joining all columns at once using pd.concat(axis=1) instead. To get a de-fragmented frame, use `newframe = frame.copy()`\n",
      "  portfolio_cumulative_returns[n] = (1 + sim_df.fillna(0)).cumprod()\n"
     ]
    },
    {
     "name": "stdout",
     "output_type": "stream",
     "text": [
      "Running Monte Carlo simulation number 340.\n"
     ]
    },
    {
     "name": "stderr",
     "output_type": "stream",
     "text": [
      "C:\\Users\\boris\\OneDrive\\Documents\\Studies\\ColumbiaBootCamp\\FinTech-Workspace\\Module_5\\Challenge_5\\Starter_Code\\FinTech_Module5_Financial_Planner\\MCForecastTools.py:117: PerformanceWarning: DataFrame is highly fragmented.  This is usually the result of calling `frame.insert` many times, which has poor performance.  Consider joining all columns at once using pd.concat(axis=1) instead. To get a de-fragmented frame, use `newframe = frame.copy()`\n",
      "  portfolio_cumulative_returns[n] = (1 + sim_df.fillna(0)).cumprod()\n",
      "C:\\Users\\boris\\OneDrive\\Documents\\Studies\\ColumbiaBootCamp\\FinTech-Workspace\\Module_5\\Challenge_5\\Starter_Code\\FinTech_Module5_Financial_Planner\\MCForecastTools.py:117: PerformanceWarning: DataFrame is highly fragmented.  This is usually the result of calling `frame.insert` many times, which has poor performance.  Consider joining all columns at once using pd.concat(axis=1) instead. To get a de-fragmented frame, use `newframe = frame.copy()`\n",
      "  portfolio_cumulative_returns[n] = (1 + sim_df.fillna(0)).cumprod()\n",
      "C:\\Users\\boris\\OneDrive\\Documents\\Studies\\ColumbiaBootCamp\\FinTech-Workspace\\Module_5\\Challenge_5\\Starter_Code\\FinTech_Module5_Financial_Planner\\MCForecastTools.py:117: PerformanceWarning: DataFrame is highly fragmented.  This is usually the result of calling `frame.insert` many times, which has poor performance.  Consider joining all columns at once using pd.concat(axis=1) instead. To get a de-fragmented frame, use `newframe = frame.copy()`\n",
      "  portfolio_cumulative_returns[n] = (1 + sim_df.fillna(0)).cumprod()\n",
      "C:\\Users\\boris\\OneDrive\\Documents\\Studies\\ColumbiaBootCamp\\FinTech-Workspace\\Module_5\\Challenge_5\\Starter_Code\\FinTech_Module5_Financial_Planner\\MCForecastTools.py:117: PerformanceWarning: DataFrame is highly fragmented.  This is usually the result of calling `frame.insert` many times, which has poor performance.  Consider joining all columns at once using pd.concat(axis=1) instead. To get a de-fragmented frame, use `newframe = frame.copy()`\n",
      "  portfolio_cumulative_returns[n] = (1 + sim_df.fillna(0)).cumprod()\n",
      "C:\\Users\\boris\\OneDrive\\Documents\\Studies\\ColumbiaBootCamp\\FinTech-Workspace\\Module_5\\Challenge_5\\Starter_Code\\FinTech_Module5_Financial_Planner\\MCForecastTools.py:117: PerformanceWarning: DataFrame is highly fragmented.  This is usually the result of calling `frame.insert` many times, which has poor performance.  Consider joining all columns at once using pd.concat(axis=1) instead. To get a de-fragmented frame, use `newframe = frame.copy()`\n",
      "  portfolio_cumulative_returns[n] = (1 + sim_df.fillna(0)).cumprod()\n",
      "C:\\Users\\boris\\OneDrive\\Documents\\Studies\\ColumbiaBootCamp\\FinTech-Workspace\\Module_5\\Challenge_5\\Starter_Code\\FinTech_Module5_Financial_Planner\\MCForecastTools.py:117: PerformanceWarning: DataFrame is highly fragmented.  This is usually the result of calling `frame.insert` many times, which has poor performance.  Consider joining all columns at once using pd.concat(axis=1) instead. To get a de-fragmented frame, use `newframe = frame.copy()`\n",
      "  portfolio_cumulative_returns[n] = (1 + sim_df.fillna(0)).cumprod()\n",
      "C:\\Users\\boris\\OneDrive\\Documents\\Studies\\ColumbiaBootCamp\\FinTech-Workspace\\Module_5\\Challenge_5\\Starter_Code\\FinTech_Module5_Financial_Planner\\MCForecastTools.py:117: PerformanceWarning: DataFrame is highly fragmented.  This is usually the result of calling `frame.insert` many times, which has poor performance.  Consider joining all columns at once using pd.concat(axis=1) instead. To get a de-fragmented frame, use `newframe = frame.copy()`\n",
      "  portfolio_cumulative_returns[n] = (1 + sim_df.fillna(0)).cumprod()\n",
      "C:\\Users\\boris\\OneDrive\\Documents\\Studies\\ColumbiaBootCamp\\FinTech-Workspace\\Module_5\\Challenge_5\\Starter_Code\\FinTech_Module5_Financial_Planner\\MCForecastTools.py:117: PerformanceWarning: DataFrame is highly fragmented.  This is usually the result of calling `frame.insert` many times, which has poor performance.  Consider joining all columns at once using pd.concat(axis=1) instead. To get a de-fragmented frame, use `newframe = frame.copy()`\n",
      "  portfolio_cumulative_returns[n] = (1 + sim_df.fillna(0)).cumprod()\n",
      "C:\\Users\\boris\\OneDrive\\Documents\\Studies\\ColumbiaBootCamp\\FinTech-Workspace\\Module_5\\Challenge_5\\Starter_Code\\FinTech_Module5_Financial_Planner\\MCForecastTools.py:117: PerformanceWarning: DataFrame is highly fragmented.  This is usually the result of calling `frame.insert` many times, which has poor performance.  Consider joining all columns at once using pd.concat(axis=1) instead. To get a de-fragmented frame, use `newframe = frame.copy()`\n",
      "  portfolio_cumulative_returns[n] = (1 + sim_df.fillna(0)).cumprod()\n",
      "C:\\Users\\boris\\OneDrive\\Documents\\Studies\\ColumbiaBootCamp\\FinTech-Workspace\\Module_5\\Challenge_5\\Starter_Code\\FinTech_Module5_Financial_Planner\\MCForecastTools.py:117: PerformanceWarning: DataFrame is highly fragmented.  This is usually the result of calling `frame.insert` many times, which has poor performance.  Consider joining all columns at once using pd.concat(axis=1) instead. To get a de-fragmented frame, use `newframe = frame.copy()`\n",
      "  portfolio_cumulative_returns[n] = (1 + sim_df.fillna(0)).cumprod()\n"
     ]
    },
    {
     "name": "stdout",
     "output_type": "stream",
     "text": [
      "Running Monte Carlo simulation number 350.\n"
     ]
    },
    {
     "name": "stderr",
     "output_type": "stream",
     "text": [
      "C:\\Users\\boris\\OneDrive\\Documents\\Studies\\ColumbiaBootCamp\\FinTech-Workspace\\Module_5\\Challenge_5\\Starter_Code\\FinTech_Module5_Financial_Planner\\MCForecastTools.py:117: PerformanceWarning: DataFrame is highly fragmented.  This is usually the result of calling `frame.insert` many times, which has poor performance.  Consider joining all columns at once using pd.concat(axis=1) instead. To get a de-fragmented frame, use `newframe = frame.copy()`\n",
      "  portfolio_cumulative_returns[n] = (1 + sim_df.fillna(0)).cumprod()\n",
      "C:\\Users\\boris\\OneDrive\\Documents\\Studies\\ColumbiaBootCamp\\FinTech-Workspace\\Module_5\\Challenge_5\\Starter_Code\\FinTech_Module5_Financial_Planner\\MCForecastTools.py:117: PerformanceWarning: DataFrame is highly fragmented.  This is usually the result of calling `frame.insert` many times, which has poor performance.  Consider joining all columns at once using pd.concat(axis=1) instead. To get a de-fragmented frame, use `newframe = frame.copy()`\n",
      "  portfolio_cumulative_returns[n] = (1 + sim_df.fillna(0)).cumprod()\n",
      "C:\\Users\\boris\\OneDrive\\Documents\\Studies\\ColumbiaBootCamp\\FinTech-Workspace\\Module_5\\Challenge_5\\Starter_Code\\FinTech_Module5_Financial_Planner\\MCForecastTools.py:117: PerformanceWarning: DataFrame is highly fragmented.  This is usually the result of calling `frame.insert` many times, which has poor performance.  Consider joining all columns at once using pd.concat(axis=1) instead. To get a de-fragmented frame, use `newframe = frame.copy()`\n",
      "  portfolio_cumulative_returns[n] = (1 + sim_df.fillna(0)).cumprod()\n",
      "C:\\Users\\boris\\OneDrive\\Documents\\Studies\\ColumbiaBootCamp\\FinTech-Workspace\\Module_5\\Challenge_5\\Starter_Code\\FinTech_Module5_Financial_Planner\\MCForecastTools.py:117: PerformanceWarning: DataFrame is highly fragmented.  This is usually the result of calling `frame.insert` many times, which has poor performance.  Consider joining all columns at once using pd.concat(axis=1) instead. To get a de-fragmented frame, use `newframe = frame.copy()`\n",
      "  portfolio_cumulative_returns[n] = (1 + sim_df.fillna(0)).cumprod()\n",
      "C:\\Users\\boris\\OneDrive\\Documents\\Studies\\ColumbiaBootCamp\\FinTech-Workspace\\Module_5\\Challenge_5\\Starter_Code\\FinTech_Module5_Financial_Planner\\MCForecastTools.py:117: PerformanceWarning: DataFrame is highly fragmented.  This is usually the result of calling `frame.insert` many times, which has poor performance.  Consider joining all columns at once using pd.concat(axis=1) instead. To get a de-fragmented frame, use `newframe = frame.copy()`\n",
      "  portfolio_cumulative_returns[n] = (1 + sim_df.fillna(0)).cumprod()\n",
      "C:\\Users\\boris\\OneDrive\\Documents\\Studies\\ColumbiaBootCamp\\FinTech-Workspace\\Module_5\\Challenge_5\\Starter_Code\\FinTech_Module5_Financial_Planner\\MCForecastTools.py:117: PerformanceWarning: DataFrame is highly fragmented.  This is usually the result of calling `frame.insert` many times, which has poor performance.  Consider joining all columns at once using pd.concat(axis=1) instead. To get a de-fragmented frame, use `newframe = frame.copy()`\n",
      "  portfolio_cumulative_returns[n] = (1 + sim_df.fillna(0)).cumprod()\n",
      "C:\\Users\\boris\\OneDrive\\Documents\\Studies\\ColumbiaBootCamp\\FinTech-Workspace\\Module_5\\Challenge_5\\Starter_Code\\FinTech_Module5_Financial_Planner\\MCForecastTools.py:117: PerformanceWarning: DataFrame is highly fragmented.  This is usually the result of calling `frame.insert` many times, which has poor performance.  Consider joining all columns at once using pd.concat(axis=1) instead. To get a de-fragmented frame, use `newframe = frame.copy()`\n",
      "  portfolio_cumulative_returns[n] = (1 + sim_df.fillna(0)).cumprod()\n",
      "C:\\Users\\boris\\OneDrive\\Documents\\Studies\\ColumbiaBootCamp\\FinTech-Workspace\\Module_5\\Challenge_5\\Starter_Code\\FinTech_Module5_Financial_Planner\\MCForecastTools.py:117: PerformanceWarning: DataFrame is highly fragmented.  This is usually the result of calling `frame.insert` many times, which has poor performance.  Consider joining all columns at once using pd.concat(axis=1) instead. To get a de-fragmented frame, use `newframe = frame.copy()`\n",
      "  portfolio_cumulative_returns[n] = (1 + sim_df.fillna(0)).cumprod()\n",
      "C:\\Users\\boris\\OneDrive\\Documents\\Studies\\ColumbiaBootCamp\\FinTech-Workspace\\Module_5\\Challenge_5\\Starter_Code\\FinTech_Module5_Financial_Planner\\MCForecastTools.py:117: PerformanceWarning: DataFrame is highly fragmented.  This is usually the result of calling `frame.insert` many times, which has poor performance.  Consider joining all columns at once using pd.concat(axis=1) instead. To get a de-fragmented frame, use `newframe = frame.copy()`\n",
      "  portfolio_cumulative_returns[n] = (1 + sim_df.fillna(0)).cumprod()\n",
      "C:\\Users\\boris\\OneDrive\\Documents\\Studies\\ColumbiaBootCamp\\FinTech-Workspace\\Module_5\\Challenge_5\\Starter_Code\\FinTech_Module5_Financial_Planner\\MCForecastTools.py:117: PerformanceWarning: DataFrame is highly fragmented.  This is usually the result of calling `frame.insert` many times, which has poor performance.  Consider joining all columns at once using pd.concat(axis=1) instead. To get a de-fragmented frame, use `newframe = frame.copy()`\n",
      "  portfolio_cumulative_returns[n] = (1 + sim_df.fillna(0)).cumprod()\n",
      "C:\\Users\\boris\\OneDrive\\Documents\\Studies\\ColumbiaBootCamp\\FinTech-Workspace\\Module_5\\Challenge_5\\Starter_Code\\FinTech_Module5_Financial_Planner\\MCForecastTools.py:117: PerformanceWarning: DataFrame is highly fragmented.  This is usually the result of calling `frame.insert` many times, which has poor performance.  Consider joining all columns at once using pd.concat(axis=1) instead. To get a de-fragmented frame, use `newframe = frame.copy()`\n",
      "  portfolio_cumulative_returns[n] = (1 + sim_df.fillna(0)).cumprod()\n"
     ]
    },
    {
     "name": "stdout",
     "output_type": "stream",
     "text": [
      "Running Monte Carlo simulation number 360.\n"
     ]
    },
    {
     "name": "stderr",
     "output_type": "stream",
     "text": [
      "C:\\Users\\boris\\OneDrive\\Documents\\Studies\\ColumbiaBootCamp\\FinTech-Workspace\\Module_5\\Challenge_5\\Starter_Code\\FinTech_Module5_Financial_Planner\\MCForecastTools.py:117: PerformanceWarning: DataFrame is highly fragmented.  This is usually the result of calling `frame.insert` many times, which has poor performance.  Consider joining all columns at once using pd.concat(axis=1) instead. To get a de-fragmented frame, use `newframe = frame.copy()`\n",
      "  portfolio_cumulative_returns[n] = (1 + sim_df.fillna(0)).cumprod()\n",
      "C:\\Users\\boris\\OneDrive\\Documents\\Studies\\ColumbiaBootCamp\\FinTech-Workspace\\Module_5\\Challenge_5\\Starter_Code\\FinTech_Module5_Financial_Planner\\MCForecastTools.py:117: PerformanceWarning: DataFrame is highly fragmented.  This is usually the result of calling `frame.insert` many times, which has poor performance.  Consider joining all columns at once using pd.concat(axis=1) instead. To get a de-fragmented frame, use `newframe = frame.copy()`\n",
      "  portfolio_cumulative_returns[n] = (1 + sim_df.fillna(0)).cumprod()\n",
      "C:\\Users\\boris\\OneDrive\\Documents\\Studies\\ColumbiaBootCamp\\FinTech-Workspace\\Module_5\\Challenge_5\\Starter_Code\\FinTech_Module5_Financial_Planner\\MCForecastTools.py:117: PerformanceWarning: DataFrame is highly fragmented.  This is usually the result of calling `frame.insert` many times, which has poor performance.  Consider joining all columns at once using pd.concat(axis=1) instead. To get a de-fragmented frame, use `newframe = frame.copy()`\n",
      "  portfolio_cumulative_returns[n] = (1 + sim_df.fillna(0)).cumprod()\n",
      "C:\\Users\\boris\\OneDrive\\Documents\\Studies\\ColumbiaBootCamp\\FinTech-Workspace\\Module_5\\Challenge_5\\Starter_Code\\FinTech_Module5_Financial_Planner\\MCForecastTools.py:117: PerformanceWarning: DataFrame is highly fragmented.  This is usually the result of calling `frame.insert` many times, which has poor performance.  Consider joining all columns at once using pd.concat(axis=1) instead. To get a de-fragmented frame, use `newframe = frame.copy()`\n",
      "  portfolio_cumulative_returns[n] = (1 + sim_df.fillna(0)).cumprod()\n",
      "C:\\Users\\boris\\OneDrive\\Documents\\Studies\\ColumbiaBootCamp\\FinTech-Workspace\\Module_5\\Challenge_5\\Starter_Code\\FinTech_Module5_Financial_Planner\\MCForecastTools.py:117: PerformanceWarning: DataFrame is highly fragmented.  This is usually the result of calling `frame.insert` many times, which has poor performance.  Consider joining all columns at once using pd.concat(axis=1) instead. To get a de-fragmented frame, use `newframe = frame.copy()`\n",
      "  portfolio_cumulative_returns[n] = (1 + sim_df.fillna(0)).cumprod()\n",
      "C:\\Users\\boris\\OneDrive\\Documents\\Studies\\ColumbiaBootCamp\\FinTech-Workspace\\Module_5\\Challenge_5\\Starter_Code\\FinTech_Module5_Financial_Planner\\MCForecastTools.py:117: PerformanceWarning: DataFrame is highly fragmented.  This is usually the result of calling `frame.insert` many times, which has poor performance.  Consider joining all columns at once using pd.concat(axis=1) instead. To get a de-fragmented frame, use `newframe = frame.copy()`\n",
      "  portfolio_cumulative_returns[n] = (1 + sim_df.fillna(0)).cumprod()\n",
      "C:\\Users\\boris\\OneDrive\\Documents\\Studies\\ColumbiaBootCamp\\FinTech-Workspace\\Module_5\\Challenge_5\\Starter_Code\\FinTech_Module5_Financial_Planner\\MCForecastTools.py:117: PerformanceWarning: DataFrame is highly fragmented.  This is usually the result of calling `frame.insert` many times, which has poor performance.  Consider joining all columns at once using pd.concat(axis=1) instead. To get a de-fragmented frame, use `newframe = frame.copy()`\n",
      "  portfolio_cumulative_returns[n] = (1 + sim_df.fillna(0)).cumprod()\n",
      "C:\\Users\\boris\\OneDrive\\Documents\\Studies\\ColumbiaBootCamp\\FinTech-Workspace\\Module_5\\Challenge_5\\Starter_Code\\FinTech_Module5_Financial_Planner\\MCForecastTools.py:117: PerformanceWarning: DataFrame is highly fragmented.  This is usually the result of calling `frame.insert` many times, which has poor performance.  Consider joining all columns at once using pd.concat(axis=1) instead. To get a de-fragmented frame, use `newframe = frame.copy()`\n",
      "  portfolio_cumulative_returns[n] = (1 + sim_df.fillna(0)).cumprod()\n"
     ]
    },
    {
     "name": "stdout",
     "output_type": "stream",
     "text": [
      "Running Monte Carlo simulation number 370.\n"
     ]
    },
    {
     "name": "stderr",
     "output_type": "stream",
     "text": [
      "C:\\Users\\boris\\OneDrive\\Documents\\Studies\\ColumbiaBootCamp\\FinTech-Workspace\\Module_5\\Challenge_5\\Starter_Code\\FinTech_Module5_Financial_Planner\\MCForecastTools.py:117: PerformanceWarning: DataFrame is highly fragmented.  This is usually the result of calling `frame.insert` many times, which has poor performance.  Consider joining all columns at once using pd.concat(axis=1) instead. To get a de-fragmented frame, use `newframe = frame.copy()`\n",
      "  portfolio_cumulative_returns[n] = (1 + sim_df.fillna(0)).cumprod()\n",
      "C:\\Users\\boris\\OneDrive\\Documents\\Studies\\ColumbiaBootCamp\\FinTech-Workspace\\Module_5\\Challenge_5\\Starter_Code\\FinTech_Module5_Financial_Planner\\MCForecastTools.py:117: PerformanceWarning: DataFrame is highly fragmented.  This is usually the result of calling `frame.insert` many times, which has poor performance.  Consider joining all columns at once using pd.concat(axis=1) instead. To get a de-fragmented frame, use `newframe = frame.copy()`\n",
      "  portfolio_cumulative_returns[n] = (1 + sim_df.fillna(0)).cumprod()\n",
      "C:\\Users\\boris\\OneDrive\\Documents\\Studies\\ColumbiaBootCamp\\FinTech-Workspace\\Module_5\\Challenge_5\\Starter_Code\\FinTech_Module5_Financial_Planner\\MCForecastTools.py:117: PerformanceWarning: DataFrame is highly fragmented.  This is usually the result of calling `frame.insert` many times, which has poor performance.  Consider joining all columns at once using pd.concat(axis=1) instead. To get a de-fragmented frame, use `newframe = frame.copy()`\n",
      "  portfolio_cumulative_returns[n] = (1 + sim_df.fillna(0)).cumprod()\n",
      "C:\\Users\\boris\\OneDrive\\Documents\\Studies\\ColumbiaBootCamp\\FinTech-Workspace\\Module_5\\Challenge_5\\Starter_Code\\FinTech_Module5_Financial_Planner\\MCForecastTools.py:117: PerformanceWarning: DataFrame is highly fragmented.  This is usually the result of calling `frame.insert` many times, which has poor performance.  Consider joining all columns at once using pd.concat(axis=1) instead. To get a de-fragmented frame, use `newframe = frame.copy()`\n",
      "  portfolio_cumulative_returns[n] = (1 + sim_df.fillna(0)).cumprod()\n",
      "C:\\Users\\boris\\OneDrive\\Documents\\Studies\\ColumbiaBootCamp\\FinTech-Workspace\\Module_5\\Challenge_5\\Starter_Code\\FinTech_Module5_Financial_Planner\\MCForecastTools.py:117: PerformanceWarning: DataFrame is highly fragmented.  This is usually the result of calling `frame.insert` many times, which has poor performance.  Consider joining all columns at once using pd.concat(axis=1) instead. To get a de-fragmented frame, use `newframe = frame.copy()`\n",
      "  portfolio_cumulative_returns[n] = (1 + sim_df.fillna(0)).cumprod()\n",
      "C:\\Users\\boris\\OneDrive\\Documents\\Studies\\ColumbiaBootCamp\\FinTech-Workspace\\Module_5\\Challenge_5\\Starter_Code\\FinTech_Module5_Financial_Planner\\MCForecastTools.py:117: PerformanceWarning: DataFrame is highly fragmented.  This is usually the result of calling `frame.insert` many times, which has poor performance.  Consider joining all columns at once using pd.concat(axis=1) instead. To get a de-fragmented frame, use `newframe = frame.copy()`\n",
      "  portfolio_cumulative_returns[n] = (1 + sim_df.fillna(0)).cumprod()\n",
      "C:\\Users\\boris\\OneDrive\\Documents\\Studies\\ColumbiaBootCamp\\FinTech-Workspace\\Module_5\\Challenge_5\\Starter_Code\\FinTech_Module5_Financial_Planner\\MCForecastTools.py:117: PerformanceWarning: DataFrame is highly fragmented.  This is usually the result of calling `frame.insert` many times, which has poor performance.  Consider joining all columns at once using pd.concat(axis=1) instead. To get a de-fragmented frame, use `newframe = frame.copy()`\n",
      "  portfolio_cumulative_returns[n] = (1 + sim_df.fillna(0)).cumprod()\n",
      "C:\\Users\\boris\\OneDrive\\Documents\\Studies\\ColumbiaBootCamp\\FinTech-Workspace\\Module_5\\Challenge_5\\Starter_Code\\FinTech_Module5_Financial_Planner\\MCForecastTools.py:117: PerformanceWarning: DataFrame is highly fragmented.  This is usually the result of calling `frame.insert` many times, which has poor performance.  Consider joining all columns at once using pd.concat(axis=1) instead. To get a de-fragmented frame, use `newframe = frame.copy()`\n",
      "  portfolio_cumulative_returns[n] = (1 + sim_df.fillna(0)).cumprod()\n",
      "C:\\Users\\boris\\OneDrive\\Documents\\Studies\\ColumbiaBootCamp\\FinTech-Workspace\\Module_5\\Challenge_5\\Starter_Code\\FinTech_Module5_Financial_Planner\\MCForecastTools.py:117: PerformanceWarning: DataFrame is highly fragmented.  This is usually the result of calling `frame.insert` many times, which has poor performance.  Consider joining all columns at once using pd.concat(axis=1) instead. To get a de-fragmented frame, use `newframe = frame.copy()`\n",
      "  portfolio_cumulative_returns[n] = (1 + sim_df.fillna(0)).cumprod()\n",
      "C:\\Users\\boris\\OneDrive\\Documents\\Studies\\ColumbiaBootCamp\\FinTech-Workspace\\Module_5\\Challenge_5\\Starter_Code\\FinTech_Module5_Financial_Planner\\MCForecastTools.py:117: PerformanceWarning: DataFrame is highly fragmented.  This is usually the result of calling `frame.insert` many times, which has poor performance.  Consider joining all columns at once using pd.concat(axis=1) instead. To get a de-fragmented frame, use `newframe = frame.copy()`\n",
      "  portfolio_cumulative_returns[n] = (1 + sim_df.fillna(0)).cumprod()\n"
     ]
    },
    {
     "name": "stdout",
     "output_type": "stream",
     "text": [
      "Running Monte Carlo simulation number 380.\n"
     ]
    },
    {
     "name": "stderr",
     "output_type": "stream",
     "text": [
      "C:\\Users\\boris\\OneDrive\\Documents\\Studies\\ColumbiaBootCamp\\FinTech-Workspace\\Module_5\\Challenge_5\\Starter_Code\\FinTech_Module5_Financial_Planner\\MCForecastTools.py:117: PerformanceWarning: DataFrame is highly fragmented.  This is usually the result of calling `frame.insert` many times, which has poor performance.  Consider joining all columns at once using pd.concat(axis=1) instead. To get a de-fragmented frame, use `newframe = frame.copy()`\n",
      "  portfolio_cumulative_returns[n] = (1 + sim_df.fillna(0)).cumprod()\n",
      "C:\\Users\\boris\\OneDrive\\Documents\\Studies\\ColumbiaBootCamp\\FinTech-Workspace\\Module_5\\Challenge_5\\Starter_Code\\FinTech_Module5_Financial_Planner\\MCForecastTools.py:117: PerformanceWarning: DataFrame is highly fragmented.  This is usually the result of calling `frame.insert` many times, which has poor performance.  Consider joining all columns at once using pd.concat(axis=1) instead. To get a de-fragmented frame, use `newframe = frame.copy()`\n",
      "  portfolio_cumulative_returns[n] = (1 + sim_df.fillna(0)).cumprod()\n",
      "C:\\Users\\boris\\OneDrive\\Documents\\Studies\\ColumbiaBootCamp\\FinTech-Workspace\\Module_5\\Challenge_5\\Starter_Code\\FinTech_Module5_Financial_Planner\\MCForecastTools.py:117: PerformanceWarning: DataFrame is highly fragmented.  This is usually the result of calling `frame.insert` many times, which has poor performance.  Consider joining all columns at once using pd.concat(axis=1) instead. To get a de-fragmented frame, use `newframe = frame.copy()`\n",
      "  portfolio_cumulative_returns[n] = (1 + sim_df.fillna(0)).cumprod()\n",
      "C:\\Users\\boris\\OneDrive\\Documents\\Studies\\ColumbiaBootCamp\\FinTech-Workspace\\Module_5\\Challenge_5\\Starter_Code\\FinTech_Module5_Financial_Planner\\MCForecastTools.py:117: PerformanceWarning: DataFrame is highly fragmented.  This is usually the result of calling `frame.insert` many times, which has poor performance.  Consider joining all columns at once using pd.concat(axis=1) instead. To get a de-fragmented frame, use `newframe = frame.copy()`\n",
      "  portfolio_cumulative_returns[n] = (1 + sim_df.fillna(0)).cumprod()\n",
      "C:\\Users\\boris\\OneDrive\\Documents\\Studies\\ColumbiaBootCamp\\FinTech-Workspace\\Module_5\\Challenge_5\\Starter_Code\\FinTech_Module5_Financial_Planner\\MCForecastTools.py:117: PerformanceWarning: DataFrame is highly fragmented.  This is usually the result of calling `frame.insert` many times, which has poor performance.  Consider joining all columns at once using pd.concat(axis=1) instead. To get a de-fragmented frame, use `newframe = frame.copy()`\n",
      "  portfolio_cumulative_returns[n] = (1 + sim_df.fillna(0)).cumprod()\n",
      "C:\\Users\\boris\\OneDrive\\Documents\\Studies\\ColumbiaBootCamp\\FinTech-Workspace\\Module_5\\Challenge_5\\Starter_Code\\FinTech_Module5_Financial_Planner\\MCForecastTools.py:117: PerformanceWarning: DataFrame is highly fragmented.  This is usually the result of calling `frame.insert` many times, which has poor performance.  Consider joining all columns at once using pd.concat(axis=1) instead. To get a de-fragmented frame, use `newframe = frame.copy()`\n",
      "  portfolio_cumulative_returns[n] = (1 + sim_df.fillna(0)).cumprod()\n",
      "C:\\Users\\boris\\OneDrive\\Documents\\Studies\\ColumbiaBootCamp\\FinTech-Workspace\\Module_5\\Challenge_5\\Starter_Code\\FinTech_Module5_Financial_Planner\\MCForecastTools.py:117: PerformanceWarning: DataFrame is highly fragmented.  This is usually the result of calling `frame.insert` many times, which has poor performance.  Consider joining all columns at once using pd.concat(axis=1) instead. To get a de-fragmented frame, use `newframe = frame.copy()`\n",
      "  portfolio_cumulative_returns[n] = (1 + sim_df.fillna(0)).cumprod()\n",
      "C:\\Users\\boris\\OneDrive\\Documents\\Studies\\ColumbiaBootCamp\\FinTech-Workspace\\Module_5\\Challenge_5\\Starter_Code\\FinTech_Module5_Financial_Planner\\MCForecastTools.py:117: PerformanceWarning: DataFrame is highly fragmented.  This is usually the result of calling `frame.insert` many times, which has poor performance.  Consider joining all columns at once using pd.concat(axis=1) instead. To get a de-fragmented frame, use `newframe = frame.copy()`\n",
      "  portfolio_cumulative_returns[n] = (1 + sim_df.fillna(0)).cumprod()\n",
      "C:\\Users\\boris\\OneDrive\\Documents\\Studies\\ColumbiaBootCamp\\FinTech-Workspace\\Module_5\\Challenge_5\\Starter_Code\\FinTech_Module5_Financial_Planner\\MCForecastTools.py:117: PerformanceWarning: DataFrame is highly fragmented.  This is usually the result of calling `frame.insert` many times, which has poor performance.  Consider joining all columns at once using pd.concat(axis=1) instead. To get a de-fragmented frame, use `newframe = frame.copy()`\n",
      "  portfolio_cumulative_returns[n] = (1 + sim_df.fillna(0)).cumprod()\n",
      "C:\\Users\\boris\\OneDrive\\Documents\\Studies\\ColumbiaBootCamp\\FinTech-Workspace\\Module_5\\Challenge_5\\Starter_Code\\FinTech_Module5_Financial_Planner\\MCForecastTools.py:117: PerformanceWarning: DataFrame is highly fragmented.  This is usually the result of calling `frame.insert` many times, which has poor performance.  Consider joining all columns at once using pd.concat(axis=1) instead. To get a de-fragmented frame, use `newframe = frame.copy()`\n",
      "  portfolio_cumulative_returns[n] = (1 + sim_df.fillna(0)).cumprod()\n"
     ]
    },
    {
     "name": "stdout",
     "output_type": "stream",
     "text": [
      "Running Monte Carlo simulation number 390.\n"
     ]
    },
    {
     "name": "stderr",
     "output_type": "stream",
     "text": [
      "C:\\Users\\boris\\OneDrive\\Documents\\Studies\\ColumbiaBootCamp\\FinTech-Workspace\\Module_5\\Challenge_5\\Starter_Code\\FinTech_Module5_Financial_Planner\\MCForecastTools.py:117: PerformanceWarning: DataFrame is highly fragmented.  This is usually the result of calling `frame.insert` many times, which has poor performance.  Consider joining all columns at once using pd.concat(axis=1) instead. To get a de-fragmented frame, use `newframe = frame.copy()`\n",
      "  portfolio_cumulative_returns[n] = (1 + sim_df.fillna(0)).cumprod()\n",
      "C:\\Users\\boris\\OneDrive\\Documents\\Studies\\ColumbiaBootCamp\\FinTech-Workspace\\Module_5\\Challenge_5\\Starter_Code\\FinTech_Module5_Financial_Planner\\MCForecastTools.py:117: PerformanceWarning: DataFrame is highly fragmented.  This is usually the result of calling `frame.insert` many times, which has poor performance.  Consider joining all columns at once using pd.concat(axis=1) instead. To get a de-fragmented frame, use `newframe = frame.copy()`\n",
      "  portfolio_cumulative_returns[n] = (1 + sim_df.fillna(0)).cumprod()\n",
      "C:\\Users\\boris\\OneDrive\\Documents\\Studies\\ColumbiaBootCamp\\FinTech-Workspace\\Module_5\\Challenge_5\\Starter_Code\\FinTech_Module5_Financial_Planner\\MCForecastTools.py:117: PerformanceWarning: DataFrame is highly fragmented.  This is usually the result of calling `frame.insert` many times, which has poor performance.  Consider joining all columns at once using pd.concat(axis=1) instead. To get a de-fragmented frame, use `newframe = frame.copy()`\n",
      "  portfolio_cumulative_returns[n] = (1 + sim_df.fillna(0)).cumprod()\n",
      "C:\\Users\\boris\\OneDrive\\Documents\\Studies\\ColumbiaBootCamp\\FinTech-Workspace\\Module_5\\Challenge_5\\Starter_Code\\FinTech_Module5_Financial_Planner\\MCForecastTools.py:117: PerformanceWarning: DataFrame is highly fragmented.  This is usually the result of calling `frame.insert` many times, which has poor performance.  Consider joining all columns at once using pd.concat(axis=1) instead. To get a de-fragmented frame, use `newframe = frame.copy()`\n",
      "  portfolio_cumulative_returns[n] = (1 + sim_df.fillna(0)).cumprod()\n",
      "C:\\Users\\boris\\OneDrive\\Documents\\Studies\\ColumbiaBootCamp\\FinTech-Workspace\\Module_5\\Challenge_5\\Starter_Code\\FinTech_Module5_Financial_Planner\\MCForecastTools.py:117: PerformanceWarning: DataFrame is highly fragmented.  This is usually the result of calling `frame.insert` many times, which has poor performance.  Consider joining all columns at once using pd.concat(axis=1) instead. To get a de-fragmented frame, use `newframe = frame.copy()`\n",
      "  portfolio_cumulative_returns[n] = (1 + sim_df.fillna(0)).cumprod()\n",
      "C:\\Users\\boris\\OneDrive\\Documents\\Studies\\ColumbiaBootCamp\\FinTech-Workspace\\Module_5\\Challenge_5\\Starter_Code\\FinTech_Module5_Financial_Planner\\MCForecastTools.py:117: PerformanceWarning: DataFrame is highly fragmented.  This is usually the result of calling `frame.insert` many times, which has poor performance.  Consider joining all columns at once using pd.concat(axis=1) instead. To get a de-fragmented frame, use `newframe = frame.copy()`\n",
      "  portfolio_cumulative_returns[n] = (1 + sim_df.fillna(0)).cumprod()\n",
      "C:\\Users\\boris\\OneDrive\\Documents\\Studies\\ColumbiaBootCamp\\FinTech-Workspace\\Module_5\\Challenge_5\\Starter_Code\\FinTech_Module5_Financial_Planner\\MCForecastTools.py:117: PerformanceWarning: DataFrame is highly fragmented.  This is usually the result of calling `frame.insert` many times, which has poor performance.  Consider joining all columns at once using pd.concat(axis=1) instead. To get a de-fragmented frame, use `newframe = frame.copy()`\n",
      "  portfolio_cumulative_returns[n] = (1 + sim_df.fillna(0)).cumprod()\n",
      "C:\\Users\\boris\\OneDrive\\Documents\\Studies\\ColumbiaBootCamp\\FinTech-Workspace\\Module_5\\Challenge_5\\Starter_Code\\FinTech_Module5_Financial_Planner\\MCForecastTools.py:117: PerformanceWarning: DataFrame is highly fragmented.  This is usually the result of calling `frame.insert` many times, which has poor performance.  Consider joining all columns at once using pd.concat(axis=1) instead. To get a de-fragmented frame, use `newframe = frame.copy()`\n",
      "  portfolio_cumulative_returns[n] = (1 + sim_df.fillna(0)).cumprod()\n",
      "C:\\Users\\boris\\OneDrive\\Documents\\Studies\\ColumbiaBootCamp\\FinTech-Workspace\\Module_5\\Challenge_5\\Starter_Code\\FinTech_Module5_Financial_Planner\\MCForecastTools.py:117: PerformanceWarning: DataFrame is highly fragmented.  This is usually the result of calling `frame.insert` many times, which has poor performance.  Consider joining all columns at once using pd.concat(axis=1) instead. To get a de-fragmented frame, use `newframe = frame.copy()`\n",
      "  portfolio_cumulative_returns[n] = (1 + sim_df.fillna(0)).cumprod()\n",
      "C:\\Users\\boris\\OneDrive\\Documents\\Studies\\ColumbiaBootCamp\\FinTech-Workspace\\Module_5\\Challenge_5\\Starter_Code\\FinTech_Module5_Financial_Planner\\MCForecastTools.py:117: PerformanceWarning: DataFrame is highly fragmented.  This is usually the result of calling `frame.insert` many times, which has poor performance.  Consider joining all columns at once using pd.concat(axis=1) instead. To get a de-fragmented frame, use `newframe = frame.copy()`\n",
      "  portfolio_cumulative_returns[n] = (1 + sim_df.fillna(0)).cumprod()\n"
     ]
    },
    {
     "name": "stdout",
     "output_type": "stream",
     "text": [
      "Running Monte Carlo simulation number 400.\n"
     ]
    },
    {
     "name": "stderr",
     "output_type": "stream",
     "text": [
      "C:\\Users\\boris\\OneDrive\\Documents\\Studies\\ColumbiaBootCamp\\FinTech-Workspace\\Module_5\\Challenge_5\\Starter_Code\\FinTech_Module5_Financial_Planner\\MCForecastTools.py:117: PerformanceWarning: DataFrame is highly fragmented.  This is usually the result of calling `frame.insert` many times, which has poor performance.  Consider joining all columns at once using pd.concat(axis=1) instead. To get a de-fragmented frame, use `newframe = frame.copy()`\n",
      "  portfolio_cumulative_returns[n] = (1 + sim_df.fillna(0)).cumprod()\n",
      "C:\\Users\\boris\\OneDrive\\Documents\\Studies\\ColumbiaBootCamp\\FinTech-Workspace\\Module_5\\Challenge_5\\Starter_Code\\FinTech_Module5_Financial_Planner\\MCForecastTools.py:117: PerformanceWarning: DataFrame is highly fragmented.  This is usually the result of calling `frame.insert` many times, which has poor performance.  Consider joining all columns at once using pd.concat(axis=1) instead. To get a de-fragmented frame, use `newframe = frame.copy()`\n",
      "  portfolio_cumulative_returns[n] = (1 + sim_df.fillna(0)).cumprod()\n",
      "C:\\Users\\boris\\OneDrive\\Documents\\Studies\\ColumbiaBootCamp\\FinTech-Workspace\\Module_5\\Challenge_5\\Starter_Code\\FinTech_Module5_Financial_Planner\\MCForecastTools.py:117: PerformanceWarning: DataFrame is highly fragmented.  This is usually the result of calling `frame.insert` many times, which has poor performance.  Consider joining all columns at once using pd.concat(axis=1) instead. To get a de-fragmented frame, use `newframe = frame.copy()`\n",
      "  portfolio_cumulative_returns[n] = (1 + sim_df.fillna(0)).cumprod()\n",
      "C:\\Users\\boris\\OneDrive\\Documents\\Studies\\ColumbiaBootCamp\\FinTech-Workspace\\Module_5\\Challenge_5\\Starter_Code\\FinTech_Module5_Financial_Planner\\MCForecastTools.py:117: PerformanceWarning: DataFrame is highly fragmented.  This is usually the result of calling `frame.insert` many times, which has poor performance.  Consider joining all columns at once using pd.concat(axis=1) instead. To get a de-fragmented frame, use `newframe = frame.copy()`\n",
      "  portfolio_cumulative_returns[n] = (1 + sim_df.fillna(0)).cumprod()\n",
      "C:\\Users\\boris\\OneDrive\\Documents\\Studies\\ColumbiaBootCamp\\FinTech-Workspace\\Module_5\\Challenge_5\\Starter_Code\\FinTech_Module5_Financial_Planner\\MCForecastTools.py:117: PerformanceWarning: DataFrame is highly fragmented.  This is usually the result of calling `frame.insert` many times, which has poor performance.  Consider joining all columns at once using pd.concat(axis=1) instead. To get a de-fragmented frame, use `newframe = frame.copy()`\n",
      "  portfolio_cumulative_returns[n] = (1 + sim_df.fillna(0)).cumprod()\n",
      "C:\\Users\\boris\\OneDrive\\Documents\\Studies\\ColumbiaBootCamp\\FinTech-Workspace\\Module_5\\Challenge_5\\Starter_Code\\FinTech_Module5_Financial_Planner\\MCForecastTools.py:117: PerformanceWarning: DataFrame is highly fragmented.  This is usually the result of calling `frame.insert` many times, which has poor performance.  Consider joining all columns at once using pd.concat(axis=1) instead. To get a de-fragmented frame, use `newframe = frame.copy()`\n",
      "  portfolio_cumulative_returns[n] = (1 + sim_df.fillna(0)).cumprod()\n",
      "C:\\Users\\boris\\OneDrive\\Documents\\Studies\\ColumbiaBootCamp\\FinTech-Workspace\\Module_5\\Challenge_5\\Starter_Code\\FinTech_Module5_Financial_Planner\\MCForecastTools.py:117: PerformanceWarning: DataFrame is highly fragmented.  This is usually the result of calling `frame.insert` many times, which has poor performance.  Consider joining all columns at once using pd.concat(axis=1) instead. To get a de-fragmented frame, use `newframe = frame.copy()`\n",
      "  portfolio_cumulative_returns[n] = (1 + sim_df.fillna(0)).cumprod()\n",
      "C:\\Users\\boris\\OneDrive\\Documents\\Studies\\ColumbiaBootCamp\\FinTech-Workspace\\Module_5\\Challenge_5\\Starter_Code\\FinTech_Module5_Financial_Planner\\MCForecastTools.py:117: PerformanceWarning: DataFrame is highly fragmented.  This is usually the result of calling `frame.insert` many times, which has poor performance.  Consider joining all columns at once using pd.concat(axis=1) instead. To get a de-fragmented frame, use `newframe = frame.copy()`\n",
      "  portfolio_cumulative_returns[n] = (1 + sim_df.fillna(0)).cumprod()\n",
      "C:\\Users\\boris\\OneDrive\\Documents\\Studies\\ColumbiaBootCamp\\FinTech-Workspace\\Module_5\\Challenge_5\\Starter_Code\\FinTech_Module5_Financial_Planner\\MCForecastTools.py:117: PerformanceWarning: DataFrame is highly fragmented.  This is usually the result of calling `frame.insert` many times, which has poor performance.  Consider joining all columns at once using pd.concat(axis=1) instead. To get a de-fragmented frame, use `newframe = frame.copy()`\n",
      "  portfolio_cumulative_returns[n] = (1 + sim_df.fillna(0)).cumprod()\n",
      "C:\\Users\\boris\\OneDrive\\Documents\\Studies\\ColumbiaBootCamp\\FinTech-Workspace\\Module_5\\Challenge_5\\Starter_Code\\FinTech_Module5_Financial_Planner\\MCForecastTools.py:117: PerformanceWarning: DataFrame is highly fragmented.  This is usually the result of calling `frame.insert` many times, which has poor performance.  Consider joining all columns at once using pd.concat(axis=1) instead. To get a de-fragmented frame, use `newframe = frame.copy()`\n",
      "  portfolio_cumulative_returns[n] = (1 + sim_df.fillna(0)).cumprod()\n"
     ]
    },
    {
     "name": "stdout",
     "output_type": "stream",
     "text": [
      "Running Monte Carlo simulation number 410.\n"
     ]
    },
    {
     "name": "stderr",
     "output_type": "stream",
     "text": [
      "C:\\Users\\boris\\OneDrive\\Documents\\Studies\\ColumbiaBootCamp\\FinTech-Workspace\\Module_5\\Challenge_5\\Starter_Code\\FinTech_Module5_Financial_Planner\\MCForecastTools.py:117: PerformanceWarning: DataFrame is highly fragmented.  This is usually the result of calling `frame.insert` many times, which has poor performance.  Consider joining all columns at once using pd.concat(axis=1) instead. To get a de-fragmented frame, use `newframe = frame.copy()`\n",
      "  portfolio_cumulative_returns[n] = (1 + sim_df.fillna(0)).cumprod()\n",
      "C:\\Users\\boris\\OneDrive\\Documents\\Studies\\ColumbiaBootCamp\\FinTech-Workspace\\Module_5\\Challenge_5\\Starter_Code\\FinTech_Module5_Financial_Planner\\MCForecastTools.py:117: PerformanceWarning: DataFrame is highly fragmented.  This is usually the result of calling `frame.insert` many times, which has poor performance.  Consider joining all columns at once using pd.concat(axis=1) instead. To get a de-fragmented frame, use `newframe = frame.copy()`\n",
      "  portfolio_cumulative_returns[n] = (1 + sim_df.fillna(0)).cumprod()\n",
      "C:\\Users\\boris\\OneDrive\\Documents\\Studies\\ColumbiaBootCamp\\FinTech-Workspace\\Module_5\\Challenge_5\\Starter_Code\\FinTech_Module5_Financial_Planner\\MCForecastTools.py:117: PerformanceWarning: DataFrame is highly fragmented.  This is usually the result of calling `frame.insert` many times, which has poor performance.  Consider joining all columns at once using pd.concat(axis=1) instead. To get a de-fragmented frame, use `newframe = frame.copy()`\n",
      "  portfolio_cumulative_returns[n] = (1 + sim_df.fillna(0)).cumprod()\n",
      "C:\\Users\\boris\\OneDrive\\Documents\\Studies\\ColumbiaBootCamp\\FinTech-Workspace\\Module_5\\Challenge_5\\Starter_Code\\FinTech_Module5_Financial_Planner\\MCForecastTools.py:117: PerformanceWarning: DataFrame is highly fragmented.  This is usually the result of calling `frame.insert` many times, which has poor performance.  Consider joining all columns at once using pd.concat(axis=1) instead. To get a de-fragmented frame, use `newframe = frame.copy()`\n",
      "  portfolio_cumulative_returns[n] = (1 + sim_df.fillna(0)).cumprod()\n",
      "C:\\Users\\boris\\OneDrive\\Documents\\Studies\\ColumbiaBootCamp\\FinTech-Workspace\\Module_5\\Challenge_5\\Starter_Code\\FinTech_Module5_Financial_Planner\\MCForecastTools.py:117: PerformanceWarning: DataFrame is highly fragmented.  This is usually the result of calling `frame.insert` many times, which has poor performance.  Consider joining all columns at once using pd.concat(axis=1) instead. To get a de-fragmented frame, use `newframe = frame.copy()`\n",
      "  portfolio_cumulative_returns[n] = (1 + sim_df.fillna(0)).cumprod()\n",
      "C:\\Users\\boris\\OneDrive\\Documents\\Studies\\ColumbiaBootCamp\\FinTech-Workspace\\Module_5\\Challenge_5\\Starter_Code\\FinTech_Module5_Financial_Planner\\MCForecastTools.py:117: PerformanceWarning: DataFrame is highly fragmented.  This is usually the result of calling `frame.insert` many times, which has poor performance.  Consider joining all columns at once using pd.concat(axis=1) instead. To get a de-fragmented frame, use `newframe = frame.copy()`\n",
      "  portfolio_cumulative_returns[n] = (1 + sim_df.fillna(0)).cumprod()\n",
      "C:\\Users\\boris\\OneDrive\\Documents\\Studies\\ColumbiaBootCamp\\FinTech-Workspace\\Module_5\\Challenge_5\\Starter_Code\\FinTech_Module5_Financial_Planner\\MCForecastTools.py:117: PerformanceWarning: DataFrame is highly fragmented.  This is usually the result of calling `frame.insert` many times, which has poor performance.  Consider joining all columns at once using pd.concat(axis=1) instead. To get a de-fragmented frame, use `newframe = frame.copy()`\n",
      "  portfolio_cumulative_returns[n] = (1 + sim_df.fillna(0)).cumprod()\n",
      "C:\\Users\\boris\\OneDrive\\Documents\\Studies\\ColumbiaBootCamp\\FinTech-Workspace\\Module_5\\Challenge_5\\Starter_Code\\FinTech_Module5_Financial_Planner\\MCForecastTools.py:117: PerformanceWarning: DataFrame is highly fragmented.  This is usually the result of calling `frame.insert` many times, which has poor performance.  Consider joining all columns at once using pd.concat(axis=1) instead. To get a de-fragmented frame, use `newframe = frame.copy()`\n",
      "  portfolio_cumulative_returns[n] = (1 + sim_df.fillna(0)).cumprod()\n",
      "C:\\Users\\boris\\OneDrive\\Documents\\Studies\\ColumbiaBootCamp\\FinTech-Workspace\\Module_5\\Challenge_5\\Starter_Code\\FinTech_Module5_Financial_Planner\\MCForecastTools.py:117: PerformanceWarning: DataFrame is highly fragmented.  This is usually the result of calling `frame.insert` many times, which has poor performance.  Consider joining all columns at once using pd.concat(axis=1) instead. To get a de-fragmented frame, use `newframe = frame.copy()`\n",
      "  portfolio_cumulative_returns[n] = (1 + sim_df.fillna(0)).cumprod()\n",
      "C:\\Users\\boris\\OneDrive\\Documents\\Studies\\ColumbiaBootCamp\\FinTech-Workspace\\Module_5\\Challenge_5\\Starter_Code\\FinTech_Module5_Financial_Planner\\MCForecastTools.py:117: PerformanceWarning: DataFrame is highly fragmented.  This is usually the result of calling `frame.insert` many times, which has poor performance.  Consider joining all columns at once using pd.concat(axis=1) instead. To get a de-fragmented frame, use `newframe = frame.copy()`\n",
      "  portfolio_cumulative_returns[n] = (1 + sim_df.fillna(0)).cumprod()\n"
     ]
    },
    {
     "name": "stdout",
     "output_type": "stream",
     "text": [
      "Running Monte Carlo simulation number 420.\n"
     ]
    },
    {
     "name": "stderr",
     "output_type": "stream",
     "text": [
      "C:\\Users\\boris\\OneDrive\\Documents\\Studies\\ColumbiaBootCamp\\FinTech-Workspace\\Module_5\\Challenge_5\\Starter_Code\\FinTech_Module5_Financial_Planner\\MCForecastTools.py:117: PerformanceWarning: DataFrame is highly fragmented.  This is usually the result of calling `frame.insert` many times, which has poor performance.  Consider joining all columns at once using pd.concat(axis=1) instead. To get a de-fragmented frame, use `newframe = frame.copy()`\n",
      "  portfolio_cumulative_returns[n] = (1 + sim_df.fillna(0)).cumprod()\n",
      "C:\\Users\\boris\\OneDrive\\Documents\\Studies\\ColumbiaBootCamp\\FinTech-Workspace\\Module_5\\Challenge_5\\Starter_Code\\FinTech_Module5_Financial_Planner\\MCForecastTools.py:117: PerformanceWarning: DataFrame is highly fragmented.  This is usually the result of calling `frame.insert` many times, which has poor performance.  Consider joining all columns at once using pd.concat(axis=1) instead. To get a de-fragmented frame, use `newframe = frame.copy()`\n",
      "  portfolio_cumulative_returns[n] = (1 + sim_df.fillna(0)).cumprod()\n",
      "C:\\Users\\boris\\OneDrive\\Documents\\Studies\\ColumbiaBootCamp\\FinTech-Workspace\\Module_5\\Challenge_5\\Starter_Code\\FinTech_Module5_Financial_Planner\\MCForecastTools.py:117: PerformanceWarning: DataFrame is highly fragmented.  This is usually the result of calling `frame.insert` many times, which has poor performance.  Consider joining all columns at once using pd.concat(axis=1) instead. To get a de-fragmented frame, use `newframe = frame.copy()`\n",
      "  portfolio_cumulative_returns[n] = (1 + sim_df.fillna(0)).cumprod()\n",
      "C:\\Users\\boris\\OneDrive\\Documents\\Studies\\ColumbiaBootCamp\\FinTech-Workspace\\Module_5\\Challenge_5\\Starter_Code\\FinTech_Module5_Financial_Planner\\MCForecastTools.py:117: PerformanceWarning: DataFrame is highly fragmented.  This is usually the result of calling `frame.insert` many times, which has poor performance.  Consider joining all columns at once using pd.concat(axis=1) instead. To get a de-fragmented frame, use `newframe = frame.copy()`\n",
      "  portfolio_cumulative_returns[n] = (1 + sim_df.fillna(0)).cumprod()\n",
      "C:\\Users\\boris\\OneDrive\\Documents\\Studies\\ColumbiaBootCamp\\FinTech-Workspace\\Module_5\\Challenge_5\\Starter_Code\\FinTech_Module5_Financial_Planner\\MCForecastTools.py:117: PerformanceWarning: DataFrame is highly fragmented.  This is usually the result of calling `frame.insert` many times, which has poor performance.  Consider joining all columns at once using pd.concat(axis=1) instead. To get a de-fragmented frame, use `newframe = frame.copy()`\n",
      "  portfolio_cumulative_returns[n] = (1 + sim_df.fillna(0)).cumprod()\n",
      "C:\\Users\\boris\\OneDrive\\Documents\\Studies\\ColumbiaBootCamp\\FinTech-Workspace\\Module_5\\Challenge_5\\Starter_Code\\FinTech_Module5_Financial_Planner\\MCForecastTools.py:117: PerformanceWarning: DataFrame is highly fragmented.  This is usually the result of calling `frame.insert` many times, which has poor performance.  Consider joining all columns at once using pd.concat(axis=1) instead. To get a de-fragmented frame, use `newframe = frame.copy()`\n",
      "  portfolio_cumulative_returns[n] = (1 + sim_df.fillna(0)).cumprod()\n",
      "C:\\Users\\boris\\OneDrive\\Documents\\Studies\\ColumbiaBootCamp\\FinTech-Workspace\\Module_5\\Challenge_5\\Starter_Code\\FinTech_Module5_Financial_Planner\\MCForecastTools.py:117: PerformanceWarning: DataFrame is highly fragmented.  This is usually the result of calling `frame.insert` many times, which has poor performance.  Consider joining all columns at once using pd.concat(axis=1) instead. To get a de-fragmented frame, use `newframe = frame.copy()`\n",
      "  portfolio_cumulative_returns[n] = (1 + sim_df.fillna(0)).cumprod()\n",
      "C:\\Users\\boris\\OneDrive\\Documents\\Studies\\ColumbiaBootCamp\\FinTech-Workspace\\Module_5\\Challenge_5\\Starter_Code\\FinTech_Module5_Financial_Planner\\MCForecastTools.py:117: PerformanceWarning: DataFrame is highly fragmented.  This is usually the result of calling `frame.insert` many times, which has poor performance.  Consider joining all columns at once using pd.concat(axis=1) instead. To get a de-fragmented frame, use `newframe = frame.copy()`\n",
      "  portfolio_cumulative_returns[n] = (1 + sim_df.fillna(0)).cumprod()\n",
      "C:\\Users\\boris\\OneDrive\\Documents\\Studies\\ColumbiaBootCamp\\FinTech-Workspace\\Module_5\\Challenge_5\\Starter_Code\\FinTech_Module5_Financial_Planner\\MCForecastTools.py:117: PerformanceWarning: DataFrame is highly fragmented.  This is usually the result of calling `frame.insert` many times, which has poor performance.  Consider joining all columns at once using pd.concat(axis=1) instead. To get a de-fragmented frame, use `newframe = frame.copy()`\n",
      "  portfolio_cumulative_returns[n] = (1 + sim_df.fillna(0)).cumprod()\n",
      "C:\\Users\\boris\\OneDrive\\Documents\\Studies\\ColumbiaBootCamp\\FinTech-Workspace\\Module_5\\Challenge_5\\Starter_Code\\FinTech_Module5_Financial_Planner\\MCForecastTools.py:117: PerformanceWarning: DataFrame is highly fragmented.  This is usually the result of calling `frame.insert` many times, which has poor performance.  Consider joining all columns at once using pd.concat(axis=1) instead. To get a de-fragmented frame, use `newframe = frame.copy()`\n",
      "  portfolio_cumulative_returns[n] = (1 + sim_df.fillna(0)).cumprod()\n"
     ]
    },
    {
     "name": "stdout",
     "output_type": "stream",
     "text": [
      "Running Monte Carlo simulation number 430.\n"
     ]
    },
    {
     "name": "stderr",
     "output_type": "stream",
     "text": [
      "C:\\Users\\boris\\OneDrive\\Documents\\Studies\\ColumbiaBootCamp\\FinTech-Workspace\\Module_5\\Challenge_5\\Starter_Code\\FinTech_Module5_Financial_Planner\\MCForecastTools.py:117: PerformanceWarning: DataFrame is highly fragmented.  This is usually the result of calling `frame.insert` many times, which has poor performance.  Consider joining all columns at once using pd.concat(axis=1) instead. To get a de-fragmented frame, use `newframe = frame.copy()`\n",
      "  portfolio_cumulative_returns[n] = (1 + sim_df.fillna(0)).cumprod()\n",
      "C:\\Users\\boris\\OneDrive\\Documents\\Studies\\ColumbiaBootCamp\\FinTech-Workspace\\Module_5\\Challenge_5\\Starter_Code\\FinTech_Module5_Financial_Planner\\MCForecastTools.py:117: PerformanceWarning: DataFrame is highly fragmented.  This is usually the result of calling `frame.insert` many times, which has poor performance.  Consider joining all columns at once using pd.concat(axis=1) instead. To get a de-fragmented frame, use `newframe = frame.copy()`\n",
      "  portfolio_cumulative_returns[n] = (1 + sim_df.fillna(0)).cumprod()\n",
      "C:\\Users\\boris\\OneDrive\\Documents\\Studies\\ColumbiaBootCamp\\FinTech-Workspace\\Module_5\\Challenge_5\\Starter_Code\\FinTech_Module5_Financial_Planner\\MCForecastTools.py:117: PerformanceWarning: DataFrame is highly fragmented.  This is usually the result of calling `frame.insert` many times, which has poor performance.  Consider joining all columns at once using pd.concat(axis=1) instead. To get a de-fragmented frame, use `newframe = frame.copy()`\n",
      "  portfolio_cumulative_returns[n] = (1 + sim_df.fillna(0)).cumprod()\n",
      "C:\\Users\\boris\\OneDrive\\Documents\\Studies\\ColumbiaBootCamp\\FinTech-Workspace\\Module_5\\Challenge_5\\Starter_Code\\FinTech_Module5_Financial_Planner\\MCForecastTools.py:117: PerformanceWarning: DataFrame is highly fragmented.  This is usually the result of calling `frame.insert` many times, which has poor performance.  Consider joining all columns at once using pd.concat(axis=1) instead. To get a de-fragmented frame, use `newframe = frame.copy()`\n",
      "  portfolio_cumulative_returns[n] = (1 + sim_df.fillna(0)).cumprod()\n",
      "C:\\Users\\boris\\OneDrive\\Documents\\Studies\\ColumbiaBootCamp\\FinTech-Workspace\\Module_5\\Challenge_5\\Starter_Code\\FinTech_Module5_Financial_Planner\\MCForecastTools.py:117: PerformanceWarning: DataFrame is highly fragmented.  This is usually the result of calling `frame.insert` many times, which has poor performance.  Consider joining all columns at once using pd.concat(axis=1) instead. To get a de-fragmented frame, use `newframe = frame.copy()`\n",
      "  portfolio_cumulative_returns[n] = (1 + sim_df.fillna(0)).cumprod()\n",
      "C:\\Users\\boris\\OneDrive\\Documents\\Studies\\ColumbiaBootCamp\\FinTech-Workspace\\Module_5\\Challenge_5\\Starter_Code\\FinTech_Module5_Financial_Planner\\MCForecastTools.py:117: PerformanceWarning: DataFrame is highly fragmented.  This is usually the result of calling `frame.insert` many times, which has poor performance.  Consider joining all columns at once using pd.concat(axis=1) instead. To get a de-fragmented frame, use `newframe = frame.copy()`\n",
      "  portfolio_cumulative_returns[n] = (1 + sim_df.fillna(0)).cumprod()\n",
      "C:\\Users\\boris\\OneDrive\\Documents\\Studies\\ColumbiaBootCamp\\FinTech-Workspace\\Module_5\\Challenge_5\\Starter_Code\\FinTech_Module5_Financial_Planner\\MCForecastTools.py:117: PerformanceWarning: DataFrame is highly fragmented.  This is usually the result of calling `frame.insert` many times, which has poor performance.  Consider joining all columns at once using pd.concat(axis=1) instead. To get a de-fragmented frame, use `newframe = frame.copy()`\n",
      "  portfolio_cumulative_returns[n] = (1 + sim_df.fillna(0)).cumprod()\n",
      "C:\\Users\\boris\\OneDrive\\Documents\\Studies\\ColumbiaBootCamp\\FinTech-Workspace\\Module_5\\Challenge_5\\Starter_Code\\FinTech_Module5_Financial_Planner\\MCForecastTools.py:117: PerformanceWarning: DataFrame is highly fragmented.  This is usually the result of calling `frame.insert` many times, which has poor performance.  Consider joining all columns at once using pd.concat(axis=1) instead. To get a de-fragmented frame, use `newframe = frame.copy()`\n",
      "  portfolio_cumulative_returns[n] = (1 + sim_df.fillna(0)).cumprod()\n",
      "C:\\Users\\boris\\OneDrive\\Documents\\Studies\\ColumbiaBootCamp\\FinTech-Workspace\\Module_5\\Challenge_5\\Starter_Code\\FinTech_Module5_Financial_Planner\\MCForecastTools.py:117: PerformanceWarning: DataFrame is highly fragmented.  This is usually the result of calling `frame.insert` many times, which has poor performance.  Consider joining all columns at once using pd.concat(axis=1) instead. To get a de-fragmented frame, use `newframe = frame.copy()`\n",
      "  portfolio_cumulative_returns[n] = (1 + sim_df.fillna(0)).cumprod()\n",
      "C:\\Users\\boris\\OneDrive\\Documents\\Studies\\ColumbiaBootCamp\\FinTech-Workspace\\Module_5\\Challenge_5\\Starter_Code\\FinTech_Module5_Financial_Planner\\MCForecastTools.py:117: PerformanceWarning: DataFrame is highly fragmented.  This is usually the result of calling `frame.insert` many times, which has poor performance.  Consider joining all columns at once using pd.concat(axis=1) instead. To get a de-fragmented frame, use `newframe = frame.copy()`\n",
      "  portfolio_cumulative_returns[n] = (1 + sim_df.fillna(0)).cumprod()\n"
     ]
    },
    {
     "name": "stdout",
     "output_type": "stream",
     "text": [
      "Running Monte Carlo simulation number 440.\n"
     ]
    },
    {
     "name": "stderr",
     "output_type": "stream",
     "text": [
      "C:\\Users\\boris\\OneDrive\\Documents\\Studies\\ColumbiaBootCamp\\FinTech-Workspace\\Module_5\\Challenge_5\\Starter_Code\\FinTech_Module5_Financial_Planner\\MCForecastTools.py:117: PerformanceWarning: DataFrame is highly fragmented.  This is usually the result of calling `frame.insert` many times, which has poor performance.  Consider joining all columns at once using pd.concat(axis=1) instead. To get a de-fragmented frame, use `newframe = frame.copy()`\n",
      "  portfolio_cumulative_returns[n] = (1 + sim_df.fillna(0)).cumprod()\n",
      "C:\\Users\\boris\\OneDrive\\Documents\\Studies\\ColumbiaBootCamp\\FinTech-Workspace\\Module_5\\Challenge_5\\Starter_Code\\FinTech_Module5_Financial_Planner\\MCForecastTools.py:117: PerformanceWarning: DataFrame is highly fragmented.  This is usually the result of calling `frame.insert` many times, which has poor performance.  Consider joining all columns at once using pd.concat(axis=1) instead. To get a de-fragmented frame, use `newframe = frame.copy()`\n",
      "  portfolio_cumulative_returns[n] = (1 + sim_df.fillna(0)).cumprod()\n",
      "C:\\Users\\boris\\OneDrive\\Documents\\Studies\\ColumbiaBootCamp\\FinTech-Workspace\\Module_5\\Challenge_5\\Starter_Code\\FinTech_Module5_Financial_Planner\\MCForecastTools.py:117: PerformanceWarning: DataFrame is highly fragmented.  This is usually the result of calling `frame.insert` many times, which has poor performance.  Consider joining all columns at once using pd.concat(axis=1) instead. To get a de-fragmented frame, use `newframe = frame.copy()`\n",
      "  portfolio_cumulative_returns[n] = (1 + sim_df.fillna(0)).cumprod()\n",
      "C:\\Users\\boris\\OneDrive\\Documents\\Studies\\ColumbiaBootCamp\\FinTech-Workspace\\Module_5\\Challenge_5\\Starter_Code\\FinTech_Module5_Financial_Planner\\MCForecastTools.py:117: PerformanceWarning: DataFrame is highly fragmented.  This is usually the result of calling `frame.insert` many times, which has poor performance.  Consider joining all columns at once using pd.concat(axis=1) instead. To get a de-fragmented frame, use `newframe = frame.copy()`\n",
      "  portfolio_cumulative_returns[n] = (1 + sim_df.fillna(0)).cumprod()\n",
      "C:\\Users\\boris\\OneDrive\\Documents\\Studies\\ColumbiaBootCamp\\FinTech-Workspace\\Module_5\\Challenge_5\\Starter_Code\\FinTech_Module5_Financial_Planner\\MCForecastTools.py:117: PerformanceWarning: DataFrame is highly fragmented.  This is usually the result of calling `frame.insert` many times, which has poor performance.  Consider joining all columns at once using pd.concat(axis=1) instead. To get a de-fragmented frame, use `newframe = frame.copy()`\n",
      "  portfolio_cumulative_returns[n] = (1 + sim_df.fillna(0)).cumprod()\n",
      "C:\\Users\\boris\\OneDrive\\Documents\\Studies\\ColumbiaBootCamp\\FinTech-Workspace\\Module_5\\Challenge_5\\Starter_Code\\FinTech_Module5_Financial_Planner\\MCForecastTools.py:117: PerformanceWarning: DataFrame is highly fragmented.  This is usually the result of calling `frame.insert` many times, which has poor performance.  Consider joining all columns at once using pd.concat(axis=1) instead. To get a de-fragmented frame, use `newframe = frame.copy()`\n",
      "  portfolio_cumulative_returns[n] = (1 + sim_df.fillna(0)).cumprod()\n",
      "C:\\Users\\boris\\OneDrive\\Documents\\Studies\\ColumbiaBootCamp\\FinTech-Workspace\\Module_5\\Challenge_5\\Starter_Code\\FinTech_Module5_Financial_Planner\\MCForecastTools.py:117: PerformanceWarning: DataFrame is highly fragmented.  This is usually the result of calling `frame.insert` many times, which has poor performance.  Consider joining all columns at once using pd.concat(axis=1) instead. To get a de-fragmented frame, use `newframe = frame.copy()`\n",
      "  portfolio_cumulative_returns[n] = (1 + sim_df.fillna(0)).cumprod()\n",
      "C:\\Users\\boris\\OneDrive\\Documents\\Studies\\ColumbiaBootCamp\\FinTech-Workspace\\Module_5\\Challenge_5\\Starter_Code\\FinTech_Module5_Financial_Planner\\MCForecastTools.py:117: PerformanceWarning: DataFrame is highly fragmented.  This is usually the result of calling `frame.insert` many times, which has poor performance.  Consider joining all columns at once using pd.concat(axis=1) instead. To get a de-fragmented frame, use `newframe = frame.copy()`\n",
      "  portfolio_cumulative_returns[n] = (1 + sim_df.fillna(0)).cumprod()\n",
      "C:\\Users\\boris\\OneDrive\\Documents\\Studies\\ColumbiaBootCamp\\FinTech-Workspace\\Module_5\\Challenge_5\\Starter_Code\\FinTech_Module5_Financial_Planner\\MCForecastTools.py:117: PerformanceWarning: DataFrame is highly fragmented.  This is usually the result of calling `frame.insert` many times, which has poor performance.  Consider joining all columns at once using pd.concat(axis=1) instead. To get a de-fragmented frame, use `newframe = frame.copy()`\n",
      "  portfolio_cumulative_returns[n] = (1 + sim_df.fillna(0)).cumprod()\n",
      "C:\\Users\\boris\\OneDrive\\Documents\\Studies\\ColumbiaBootCamp\\FinTech-Workspace\\Module_5\\Challenge_5\\Starter_Code\\FinTech_Module5_Financial_Planner\\MCForecastTools.py:117: PerformanceWarning: DataFrame is highly fragmented.  This is usually the result of calling `frame.insert` many times, which has poor performance.  Consider joining all columns at once using pd.concat(axis=1) instead. To get a de-fragmented frame, use `newframe = frame.copy()`\n",
      "  portfolio_cumulative_returns[n] = (1 + sim_df.fillna(0)).cumprod()\n",
      "C:\\Users\\boris\\OneDrive\\Documents\\Studies\\ColumbiaBootCamp\\FinTech-Workspace\\Module_5\\Challenge_5\\Starter_Code\\FinTech_Module5_Financial_Planner\\MCForecastTools.py:117: PerformanceWarning: DataFrame is highly fragmented.  This is usually the result of calling `frame.insert` many times, which has poor performance.  Consider joining all columns at once using pd.concat(axis=1) instead. To get a de-fragmented frame, use `newframe = frame.copy()`\n",
      "  portfolio_cumulative_returns[n] = (1 + sim_df.fillna(0)).cumprod()\n"
     ]
    },
    {
     "name": "stdout",
     "output_type": "stream",
     "text": [
      "Running Monte Carlo simulation number 450.\n"
     ]
    },
    {
     "name": "stderr",
     "output_type": "stream",
     "text": [
      "C:\\Users\\boris\\OneDrive\\Documents\\Studies\\ColumbiaBootCamp\\FinTech-Workspace\\Module_5\\Challenge_5\\Starter_Code\\FinTech_Module5_Financial_Planner\\MCForecastTools.py:117: PerformanceWarning: DataFrame is highly fragmented.  This is usually the result of calling `frame.insert` many times, which has poor performance.  Consider joining all columns at once using pd.concat(axis=1) instead. To get a de-fragmented frame, use `newframe = frame.copy()`\n",
      "  portfolio_cumulative_returns[n] = (1 + sim_df.fillna(0)).cumprod()\n",
      "C:\\Users\\boris\\OneDrive\\Documents\\Studies\\ColumbiaBootCamp\\FinTech-Workspace\\Module_5\\Challenge_5\\Starter_Code\\FinTech_Module5_Financial_Planner\\MCForecastTools.py:117: PerformanceWarning: DataFrame is highly fragmented.  This is usually the result of calling `frame.insert` many times, which has poor performance.  Consider joining all columns at once using pd.concat(axis=1) instead. To get a de-fragmented frame, use `newframe = frame.copy()`\n",
      "  portfolio_cumulative_returns[n] = (1 + sim_df.fillna(0)).cumprod()\n",
      "C:\\Users\\boris\\OneDrive\\Documents\\Studies\\ColumbiaBootCamp\\FinTech-Workspace\\Module_5\\Challenge_5\\Starter_Code\\FinTech_Module5_Financial_Planner\\MCForecastTools.py:117: PerformanceWarning: DataFrame is highly fragmented.  This is usually the result of calling `frame.insert` many times, which has poor performance.  Consider joining all columns at once using pd.concat(axis=1) instead. To get a de-fragmented frame, use `newframe = frame.copy()`\n",
      "  portfolio_cumulative_returns[n] = (1 + sim_df.fillna(0)).cumprod()\n",
      "C:\\Users\\boris\\OneDrive\\Documents\\Studies\\ColumbiaBootCamp\\FinTech-Workspace\\Module_5\\Challenge_5\\Starter_Code\\FinTech_Module5_Financial_Planner\\MCForecastTools.py:117: PerformanceWarning: DataFrame is highly fragmented.  This is usually the result of calling `frame.insert` many times, which has poor performance.  Consider joining all columns at once using pd.concat(axis=1) instead. To get a de-fragmented frame, use `newframe = frame.copy()`\n",
      "  portfolio_cumulative_returns[n] = (1 + sim_df.fillna(0)).cumprod()\n",
      "C:\\Users\\boris\\OneDrive\\Documents\\Studies\\ColumbiaBootCamp\\FinTech-Workspace\\Module_5\\Challenge_5\\Starter_Code\\FinTech_Module5_Financial_Planner\\MCForecastTools.py:117: PerformanceWarning: DataFrame is highly fragmented.  This is usually the result of calling `frame.insert` many times, which has poor performance.  Consider joining all columns at once using pd.concat(axis=1) instead. To get a de-fragmented frame, use `newframe = frame.copy()`\n",
      "  portfolio_cumulative_returns[n] = (1 + sim_df.fillna(0)).cumprod()\n",
      "C:\\Users\\boris\\OneDrive\\Documents\\Studies\\ColumbiaBootCamp\\FinTech-Workspace\\Module_5\\Challenge_5\\Starter_Code\\FinTech_Module5_Financial_Planner\\MCForecastTools.py:117: PerformanceWarning: DataFrame is highly fragmented.  This is usually the result of calling `frame.insert` many times, which has poor performance.  Consider joining all columns at once using pd.concat(axis=1) instead. To get a de-fragmented frame, use `newframe = frame.copy()`\n",
      "  portfolio_cumulative_returns[n] = (1 + sim_df.fillna(0)).cumprod()\n",
      "C:\\Users\\boris\\OneDrive\\Documents\\Studies\\ColumbiaBootCamp\\FinTech-Workspace\\Module_5\\Challenge_5\\Starter_Code\\FinTech_Module5_Financial_Planner\\MCForecastTools.py:117: PerformanceWarning: DataFrame is highly fragmented.  This is usually the result of calling `frame.insert` many times, which has poor performance.  Consider joining all columns at once using pd.concat(axis=1) instead. To get a de-fragmented frame, use `newframe = frame.copy()`\n",
      "  portfolio_cumulative_returns[n] = (1 + sim_df.fillna(0)).cumprod()\n",
      "C:\\Users\\boris\\OneDrive\\Documents\\Studies\\ColumbiaBootCamp\\FinTech-Workspace\\Module_5\\Challenge_5\\Starter_Code\\FinTech_Module5_Financial_Planner\\MCForecastTools.py:117: PerformanceWarning: DataFrame is highly fragmented.  This is usually the result of calling `frame.insert` many times, which has poor performance.  Consider joining all columns at once using pd.concat(axis=1) instead. To get a de-fragmented frame, use `newframe = frame.copy()`\n",
      "  portfolio_cumulative_returns[n] = (1 + sim_df.fillna(0)).cumprod()\n",
      "C:\\Users\\boris\\OneDrive\\Documents\\Studies\\ColumbiaBootCamp\\FinTech-Workspace\\Module_5\\Challenge_5\\Starter_Code\\FinTech_Module5_Financial_Planner\\MCForecastTools.py:117: PerformanceWarning: DataFrame is highly fragmented.  This is usually the result of calling `frame.insert` many times, which has poor performance.  Consider joining all columns at once using pd.concat(axis=1) instead. To get a de-fragmented frame, use `newframe = frame.copy()`\n",
      "  portfolio_cumulative_returns[n] = (1 + sim_df.fillna(0)).cumprod()\n",
      "C:\\Users\\boris\\OneDrive\\Documents\\Studies\\ColumbiaBootCamp\\FinTech-Workspace\\Module_5\\Challenge_5\\Starter_Code\\FinTech_Module5_Financial_Planner\\MCForecastTools.py:117: PerformanceWarning: DataFrame is highly fragmented.  This is usually the result of calling `frame.insert` many times, which has poor performance.  Consider joining all columns at once using pd.concat(axis=1) instead. To get a de-fragmented frame, use `newframe = frame.copy()`\n",
      "  portfolio_cumulative_returns[n] = (1 + sim_df.fillna(0)).cumprod()\n"
     ]
    },
    {
     "name": "stdout",
     "output_type": "stream",
     "text": [
      "Running Monte Carlo simulation number 460.\n"
     ]
    },
    {
     "name": "stderr",
     "output_type": "stream",
     "text": [
      "C:\\Users\\boris\\OneDrive\\Documents\\Studies\\ColumbiaBootCamp\\FinTech-Workspace\\Module_5\\Challenge_5\\Starter_Code\\FinTech_Module5_Financial_Planner\\MCForecastTools.py:117: PerformanceWarning: DataFrame is highly fragmented.  This is usually the result of calling `frame.insert` many times, which has poor performance.  Consider joining all columns at once using pd.concat(axis=1) instead. To get a de-fragmented frame, use `newframe = frame.copy()`\n",
      "  portfolio_cumulative_returns[n] = (1 + sim_df.fillna(0)).cumprod()\n",
      "C:\\Users\\boris\\OneDrive\\Documents\\Studies\\ColumbiaBootCamp\\FinTech-Workspace\\Module_5\\Challenge_5\\Starter_Code\\FinTech_Module5_Financial_Planner\\MCForecastTools.py:117: PerformanceWarning: DataFrame is highly fragmented.  This is usually the result of calling `frame.insert` many times, which has poor performance.  Consider joining all columns at once using pd.concat(axis=1) instead. To get a de-fragmented frame, use `newframe = frame.copy()`\n",
      "  portfolio_cumulative_returns[n] = (1 + sim_df.fillna(0)).cumprod()\n",
      "C:\\Users\\boris\\OneDrive\\Documents\\Studies\\ColumbiaBootCamp\\FinTech-Workspace\\Module_5\\Challenge_5\\Starter_Code\\FinTech_Module5_Financial_Planner\\MCForecastTools.py:117: PerformanceWarning: DataFrame is highly fragmented.  This is usually the result of calling `frame.insert` many times, which has poor performance.  Consider joining all columns at once using pd.concat(axis=1) instead. To get a de-fragmented frame, use `newframe = frame.copy()`\n",
      "  portfolio_cumulative_returns[n] = (1 + sim_df.fillna(0)).cumprod()\n",
      "C:\\Users\\boris\\OneDrive\\Documents\\Studies\\ColumbiaBootCamp\\FinTech-Workspace\\Module_5\\Challenge_5\\Starter_Code\\FinTech_Module5_Financial_Planner\\MCForecastTools.py:117: PerformanceWarning: DataFrame is highly fragmented.  This is usually the result of calling `frame.insert` many times, which has poor performance.  Consider joining all columns at once using pd.concat(axis=1) instead. To get a de-fragmented frame, use `newframe = frame.copy()`\n",
      "  portfolio_cumulative_returns[n] = (1 + sim_df.fillna(0)).cumprod()\n",
      "C:\\Users\\boris\\OneDrive\\Documents\\Studies\\ColumbiaBootCamp\\FinTech-Workspace\\Module_5\\Challenge_5\\Starter_Code\\FinTech_Module5_Financial_Planner\\MCForecastTools.py:117: PerformanceWarning: DataFrame is highly fragmented.  This is usually the result of calling `frame.insert` many times, which has poor performance.  Consider joining all columns at once using pd.concat(axis=1) instead. To get a de-fragmented frame, use `newframe = frame.copy()`\n",
      "  portfolio_cumulative_returns[n] = (1 + sim_df.fillna(0)).cumprod()\n",
      "C:\\Users\\boris\\OneDrive\\Documents\\Studies\\ColumbiaBootCamp\\FinTech-Workspace\\Module_5\\Challenge_5\\Starter_Code\\FinTech_Module5_Financial_Planner\\MCForecastTools.py:117: PerformanceWarning: DataFrame is highly fragmented.  This is usually the result of calling `frame.insert` many times, which has poor performance.  Consider joining all columns at once using pd.concat(axis=1) instead. To get a de-fragmented frame, use `newframe = frame.copy()`\n",
      "  portfolio_cumulative_returns[n] = (1 + sim_df.fillna(0)).cumprod()\n",
      "C:\\Users\\boris\\OneDrive\\Documents\\Studies\\ColumbiaBootCamp\\FinTech-Workspace\\Module_5\\Challenge_5\\Starter_Code\\FinTech_Module5_Financial_Planner\\MCForecastTools.py:117: PerformanceWarning: DataFrame is highly fragmented.  This is usually the result of calling `frame.insert` many times, which has poor performance.  Consider joining all columns at once using pd.concat(axis=1) instead. To get a de-fragmented frame, use `newframe = frame.copy()`\n",
      "  portfolio_cumulative_returns[n] = (1 + sim_df.fillna(0)).cumprod()\n",
      "C:\\Users\\boris\\OneDrive\\Documents\\Studies\\ColumbiaBootCamp\\FinTech-Workspace\\Module_5\\Challenge_5\\Starter_Code\\FinTech_Module5_Financial_Planner\\MCForecastTools.py:117: PerformanceWarning: DataFrame is highly fragmented.  This is usually the result of calling `frame.insert` many times, which has poor performance.  Consider joining all columns at once using pd.concat(axis=1) instead. To get a de-fragmented frame, use `newframe = frame.copy()`\n",
      "  portfolio_cumulative_returns[n] = (1 + sim_df.fillna(0)).cumprod()\n",
      "C:\\Users\\boris\\OneDrive\\Documents\\Studies\\ColumbiaBootCamp\\FinTech-Workspace\\Module_5\\Challenge_5\\Starter_Code\\FinTech_Module5_Financial_Planner\\MCForecastTools.py:117: PerformanceWarning: DataFrame is highly fragmented.  This is usually the result of calling `frame.insert` many times, which has poor performance.  Consider joining all columns at once using pd.concat(axis=1) instead. To get a de-fragmented frame, use `newframe = frame.copy()`\n",
      "  portfolio_cumulative_returns[n] = (1 + sim_df.fillna(0)).cumprod()\n",
      "C:\\Users\\boris\\OneDrive\\Documents\\Studies\\ColumbiaBootCamp\\FinTech-Workspace\\Module_5\\Challenge_5\\Starter_Code\\FinTech_Module5_Financial_Planner\\MCForecastTools.py:117: PerformanceWarning: DataFrame is highly fragmented.  This is usually the result of calling `frame.insert` many times, which has poor performance.  Consider joining all columns at once using pd.concat(axis=1) instead. To get a de-fragmented frame, use `newframe = frame.copy()`\n",
      "  portfolio_cumulative_returns[n] = (1 + sim_df.fillna(0)).cumprod()\n"
     ]
    },
    {
     "name": "stdout",
     "output_type": "stream",
     "text": [
      "Running Monte Carlo simulation number 470.\n"
     ]
    },
    {
     "name": "stderr",
     "output_type": "stream",
     "text": [
      "C:\\Users\\boris\\OneDrive\\Documents\\Studies\\ColumbiaBootCamp\\FinTech-Workspace\\Module_5\\Challenge_5\\Starter_Code\\FinTech_Module5_Financial_Planner\\MCForecastTools.py:117: PerformanceWarning: DataFrame is highly fragmented.  This is usually the result of calling `frame.insert` many times, which has poor performance.  Consider joining all columns at once using pd.concat(axis=1) instead. To get a de-fragmented frame, use `newframe = frame.copy()`\n",
      "  portfolio_cumulative_returns[n] = (1 + sim_df.fillna(0)).cumprod()\n",
      "C:\\Users\\boris\\OneDrive\\Documents\\Studies\\ColumbiaBootCamp\\FinTech-Workspace\\Module_5\\Challenge_5\\Starter_Code\\FinTech_Module5_Financial_Planner\\MCForecastTools.py:117: PerformanceWarning: DataFrame is highly fragmented.  This is usually the result of calling `frame.insert` many times, which has poor performance.  Consider joining all columns at once using pd.concat(axis=1) instead. To get a de-fragmented frame, use `newframe = frame.copy()`\n",
      "  portfolio_cumulative_returns[n] = (1 + sim_df.fillna(0)).cumprod()\n",
      "C:\\Users\\boris\\OneDrive\\Documents\\Studies\\ColumbiaBootCamp\\FinTech-Workspace\\Module_5\\Challenge_5\\Starter_Code\\FinTech_Module5_Financial_Planner\\MCForecastTools.py:117: PerformanceWarning: DataFrame is highly fragmented.  This is usually the result of calling `frame.insert` many times, which has poor performance.  Consider joining all columns at once using pd.concat(axis=1) instead. To get a de-fragmented frame, use `newframe = frame.copy()`\n",
      "  portfolio_cumulative_returns[n] = (1 + sim_df.fillna(0)).cumprod()\n",
      "C:\\Users\\boris\\OneDrive\\Documents\\Studies\\ColumbiaBootCamp\\FinTech-Workspace\\Module_5\\Challenge_5\\Starter_Code\\FinTech_Module5_Financial_Planner\\MCForecastTools.py:117: PerformanceWarning: DataFrame is highly fragmented.  This is usually the result of calling `frame.insert` many times, which has poor performance.  Consider joining all columns at once using pd.concat(axis=1) instead. To get a de-fragmented frame, use `newframe = frame.copy()`\n",
      "  portfolio_cumulative_returns[n] = (1 + sim_df.fillna(0)).cumprod()\n",
      "C:\\Users\\boris\\OneDrive\\Documents\\Studies\\ColumbiaBootCamp\\FinTech-Workspace\\Module_5\\Challenge_5\\Starter_Code\\FinTech_Module5_Financial_Planner\\MCForecastTools.py:117: PerformanceWarning: DataFrame is highly fragmented.  This is usually the result of calling `frame.insert` many times, which has poor performance.  Consider joining all columns at once using pd.concat(axis=1) instead. To get a de-fragmented frame, use `newframe = frame.copy()`\n",
      "  portfolio_cumulative_returns[n] = (1 + sim_df.fillna(0)).cumprod()\n",
      "C:\\Users\\boris\\OneDrive\\Documents\\Studies\\ColumbiaBootCamp\\FinTech-Workspace\\Module_5\\Challenge_5\\Starter_Code\\FinTech_Module5_Financial_Planner\\MCForecastTools.py:117: PerformanceWarning: DataFrame is highly fragmented.  This is usually the result of calling `frame.insert` many times, which has poor performance.  Consider joining all columns at once using pd.concat(axis=1) instead. To get a de-fragmented frame, use `newframe = frame.copy()`\n",
      "  portfolio_cumulative_returns[n] = (1 + sim_df.fillna(0)).cumprod()\n",
      "C:\\Users\\boris\\OneDrive\\Documents\\Studies\\ColumbiaBootCamp\\FinTech-Workspace\\Module_5\\Challenge_5\\Starter_Code\\FinTech_Module5_Financial_Planner\\MCForecastTools.py:117: PerformanceWarning: DataFrame is highly fragmented.  This is usually the result of calling `frame.insert` many times, which has poor performance.  Consider joining all columns at once using pd.concat(axis=1) instead. To get a de-fragmented frame, use `newframe = frame.copy()`\n",
      "  portfolio_cumulative_returns[n] = (1 + sim_df.fillna(0)).cumprod()\n",
      "C:\\Users\\boris\\OneDrive\\Documents\\Studies\\ColumbiaBootCamp\\FinTech-Workspace\\Module_5\\Challenge_5\\Starter_Code\\FinTech_Module5_Financial_Planner\\MCForecastTools.py:117: PerformanceWarning: DataFrame is highly fragmented.  This is usually the result of calling `frame.insert` many times, which has poor performance.  Consider joining all columns at once using pd.concat(axis=1) instead. To get a de-fragmented frame, use `newframe = frame.copy()`\n",
      "  portfolio_cumulative_returns[n] = (1 + sim_df.fillna(0)).cumprod()\n",
      "C:\\Users\\boris\\OneDrive\\Documents\\Studies\\ColumbiaBootCamp\\FinTech-Workspace\\Module_5\\Challenge_5\\Starter_Code\\FinTech_Module5_Financial_Planner\\MCForecastTools.py:117: PerformanceWarning: DataFrame is highly fragmented.  This is usually the result of calling `frame.insert` many times, which has poor performance.  Consider joining all columns at once using pd.concat(axis=1) instead. To get a de-fragmented frame, use `newframe = frame.copy()`\n",
      "  portfolio_cumulative_returns[n] = (1 + sim_df.fillna(0)).cumprod()\n",
      "C:\\Users\\boris\\OneDrive\\Documents\\Studies\\ColumbiaBootCamp\\FinTech-Workspace\\Module_5\\Challenge_5\\Starter_Code\\FinTech_Module5_Financial_Planner\\MCForecastTools.py:117: PerformanceWarning: DataFrame is highly fragmented.  This is usually the result of calling `frame.insert` many times, which has poor performance.  Consider joining all columns at once using pd.concat(axis=1) instead. To get a de-fragmented frame, use `newframe = frame.copy()`\n",
      "  portfolio_cumulative_returns[n] = (1 + sim_df.fillna(0)).cumprod()\n"
     ]
    },
    {
     "name": "stdout",
     "output_type": "stream",
     "text": [
      "Running Monte Carlo simulation number 480.\n"
     ]
    },
    {
     "name": "stderr",
     "output_type": "stream",
     "text": [
      "C:\\Users\\boris\\OneDrive\\Documents\\Studies\\ColumbiaBootCamp\\FinTech-Workspace\\Module_5\\Challenge_5\\Starter_Code\\FinTech_Module5_Financial_Planner\\MCForecastTools.py:117: PerformanceWarning: DataFrame is highly fragmented.  This is usually the result of calling `frame.insert` many times, which has poor performance.  Consider joining all columns at once using pd.concat(axis=1) instead. To get a de-fragmented frame, use `newframe = frame.copy()`\n",
      "  portfolio_cumulative_returns[n] = (1 + sim_df.fillna(0)).cumprod()\n",
      "C:\\Users\\boris\\OneDrive\\Documents\\Studies\\ColumbiaBootCamp\\FinTech-Workspace\\Module_5\\Challenge_5\\Starter_Code\\FinTech_Module5_Financial_Planner\\MCForecastTools.py:117: PerformanceWarning: DataFrame is highly fragmented.  This is usually the result of calling `frame.insert` many times, which has poor performance.  Consider joining all columns at once using pd.concat(axis=1) instead. To get a de-fragmented frame, use `newframe = frame.copy()`\n",
      "  portfolio_cumulative_returns[n] = (1 + sim_df.fillna(0)).cumprod()\n",
      "C:\\Users\\boris\\OneDrive\\Documents\\Studies\\ColumbiaBootCamp\\FinTech-Workspace\\Module_5\\Challenge_5\\Starter_Code\\FinTech_Module5_Financial_Planner\\MCForecastTools.py:117: PerformanceWarning: DataFrame is highly fragmented.  This is usually the result of calling `frame.insert` many times, which has poor performance.  Consider joining all columns at once using pd.concat(axis=1) instead. To get a de-fragmented frame, use `newframe = frame.copy()`\n",
      "  portfolio_cumulative_returns[n] = (1 + sim_df.fillna(0)).cumprod()\n",
      "C:\\Users\\boris\\OneDrive\\Documents\\Studies\\ColumbiaBootCamp\\FinTech-Workspace\\Module_5\\Challenge_5\\Starter_Code\\FinTech_Module5_Financial_Planner\\MCForecastTools.py:117: PerformanceWarning: DataFrame is highly fragmented.  This is usually the result of calling `frame.insert` many times, which has poor performance.  Consider joining all columns at once using pd.concat(axis=1) instead. To get a de-fragmented frame, use `newframe = frame.copy()`\n",
      "  portfolio_cumulative_returns[n] = (1 + sim_df.fillna(0)).cumprod()\n",
      "C:\\Users\\boris\\OneDrive\\Documents\\Studies\\ColumbiaBootCamp\\FinTech-Workspace\\Module_5\\Challenge_5\\Starter_Code\\FinTech_Module5_Financial_Planner\\MCForecastTools.py:117: PerformanceWarning: DataFrame is highly fragmented.  This is usually the result of calling `frame.insert` many times, which has poor performance.  Consider joining all columns at once using pd.concat(axis=1) instead. To get a de-fragmented frame, use `newframe = frame.copy()`\n",
      "  portfolio_cumulative_returns[n] = (1 + sim_df.fillna(0)).cumprod()\n",
      "C:\\Users\\boris\\OneDrive\\Documents\\Studies\\ColumbiaBootCamp\\FinTech-Workspace\\Module_5\\Challenge_5\\Starter_Code\\FinTech_Module5_Financial_Planner\\MCForecastTools.py:117: PerformanceWarning: DataFrame is highly fragmented.  This is usually the result of calling `frame.insert` many times, which has poor performance.  Consider joining all columns at once using pd.concat(axis=1) instead. To get a de-fragmented frame, use `newframe = frame.copy()`\n",
      "  portfolio_cumulative_returns[n] = (1 + sim_df.fillna(0)).cumprod()\n",
      "C:\\Users\\boris\\OneDrive\\Documents\\Studies\\ColumbiaBootCamp\\FinTech-Workspace\\Module_5\\Challenge_5\\Starter_Code\\FinTech_Module5_Financial_Planner\\MCForecastTools.py:117: PerformanceWarning: DataFrame is highly fragmented.  This is usually the result of calling `frame.insert` many times, which has poor performance.  Consider joining all columns at once using pd.concat(axis=1) instead. To get a de-fragmented frame, use `newframe = frame.copy()`\n",
      "  portfolio_cumulative_returns[n] = (1 + sim_df.fillna(0)).cumprod()\n",
      "C:\\Users\\boris\\OneDrive\\Documents\\Studies\\ColumbiaBootCamp\\FinTech-Workspace\\Module_5\\Challenge_5\\Starter_Code\\FinTech_Module5_Financial_Planner\\MCForecastTools.py:117: PerformanceWarning: DataFrame is highly fragmented.  This is usually the result of calling `frame.insert` many times, which has poor performance.  Consider joining all columns at once using pd.concat(axis=1) instead. To get a de-fragmented frame, use `newframe = frame.copy()`\n",
      "  portfolio_cumulative_returns[n] = (1 + sim_df.fillna(0)).cumprod()\n",
      "C:\\Users\\boris\\OneDrive\\Documents\\Studies\\ColumbiaBootCamp\\FinTech-Workspace\\Module_5\\Challenge_5\\Starter_Code\\FinTech_Module5_Financial_Planner\\MCForecastTools.py:117: PerformanceWarning: DataFrame is highly fragmented.  This is usually the result of calling `frame.insert` many times, which has poor performance.  Consider joining all columns at once using pd.concat(axis=1) instead. To get a de-fragmented frame, use `newframe = frame.copy()`\n",
      "  portfolio_cumulative_returns[n] = (1 + sim_df.fillna(0)).cumprod()\n",
      "C:\\Users\\boris\\OneDrive\\Documents\\Studies\\ColumbiaBootCamp\\FinTech-Workspace\\Module_5\\Challenge_5\\Starter_Code\\FinTech_Module5_Financial_Planner\\MCForecastTools.py:117: PerformanceWarning: DataFrame is highly fragmented.  This is usually the result of calling `frame.insert` many times, which has poor performance.  Consider joining all columns at once using pd.concat(axis=1) instead. To get a de-fragmented frame, use `newframe = frame.copy()`\n",
      "  portfolio_cumulative_returns[n] = (1 + sim_df.fillna(0)).cumprod()\n"
     ]
    },
    {
     "name": "stdout",
     "output_type": "stream",
     "text": [
      "Running Monte Carlo simulation number 490.\n"
     ]
    },
    {
     "name": "stderr",
     "output_type": "stream",
     "text": [
      "C:\\Users\\boris\\OneDrive\\Documents\\Studies\\ColumbiaBootCamp\\FinTech-Workspace\\Module_5\\Challenge_5\\Starter_Code\\FinTech_Module5_Financial_Planner\\MCForecastTools.py:117: PerformanceWarning: DataFrame is highly fragmented.  This is usually the result of calling `frame.insert` many times, which has poor performance.  Consider joining all columns at once using pd.concat(axis=1) instead. To get a de-fragmented frame, use `newframe = frame.copy()`\n",
      "  portfolio_cumulative_returns[n] = (1 + sim_df.fillna(0)).cumprod()\n",
      "C:\\Users\\boris\\OneDrive\\Documents\\Studies\\ColumbiaBootCamp\\FinTech-Workspace\\Module_5\\Challenge_5\\Starter_Code\\FinTech_Module5_Financial_Planner\\MCForecastTools.py:117: PerformanceWarning: DataFrame is highly fragmented.  This is usually the result of calling `frame.insert` many times, which has poor performance.  Consider joining all columns at once using pd.concat(axis=1) instead. To get a de-fragmented frame, use `newframe = frame.copy()`\n",
      "  portfolio_cumulative_returns[n] = (1 + sim_df.fillna(0)).cumprod()\n",
      "C:\\Users\\boris\\OneDrive\\Documents\\Studies\\ColumbiaBootCamp\\FinTech-Workspace\\Module_5\\Challenge_5\\Starter_Code\\FinTech_Module5_Financial_Planner\\MCForecastTools.py:117: PerformanceWarning: DataFrame is highly fragmented.  This is usually the result of calling `frame.insert` many times, which has poor performance.  Consider joining all columns at once using pd.concat(axis=1) instead. To get a de-fragmented frame, use `newframe = frame.copy()`\n",
      "  portfolio_cumulative_returns[n] = (1 + sim_df.fillna(0)).cumprod()\n",
      "C:\\Users\\boris\\OneDrive\\Documents\\Studies\\ColumbiaBootCamp\\FinTech-Workspace\\Module_5\\Challenge_5\\Starter_Code\\FinTech_Module5_Financial_Planner\\MCForecastTools.py:117: PerformanceWarning: DataFrame is highly fragmented.  This is usually the result of calling `frame.insert` many times, which has poor performance.  Consider joining all columns at once using pd.concat(axis=1) instead. To get a de-fragmented frame, use `newframe = frame.copy()`\n",
      "  portfolio_cumulative_returns[n] = (1 + sim_df.fillna(0)).cumprod()\n",
      "C:\\Users\\boris\\OneDrive\\Documents\\Studies\\ColumbiaBootCamp\\FinTech-Workspace\\Module_5\\Challenge_5\\Starter_Code\\FinTech_Module5_Financial_Planner\\MCForecastTools.py:117: PerformanceWarning: DataFrame is highly fragmented.  This is usually the result of calling `frame.insert` many times, which has poor performance.  Consider joining all columns at once using pd.concat(axis=1) instead. To get a de-fragmented frame, use `newframe = frame.copy()`\n",
      "  portfolio_cumulative_returns[n] = (1 + sim_df.fillna(0)).cumprod()\n",
      "C:\\Users\\boris\\OneDrive\\Documents\\Studies\\ColumbiaBootCamp\\FinTech-Workspace\\Module_5\\Challenge_5\\Starter_Code\\FinTech_Module5_Financial_Planner\\MCForecastTools.py:117: PerformanceWarning: DataFrame is highly fragmented.  This is usually the result of calling `frame.insert` many times, which has poor performance.  Consider joining all columns at once using pd.concat(axis=1) instead. To get a de-fragmented frame, use `newframe = frame.copy()`\n",
      "  portfolio_cumulative_returns[n] = (1 + sim_df.fillna(0)).cumprod()\n",
      "C:\\Users\\boris\\OneDrive\\Documents\\Studies\\ColumbiaBootCamp\\FinTech-Workspace\\Module_5\\Challenge_5\\Starter_Code\\FinTech_Module5_Financial_Planner\\MCForecastTools.py:117: PerformanceWarning: DataFrame is highly fragmented.  This is usually the result of calling `frame.insert` many times, which has poor performance.  Consider joining all columns at once using pd.concat(axis=1) instead. To get a de-fragmented frame, use `newframe = frame.copy()`\n",
      "  portfolio_cumulative_returns[n] = (1 + sim_df.fillna(0)).cumprod()\n",
      "C:\\Users\\boris\\OneDrive\\Documents\\Studies\\ColumbiaBootCamp\\FinTech-Workspace\\Module_5\\Challenge_5\\Starter_Code\\FinTech_Module5_Financial_Planner\\MCForecastTools.py:117: PerformanceWarning: DataFrame is highly fragmented.  This is usually the result of calling `frame.insert` many times, which has poor performance.  Consider joining all columns at once using pd.concat(axis=1) instead. To get a de-fragmented frame, use `newframe = frame.copy()`\n",
      "  portfolio_cumulative_returns[n] = (1 + sim_df.fillna(0)).cumprod()\n",
      "C:\\Users\\boris\\OneDrive\\Documents\\Studies\\ColumbiaBootCamp\\FinTech-Workspace\\Module_5\\Challenge_5\\Starter_Code\\FinTech_Module5_Financial_Planner\\MCForecastTools.py:117: PerformanceWarning: DataFrame is highly fragmented.  This is usually the result of calling `frame.insert` many times, which has poor performance.  Consider joining all columns at once using pd.concat(axis=1) instead. To get a de-fragmented frame, use `newframe = frame.copy()`\n",
      "  portfolio_cumulative_returns[n] = (1 + sim_df.fillna(0)).cumprod()\n"
     ]
    },
    {
     "data": {
      "text/html": [
       "<div>\n",
       "<style scoped>\n",
       "    .dataframe tbody tr th:only-of-type {\n",
       "        vertical-align: middle;\n",
       "    }\n",
       "\n",
       "    .dataframe tbody tr th {\n",
       "        vertical-align: top;\n",
       "    }\n",
       "\n",
       "    .dataframe thead th {\n",
       "        text-align: right;\n",
       "    }\n",
       "</style>\n",
       "<table border=\"1\" class=\"dataframe\">\n",
       "  <thead>\n",
       "    <tr style=\"text-align: right;\">\n",
       "      <th></th>\n",
       "      <th>0</th>\n",
       "      <th>1</th>\n",
       "      <th>2</th>\n",
       "      <th>3</th>\n",
       "      <th>4</th>\n",
       "      <th>5</th>\n",
       "      <th>6</th>\n",
       "      <th>7</th>\n",
       "      <th>8</th>\n",
       "      <th>9</th>\n",
       "      <th>...</th>\n",
       "      <th>490</th>\n",
       "      <th>491</th>\n",
       "      <th>492</th>\n",
       "      <th>493</th>\n",
       "      <th>494</th>\n",
       "      <th>495</th>\n",
       "      <th>496</th>\n",
       "      <th>497</th>\n",
       "      <th>498</th>\n",
       "      <th>499</th>\n",
       "    </tr>\n",
       "  </thead>\n",
       "  <tbody>\n",
       "    <tr>\n",
       "      <th>0</th>\n",
       "      <td>1.000000</td>\n",
       "      <td>1.000000</td>\n",
       "      <td>1.000000</td>\n",
       "      <td>1.000000</td>\n",
       "      <td>1.000000</td>\n",
       "      <td>1.000000</td>\n",
       "      <td>1.000000</td>\n",
       "      <td>1.000000</td>\n",
       "      <td>1.000000</td>\n",
       "      <td>1.000000</td>\n",
       "      <td>...</td>\n",
       "      <td>1.000000</td>\n",
       "      <td>1.000000</td>\n",
       "      <td>1.000000</td>\n",
       "      <td>1.000000</td>\n",
       "      <td>1.000000</td>\n",
       "      <td>1.000000</td>\n",
       "      <td>1.000000</td>\n",
       "      <td>1.000000</td>\n",
       "      <td>1.000000</td>\n",
       "      <td>1.000000</td>\n",
       "    </tr>\n",
       "    <tr>\n",
       "      <th>1</th>\n",
       "      <td>1.003497</td>\n",
       "      <td>1.008082</td>\n",
       "      <td>1.005870</td>\n",
       "      <td>0.995702</td>\n",
       "      <td>1.004423</td>\n",
       "      <td>0.989613</td>\n",
       "      <td>1.002889</td>\n",
       "      <td>1.002482</td>\n",
       "      <td>0.989101</td>\n",
       "      <td>0.998097</td>\n",
       "      <td>...</td>\n",
       "      <td>1.000417</td>\n",
       "      <td>1.000869</td>\n",
       "      <td>1.015495</td>\n",
       "      <td>0.994152</td>\n",
       "      <td>0.979216</td>\n",
       "      <td>1.005019</td>\n",
       "      <td>1.003998</td>\n",
       "      <td>0.993661</td>\n",
       "      <td>1.001379</td>\n",
       "      <td>0.999903</td>\n",
       "    </tr>\n",
       "    <tr>\n",
       "      <th>2</th>\n",
       "      <td>1.001202</td>\n",
       "      <td>1.022427</td>\n",
       "      <td>1.030309</td>\n",
       "      <td>0.996550</td>\n",
       "      <td>0.994866</td>\n",
       "      <td>0.986213</td>\n",
       "      <td>0.991138</td>\n",
       "      <td>1.007413</td>\n",
       "      <td>0.988170</td>\n",
       "      <td>1.007670</td>\n",
       "      <td>...</td>\n",
       "      <td>0.997085</td>\n",
       "      <td>1.005577</td>\n",
       "      <td>0.993853</td>\n",
       "      <td>0.992123</td>\n",
       "      <td>0.979830</td>\n",
       "      <td>1.008297</td>\n",
       "      <td>1.004111</td>\n",
       "      <td>0.995836</td>\n",
       "      <td>1.002483</td>\n",
       "      <td>0.992888</td>\n",
       "    </tr>\n",
       "    <tr>\n",
       "      <th>3</th>\n",
       "      <td>0.990902</td>\n",
       "      <td>1.035607</td>\n",
       "      <td>1.039394</td>\n",
       "      <td>0.997670</td>\n",
       "      <td>0.998015</td>\n",
       "      <td>0.969033</td>\n",
       "      <td>0.990967</td>\n",
       "      <td>1.002282</td>\n",
       "      <td>1.007679</td>\n",
       "      <td>0.999657</td>\n",
       "      <td>...</td>\n",
       "      <td>0.983765</td>\n",
       "      <td>1.011858</td>\n",
       "      <td>1.002525</td>\n",
       "      <td>0.968218</td>\n",
       "      <td>0.965741</td>\n",
       "      <td>0.998433</td>\n",
       "      <td>0.990708</td>\n",
       "      <td>0.990115</td>\n",
       "      <td>1.006650</td>\n",
       "      <td>0.989431</td>\n",
       "    </tr>\n",
       "    <tr>\n",
       "      <th>4</th>\n",
       "      <td>1.001699</td>\n",
       "      <td>1.027826</td>\n",
       "      <td>1.020580</td>\n",
       "      <td>0.987776</td>\n",
       "      <td>1.008017</td>\n",
       "      <td>0.971381</td>\n",
       "      <td>0.992507</td>\n",
       "      <td>0.989389</td>\n",
       "      <td>1.000060</td>\n",
       "      <td>1.012297</td>\n",
       "      <td>...</td>\n",
       "      <td>0.988664</td>\n",
       "      <td>1.013245</td>\n",
       "      <td>1.030532</td>\n",
       "      <td>0.968760</td>\n",
       "      <td>0.988476</td>\n",
       "      <td>1.015260</td>\n",
       "      <td>1.003289</td>\n",
       "      <td>0.989603</td>\n",
       "      <td>1.017086</td>\n",
       "      <td>0.988064</td>\n",
       "    </tr>\n",
       "    <tr>\n",
       "      <th>...</th>\n",
       "      <td>...</td>\n",
       "      <td>...</td>\n",
       "      <td>...</td>\n",
       "      <td>...</td>\n",
       "      <td>...</td>\n",
       "      <td>...</td>\n",
       "      <td>...</td>\n",
       "      <td>...</td>\n",
       "      <td>...</td>\n",
       "      <td>...</td>\n",
       "      <td>...</td>\n",
       "      <td>...</td>\n",
       "      <td>...</td>\n",
       "      <td>...</td>\n",
       "      <td>...</td>\n",
       "      <td>...</td>\n",
       "      <td>...</td>\n",
       "      <td>...</td>\n",
       "      <td>...</td>\n",
       "      <td>...</td>\n",
       "      <td>...</td>\n",
       "    </tr>\n",
       "    <tr>\n",
       "      <th>7556</th>\n",
       "      <td>2.195659</td>\n",
       "      <td>1.984663</td>\n",
       "      <td>1.426676</td>\n",
       "      <td>0.820252</td>\n",
       "      <td>1.278421</td>\n",
       "      <td>1.981534</td>\n",
       "      <td>3.289537</td>\n",
       "      <td>2.376439</td>\n",
       "      <td>3.266534</td>\n",
       "      <td>2.305218</td>\n",
       "      <td>...</td>\n",
       "      <td>10.926761</td>\n",
       "      <td>2.943175</td>\n",
       "      <td>5.700979</td>\n",
       "      <td>2.692573</td>\n",
       "      <td>4.362452</td>\n",
       "      <td>1.075097</td>\n",
       "      <td>1.770828</td>\n",
       "      <td>1.328174</td>\n",
       "      <td>3.946360</td>\n",
       "      <td>1.660277</td>\n",
       "    </tr>\n",
       "    <tr>\n",
       "      <th>7557</th>\n",
       "      <td>2.212537</td>\n",
       "      <td>1.978985</td>\n",
       "      <td>1.429763</td>\n",
       "      <td>0.830465</td>\n",
       "      <td>1.282397</td>\n",
       "      <td>1.960511</td>\n",
       "      <td>3.275339</td>\n",
       "      <td>2.372409</td>\n",
       "      <td>3.250670</td>\n",
       "      <td>2.320008</td>\n",
       "      <td>...</td>\n",
       "      <td>11.051270</td>\n",
       "      <td>2.962049</td>\n",
       "      <td>5.662762</td>\n",
       "      <td>2.741243</td>\n",
       "      <td>4.390610</td>\n",
       "      <td>1.074245</td>\n",
       "      <td>1.762989</td>\n",
       "      <td>1.327245</td>\n",
       "      <td>3.940823</td>\n",
       "      <td>1.658035</td>\n",
       "    </tr>\n",
       "    <tr>\n",
       "      <th>7558</th>\n",
       "      <td>2.242188</td>\n",
       "      <td>1.976430</td>\n",
       "      <td>1.432810</td>\n",
       "      <td>0.826535</td>\n",
       "      <td>1.260690</td>\n",
       "      <td>1.924140</td>\n",
       "      <td>3.301723</td>\n",
       "      <td>2.357872</td>\n",
       "      <td>3.271451</td>\n",
       "      <td>2.342475</td>\n",
       "      <td>...</td>\n",
       "      <td>11.168229</td>\n",
       "      <td>3.039689</td>\n",
       "      <td>5.670985</td>\n",
       "      <td>2.736778</td>\n",
       "      <td>4.287067</td>\n",
       "      <td>1.081384</td>\n",
       "      <td>1.759910</td>\n",
       "      <td>1.323915</td>\n",
       "      <td>3.975440</td>\n",
       "      <td>1.660300</td>\n",
       "    </tr>\n",
       "    <tr>\n",
       "      <th>7559</th>\n",
       "      <td>2.230032</td>\n",
       "      <td>1.988680</td>\n",
       "      <td>1.433584</td>\n",
       "      <td>0.823991</td>\n",
       "      <td>1.267240</td>\n",
       "      <td>1.929861</td>\n",
       "      <td>3.280951</td>\n",
       "      <td>2.362954</td>\n",
       "      <td>3.264208</td>\n",
       "      <td>2.351552</td>\n",
       "      <td>...</td>\n",
       "      <td>11.084659</td>\n",
       "      <td>3.020678</td>\n",
       "      <td>5.649360</td>\n",
       "      <td>2.708937</td>\n",
       "      <td>4.304306</td>\n",
       "      <td>1.058898</td>\n",
       "      <td>1.761190</td>\n",
       "      <td>1.315982</td>\n",
       "      <td>4.015665</td>\n",
       "      <td>1.656267</td>\n",
       "    </tr>\n",
       "    <tr>\n",
       "      <th>7560</th>\n",
       "      <td>2.220062</td>\n",
       "      <td>2.010595</td>\n",
       "      <td>1.445273</td>\n",
       "      <td>0.828010</td>\n",
       "      <td>1.256777</td>\n",
       "      <td>1.945088</td>\n",
       "      <td>3.330295</td>\n",
       "      <td>2.337657</td>\n",
       "      <td>3.243854</td>\n",
       "      <td>2.311584</td>\n",
       "      <td>...</td>\n",
       "      <td>10.967763</td>\n",
       "      <td>3.039278</td>\n",
       "      <td>5.589053</td>\n",
       "      <td>2.671062</td>\n",
       "      <td>4.268085</td>\n",
       "      <td>1.047239</td>\n",
       "      <td>1.761299</td>\n",
       "      <td>1.327411</td>\n",
       "      <td>3.967509</td>\n",
       "      <td>1.660125</td>\n",
       "    </tr>\n",
       "  </tbody>\n",
       "</table>\n",
       "<p>7561 rows × 500 columns</p>\n",
       "</div>"
      ],
      "text/plain": [
       "           0         1         2         3         4         5         6    \\\n",
       "0     1.000000  1.000000  1.000000  1.000000  1.000000  1.000000  1.000000   \n",
       "1     1.003497  1.008082  1.005870  0.995702  1.004423  0.989613  1.002889   \n",
       "2     1.001202  1.022427  1.030309  0.996550  0.994866  0.986213  0.991138   \n",
       "3     0.990902  1.035607  1.039394  0.997670  0.998015  0.969033  0.990967   \n",
       "4     1.001699  1.027826  1.020580  0.987776  1.008017  0.971381  0.992507   \n",
       "...        ...       ...       ...       ...       ...       ...       ...   \n",
       "7556  2.195659  1.984663  1.426676  0.820252  1.278421  1.981534  3.289537   \n",
       "7557  2.212537  1.978985  1.429763  0.830465  1.282397  1.960511  3.275339   \n",
       "7558  2.242188  1.976430  1.432810  0.826535  1.260690  1.924140  3.301723   \n",
       "7559  2.230032  1.988680  1.433584  0.823991  1.267240  1.929861  3.280951   \n",
       "7560  2.220062  2.010595  1.445273  0.828010  1.256777  1.945088  3.330295   \n",
       "\n",
       "           7         8         9    ...        490       491       492  \\\n",
       "0     1.000000  1.000000  1.000000  ...   1.000000  1.000000  1.000000   \n",
       "1     1.002482  0.989101  0.998097  ...   1.000417  1.000869  1.015495   \n",
       "2     1.007413  0.988170  1.007670  ...   0.997085  1.005577  0.993853   \n",
       "3     1.002282  1.007679  0.999657  ...   0.983765  1.011858  1.002525   \n",
       "4     0.989389  1.000060  1.012297  ...   0.988664  1.013245  1.030532   \n",
       "...        ...       ...       ...  ...        ...       ...       ...   \n",
       "7556  2.376439  3.266534  2.305218  ...  10.926761  2.943175  5.700979   \n",
       "7557  2.372409  3.250670  2.320008  ...  11.051270  2.962049  5.662762   \n",
       "7558  2.357872  3.271451  2.342475  ...  11.168229  3.039689  5.670985   \n",
       "7559  2.362954  3.264208  2.351552  ...  11.084659  3.020678  5.649360   \n",
       "7560  2.337657  3.243854  2.311584  ...  10.967763  3.039278  5.589053   \n",
       "\n",
       "           493       494       495       496       497       498       499  \n",
       "0     1.000000  1.000000  1.000000  1.000000  1.000000  1.000000  1.000000  \n",
       "1     0.994152  0.979216  1.005019  1.003998  0.993661  1.001379  0.999903  \n",
       "2     0.992123  0.979830  1.008297  1.004111  0.995836  1.002483  0.992888  \n",
       "3     0.968218  0.965741  0.998433  0.990708  0.990115  1.006650  0.989431  \n",
       "4     0.968760  0.988476  1.015260  1.003289  0.989603  1.017086  0.988064  \n",
       "...        ...       ...       ...       ...       ...       ...       ...  \n",
       "7556  2.692573  4.362452  1.075097  1.770828  1.328174  3.946360  1.660277  \n",
       "7557  2.741243  4.390610  1.074245  1.762989  1.327245  3.940823  1.658035  \n",
       "7558  2.736778  4.287067  1.081384  1.759910  1.323915  3.975440  1.660300  \n",
       "7559  2.708937  4.304306  1.058898  1.761190  1.315982  4.015665  1.656267  \n",
       "7560  2.671062  4.268085  1.047239  1.761299  1.327411  3.967509  1.660125  \n",
       "\n",
       "[7561 rows x 500 columns]"
      ]
     },
     "execution_count": 31,
     "metadata": {},
     "output_type": "execute_result"
    }
   ],
   "source": [
    "# Run the Monte Carlo simulation to forecast 30 years cumulative returns\n",
    "MC_30year.calc_cumulative_return()"
   ]
  },
  {
   "cell_type": "code",
   "execution_count": 32,
   "metadata": {},
   "outputs": [
    {
     "data": {
      "image/png": "[encoded data removed]",
      "text/plain": [
       "<Figure size 640x480 with 1 Axes>"
      ]
     },
     "metadata": {},
     "output_type": "display_data"
    }
   ],
   "source": [
    "# Visualize the 30-year Monte Carlo simulation by creating an\n",
    "# overlay line plot\n",
    "MC_sim_line_plot = MC_30year.plot_simulation()\n",
    "\n",
    "# Save the plot for future use\n",
    "MC_sim_line_plot.get_figure().savefig(\"MC_30year_sim_plot.png\", bbox_inches=\"tight\")"
   ]
  },
  {
   "cell_type": "markdown",
   "metadata": {},
   "source": [
    "#### Step 3: Plot the probability distribution of the Monte Carlo simulation."
   ]
  },
  {
   "cell_type": "code",
   "execution_count": 33,
   "metadata": {},
   "outputs": [
    {
     "data": {
      "image/png": "[encoded data removed]",
      "text/plain": [
       "<Figure size 640x480 with 1 Axes>"
      ]
     },
     "metadata": {},
     "output_type": "display_data"
    }
   ],
   "source": [
    "# Visualize the probability distribution of the 30-year Monte Carlo simulation \n",
    "# by plotting a histogram\n",
    "MC_sim_dist_plot = MC_30year.plot_distribution()\n",
    "\n",
    "# Save the plot for future use\n",
    "MC_sim_dist_plot.get_figure().savefig('MC_30year_dist_plot.png',bbox_inches='tight')"
   ]
  },
  {
   "cell_type": "markdown",
   "metadata": {},
   "source": [
    "#### Step 4: Generate the summary statistics for the Monte Carlo simulation."
   ]
  },
  {
   "cell_type": "code",
   "execution_count": 34,
   "metadata": {},
   "outputs": [
    {
     "name": "stdout",
     "output_type": "stream",
     "text": [
      "count           500.000000\n",
      "mean              2.762476\n",
      "std               2.601528\n",
      "min               0.161809\n",
      "25%               1.211793\n",
      "50%               1.922801\n",
      "75%               3.402510\n",
      "max              19.663860\n",
      "95% CI Lower      0.435442\n",
      "95% CI Upper     10.813247\n",
      "Name: 7560, dtype: float64\n"
     ]
    },
    {
     "name": "stderr",
     "output_type": "stream",
     "text": [
      "C:\\Users\\boris\\OneDrive\\Documents\\Studies\\ColumbiaBootCamp\\FinTech-Workspace\\Module_5\\Challenge_5\\Starter_Code\\FinTech_Module5_Financial_Planner\\MCForecastTools.py:172: FutureWarning: The series.append method is deprecated and will be removed from pandas in a future version. Use pandas.concat instead.\n",
      "  return metrics.append(ci_series)\n"
     ]
    }
   ],
   "source": [
    "# Generate summary statistics from the 30-year Monte Carlo simulation results\n",
    "# Save the results as a variable\n",
    "MC_summary_statistics = MC_30year.summarize_cumulative_return()\n",
    "\n",
    "\n",
    "# Review the 30-year Monte Carlo summary statistics\n",
    "print(MC_summary_statistics)"
   ]
  },
  {
   "cell_type": "markdown",
   "metadata": {},
   "source": [
    "### Analyze the Retirement Portfolio Forecasts\n",
    "\n",
    "Using the current value of only the stock and bond portion of the member's portfolio and the summary statistics that you generated from the Monte Carlo simulation, answer the following question in your Jupyter notebook:\n",
    "\n",
    "-  What are the lower and upper bounds for the expected value of the portfolio with a 95% confidence interval?\n"
   ]
  },
  {
   "cell_type": "code",
   "execution_count": 35,
   "metadata": {},
   "outputs": [
    {
     "data": {
      "text/plain": [
       "61465.3"
      ]
     },
     "execution_count": 35,
     "metadata": {},
     "output_type": "execute_result"
    }
   ],
   "source": [
    "# Print the current balance of the stock and bond portion of the members portfolio\n",
    "total_stocks_bonds\n"
   ]
  },
  {
   "cell_type": "code",
   "execution_count": 36,
   "metadata": {},
   "outputs": [
    {
     "name": "stdout",
     "output_type": "stream",
     "text": [
      "There is a 95% chance that an initial investment of $61465.3 in the portfolio over the next 30 years will end within the range of $ 26764.57 and $ 664639.44.\n"
     ]
    }
   ],
   "source": [
    "# Use the lower and upper `95%` confidence intervals to calculate the range of the possible outcomes for the current stock/bond portfolio\n",
    "ci_lower_thirty_cumulative_return = MC_summary_statistics[8] * total_stocks_bonds\n",
    "ci_upper_thirty_cumulative_return = MC_summary_statistics[9] * total_stocks_bonds\n",
    "\n",
    "# Print the result of your calculations\n",
    "print(f\"There is a 95% chance that an initial investment of ${total_stocks_bonds} in the portfolio\"\n",
    "    f\" over the next 30 years will end within the range of\"\n",
    "    f\" ${ci_lower_thirty_cumulative_return: .2f} and ${ci_upper_thirty_cumulative_return: .2f}.\")\n",
    "\n",
    "\n"
   ]
  },
  {
   "cell_type": "markdown",
   "metadata": {},
   "source": [
    "### Forecast Cumulative Returns in 10 Years\n",
    "\n",
    "The CTO of the credit union is impressed with your work on these planning tools but wonders if 30 years is a long time to wait until retirement. So, your next task is to adjust the retirement portfolio and run a new Monte Carlo simulation to find out if the changes will allow members to retire earlier.\n",
    "\n",
    "For this new Monte Carlo simulation, do the following: \n",
    "\n",
    "- Forecast the cumulative returns for 10 years from now. Because of the shortened investment horizon (30 years to 10 years), the portfolio needs to invest more heavily in the riskier asset&mdash;that is, stock&mdash;to help accumulate wealth for retirement. \n",
    "\n",
    "- Adjust the weights of the retirement portfolio so that the composition for the Monte Carlo simulation consists of 20% bonds and 80% stocks. \n",
    "\n",
    "- Run the simulation over 500 samples, and use the same data that the API call to Alpaca generated.\n",
    "\n",
    "- Based on the new Monte Carlo simulation, answer the following questions in your Jupyter notebook:\n",
    "\n",
    "    - Using the current value of only the stock and bond portion of the member's portfolio and the summary statistics that you generated from the new Monte Carlo simulation, what are the lower and upper bounds for the expected value of the portfolio (with the new weights) with a 95% confidence interval?\n",
    "\n",
    "    - Will weighting the portfolio more heavily toward stocks allow the credit union members to retire after only 10 years?\n"
   ]
  },
  {
   "cell_type": "code",
   "execution_count": 37,
   "metadata": {},
   "outputs": [
    {
     "data": {
      "text/html": [
       "<div>\n",
       "<style scoped>\n",
       "    .dataframe tbody tr th:only-of-type {\n",
       "        vertical-align: middle;\n",
       "    }\n",
       "\n",
       "    .dataframe tbody tr th {\n",
       "        vertical-align: top;\n",
       "    }\n",
       "\n",
       "    .dataframe thead tr th {\n",
       "        text-align: left;\n",
       "    }\n",
       "\n",
       "    .dataframe thead tr:last-of-type th {\n",
       "        text-align: right;\n",
       "    }\n",
       "</style>\n",
       "<table border=\"1\" class=\"dataframe\">\n",
       "  <thead>\n",
       "    <tr>\n",
       "      <th></th>\n",
       "      <th colspan=\"8\" halign=\"left\">SPY</th>\n",
       "      <th colspan=\"8\" halign=\"left\">AGG</th>\n",
       "    </tr>\n",
       "    <tr>\n",
       "      <th></th>\n",
       "      <th>open</th>\n",
       "      <th>high</th>\n",
       "      <th>low</th>\n",
       "      <th>close</th>\n",
       "      <th>volume</th>\n",
       "      <th>trade_count</th>\n",
       "      <th>vwap</th>\n",
       "      <th>daily_return</th>\n",
       "      <th>open</th>\n",
       "      <th>high</th>\n",
       "      <th>low</th>\n",
       "      <th>close</th>\n",
       "      <th>volume</th>\n",
       "      <th>trade_count</th>\n",
       "      <th>vwap</th>\n",
       "      <th>daily_return</th>\n",
       "    </tr>\n",
       "    <tr>\n",
       "      <th>timestamp</th>\n",
       "      <th></th>\n",
       "      <th></th>\n",
       "      <th></th>\n",
       "      <th></th>\n",
       "      <th></th>\n",
       "      <th></th>\n",
       "      <th></th>\n",
       "      <th></th>\n",
       "      <th></th>\n",
       "      <th></th>\n",
       "      <th></th>\n",
       "      <th></th>\n",
       "      <th></th>\n",
       "      <th></th>\n",
       "      <th></th>\n",
       "      <th></th>\n",
       "    </tr>\n",
       "  </thead>\n",
       "  <tbody>\n",
       "    <tr>\n",
       "      <th>2019-12-30 05:00:00+00:00</th>\n",
       "      <td>322.95</td>\n",
       "      <td>323.10</td>\n",
       "      <td>320.55</td>\n",
       "      <td>321.13</td>\n",
       "      <td>49782805</td>\n",
       "      <td>245064</td>\n",
       "      <td>321.464803</td>\n",
       "      <td>NaN</td>\n",
       "      <td>112.42</td>\n",
       "      <td>112.645</td>\n",
       "      <td>112.3400</td>\n",
       "      <td>112.63</td>\n",
       "      <td>3979209</td>\n",
       "      <td>11922</td>\n",
       "      <td>112.529642</td>\n",
       "      <td>NaN</td>\n",
       "    </tr>\n",
       "    <tr>\n",
       "      <th>2019-12-31 05:00:00+00:00</th>\n",
       "      <td>320.53</td>\n",
       "      <td>322.13</td>\n",
       "      <td>320.15</td>\n",
       "      <td>321.85</td>\n",
       "      <td>57173534</td>\n",
       "      <td>212945</td>\n",
       "      <td>321.379997</td>\n",
       "      <td>0.002242</td>\n",
       "      <td>112.54</td>\n",
       "      <td>112.540</td>\n",
       "      <td>112.3650</td>\n",
       "      <td>112.37</td>\n",
       "      <td>6807706</td>\n",
       "      <td>19647</td>\n",
       "      <td>112.410957</td>\n",
       "      <td>-0.002308</td>\n",
       "    </tr>\n",
       "    <tr>\n",
       "      <th>2020-01-02 05:00:00+00:00</th>\n",
       "      <td>323.54</td>\n",
       "      <td>324.89</td>\n",
       "      <td>322.53</td>\n",
       "      <td>324.87</td>\n",
       "      <td>59253833</td>\n",
       "      <td>304884</td>\n",
       "      <td>323.710023</td>\n",
       "      <td>0.009383</td>\n",
       "      <td>112.68</td>\n",
       "      <td>112.800</td>\n",
       "      <td>112.5600</td>\n",
       "      <td>112.68</td>\n",
       "      <td>6791537</td>\n",
       "      <td>17763</td>\n",
       "      <td>112.645004</td>\n",
       "      <td>0.002759</td>\n",
       "    </tr>\n",
       "    <tr>\n",
       "      <th>2020-01-03 05:00:00+00:00</th>\n",
       "      <td>321.16</td>\n",
       "      <td>323.64</td>\n",
       "      <td>321.10</td>\n",
       "      <td>322.43</td>\n",
       "      <td>77783121</td>\n",
       "      <td>358500</td>\n",
       "      <td>322.791701</td>\n",
       "      <td>-0.007511</td>\n",
       "      <td>112.89</td>\n",
       "      <td>113.050</td>\n",
       "      <td>112.7814</td>\n",
       "      <td>113.01</td>\n",
       "      <td>3664283</td>\n",
       "      <td>14453</td>\n",
       "      <td>112.958798</td>\n",
       "      <td>0.002929</td>\n",
       "    </tr>\n",
       "    <tr>\n",
       "      <th>2020-01-06 05:00:00+00:00</th>\n",
       "      <td>320.49</td>\n",
       "      <td>323.73</td>\n",
       "      <td>320.36</td>\n",
       "      <td>323.73</td>\n",
       "      <td>55817168</td>\n",
       "      <td>255767</td>\n",
       "      <td>322.722391</td>\n",
       "      <td>0.004032</td>\n",
       "      <td>113.13</td>\n",
       "      <td>113.130</td>\n",
       "      <td>112.8400</td>\n",
       "      <td>112.92</td>\n",
       "      <td>8131608</td>\n",
       "      <td>17277</td>\n",
       "      <td>112.949600</td>\n",
       "      <td>-0.000796</td>\n",
       "    </tr>\n",
       "  </tbody>\n",
       "</table>\n",
       "</div>"
      ],
      "text/plain": [
       "                              SPY                                    \\\n",
       "                             open    high     low   close    volume   \n",
       "timestamp                                                             \n",
       "2019-12-30 05:00:00+00:00  322.95  323.10  320.55  321.13  49782805   \n",
       "2019-12-31 05:00:00+00:00  320.53  322.13  320.15  321.85  57173534   \n",
       "2020-01-02 05:00:00+00:00  323.54  324.89  322.53  324.87  59253833   \n",
       "2020-01-03 05:00:00+00:00  321.16  323.64  321.10  322.43  77783121   \n",
       "2020-01-06 05:00:00+00:00  320.49  323.73  320.36  323.73  55817168   \n",
       "\n",
       "                                                                   AGG  \\\n",
       "                          trade_count        vwap daily_return    open   \n",
       "timestamp                                                                \n",
       "2019-12-30 05:00:00+00:00      245064  321.464803          NaN  112.42   \n",
       "2019-12-31 05:00:00+00:00      212945  321.379997     0.002242  112.54   \n",
       "2020-01-02 05:00:00+00:00      304884  323.710023     0.009383  112.68   \n",
       "2020-01-03 05:00:00+00:00      358500  322.791701    -0.007511  112.89   \n",
       "2020-01-06 05:00:00+00:00      255767  322.722391     0.004032  113.13   \n",
       "\n",
       "                                                                           \\\n",
       "                              high       low   close   volume trade_count   \n",
       "timestamp                                                                   \n",
       "2019-12-30 05:00:00+00:00  112.645  112.3400  112.63  3979209       11922   \n",
       "2019-12-31 05:00:00+00:00  112.540  112.3650  112.37  6807706       19647   \n",
       "2020-01-02 05:00:00+00:00  112.800  112.5600  112.68  6791537       17763   \n",
       "2020-01-03 05:00:00+00:00  113.050  112.7814  113.01  3664283       14453   \n",
       "2020-01-06 05:00:00+00:00  113.130  112.8400  112.92  8131608       17277   \n",
       "\n",
       "                                                    \n",
       "                                 vwap daily_return  \n",
       "timestamp                                           \n",
       "2019-12-30 05:00:00+00:00  112.529642          NaN  \n",
       "2019-12-31 05:00:00+00:00  112.410957    -0.002308  \n",
       "2020-01-02 05:00:00+00:00  112.645004     0.002759  \n",
       "2020-01-03 05:00:00+00:00  112.958798     0.002929  \n",
       "2020-01-06 05:00:00+00:00  112.949600    -0.000796  "
      ]
     },
     "execution_count": 37,
     "metadata": {},
     "output_type": "execute_result"
    }
   ],
   "source": [
    "# Configure a Monte Carlo simulation to forecast 10 years cumulative returns\n",
    "# The weights should be split 20% to AGG and 80% to SPY.\n",
    "# Run 500 samples.\n",
    "MC_10year = MCSimulation(\n",
    "    portfolio_data = prices_df_retire,\n",
    "    weights = [.80,.20],\n",
    "    num_simulation = 500,\n",
    "    num_trading_days = 252*10\n",
    ")\n",
    "\n",
    "\n",
    "# Review the simulation input data\n",
    "MC_10year.portfolio_data.head()"
   ]
  },
  {
   "cell_type": "code",
   "execution_count": 38,
   "metadata": {},
   "outputs": [
    {
     "name": "stdout",
     "output_type": "stream",
     "text": [
      "Running Monte Carlo simulation number 0.\n",
      "Running Monte Carlo simulation number 10.\n",
      "Running Monte Carlo simulation number 20.\n",
      "Running Monte Carlo simulation number 30.\n",
      "Running Monte Carlo simulation number 40.\n",
      "Running Monte Carlo simulation number 50.\n",
      "Running Monte Carlo simulation number 60.\n",
      "Running Monte Carlo simulation number 70.\n",
      "Running Monte Carlo simulation number 80.\n",
      "Running Monte Carlo simulation number 90.\n",
      "Running Monte Carlo simulation number 100.\n"
     ]
    },
    {
     "name": "stderr",
     "output_type": "stream",
     "text": [
      "C:\\Users\\boris\\OneDrive\\Documents\\Studies\\ColumbiaBootCamp\\FinTech-Workspace\\Module_5\\Challenge_5\\Starter_Code\\FinTech_Module5_Financial_Planner\\MCForecastTools.py:117: PerformanceWarning: DataFrame is highly fragmented.  This is usually the result of calling `frame.insert` many times, which has poor performance.  Consider joining all columns at once using pd.concat(axis=1) instead. To get a de-fragmented frame, use `newframe = frame.copy()`\n",
      "  portfolio_cumulative_returns[n] = (1 + sim_df.fillna(0)).cumprod()\n",
      "C:\\Users\\boris\\OneDrive\\Documents\\Studies\\ColumbiaBootCamp\\FinTech-Workspace\\Module_5\\Challenge_5\\Starter_Code\\FinTech_Module5_Financial_Planner\\MCForecastTools.py:117: PerformanceWarning: DataFrame is highly fragmented.  This is usually the result of calling `frame.insert` many times, which has poor performance.  Consider joining all columns at once using pd.concat(axis=1) instead. To get a de-fragmented frame, use `newframe = frame.copy()`\n",
      "  portfolio_cumulative_returns[n] = (1 + sim_df.fillna(0)).cumprod()\n",
      "C:\\Users\\boris\\OneDrive\\Documents\\Studies\\ColumbiaBootCamp\\FinTech-Workspace\\Module_5\\Challenge_5\\Starter_Code\\FinTech_Module5_Financial_Planner\\MCForecastTools.py:117: PerformanceWarning: DataFrame is highly fragmented.  This is usually the result of calling `frame.insert` many times, which has poor performance.  Consider joining all columns at once using pd.concat(axis=1) instead. To get a de-fragmented frame, use `newframe = frame.copy()`\n",
      "  portfolio_cumulative_returns[n] = (1 + sim_df.fillna(0)).cumprod()\n",
      "C:\\Users\\boris\\OneDrive\\Documents\\Studies\\ColumbiaBootCamp\\FinTech-Workspace\\Module_5\\Challenge_5\\Starter_Code\\FinTech_Module5_Financial_Planner\\MCForecastTools.py:117: PerformanceWarning: DataFrame is highly fragmented.  This is usually the result of calling `frame.insert` many times, which has poor performance.  Consider joining all columns at once using pd.concat(axis=1) instead. To get a de-fragmented frame, use `newframe = frame.copy()`\n",
      "  portfolio_cumulative_returns[n] = (1 + sim_df.fillna(0)).cumprod()\n",
      "C:\\Users\\boris\\OneDrive\\Documents\\Studies\\ColumbiaBootCamp\\FinTech-Workspace\\Module_5\\Challenge_5\\Starter_Code\\FinTech_Module5_Financial_Planner\\MCForecastTools.py:117: PerformanceWarning: DataFrame is highly fragmented.  This is usually the result of calling `frame.insert` many times, which has poor performance.  Consider joining all columns at once using pd.concat(axis=1) instead. To get a de-fragmented frame, use `newframe = frame.copy()`\n",
      "  portfolio_cumulative_returns[n] = (1 + sim_df.fillna(0)).cumprod()\n",
      "C:\\Users\\boris\\OneDrive\\Documents\\Studies\\ColumbiaBootCamp\\FinTech-Workspace\\Module_5\\Challenge_5\\Starter_Code\\FinTech_Module5_Financial_Planner\\MCForecastTools.py:117: PerformanceWarning: DataFrame is highly fragmented.  This is usually the result of calling `frame.insert` many times, which has poor performance.  Consider joining all columns at once using pd.concat(axis=1) instead. To get a de-fragmented frame, use `newframe = frame.copy()`\n",
      "  portfolio_cumulative_returns[n] = (1 + sim_df.fillna(0)).cumprod()\n",
      "C:\\Users\\boris\\OneDrive\\Documents\\Studies\\ColumbiaBootCamp\\FinTech-Workspace\\Module_5\\Challenge_5\\Starter_Code\\FinTech_Module5_Financial_Planner\\MCForecastTools.py:117: PerformanceWarning: DataFrame is highly fragmented.  This is usually the result of calling `frame.insert` many times, which has poor performance.  Consider joining all columns at once using pd.concat(axis=1) instead. To get a de-fragmented frame, use `newframe = frame.copy()`\n",
      "  portfolio_cumulative_returns[n] = (1 + sim_df.fillna(0)).cumprod()\n",
      "C:\\Users\\boris\\OneDrive\\Documents\\Studies\\ColumbiaBootCamp\\FinTech-Workspace\\Module_5\\Challenge_5\\Starter_Code\\FinTech_Module5_Financial_Planner\\MCForecastTools.py:117: PerformanceWarning: DataFrame is highly fragmented.  This is usually the result of calling `frame.insert` many times, which has poor performance.  Consider joining all columns at once using pd.concat(axis=1) instead. To get a de-fragmented frame, use `newframe = frame.copy()`\n",
      "  portfolio_cumulative_returns[n] = (1 + sim_df.fillna(0)).cumprod()\n",
      "C:\\Users\\boris\\OneDrive\\Documents\\Studies\\ColumbiaBootCamp\\FinTech-Workspace\\Module_5\\Challenge_5\\Starter_Code\\FinTech_Module5_Financial_Planner\\MCForecastTools.py:117: PerformanceWarning: DataFrame is highly fragmented.  This is usually the result of calling `frame.insert` many times, which has poor performance.  Consider joining all columns at once using pd.concat(axis=1) instead. To get a de-fragmented frame, use `newframe = frame.copy()`\n",
      "  portfolio_cumulative_returns[n] = (1 + sim_df.fillna(0)).cumprod()\n",
      "C:\\Users\\boris\\OneDrive\\Documents\\Studies\\ColumbiaBootCamp\\FinTech-Workspace\\Module_5\\Challenge_5\\Starter_Code\\FinTech_Module5_Financial_Planner\\MCForecastTools.py:117: PerformanceWarning: DataFrame is highly fragmented.  This is usually the result of calling `frame.insert` many times, which has poor performance.  Consider joining all columns at once using pd.concat(axis=1) instead. To get a de-fragmented frame, use `newframe = frame.copy()`\n",
      "  portfolio_cumulative_returns[n] = (1 + sim_df.fillna(0)).cumprod()\n",
      "C:\\Users\\boris\\OneDrive\\Documents\\Studies\\ColumbiaBootCamp\\FinTech-Workspace\\Module_5\\Challenge_5\\Starter_Code\\FinTech_Module5_Financial_Planner\\MCForecastTools.py:117: PerformanceWarning: DataFrame is highly fragmented.  This is usually the result of calling `frame.insert` many times, which has poor performance.  Consider joining all columns at once using pd.concat(axis=1) instead. To get a de-fragmented frame, use `newframe = frame.copy()`\n",
      "  portfolio_cumulative_returns[n] = (1 + sim_df.fillna(0)).cumprod()\n",
      "C:\\Users\\boris\\OneDrive\\Documents\\Studies\\ColumbiaBootCamp\\FinTech-Workspace\\Module_5\\Challenge_5\\Starter_Code\\FinTech_Module5_Financial_Planner\\MCForecastTools.py:117: PerformanceWarning: DataFrame is highly fragmented.  This is usually the result of calling `frame.insert` many times, which has poor performance.  Consider joining all columns at once using pd.concat(axis=1) instead. To get a de-fragmented frame, use `newframe = frame.copy()`\n",
      "  portfolio_cumulative_returns[n] = (1 + sim_df.fillna(0)).cumprod()\n"
     ]
    },
    {
     "name": "stdout",
     "output_type": "stream",
     "text": [
      "Running Monte Carlo simulation number 110.\n"
     ]
    },
    {
     "name": "stderr",
     "output_type": "stream",
     "text": [
      "C:\\Users\\boris\\OneDrive\\Documents\\Studies\\ColumbiaBootCamp\\FinTech-Workspace\\Module_5\\Challenge_5\\Starter_Code\\FinTech_Module5_Financial_Planner\\MCForecastTools.py:117: PerformanceWarning: DataFrame is highly fragmented.  This is usually the result of calling `frame.insert` many times, which has poor performance.  Consider joining all columns at once using pd.concat(axis=1) instead. To get a de-fragmented frame, use `newframe = frame.copy()`\n",
      "  portfolio_cumulative_returns[n] = (1 + sim_df.fillna(0)).cumprod()\n",
      "C:\\Users\\boris\\OneDrive\\Documents\\Studies\\ColumbiaBootCamp\\FinTech-Workspace\\Module_5\\Challenge_5\\Starter_Code\\FinTech_Module5_Financial_Planner\\MCForecastTools.py:117: PerformanceWarning: DataFrame is highly fragmented.  This is usually the result of calling `frame.insert` many times, which has poor performance.  Consider joining all columns at once using pd.concat(axis=1) instead. To get a de-fragmented frame, use `newframe = frame.copy()`\n",
      "  portfolio_cumulative_returns[n] = (1 + sim_df.fillna(0)).cumprod()\n",
      "C:\\Users\\boris\\OneDrive\\Documents\\Studies\\ColumbiaBootCamp\\FinTech-Workspace\\Module_5\\Challenge_5\\Starter_Code\\FinTech_Module5_Financial_Planner\\MCForecastTools.py:117: PerformanceWarning: DataFrame is highly fragmented.  This is usually the result of calling `frame.insert` many times, which has poor performance.  Consider joining all columns at once using pd.concat(axis=1) instead. To get a de-fragmented frame, use `newframe = frame.copy()`\n",
      "  portfolio_cumulative_returns[n] = (1 + sim_df.fillna(0)).cumprod()\n",
      "C:\\Users\\boris\\OneDrive\\Documents\\Studies\\ColumbiaBootCamp\\FinTech-Workspace\\Module_5\\Challenge_5\\Starter_Code\\FinTech_Module5_Financial_Planner\\MCForecastTools.py:117: PerformanceWarning: DataFrame is highly fragmented.  This is usually the result of calling `frame.insert` many times, which has poor performance.  Consider joining all columns at once using pd.concat(axis=1) instead. To get a de-fragmented frame, use `newframe = frame.copy()`\n",
      "  portfolio_cumulative_returns[n] = (1 + sim_df.fillna(0)).cumprod()\n",
      "C:\\Users\\boris\\OneDrive\\Documents\\Studies\\ColumbiaBootCamp\\FinTech-Workspace\\Module_5\\Challenge_5\\Starter_Code\\FinTech_Module5_Financial_Planner\\MCForecastTools.py:117: PerformanceWarning: DataFrame is highly fragmented.  This is usually the result of calling `frame.insert` many times, which has poor performance.  Consider joining all columns at once using pd.concat(axis=1) instead. To get a de-fragmented frame, use `newframe = frame.copy()`\n",
      "  portfolio_cumulative_returns[n] = (1 + sim_df.fillna(0)).cumprod()\n",
      "C:\\Users\\boris\\OneDrive\\Documents\\Studies\\ColumbiaBootCamp\\FinTech-Workspace\\Module_5\\Challenge_5\\Starter_Code\\FinTech_Module5_Financial_Planner\\MCForecastTools.py:117: PerformanceWarning: DataFrame is highly fragmented.  This is usually the result of calling `frame.insert` many times, which has poor performance.  Consider joining all columns at once using pd.concat(axis=1) instead. To get a de-fragmented frame, use `newframe = frame.copy()`\n",
      "  portfolio_cumulative_returns[n] = (1 + sim_df.fillna(0)).cumprod()\n",
      "C:\\Users\\boris\\OneDrive\\Documents\\Studies\\ColumbiaBootCamp\\FinTech-Workspace\\Module_5\\Challenge_5\\Starter_Code\\FinTech_Module5_Financial_Planner\\MCForecastTools.py:117: PerformanceWarning: DataFrame is highly fragmented.  This is usually the result of calling `frame.insert` many times, which has poor performance.  Consider joining all columns at once using pd.concat(axis=1) instead. To get a de-fragmented frame, use `newframe = frame.copy()`\n",
      "  portfolio_cumulative_returns[n] = (1 + sim_df.fillna(0)).cumprod()\n",
      "C:\\Users\\boris\\OneDrive\\Documents\\Studies\\ColumbiaBootCamp\\FinTech-Workspace\\Module_5\\Challenge_5\\Starter_Code\\FinTech_Module5_Financial_Planner\\MCForecastTools.py:117: PerformanceWarning: DataFrame is highly fragmented.  This is usually the result of calling `frame.insert` many times, which has poor performance.  Consider joining all columns at once using pd.concat(axis=1) instead. To get a de-fragmented frame, use `newframe = frame.copy()`\n",
      "  portfolio_cumulative_returns[n] = (1 + sim_df.fillna(0)).cumprod()\n"
     ]
    },
    {
     "name": "stdout",
     "output_type": "stream",
     "text": [
      "Running Monte Carlo simulation number 120.\n"
     ]
    },
    {
     "name": "stderr",
     "output_type": "stream",
     "text": [
      "C:\\Users\\boris\\OneDrive\\Documents\\Studies\\ColumbiaBootCamp\\FinTech-Workspace\\Module_5\\Challenge_5\\Starter_Code\\FinTech_Module5_Financial_Planner\\MCForecastTools.py:117: PerformanceWarning: DataFrame is highly fragmented.  This is usually the result of calling `frame.insert` many times, which has poor performance.  Consider joining all columns at once using pd.concat(axis=1) instead. To get a de-fragmented frame, use `newframe = frame.copy()`\n",
      "  portfolio_cumulative_returns[n] = (1 + sim_df.fillna(0)).cumprod()\n",
      "C:\\Users\\boris\\OneDrive\\Documents\\Studies\\ColumbiaBootCamp\\FinTech-Workspace\\Module_5\\Challenge_5\\Starter_Code\\FinTech_Module5_Financial_Planner\\MCForecastTools.py:117: PerformanceWarning: DataFrame is highly fragmented.  This is usually the result of calling `frame.insert` many times, which has poor performance.  Consider joining all columns at once using pd.concat(axis=1) instead. To get a de-fragmented frame, use `newframe = frame.copy()`\n",
      "  portfolio_cumulative_returns[n] = (1 + sim_df.fillna(0)).cumprod()\n",
      "C:\\Users\\boris\\OneDrive\\Documents\\Studies\\ColumbiaBootCamp\\FinTech-Workspace\\Module_5\\Challenge_5\\Starter_Code\\FinTech_Module5_Financial_Planner\\MCForecastTools.py:117: PerformanceWarning: DataFrame is highly fragmented.  This is usually the result of calling `frame.insert` many times, which has poor performance.  Consider joining all columns at once using pd.concat(axis=1) instead. To get a de-fragmented frame, use `newframe = frame.copy()`\n",
      "  portfolio_cumulative_returns[n] = (1 + sim_df.fillna(0)).cumprod()\n",
      "C:\\Users\\boris\\OneDrive\\Documents\\Studies\\ColumbiaBootCamp\\FinTech-Workspace\\Module_5\\Challenge_5\\Starter_Code\\FinTech_Module5_Financial_Planner\\MCForecastTools.py:117: PerformanceWarning: DataFrame is highly fragmented.  This is usually the result of calling `frame.insert` many times, which has poor performance.  Consider joining all columns at once using pd.concat(axis=1) instead. To get a de-fragmented frame, use `newframe = frame.copy()`\n",
      "  portfolio_cumulative_returns[n] = (1 + sim_df.fillna(0)).cumprod()\n",
      "C:\\Users\\boris\\OneDrive\\Documents\\Studies\\ColumbiaBootCamp\\FinTech-Workspace\\Module_5\\Challenge_5\\Starter_Code\\FinTech_Module5_Financial_Planner\\MCForecastTools.py:117: PerformanceWarning: DataFrame is highly fragmented.  This is usually the result of calling `frame.insert` many times, which has poor performance.  Consider joining all columns at once using pd.concat(axis=1) instead. To get a de-fragmented frame, use `newframe = frame.copy()`\n",
      "  portfolio_cumulative_returns[n] = (1 + sim_df.fillna(0)).cumprod()\n",
      "C:\\Users\\boris\\OneDrive\\Documents\\Studies\\ColumbiaBootCamp\\FinTech-Workspace\\Module_5\\Challenge_5\\Starter_Code\\FinTech_Module5_Financial_Planner\\MCForecastTools.py:117: PerformanceWarning: DataFrame is highly fragmented.  This is usually the result of calling `frame.insert` many times, which has poor performance.  Consider joining all columns at once using pd.concat(axis=1) instead. To get a de-fragmented frame, use `newframe = frame.copy()`\n",
      "  portfolio_cumulative_returns[n] = (1 + sim_df.fillna(0)).cumprod()\n",
      "C:\\Users\\boris\\OneDrive\\Documents\\Studies\\ColumbiaBootCamp\\FinTech-Workspace\\Module_5\\Challenge_5\\Starter_Code\\FinTech_Module5_Financial_Planner\\MCForecastTools.py:117: PerformanceWarning: DataFrame is highly fragmented.  This is usually the result of calling `frame.insert` many times, which has poor performance.  Consider joining all columns at once using pd.concat(axis=1) instead. To get a de-fragmented frame, use `newframe = frame.copy()`\n",
      "  portfolio_cumulative_returns[n] = (1 + sim_df.fillna(0)).cumprod()\n",
      "C:\\Users\\boris\\OneDrive\\Documents\\Studies\\ColumbiaBootCamp\\FinTech-Workspace\\Module_5\\Challenge_5\\Starter_Code\\FinTech_Module5_Financial_Planner\\MCForecastTools.py:117: PerformanceWarning: DataFrame is highly fragmented.  This is usually the result of calling `frame.insert` many times, which has poor performance.  Consider joining all columns at once using pd.concat(axis=1) instead. To get a de-fragmented frame, use `newframe = frame.copy()`\n",
      "  portfolio_cumulative_returns[n] = (1 + sim_df.fillna(0)).cumprod()\n",
      "C:\\Users\\boris\\OneDrive\\Documents\\Studies\\ColumbiaBootCamp\\FinTech-Workspace\\Module_5\\Challenge_5\\Starter_Code\\FinTech_Module5_Financial_Planner\\MCForecastTools.py:117: PerformanceWarning: DataFrame is highly fragmented.  This is usually the result of calling `frame.insert` many times, which has poor performance.  Consider joining all columns at once using pd.concat(axis=1) instead. To get a de-fragmented frame, use `newframe = frame.copy()`\n",
      "  portfolio_cumulative_returns[n] = (1 + sim_df.fillna(0)).cumprod()\n",
      "C:\\Users\\boris\\OneDrive\\Documents\\Studies\\ColumbiaBootCamp\\FinTech-Workspace\\Module_5\\Challenge_5\\Starter_Code\\FinTech_Module5_Financial_Planner\\MCForecastTools.py:117: PerformanceWarning: DataFrame is highly fragmented.  This is usually the result of calling `frame.insert` many times, which has poor performance.  Consider joining all columns at once using pd.concat(axis=1) instead. To get a de-fragmented frame, use `newframe = frame.copy()`\n",
      "  portfolio_cumulative_returns[n] = (1 + sim_df.fillna(0)).cumprod()\n"
     ]
    },
    {
     "name": "stdout",
     "output_type": "stream",
     "text": [
      "Running Monte Carlo simulation number 130.\n"
     ]
    },
    {
     "name": "stderr",
     "output_type": "stream",
     "text": [
      "C:\\Users\\boris\\OneDrive\\Documents\\Studies\\ColumbiaBootCamp\\FinTech-Workspace\\Module_5\\Challenge_5\\Starter_Code\\FinTech_Module5_Financial_Planner\\MCForecastTools.py:117: PerformanceWarning: DataFrame is highly fragmented.  This is usually the result of calling `frame.insert` many times, which has poor performance.  Consider joining all columns at once using pd.concat(axis=1) instead. To get a de-fragmented frame, use `newframe = frame.copy()`\n",
      "  portfolio_cumulative_returns[n] = (1 + sim_df.fillna(0)).cumprod()\n",
      "C:\\Users\\boris\\OneDrive\\Documents\\Studies\\ColumbiaBootCamp\\FinTech-Workspace\\Module_5\\Challenge_5\\Starter_Code\\FinTech_Module5_Financial_Planner\\MCForecastTools.py:117: PerformanceWarning: DataFrame is highly fragmented.  This is usually the result of calling `frame.insert` many times, which has poor performance.  Consider joining all columns at once using pd.concat(axis=1) instead. To get a de-fragmented frame, use `newframe = frame.copy()`\n",
      "  portfolio_cumulative_returns[n] = (1 + sim_df.fillna(0)).cumprod()\n",
      "C:\\Users\\boris\\OneDrive\\Documents\\Studies\\ColumbiaBootCamp\\FinTech-Workspace\\Module_5\\Challenge_5\\Starter_Code\\FinTech_Module5_Financial_Planner\\MCForecastTools.py:117: PerformanceWarning: DataFrame is highly fragmented.  This is usually the result of calling `frame.insert` many times, which has poor performance.  Consider joining all columns at once using pd.concat(axis=1) instead. To get a de-fragmented frame, use `newframe = frame.copy()`\n",
      "  portfolio_cumulative_returns[n] = (1 + sim_df.fillna(0)).cumprod()\n",
      "C:\\Users\\boris\\OneDrive\\Documents\\Studies\\ColumbiaBootCamp\\FinTech-Workspace\\Module_5\\Challenge_5\\Starter_Code\\FinTech_Module5_Financial_Planner\\MCForecastTools.py:117: PerformanceWarning: DataFrame is highly fragmented.  This is usually the result of calling `frame.insert` many times, which has poor performance.  Consider joining all columns at once using pd.concat(axis=1) instead. To get a de-fragmented frame, use `newframe = frame.copy()`\n",
      "  portfolio_cumulative_returns[n] = (1 + sim_df.fillna(0)).cumprod()\n",
      "C:\\Users\\boris\\OneDrive\\Documents\\Studies\\ColumbiaBootCamp\\FinTech-Workspace\\Module_5\\Challenge_5\\Starter_Code\\FinTech_Module5_Financial_Planner\\MCForecastTools.py:117: PerformanceWarning: DataFrame is highly fragmented.  This is usually the result of calling `frame.insert` many times, which has poor performance.  Consider joining all columns at once using pd.concat(axis=1) instead. To get a de-fragmented frame, use `newframe = frame.copy()`\n",
      "  portfolio_cumulative_returns[n] = (1 + sim_df.fillna(0)).cumprod()\n",
      "C:\\Users\\boris\\OneDrive\\Documents\\Studies\\ColumbiaBootCamp\\FinTech-Workspace\\Module_5\\Challenge_5\\Starter_Code\\FinTech_Module5_Financial_Planner\\MCForecastTools.py:117: PerformanceWarning: DataFrame is highly fragmented.  This is usually the result of calling `frame.insert` many times, which has poor performance.  Consider joining all columns at once using pd.concat(axis=1) instead. To get a de-fragmented frame, use `newframe = frame.copy()`\n",
      "  portfolio_cumulative_returns[n] = (1 + sim_df.fillna(0)).cumprod()\n",
      "C:\\Users\\boris\\OneDrive\\Documents\\Studies\\ColumbiaBootCamp\\FinTech-Workspace\\Module_5\\Challenge_5\\Starter_Code\\FinTech_Module5_Financial_Planner\\MCForecastTools.py:117: PerformanceWarning: DataFrame is highly fragmented.  This is usually the result of calling `frame.insert` many times, which has poor performance.  Consider joining all columns at once using pd.concat(axis=1) instead. To get a de-fragmented frame, use `newframe = frame.copy()`\n",
      "  portfolio_cumulative_returns[n] = (1 + sim_df.fillna(0)).cumprod()\n",
      "C:\\Users\\boris\\OneDrive\\Documents\\Studies\\ColumbiaBootCamp\\FinTech-Workspace\\Module_5\\Challenge_5\\Starter_Code\\FinTech_Module5_Financial_Planner\\MCForecastTools.py:117: PerformanceWarning: DataFrame is highly fragmented.  This is usually the result of calling `frame.insert` many times, which has poor performance.  Consider joining all columns at once using pd.concat(axis=1) instead. To get a de-fragmented frame, use `newframe = frame.copy()`\n",
      "  portfolio_cumulative_returns[n] = (1 + sim_df.fillna(0)).cumprod()\n",
      "C:\\Users\\boris\\OneDrive\\Documents\\Studies\\ColumbiaBootCamp\\FinTech-Workspace\\Module_5\\Challenge_5\\Starter_Code\\FinTech_Module5_Financial_Planner\\MCForecastTools.py:117: PerformanceWarning: DataFrame is highly fragmented.  This is usually the result of calling `frame.insert` many times, which has poor performance.  Consider joining all columns at once using pd.concat(axis=1) instead. To get a de-fragmented frame, use `newframe = frame.copy()`\n",
      "  portfolio_cumulative_returns[n] = (1 + sim_df.fillna(0)).cumprod()\n",
      "C:\\Users\\boris\\OneDrive\\Documents\\Studies\\ColumbiaBootCamp\\FinTech-Workspace\\Module_5\\Challenge_5\\Starter_Code\\FinTech_Module5_Financial_Planner\\MCForecastTools.py:117: PerformanceWarning: DataFrame is highly fragmented.  This is usually the result of calling `frame.insert` many times, which has poor performance.  Consider joining all columns at once using pd.concat(axis=1) instead. To get a de-fragmented frame, use `newframe = frame.copy()`\n",
      "  portfolio_cumulative_returns[n] = (1 + sim_df.fillna(0)).cumprod()\n",
      "C:\\Users\\boris\\OneDrive\\Documents\\Studies\\ColumbiaBootCamp\\FinTech-Workspace\\Module_5\\Challenge_5\\Starter_Code\\FinTech_Module5_Financial_Planner\\MCForecastTools.py:117: PerformanceWarning: DataFrame is highly fragmented.  This is usually the result of calling `frame.insert` many times, which has poor performance.  Consider joining all columns at once using pd.concat(axis=1) instead. To get a de-fragmented frame, use `newframe = frame.copy()`\n",
      "  portfolio_cumulative_returns[n] = (1 + sim_df.fillna(0)).cumprod()\n",
      "C:\\Users\\boris\\OneDrive\\Documents\\Studies\\ColumbiaBootCamp\\FinTech-Workspace\\Module_5\\Challenge_5\\Starter_Code\\FinTech_Module5_Financial_Planner\\MCForecastTools.py:117: PerformanceWarning: DataFrame is highly fragmented.  This is usually the result of calling `frame.insert` many times, which has poor performance.  Consider joining all columns at once using pd.concat(axis=1) instead. To get a de-fragmented frame, use `newframe = frame.copy()`\n",
      "  portfolio_cumulative_returns[n] = (1 + sim_df.fillna(0)).cumprod()\n",
      "C:\\Users\\boris\\OneDrive\\Documents\\Studies\\ColumbiaBootCamp\\FinTech-Workspace\\Module_5\\Challenge_5\\Starter_Code\\FinTech_Module5_Financial_Planner\\MCForecastTools.py:117: PerformanceWarning: DataFrame is highly fragmented.  This is usually the result of calling `frame.insert` many times, which has poor performance.  Consider joining all columns at once using pd.concat(axis=1) instead. To get a de-fragmented frame, use `newframe = frame.copy()`\n",
      "  portfolio_cumulative_returns[n] = (1 + sim_df.fillna(0)).cumprod()\n",
      "C:\\Users\\boris\\OneDrive\\Documents\\Studies\\ColumbiaBootCamp\\FinTech-Workspace\\Module_5\\Challenge_5\\Starter_Code\\FinTech_Module5_Financial_Planner\\MCForecastTools.py:117: PerformanceWarning: DataFrame is highly fragmented.  This is usually the result of calling `frame.insert` many times, which has poor performance.  Consider joining all columns at once using pd.concat(axis=1) instead. To get a de-fragmented frame, use `newframe = frame.copy()`\n",
      "  portfolio_cumulative_returns[n] = (1 + sim_df.fillna(0)).cumprod()\n"
     ]
    },
    {
     "name": "stdout",
     "output_type": "stream",
     "text": [
      "Running Monte Carlo simulation number 140.\n"
     ]
    },
    {
     "name": "stderr",
     "output_type": "stream",
     "text": [
      "C:\\Users\\boris\\OneDrive\\Documents\\Studies\\ColumbiaBootCamp\\FinTech-Workspace\\Module_5\\Challenge_5\\Starter_Code\\FinTech_Module5_Financial_Planner\\MCForecastTools.py:117: PerformanceWarning: DataFrame is highly fragmented.  This is usually the result of calling `frame.insert` many times, which has poor performance.  Consider joining all columns at once using pd.concat(axis=1) instead. To get a de-fragmented frame, use `newframe = frame.copy()`\n",
      "  portfolio_cumulative_returns[n] = (1 + sim_df.fillna(0)).cumprod()\n",
      "C:\\Users\\boris\\OneDrive\\Documents\\Studies\\ColumbiaBootCamp\\FinTech-Workspace\\Module_5\\Challenge_5\\Starter_Code\\FinTech_Module5_Financial_Planner\\MCForecastTools.py:117: PerformanceWarning: DataFrame is highly fragmented.  This is usually the result of calling `frame.insert` many times, which has poor performance.  Consider joining all columns at once using pd.concat(axis=1) instead. To get a de-fragmented frame, use `newframe = frame.copy()`\n",
      "  portfolio_cumulative_returns[n] = (1 + sim_df.fillna(0)).cumprod()\n",
      "C:\\Users\\boris\\OneDrive\\Documents\\Studies\\ColumbiaBootCamp\\FinTech-Workspace\\Module_5\\Challenge_5\\Starter_Code\\FinTech_Module5_Financial_Planner\\MCForecastTools.py:117: PerformanceWarning: DataFrame is highly fragmented.  This is usually the result of calling `frame.insert` many times, which has poor performance.  Consider joining all columns at once using pd.concat(axis=1) instead. To get a de-fragmented frame, use `newframe = frame.copy()`\n",
      "  portfolio_cumulative_returns[n] = (1 + sim_df.fillna(0)).cumprod()\n",
      "C:\\Users\\boris\\OneDrive\\Documents\\Studies\\ColumbiaBootCamp\\FinTech-Workspace\\Module_5\\Challenge_5\\Starter_Code\\FinTech_Module5_Financial_Planner\\MCForecastTools.py:117: PerformanceWarning: DataFrame is highly fragmented.  This is usually the result of calling `frame.insert` many times, which has poor performance.  Consider joining all columns at once using pd.concat(axis=1) instead. To get a de-fragmented frame, use `newframe = frame.copy()`\n",
      "  portfolio_cumulative_returns[n] = (1 + sim_df.fillna(0)).cumprod()\n",
      "C:\\Users\\boris\\OneDrive\\Documents\\Studies\\ColumbiaBootCamp\\FinTech-Workspace\\Module_5\\Challenge_5\\Starter_Code\\FinTech_Module5_Financial_Planner\\MCForecastTools.py:117: PerformanceWarning: DataFrame is highly fragmented.  This is usually the result of calling `frame.insert` many times, which has poor performance.  Consider joining all columns at once using pd.concat(axis=1) instead. To get a de-fragmented frame, use `newframe = frame.copy()`\n",
      "  portfolio_cumulative_returns[n] = (1 + sim_df.fillna(0)).cumprod()\n",
      "C:\\Users\\boris\\OneDrive\\Documents\\Studies\\ColumbiaBootCamp\\FinTech-Workspace\\Module_5\\Challenge_5\\Starter_Code\\FinTech_Module5_Financial_Planner\\MCForecastTools.py:117: PerformanceWarning: DataFrame is highly fragmented.  This is usually the result of calling `frame.insert` many times, which has poor performance.  Consider joining all columns at once using pd.concat(axis=1) instead. To get a de-fragmented frame, use `newframe = frame.copy()`\n",
      "  portfolio_cumulative_returns[n] = (1 + sim_df.fillna(0)).cumprod()\n",
      "C:\\Users\\boris\\OneDrive\\Documents\\Studies\\ColumbiaBootCamp\\FinTech-Workspace\\Module_5\\Challenge_5\\Starter_Code\\FinTech_Module5_Financial_Planner\\MCForecastTools.py:117: PerformanceWarning: DataFrame is highly fragmented.  This is usually the result of calling `frame.insert` many times, which has poor performance.  Consider joining all columns at once using pd.concat(axis=1) instead. To get a de-fragmented frame, use `newframe = frame.copy()`\n",
      "  portfolio_cumulative_returns[n] = (1 + sim_df.fillna(0)).cumprod()\n",
      "C:\\Users\\boris\\OneDrive\\Documents\\Studies\\ColumbiaBootCamp\\FinTech-Workspace\\Module_5\\Challenge_5\\Starter_Code\\FinTech_Module5_Financial_Planner\\MCForecastTools.py:117: PerformanceWarning: DataFrame is highly fragmented.  This is usually the result of calling `frame.insert` many times, which has poor performance.  Consider joining all columns at once using pd.concat(axis=1) instead. To get a de-fragmented frame, use `newframe = frame.copy()`\n",
      "  portfolio_cumulative_returns[n] = (1 + sim_df.fillna(0)).cumprod()\n"
     ]
    },
    {
     "name": "stdout",
     "output_type": "stream",
     "text": [
      "Running Monte Carlo simulation number 150.\n"
     ]
    },
    {
     "name": "stderr",
     "output_type": "stream",
     "text": [
      "C:\\Users\\boris\\OneDrive\\Documents\\Studies\\ColumbiaBootCamp\\FinTech-Workspace\\Module_5\\Challenge_5\\Starter_Code\\FinTech_Module5_Financial_Planner\\MCForecastTools.py:117: PerformanceWarning: DataFrame is highly fragmented.  This is usually the result of calling `frame.insert` many times, which has poor performance.  Consider joining all columns at once using pd.concat(axis=1) instead. To get a de-fragmented frame, use `newframe = frame.copy()`\n",
      "  portfolio_cumulative_returns[n] = (1 + sim_df.fillna(0)).cumprod()\n",
      "C:\\Users\\boris\\OneDrive\\Documents\\Studies\\ColumbiaBootCamp\\FinTech-Workspace\\Module_5\\Challenge_5\\Starter_Code\\FinTech_Module5_Financial_Planner\\MCForecastTools.py:117: PerformanceWarning: DataFrame is highly fragmented.  This is usually the result of calling `frame.insert` many times, which has poor performance.  Consider joining all columns at once using pd.concat(axis=1) instead. To get a de-fragmented frame, use `newframe = frame.copy()`\n",
      "  portfolio_cumulative_returns[n] = (1 + sim_df.fillna(0)).cumprod()\n",
      "C:\\Users\\boris\\OneDrive\\Documents\\Studies\\ColumbiaBootCamp\\FinTech-Workspace\\Module_5\\Challenge_5\\Starter_Code\\FinTech_Module5_Financial_Planner\\MCForecastTools.py:117: PerformanceWarning: DataFrame is highly fragmented.  This is usually the result of calling `frame.insert` many times, which has poor performance.  Consider joining all columns at once using pd.concat(axis=1) instead. To get a de-fragmented frame, use `newframe = frame.copy()`\n",
      "  portfolio_cumulative_returns[n] = (1 + sim_df.fillna(0)).cumprod()\n",
      "C:\\Users\\boris\\OneDrive\\Documents\\Studies\\ColumbiaBootCamp\\FinTech-Workspace\\Module_5\\Challenge_5\\Starter_Code\\FinTech_Module5_Financial_Planner\\MCForecastTools.py:117: PerformanceWarning: DataFrame is highly fragmented.  This is usually the result of calling `frame.insert` many times, which has poor performance.  Consider joining all columns at once using pd.concat(axis=1) instead. To get a de-fragmented frame, use `newframe = frame.copy()`\n",
      "  portfolio_cumulative_returns[n] = (1 + sim_df.fillna(0)).cumprod()\n",
      "C:\\Users\\boris\\OneDrive\\Documents\\Studies\\ColumbiaBootCamp\\FinTech-Workspace\\Module_5\\Challenge_5\\Starter_Code\\FinTech_Module5_Financial_Planner\\MCForecastTools.py:117: PerformanceWarning: DataFrame is highly fragmented.  This is usually the result of calling `frame.insert` many times, which has poor performance.  Consider joining all columns at once using pd.concat(axis=1) instead. To get a de-fragmented frame, use `newframe = frame.copy()`\n",
      "  portfolio_cumulative_returns[n] = (1 + sim_df.fillna(0)).cumprod()\n",
      "C:\\Users\\boris\\OneDrive\\Documents\\Studies\\ColumbiaBootCamp\\FinTech-Workspace\\Module_5\\Challenge_5\\Starter_Code\\FinTech_Module5_Financial_Planner\\MCForecastTools.py:117: PerformanceWarning: DataFrame is highly fragmented.  This is usually the result of calling `frame.insert` many times, which has poor performance.  Consider joining all columns at once using pd.concat(axis=1) instead. To get a de-fragmented frame, use `newframe = frame.copy()`\n",
      "  portfolio_cumulative_returns[n] = (1 + sim_df.fillna(0)).cumprod()\n",
      "C:\\Users\\boris\\OneDrive\\Documents\\Studies\\ColumbiaBootCamp\\FinTech-Workspace\\Module_5\\Challenge_5\\Starter_Code\\FinTech_Module5_Financial_Planner\\MCForecastTools.py:117: PerformanceWarning: DataFrame is highly fragmented.  This is usually the result of calling `frame.insert` many times, which has poor performance.  Consider joining all columns at once using pd.concat(axis=1) instead. To get a de-fragmented frame, use `newframe = frame.copy()`\n",
      "  portfolio_cumulative_returns[n] = (1 + sim_df.fillna(0)).cumprod()\n",
      "C:\\Users\\boris\\OneDrive\\Documents\\Studies\\ColumbiaBootCamp\\FinTech-Workspace\\Module_5\\Challenge_5\\Starter_Code\\FinTech_Module5_Financial_Planner\\MCForecastTools.py:117: PerformanceWarning: DataFrame is highly fragmented.  This is usually the result of calling `frame.insert` many times, which has poor performance.  Consider joining all columns at once using pd.concat(axis=1) instead. To get a de-fragmented frame, use `newframe = frame.copy()`\n",
      "  portfolio_cumulative_returns[n] = (1 + sim_df.fillna(0)).cumprod()\n",
      "C:\\Users\\boris\\OneDrive\\Documents\\Studies\\ColumbiaBootCamp\\FinTech-Workspace\\Module_5\\Challenge_5\\Starter_Code\\FinTech_Module5_Financial_Planner\\MCForecastTools.py:117: PerformanceWarning: DataFrame is highly fragmented.  This is usually the result of calling `frame.insert` many times, which has poor performance.  Consider joining all columns at once using pd.concat(axis=1) instead. To get a de-fragmented frame, use `newframe = frame.copy()`\n",
      "  portfolio_cumulative_returns[n] = (1 + sim_df.fillna(0)).cumprod()\n"
     ]
    },
    {
     "name": "stdout",
     "output_type": "stream",
     "text": [
      "Running Monte Carlo simulation number 160.\n"
     ]
    },
    {
     "name": "stderr",
     "output_type": "stream",
     "text": [
      "C:\\Users\\boris\\OneDrive\\Documents\\Studies\\ColumbiaBootCamp\\FinTech-Workspace\\Module_5\\Challenge_5\\Starter_Code\\FinTech_Module5_Financial_Planner\\MCForecastTools.py:117: PerformanceWarning: DataFrame is highly fragmented.  This is usually the result of calling `frame.insert` many times, which has poor performance.  Consider joining all columns at once using pd.concat(axis=1) instead. To get a de-fragmented frame, use `newframe = frame.copy()`\n",
      "  portfolio_cumulative_returns[n] = (1 + sim_df.fillna(0)).cumprod()\n",
      "C:\\Users\\boris\\OneDrive\\Documents\\Studies\\ColumbiaBootCamp\\FinTech-Workspace\\Module_5\\Challenge_5\\Starter_Code\\FinTech_Module5_Financial_Planner\\MCForecastTools.py:117: PerformanceWarning: DataFrame is highly fragmented.  This is usually the result of calling `frame.insert` many times, which has poor performance.  Consider joining all columns at once using pd.concat(axis=1) instead. To get a de-fragmented frame, use `newframe = frame.copy()`\n",
      "  portfolio_cumulative_returns[n] = (1 + sim_df.fillna(0)).cumprod()\n",
      "C:\\Users\\boris\\OneDrive\\Documents\\Studies\\ColumbiaBootCamp\\FinTech-Workspace\\Module_5\\Challenge_5\\Starter_Code\\FinTech_Module5_Financial_Planner\\MCForecastTools.py:117: PerformanceWarning: DataFrame is highly fragmented.  This is usually the result of calling `frame.insert` many times, which has poor performance.  Consider joining all columns at once using pd.concat(axis=1) instead. To get a de-fragmented frame, use `newframe = frame.copy()`\n",
      "  portfolio_cumulative_returns[n] = (1 + sim_df.fillna(0)).cumprod()\n",
      "C:\\Users\\boris\\OneDrive\\Documents\\Studies\\ColumbiaBootCamp\\FinTech-Workspace\\Module_5\\Challenge_5\\Starter_Code\\FinTech_Module5_Financial_Planner\\MCForecastTools.py:117: PerformanceWarning: DataFrame is highly fragmented.  This is usually the result of calling `frame.insert` many times, which has poor performance.  Consider joining all columns at once using pd.concat(axis=1) instead. To get a de-fragmented frame, use `newframe = frame.copy()`\n",
      "  portfolio_cumulative_returns[n] = (1 + sim_df.fillna(0)).cumprod()\n",
      "C:\\Users\\boris\\OneDrive\\Documents\\Studies\\ColumbiaBootCamp\\FinTech-Workspace\\Module_5\\Challenge_5\\Starter_Code\\FinTech_Module5_Financial_Planner\\MCForecastTools.py:117: PerformanceWarning: DataFrame is highly fragmented.  This is usually the result of calling `frame.insert` many times, which has poor performance.  Consider joining all columns at once using pd.concat(axis=1) instead. To get a de-fragmented frame, use `newframe = frame.copy()`\n",
      "  portfolio_cumulative_returns[n] = (1 + sim_df.fillna(0)).cumprod()\n",
      "C:\\Users\\boris\\OneDrive\\Documents\\Studies\\ColumbiaBootCamp\\FinTech-Workspace\\Module_5\\Challenge_5\\Starter_Code\\FinTech_Module5_Financial_Planner\\MCForecastTools.py:117: PerformanceWarning: DataFrame is highly fragmented.  This is usually the result of calling `frame.insert` many times, which has poor performance.  Consider joining all columns at once using pd.concat(axis=1) instead. To get a de-fragmented frame, use `newframe = frame.copy()`\n",
      "  portfolio_cumulative_returns[n] = (1 + sim_df.fillna(0)).cumprod()\n",
      "C:\\Users\\boris\\OneDrive\\Documents\\Studies\\ColumbiaBootCamp\\FinTech-Workspace\\Module_5\\Challenge_5\\Starter_Code\\FinTech_Module5_Financial_Planner\\MCForecastTools.py:117: PerformanceWarning: DataFrame is highly fragmented.  This is usually the result of calling `frame.insert` many times, which has poor performance.  Consider joining all columns at once using pd.concat(axis=1) instead. To get a de-fragmented frame, use `newframe = frame.copy()`\n",
      "  portfolio_cumulative_returns[n] = (1 + sim_df.fillna(0)).cumprod()\n",
      "C:\\Users\\boris\\OneDrive\\Documents\\Studies\\ColumbiaBootCamp\\FinTech-Workspace\\Module_5\\Challenge_5\\Starter_Code\\FinTech_Module5_Financial_Planner\\MCForecastTools.py:117: PerformanceWarning: DataFrame is highly fragmented.  This is usually the result of calling `frame.insert` many times, which has poor performance.  Consider joining all columns at once using pd.concat(axis=1) instead. To get a de-fragmented frame, use `newframe = frame.copy()`\n",
      "  portfolio_cumulative_returns[n] = (1 + sim_df.fillna(0)).cumprod()\n",
      "C:\\Users\\boris\\OneDrive\\Documents\\Studies\\ColumbiaBootCamp\\FinTech-Workspace\\Module_5\\Challenge_5\\Starter_Code\\FinTech_Module5_Financial_Planner\\MCForecastTools.py:117: PerformanceWarning: DataFrame is highly fragmented.  This is usually the result of calling `frame.insert` many times, which has poor performance.  Consider joining all columns at once using pd.concat(axis=1) instead. To get a de-fragmented frame, use `newframe = frame.copy()`\n",
      "  portfolio_cumulative_returns[n] = (1 + sim_df.fillna(0)).cumprod()\n",
      "C:\\Users\\boris\\OneDrive\\Documents\\Studies\\ColumbiaBootCamp\\FinTech-Workspace\\Module_5\\Challenge_5\\Starter_Code\\FinTech_Module5_Financial_Planner\\MCForecastTools.py:117: PerformanceWarning: DataFrame is highly fragmented.  This is usually the result of calling `frame.insert` many times, which has poor performance.  Consider joining all columns at once using pd.concat(axis=1) instead. To get a de-fragmented frame, use `newframe = frame.copy()`\n",
      "  portfolio_cumulative_returns[n] = (1 + sim_df.fillna(0)).cumprod()\n",
      "C:\\Users\\boris\\OneDrive\\Documents\\Studies\\ColumbiaBootCamp\\FinTech-Workspace\\Module_5\\Challenge_5\\Starter_Code\\FinTech_Module5_Financial_Planner\\MCForecastTools.py:117: PerformanceWarning: DataFrame is highly fragmented.  This is usually the result of calling `frame.insert` many times, which has poor performance.  Consider joining all columns at once using pd.concat(axis=1) instead. To get a de-fragmented frame, use `newframe = frame.copy()`\n",
      "  portfolio_cumulative_returns[n] = (1 + sim_df.fillna(0)).cumprod()\n"
     ]
    },
    {
     "name": "stdout",
     "output_type": "stream",
     "text": [
      "Running Monte Carlo simulation number 170.\n"
     ]
    },
    {
     "name": "stderr",
     "output_type": "stream",
     "text": [
      "C:\\Users\\boris\\OneDrive\\Documents\\Studies\\ColumbiaBootCamp\\FinTech-Workspace\\Module_5\\Challenge_5\\Starter_Code\\FinTech_Module5_Financial_Planner\\MCForecastTools.py:117: PerformanceWarning: DataFrame is highly fragmented.  This is usually the result of calling `frame.insert` many times, which has poor performance.  Consider joining all columns at once using pd.concat(axis=1) instead. To get a de-fragmented frame, use `newframe = frame.copy()`\n",
      "  portfolio_cumulative_returns[n] = (1 + sim_df.fillna(0)).cumprod()\n",
      "C:\\Users\\boris\\OneDrive\\Documents\\Studies\\ColumbiaBootCamp\\FinTech-Workspace\\Module_5\\Challenge_5\\Starter_Code\\FinTech_Module5_Financial_Planner\\MCForecastTools.py:117: PerformanceWarning: DataFrame is highly fragmented.  This is usually the result of calling `frame.insert` many times, which has poor performance.  Consider joining all columns at once using pd.concat(axis=1) instead. To get a de-fragmented frame, use `newframe = frame.copy()`\n",
      "  portfolio_cumulative_returns[n] = (1 + sim_df.fillna(0)).cumprod()\n",
      "C:\\Users\\boris\\OneDrive\\Documents\\Studies\\ColumbiaBootCamp\\FinTech-Workspace\\Module_5\\Challenge_5\\Starter_Code\\FinTech_Module5_Financial_Planner\\MCForecastTools.py:117: PerformanceWarning: DataFrame is highly fragmented.  This is usually the result of calling `frame.insert` many times, which has poor performance.  Consider joining all columns at once using pd.concat(axis=1) instead. To get a de-fragmented frame, use `newframe = frame.copy()`\n",
      "  portfolio_cumulative_returns[n] = (1 + sim_df.fillna(0)).cumprod()\n",
      "C:\\Users\\boris\\OneDrive\\Documents\\Studies\\ColumbiaBootCamp\\FinTech-Workspace\\Module_5\\Challenge_5\\Starter_Code\\FinTech_Module5_Financial_Planner\\MCForecastTools.py:117: PerformanceWarning: DataFrame is highly fragmented.  This is usually the result of calling `frame.insert` many times, which has poor performance.  Consider joining all columns at once using pd.concat(axis=1) instead. To get a de-fragmented frame, use `newframe = frame.copy()`\n",
      "  portfolio_cumulative_returns[n] = (1 + sim_df.fillna(0)).cumprod()\n",
      "C:\\Users\\boris\\OneDrive\\Documents\\Studies\\ColumbiaBootCamp\\FinTech-Workspace\\Module_5\\Challenge_5\\Starter_Code\\FinTech_Module5_Financial_Planner\\MCForecastTools.py:117: PerformanceWarning: DataFrame is highly fragmented.  This is usually the result of calling `frame.insert` many times, which has poor performance.  Consider joining all columns at once using pd.concat(axis=1) instead. To get a de-fragmented frame, use `newframe = frame.copy()`\n",
      "  portfolio_cumulative_returns[n] = (1 + sim_df.fillna(0)).cumprod()\n",
      "C:\\Users\\boris\\OneDrive\\Documents\\Studies\\ColumbiaBootCamp\\FinTech-Workspace\\Module_5\\Challenge_5\\Starter_Code\\FinTech_Module5_Financial_Planner\\MCForecastTools.py:117: PerformanceWarning: DataFrame is highly fragmented.  This is usually the result of calling `frame.insert` many times, which has poor performance.  Consider joining all columns at once using pd.concat(axis=1) instead. To get a de-fragmented frame, use `newframe = frame.copy()`\n",
      "  portfolio_cumulative_returns[n] = (1 + sim_df.fillna(0)).cumprod()\n",
      "C:\\Users\\boris\\OneDrive\\Documents\\Studies\\ColumbiaBootCamp\\FinTech-Workspace\\Module_5\\Challenge_5\\Starter_Code\\FinTech_Module5_Financial_Planner\\MCForecastTools.py:117: PerformanceWarning: DataFrame is highly fragmented.  This is usually the result of calling `frame.insert` many times, which has poor performance.  Consider joining all columns at once using pd.concat(axis=1) instead. To get a de-fragmented frame, use `newframe = frame.copy()`\n",
      "  portfolio_cumulative_returns[n] = (1 + sim_df.fillna(0)).cumprod()\n",
      "C:\\Users\\boris\\OneDrive\\Documents\\Studies\\ColumbiaBootCamp\\FinTech-Workspace\\Module_5\\Challenge_5\\Starter_Code\\FinTech_Module5_Financial_Planner\\MCForecastTools.py:117: PerformanceWarning: DataFrame is highly fragmented.  This is usually the result of calling `frame.insert` many times, which has poor performance.  Consider joining all columns at once using pd.concat(axis=1) instead. To get a de-fragmented frame, use `newframe = frame.copy()`\n",
      "  portfolio_cumulative_returns[n] = (1 + sim_df.fillna(0)).cumprod()\n",
      "C:\\Users\\boris\\OneDrive\\Documents\\Studies\\ColumbiaBootCamp\\FinTech-Workspace\\Module_5\\Challenge_5\\Starter_Code\\FinTech_Module5_Financial_Planner\\MCForecastTools.py:117: PerformanceWarning: DataFrame is highly fragmented.  This is usually the result of calling `frame.insert` many times, which has poor performance.  Consider joining all columns at once using pd.concat(axis=1) instead. To get a de-fragmented frame, use `newframe = frame.copy()`\n",
      "  portfolio_cumulative_returns[n] = (1 + sim_df.fillna(0)).cumprod()\n",
      "C:\\Users\\boris\\OneDrive\\Documents\\Studies\\ColumbiaBootCamp\\FinTech-Workspace\\Module_5\\Challenge_5\\Starter_Code\\FinTech_Module5_Financial_Planner\\MCForecastTools.py:117: PerformanceWarning: DataFrame is highly fragmented.  This is usually the result of calling `frame.insert` many times, which has poor performance.  Consider joining all columns at once using pd.concat(axis=1) instead. To get a de-fragmented frame, use `newframe = frame.copy()`\n",
      "  portfolio_cumulative_returns[n] = (1 + sim_df.fillna(0)).cumprod()\n"
     ]
    },
    {
     "name": "stdout",
     "output_type": "stream",
     "text": [
      "Running Monte Carlo simulation number 180.\n"
     ]
    },
    {
     "name": "stderr",
     "output_type": "stream",
     "text": [
      "C:\\Users\\boris\\OneDrive\\Documents\\Studies\\ColumbiaBootCamp\\FinTech-Workspace\\Module_5\\Challenge_5\\Starter_Code\\FinTech_Module5_Financial_Planner\\MCForecastTools.py:117: PerformanceWarning: DataFrame is highly fragmented.  This is usually the result of calling `frame.insert` many times, which has poor performance.  Consider joining all columns at once using pd.concat(axis=1) instead. To get a de-fragmented frame, use `newframe = frame.copy()`\n",
      "  portfolio_cumulative_returns[n] = (1 + sim_df.fillna(0)).cumprod()\n",
      "C:\\Users\\boris\\OneDrive\\Documents\\Studies\\ColumbiaBootCamp\\FinTech-Workspace\\Module_5\\Challenge_5\\Starter_Code\\FinTech_Module5_Financial_Planner\\MCForecastTools.py:117: PerformanceWarning: DataFrame is highly fragmented.  This is usually the result of calling `frame.insert` many times, which has poor performance.  Consider joining all columns at once using pd.concat(axis=1) instead. To get a de-fragmented frame, use `newframe = frame.copy()`\n",
      "  portfolio_cumulative_returns[n] = (1 + sim_df.fillna(0)).cumprod()\n",
      "C:\\Users\\boris\\OneDrive\\Documents\\Studies\\ColumbiaBootCamp\\FinTech-Workspace\\Module_5\\Challenge_5\\Starter_Code\\FinTech_Module5_Financial_Planner\\MCForecastTools.py:117: PerformanceWarning: DataFrame is highly fragmented.  This is usually the result of calling `frame.insert` many times, which has poor performance.  Consider joining all columns at once using pd.concat(axis=1) instead. To get a de-fragmented frame, use `newframe = frame.copy()`\n",
      "  portfolio_cumulative_returns[n] = (1 + sim_df.fillna(0)).cumprod()\n",
      "C:\\Users\\boris\\OneDrive\\Documents\\Studies\\ColumbiaBootCamp\\FinTech-Workspace\\Module_5\\Challenge_5\\Starter_Code\\FinTech_Module5_Financial_Planner\\MCForecastTools.py:117: PerformanceWarning: DataFrame is highly fragmented.  This is usually the result of calling `frame.insert` many times, which has poor performance.  Consider joining all columns at once using pd.concat(axis=1) instead. To get a de-fragmented frame, use `newframe = frame.copy()`\n",
      "  portfolio_cumulative_returns[n] = (1 + sim_df.fillna(0)).cumprod()\n",
      "C:\\Users\\boris\\OneDrive\\Documents\\Studies\\ColumbiaBootCamp\\FinTech-Workspace\\Module_5\\Challenge_5\\Starter_Code\\FinTech_Module5_Financial_Planner\\MCForecastTools.py:117: PerformanceWarning: DataFrame is highly fragmented.  This is usually the result of calling `frame.insert` many times, which has poor performance.  Consider joining all columns at once using pd.concat(axis=1) instead. To get a de-fragmented frame, use `newframe = frame.copy()`\n",
      "  portfolio_cumulative_returns[n] = (1 + sim_df.fillna(0)).cumprod()\n",
      "C:\\Users\\boris\\OneDrive\\Documents\\Studies\\ColumbiaBootCamp\\FinTech-Workspace\\Module_5\\Challenge_5\\Starter_Code\\FinTech_Module5_Financial_Planner\\MCForecastTools.py:117: PerformanceWarning: DataFrame is highly fragmented.  This is usually the result of calling `frame.insert` many times, which has poor performance.  Consider joining all columns at once using pd.concat(axis=1) instead. To get a de-fragmented frame, use `newframe = frame.copy()`\n",
      "  portfolio_cumulative_returns[n] = (1 + sim_df.fillna(0)).cumprod()\n",
      "C:\\Users\\boris\\OneDrive\\Documents\\Studies\\ColumbiaBootCamp\\FinTech-Workspace\\Module_5\\Challenge_5\\Starter_Code\\FinTech_Module5_Financial_Planner\\MCForecastTools.py:117: PerformanceWarning: DataFrame is highly fragmented.  This is usually the result of calling `frame.insert` many times, which has poor performance.  Consider joining all columns at once using pd.concat(axis=1) instead. To get a de-fragmented frame, use `newframe = frame.copy()`\n",
      "  portfolio_cumulative_returns[n] = (1 + sim_df.fillna(0)).cumprod()\n",
      "C:\\Users\\boris\\OneDrive\\Documents\\Studies\\ColumbiaBootCamp\\FinTech-Workspace\\Module_5\\Challenge_5\\Starter_Code\\FinTech_Module5_Financial_Planner\\MCForecastTools.py:117: PerformanceWarning: DataFrame is highly fragmented.  This is usually the result of calling `frame.insert` many times, which has poor performance.  Consider joining all columns at once using pd.concat(axis=1) instead. To get a de-fragmented frame, use `newframe = frame.copy()`\n",
      "  portfolio_cumulative_returns[n] = (1 + sim_df.fillna(0)).cumprod()\n",
      "C:\\Users\\boris\\OneDrive\\Documents\\Studies\\ColumbiaBootCamp\\FinTech-Workspace\\Module_5\\Challenge_5\\Starter_Code\\FinTech_Module5_Financial_Planner\\MCForecastTools.py:117: PerformanceWarning: DataFrame is highly fragmented.  This is usually the result of calling `frame.insert` many times, which has poor performance.  Consider joining all columns at once using pd.concat(axis=1) instead. To get a de-fragmented frame, use `newframe = frame.copy()`\n",
      "  portfolio_cumulative_returns[n] = (1 + sim_df.fillna(0)).cumprod()\n",
      "C:\\Users\\boris\\OneDrive\\Documents\\Studies\\ColumbiaBootCamp\\FinTech-Workspace\\Module_5\\Challenge_5\\Starter_Code\\FinTech_Module5_Financial_Planner\\MCForecastTools.py:117: PerformanceWarning: DataFrame is highly fragmented.  This is usually the result of calling `frame.insert` many times, which has poor performance.  Consider joining all columns at once using pd.concat(axis=1) instead. To get a de-fragmented frame, use `newframe = frame.copy()`\n",
      "  portfolio_cumulative_returns[n] = (1 + sim_df.fillna(0)).cumprod()\n"
     ]
    },
    {
     "name": "stdout",
     "output_type": "stream",
     "text": [
      "Running Monte Carlo simulation number 190.\n"
     ]
    },
    {
     "name": "stderr",
     "output_type": "stream",
     "text": [
      "C:\\Users\\boris\\OneDrive\\Documents\\Studies\\ColumbiaBootCamp\\FinTech-Workspace\\Module_5\\Challenge_5\\Starter_Code\\FinTech_Module5_Financial_Planner\\MCForecastTools.py:117: PerformanceWarning: DataFrame is highly fragmented.  This is usually the result of calling `frame.insert` many times, which has poor performance.  Consider joining all columns at once using pd.concat(axis=1) instead. To get a de-fragmented frame, use `newframe = frame.copy()`\n",
      "  portfolio_cumulative_returns[n] = (1 + sim_df.fillna(0)).cumprod()\n",
      "C:\\Users\\boris\\OneDrive\\Documents\\Studies\\ColumbiaBootCamp\\FinTech-Workspace\\Module_5\\Challenge_5\\Starter_Code\\FinTech_Module5_Financial_Planner\\MCForecastTools.py:117: PerformanceWarning: DataFrame is highly fragmented.  This is usually the result of calling `frame.insert` many times, which has poor performance.  Consider joining all columns at once using pd.concat(axis=1) instead. To get a de-fragmented frame, use `newframe = frame.copy()`\n",
      "  portfolio_cumulative_returns[n] = (1 + sim_df.fillna(0)).cumprod()\n",
      "C:\\Users\\boris\\OneDrive\\Documents\\Studies\\ColumbiaBootCamp\\FinTech-Workspace\\Module_5\\Challenge_5\\Starter_Code\\FinTech_Module5_Financial_Planner\\MCForecastTools.py:117: PerformanceWarning: DataFrame is highly fragmented.  This is usually the result of calling `frame.insert` many times, which has poor performance.  Consider joining all columns at once using pd.concat(axis=1) instead. To get a de-fragmented frame, use `newframe = frame.copy()`\n",
      "  portfolio_cumulative_returns[n] = (1 + sim_df.fillna(0)).cumprod()\n",
      "C:\\Users\\boris\\OneDrive\\Documents\\Studies\\ColumbiaBootCamp\\FinTech-Workspace\\Module_5\\Challenge_5\\Starter_Code\\FinTech_Module5_Financial_Planner\\MCForecastTools.py:117: PerformanceWarning: DataFrame is highly fragmented.  This is usually the result of calling `frame.insert` many times, which has poor performance.  Consider joining all columns at once using pd.concat(axis=1) instead. To get a de-fragmented frame, use `newframe = frame.copy()`\n",
      "  portfolio_cumulative_returns[n] = (1 + sim_df.fillna(0)).cumprod()\n",
      "C:\\Users\\boris\\OneDrive\\Documents\\Studies\\ColumbiaBootCamp\\FinTech-Workspace\\Module_5\\Challenge_5\\Starter_Code\\FinTech_Module5_Financial_Planner\\MCForecastTools.py:117: PerformanceWarning: DataFrame is highly fragmented.  This is usually the result of calling `frame.insert` many times, which has poor performance.  Consider joining all columns at once using pd.concat(axis=1) instead. To get a de-fragmented frame, use `newframe = frame.copy()`\n",
      "  portfolio_cumulative_returns[n] = (1 + sim_df.fillna(0)).cumprod()\n",
      "C:\\Users\\boris\\OneDrive\\Documents\\Studies\\ColumbiaBootCamp\\FinTech-Workspace\\Module_5\\Challenge_5\\Starter_Code\\FinTech_Module5_Financial_Planner\\MCForecastTools.py:117: PerformanceWarning: DataFrame is highly fragmented.  This is usually the result of calling `frame.insert` many times, which has poor performance.  Consider joining all columns at once using pd.concat(axis=1) instead. To get a de-fragmented frame, use `newframe = frame.copy()`\n",
      "  portfolio_cumulative_returns[n] = (1 + sim_df.fillna(0)).cumprod()\n",
      "C:\\Users\\boris\\OneDrive\\Documents\\Studies\\ColumbiaBootCamp\\FinTech-Workspace\\Module_5\\Challenge_5\\Starter_Code\\FinTech_Module5_Financial_Planner\\MCForecastTools.py:117: PerformanceWarning: DataFrame is highly fragmented.  This is usually the result of calling `frame.insert` many times, which has poor performance.  Consider joining all columns at once using pd.concat(axis=1) instead. To get a de-fragmented frame, use `newframe = frame.copy()`\n",
      "  portfolio_cumulative_returns[n] = (1 + sim_df.fillna(0)).cumprod()\n",
      "C:\\Users\\boris\\OneDrive\\Documents\\Studies\\ColumbiaBootCamp\\FinTech-Workspace\\Module_5\\Challenge_5\\Starter_Code\\FinTech_Module5_Financial_Planner\\MCForecastTools.py:117: PerformanceWarning: DataFrame is highly fragmented.  This is usually the result of calling `frame.insert` many times, which has poor performance.  Consider joining all columns at once using pd.concat(axis=1) instead. To get a de-fragmented frame, use `newframe = frame.copy()`\n",
      "  portfolio_cumulative_returns[n] = (1 + sim_df.fillna(0)).cumprod()\n",
      "C:\\Users\\boris\\OneDrive\\Documents\\Studies\\ColumbiaBootCamp\\FinTech-Workspace\\Module_5\\Challenge_5\\Starter_Code\\FinTech_Module5_Financial_Planner\\MCForecastTools.py:117: PerformanceWarning: DataFrame is highly fragmented.  This is usually the result of calling `frame.insert` many times, which has poor performance.  Consider joining all columns at once using pd.concat(axis=1) instead. To get a de-fragmented frame, use `newframe = frame.copy()`\n",
      "  portfolio_cumulative_returns[n] = (1 + sim_df.fillna(0)).cumprod()\n"
     ]
    },
    {
     "name": "stdout",
     "output_type": "stream",
     "text": [
      "Running Monte Carlo simulation number 200.\n"
     ]
    },
    {
     "name": "stderr",
     "output_type": "stream",
     "text": [
      "C:\\Users\\boris\\OneDrive\\Documents\\Studies\\ColumbiaBootCamp\\FinTech-Workspace\\Module_5\\Challenge_5\\Starter_Code\\FinTech_Module5_Financial_Planner\\MCForecastTools.py:117: PerformanceWarning: DataFrame is highly fragmented.  This is usually the result of calling `frame.insert` many times, which has poor performance.  Consider joining all columns at once using pd.concat(axis=1) instead. To get a de-fragmented frame, use `newframe = frame.copy()`\n",
      "  portfolio_cumulative_returns[n] = (1 + sim_df.fillna(0)).cumprod()\n",
      "C:\\Users\\boris\\OneDrive\\Documents\\Studies\\ColumbiaBootCamp\\FinTech-Workspace\\Module_5\\Challenge_5\\Starter_Code\\FinTech_Module5_Financial_Planner\\MCForecastTools.py:117: PerformanceWarning: DataFrame is highly fragmented.  This is usually the result of calling `frame.insert` many times, which has poor performance.  Consider joining all columns at once using pd.concat(axis=1) instead. To get a de-fragmented frame, use `newframe = frame.copy()`\n",
      "  portfolio_cumulative_returns[n] = (1 + sim_df.fillna(0)).cumprod()\n",
      "C:\\Users\\boris\\OneDrive\\Documents\\Studies\\ColumbiaBootCamp\\FinTech-Workspace\\Module_5\\Challenge_5\\Starter_Code\\FinTech_Module5_Financial_Planner\\MCForecastTools.py:117: PerformanceWarning: DataFrame is highly fragmented.  This is usually the result of calling `frame.insert` many times, which has poor performance.  Consider joining all columns at once using pd.concat(axis=1) instead. To get a de-fragmented frame, use `newframe = frame.copy()`\n",
      "  portfolio_cumulative_returns[n] = (1 + sim_df.fillna(0)).cumprod()\n",
      "C:\\Users\\boris\\OneDrive\\Documents\\Studies\\ColumbiaBootCamp\\FinTech-Workspace\\Module_5\\Challenge_5\\Starter_Code\\FinTech_Module5_Financial_Planner\\MCForecastTools.py:117: PerformanceWarning: DataFrame is highly fragmented.  This is usually the result of calling `frame.insert` many times, which has poor performance.  Consider joining all columns at once using pd.concat(axis=1) instead. To get a de-fragmented frame, use `newframe = frame.copy()`\n",
      "  portfolio_cumulative_returns[n] = (1 + sim_df.fillna(0)).cumprod()\n",
      "C:\\Users\\boris\\OneDrive\\Documents\\Studies\\ColumbiaBootCamp\\FinTech-Workspace\\Module_5\\Challenge_5\\Starter_Code\\FinTech_Module5_Financial_Planner\\MCForecastTools.py:117: PerformanceWarning: DataFrame is highly fragmented.  This is usually the result of calling `frame.insert` many times, which has poor performance.  Consider joining all columns at once using pd.concat(axis=1) instead. To get a de-fragmented frame, use `newframe = frame.copy()`\n",
      "  portfolio_cumulative_returns[n] = (1 + sim_df.fillna(0)).cumprod()\n",
      "C:\\Users\\boris\\OneDrive\\Documents\\Studies\\ColumbiaBootCamp\\FinTech-Workspace\\Module_5\\Challenge_5\\Starter_Code\\FinTech_Module5_Financial_Planner\\MCForecastTools.py:117: PerformanceWarning: DataFrame is highly fragmented.  This is usually the result of calling `frame.insert` many times, which has poor performance.  Consider joining all columns at once using pd.concat(axis=1) instead. To get a de-fragmented frame, use `newframe = frame.copy()`\n",
      "  portfolio_cumulative_returns[n] = (1 + sim_df.fillna(0)).cumprod()\n",
      "C:\\Users\\boris\\OneDrive\\Documents\\Studies\\ColumbiaBootCamp\\FinTech-Workspace\\Module_5\\Challenge_5\\Starter_Code\\FinTech_Module5_Financial_Planner\\MCForecastTools.py:117: PerformanceWarning: DataFrame is highly fragmented.  This is usually the result of calling `frame.insert` many times, which has poor performance.  Consider joining all columns at once using pd.concat(axis=1) instead. To get a de-fragmented frame, use `newframe = frame.copy()`\n",
      "  portfolio_cumulative_returns[n] = (1 + sim_df.fillna(0)).cumprod()\n",
      "C:\\Users\\boris\\OneDrive\\Documents\\Studies\\ColumbiaBootCamp\\FinTech-Workspace\\Module_5\\Challenge_5\\Starter_Code\\FinTech_Module5_Financial_Planner\\MCForecastTools.py:117: PerformanceWarning: DataFrame is highly fragmented.  This is usually the result of calling `frame.insert` many times, which has poor performance.  Consider joining all columns at once using pd.concat(axis=1) instead. To get a de-fragmented frame, use `newframe = frame.copy()`\n",
      "  portfolio_cumulative_returns[n] = (1 + sim_df.fillna(0)).cumprod()\n",
      "C:\\Users\\boris\\OneDrive\\Documents\\Studies\\ColumbiaBootCamp\\FinTech-Workspace\\Module_5\\Challenge_5\\Starter_Code\\FinTech_Module5_Financial_Planner\\MCForecastTools.py:117: PerformanceWarning: DataFrame is highly fragmented.  This is usually the result of calling `frame.insert` many times, which has poor performance.  Consider joining all columns at once using pd.concat(axis=1) instead. To get a de-fragmented frame, use `newframe = frame.copy()`\n",
      "  portfolio_cumulative_returns[n] = (1 + sim_df.fillna(0)).cumprod()\n"
     ]
    },
    {
     "name": "stdout",
     "output_type": "stream",
     "text": [
      "Running Monte Carlo simulation number 210.\n"
     ]
    },
    {
     "name": "stderr",
     "output_type": "stream",
     "text": [
      "C:\\Users\\boris\\OneDrive\\Documents\\Studies\\ColumbiaBootCamp\\FinTech-Workspace\\Module_5\\Challenge_5\\Starter_Code\\FinTech_Module5_Financial_Planner\\MCForecastTools.py:117: PerformanceWarning: DataFrame is highly fragmented.  This is usually the result of calling `frame.insert` many times, which has poor performance.  Consider joining all columns at once using pd.concat(axis=1) instead. To get a de-fragmented frame, use `newframe = frame.copy()`\n",
      "  portfolio_cumulative_returns[n] = (1 + sim_df.fillna(0)).cumprod()\n",
      "C:\\Users\\boris\\OneDrive\\Documents\\Studies\\ColumbiaBootCamp\\FinTech-Workspace\\Module_5\\Challenge_5\\Starter_Code\\FinTech_Module5_Financial_Planner\\MCForecastTools.py:117: PerformanceWarning: DataFrame is highly fragmented.  This is usually the result of calling `frame.insert` many times, which has poor performance.  Consider joining all columns at once using pd.concat(axis=1) instead. To get a de-fragmented frame, use `newframe = frame.copy()`\n",
      "  portfolio_cumulative_returns[n] = (1 + sim_df.fillna(0)).cumprod()\n",
      "C:\\Users\\boris\\OneDrive\\Documents\\Studies\\ColumbiaBootCamp\\FinTech-Workspace\\Module_5\\Challenge_5\\Starter_Code\\FinTech_Module5_Financial_Planner\\MCForecastTools.py:117: PerformanceWarning: DataFrame is highly fragmented.  This is usually the result of calling `frame.insert` many times, which has poor performance.  Consider joining all columns at once using pd.concat(axis=1) instead. To get a de-fragmented frame, use `newframe = frame.copy()`\n",
      "  portfolio_cumulative_returns[n] = (1 + sim_df.fillna(0)).cumprod()\n",
      "C:\\Users\\boris\\OneDrive\\Documents\\Studies\\ColumbiaBootCamp\\FinTech-Workspace\\Module_5\\Challenge_5\\Starter_Code\\FinTech_Module5_Financial_Planner\\MCForecastTools.py:117: PerformanceWarning: DataFrame is highly fragmented.  This is usually the result of calling `frame.insert` many times, which has poor performance.  Consider joining all columns at once using pd.concat(axis=1) instead. To get a de-fragmented frame, use `newframe = frame.copy()`\n",
      "  portfolio_cumulative_returns[n] = (1 + sim_df.fillna(0)).cumprod()\n",
      "C:\\Users\\boris\\OneDrive\\Documents\\Studies\\ColumbiaBootCamp\\FinTech-Workspace\\Module_5\\Challenge_5\\Starter_Code\\FinTech_Module5_Financial_Planner\\MCForecastTools.py:117: PerformanceWarning: DataFrame is highly fragmented.  This is usually the result of calling `frame.insert` many times, which has poor performance.  Consider joining all columns at once using pd.concat(axis=1) instead. To get a de-fragmented frame, use `newframe = frame.copy()`\n",
      "  portfolio_cumulative_returns[n] = (1 + sim_df.fillna(0)).cumprod()\n",
      "C:\\Users\\boris\\OneDrive\\Documents\\Studies\\ColumbiaBootCamp\\FinTech-Workspace\\Module_5\\Challenge_5\\Starter_Code\\FinTech_Module5_Financial_Planner\\MCForecastTools.py:117: PerformanceWarning: DataFrame is highly fragmented.  This is usually the result of calling `frame.insert` many times, which has poor performance.  Consider joining all columns at once using pd.concat(axis=1) instead. To get a de-fragmented frame, use `newframe = frame.copy()`\n",
      "  portfolio_cumulative_returns[n] = (1 + sim_df.fillna(0)).cumprod()\n",
      "C:\\Users\\boris\\OneDrive\\Documents\\Studies\\ColumbiaBootCamp\\FinTech-Workspace\\Module_5\\Challenge_5\\Starter_Code\\FinTech_Module5_Financial_Planner\\MCForecastTools.py:117: PerformanceWarning: DataFrame is highly fragmented.  This is usually the result of calling `frame.insert` many times, which has poor performance.  Consider joining all columns at once using pd.concat(axis=1) instead. To get a de-fragmented frame, use `newframe = frame.copy()`\n",
      "  portfolio_cumulative_returns[n] = (1 + sim_df.fillna(0)).cumprod()\n",
      "C:\\Users\\boris\\OneDrive\\Documents\\Studies\\ColumbiaBootCamp\\FinTech-Workspace\\Module_5\\Challenge_5\\Starter_Code\\FinTech_Module5_Financial_Planner\\MCForecastTools.py:117: PerformanceWarning: DataFrame is highly fragmented.  This is usually the result of calling `frame.insert` many times, which has poor performance.  Consider joining all columns at once using pd.concat(axis=1) instead. To get a de-fragmented frame, use `newframe = frame.copy()`\n",
      "  portfolio_cumulative_returns[n] = (1 + sim_df.fillna(0)).cumprod()\n",
      "C:\\Users\\boris\\OneDrive\\Documents\\Studies\\ColumbiaBootCamp\\FinTech-Workspace\\Module_5\\Challenge_5\\Starter_Code\\FinTech_Module5_Financial_Planner\\MCForecastTools.py:117: PerformanceWarning: DataFrame is highly fragmented.  This is usually the result of calling `frame.insert` many times, which has poor performance.  Consider joining all columns at once using pd.concat(axis=1) instead. To get a de-fragmented frame, use `newframe = frame.copy()`\n",
      "  portfolio_cumulative_returns[n] = (1 + sim_df.fillna(0)).cumprod()\n",
      "C:\\Users\\boris\\OneDrive\\Documents\\Studies\\ColumbiaBootCamp\\FinTech-Workspace\\Module_5\\Challenge_5\\Starter_Code\\FinTech_Module5_Financial_Planner\\MCForecastTools.py:117: PerformanceWarning: DataFrame is highly fragmented.  This is usually the result of calling `frame.insert` many times, which has poor performance.  Consider joining all columns at once using pd.concat(axis=1) instead. To get a de-fragmented frame, use `newframe = frame.copy()`\n",
      "  portfolio_cumulative_returns[n] = (1 + sim_df.fillna(0)).cumprod()\n"
     ]
    },
    {
     "name": "stdout",
     "output_type": "stream",
     "text": [
      "Running Monte Carlo simulation number 220.\n"
     ]
    },
    {
     "name": "stderr",
     "output_type": "stream",
     "text": [
      "C:\\Users\\boris\\OneDrive\\Documents\\Studies\\ColumbiaBootCamp\\FinTech-Workspace\\Module_5\\Challenge_5\\Starter_Code\\FinTech_Module5_Financial_Planner\\MCForecastTools.py:117: PerformanceWarning: DataFrame is highly fragmented.  This is usually the result of calling `frame.insert` many times, which has poor performance.  Consider joining all columns at once using pd.concat(axis=1) instead. To get a de-fragmented frame, use `newframe = frame.copy()`\n",
      "  portfolio_cumulative_returns[n] = (1 + sim_df.fillna(0)).cumprod()\n",
      "C:\\Users\\boris\\OneDrive\\Documents\\Studies\\ColumbiaBootCamp\\FinTech-Workspace\\Module_5\\Challenge_5\\Starter_Code\\FinTech_Module5_Financial_Planner\\MCForecastTools.py:117: PerformanceWarning: DataFrame is highly fragmented.  This is usually the result of calling `frame.insert` many times, which has poor performance.  Consider joining all columns at once using pd.concat(axis=1) instead. To get a de-fragmented frame, use `newframe = frame.copy()`\n",
      "  portfolio_cumulative_returns[n] = (1 + sim_df.fillna(0)).cumprod()\n",
      "C:\\Users\\boris\\OneDrive\\Documents\\Studies\\ColumbiaBootCamp\\FinTech-Workspace\\Module_5\\Challenge_5\\Starter_Code\\FinTech_Module5_Financial_Planner\\MCForecastTools.py:117: PerformanceWarning: DataFrame is highly fragmented.  This is usually the result of calling `frame.insert` many times, which has poor performance.  Consider joining all columns at once using pd.concat(axis=1) instead. To get a de-fragmented frame, use `newframe = frame.copy()`\n",
      "  portfolio_cumulative_returns[n] = (1 + sim_df.fillna(0)).cumprod()\n",
      "C:\\Users\\boris\\OneDrive\\Documents\\Studies\\ColumbiaBootCamp\\FinTech-Workspace\\Module_5\\Challenge_5\\Starter_Code\\FinTech_Module5_Financial_Planner\\MCForecastTools.py:117: PerformanceWarning: DataFrame is highly fragmented.  This is usually the result of calling `frame.insert` many times, which has poor performance.  Consider joining all columns at once using pd.concat(axis=1) instead. To get a de-fragmented frame, use `newframe = frame.copy()`\n",
      "  portfolio_cumulative_returns[n] = (1 + sim_df.fillna(0)).cumprod()\n",
      "C:\\Users\\boris\\OneDrive\\Documents\\Studies\\ColumbiaBootCamp\\FinTech-Workspace\\Module_5\\Challenge_5\\Starter_Code\\FinTech_Module5_Financial_Planner\\MCForecastTools.py:117: PerformanceWarning: DataFrame is highly fragmented.  This is usually the result of calling `frame.insert` many times, which has poor performance.  Consider joining all columns at once using pd.concat(axis=1) instead. To get a de-fragmented frame, use `newframe = frame.copy()`\n",
      "  portfolio_cumulative_returns[n] = (1 + sim_df.fillna(0)).cumprod()\n",
      "C:\\Users\\boris\\OneDrive\\Documents\\Studies\\ColumbiaBootCamp\\FinTech-Workspace\\Module_5\\Challenge_5\\Starter_Code\\FinTech_Module5_Financial_Planner\\MCForecastTools.py:117: PerformanceWarning: DataFrame is highly fragmented.  This is usually the result of calling `frame.insert` many times, which has poor performance.  Consider joining all columns at once using pd.concat(axis=1) instead. To get a de-fragmented frame, use `newframe = frame.copy()`\n",
      "  portfolio_cumulative_returns[n] = (1 + sim_df.fillna(0)).cumprod()\n",
      "C:\\Users\\boris\\OneDrive\\Documents\\Studies\\ColumbiaBootCamp\\FinTech-Workspace\\Module_5\\Challenge_5\\Starter_Code\\FinTech_Module5_Financial_Planner\\MCForecastTools.py:117: PerformanceWarning: DataFrame is highly fragmented.  This is usually the result of calling `frame.insert` many times, which has poor performance.  Consider joining all columns at once using pd.concat(axis=1) instead. To get a de-fragmented frame, use `newframe = frame.copy()`\n",
      "  portfolio_cumulative_returns[n] = (1 + sim_df.fillna(0)).cumprod()\n",
      "C:\\Users\\boris\\OneDrive\\Documents\\Studies\\ColumbiaBootCamp\\FinTech-Workspace\\Module_5\\Challenge_5\\Starter_Code\\FinTech_Module5_Financial_Planner\\MCForecastTools.py:117: PerformanceWarning: DataFrame is highly fragmented.  This is usually the result of calling `frame.insert` many times, which has poor performance.  Consider joining all columns at once using pd.concat(axis=1) instead. To get a de-fragmented frame, use `newframe = frame.copy()`\n",
      "  portfolio_cumulative_returns[n] = (1 + sim_df.fillna(0)).cumprod()\n",
      "C:\\Users\\boris\\OneDrive\\Documents\\Studies\\ColumbiaBootCamp\\FinTech-Workspace\\Module_5\\Challenge_5\\Starter_Code\\FinTech_Module5_Financial_Planner\\MCForecastTools.py:117: PerformanceWarning: DataFrame is highly fragmented.  This is usually the result of calling `frame.insert` many times, which has poor performance.  Consider joining all columns at once using pd.concat(axis=1) instead. To get a de-fragmented frame, use `newframe = frame.copy()`\n",
      "  portfolio_cumulative_returns[n] = (1 + sim_df.fillna(0)).cumprod()\n",
      "C:\\Users\\boris\\OneDrive\\Documents\\Studies\\ColumbiaBootCamp\\FinTech-Workspace\\Module_5\\Challenge_5\\Starter_Code\\FinTech_Module5_Financial_Planner\\MCForecastTools.py:117: PerformanceWarning: DataFrame is highly fragmented.  This is usually the result of calling `frame.insert` many times, which has poor performance.  Consider joining all columns at once using pd.concat(axis=1) instead. To get a de-fragmented frame, use `newframe = frame.copy()`\n",
      "  portfolio_cumulative_returns[n] = (1 + sim_df.fillna(0)).cumprod()\n"
     ]
    },
    {
     "name": "stdout",
     "output_type": "stream",
     "text": [
      "Running Monte Carlo simulation number 230.\n"
     ]
    },
    {
     "name": "stderr",
     "output_type": "stream",
     "text": [
      "C:\\Users\\boris\\OneDrive\\Documents\\Studies\\ColumbiaBootCamp\\FinTech-Workspace\\Module_5\\Challenge_5\\Starter_Code\\FinTech_Module5_Financial_Planner\\MCForecastTools.py:117: PerformanceWarning: DataFrame is highly fragmented.  This is usually the result of calling `frame.insert` many times, which has poor performance.  Consider joining all columns at once using pd.concat(axis=1) instead. To get a de-fragmented frame, use `newframe = frame.copy()`\n",
      "  portfolio_cumulative_returns[n] = (1 + sim_df.fillna(0)).cumprod()\n",
      "C:\\Users\\boris\\OneDrive\\Documents\\Studies\\ColumbiaBootCamp\\FinTech-Workspace\\Module_5\\Challenge_5\\Starter_Code\\FinTech_Module5_Financial_Planner\\MCForecastTools.py:117: PerformanceWarning: DataFrame is highly fragmented.  This is usually the result of calling `frame.insert` many times, which has poor performance.  Consider joining all columns at once using pd.concat(axis=1) instead. To get a de-fragmented frame, use `newframe = frame.copy()`\n",
      "  portfolio_cumulative_returns[n] = (1 + sim_df.fillna(0)).cumprod()\n",
      "C:\\Users\\boris\\OneDrive\\Documents\\Studies\\ColumbiaBootCamp\\FinTech-Workspace\\Module_5\\Challenge_5\\Starter_Code\\FinTech_Module5_Financial_Planner\\MCForecastTools.py:117: PerformanceWarning: DataFrame is highly fragmented.  This is usually the result of calling `frame.insert` many times, which has poor performance.  Consider joining all columns at once using pd.concat(axis=1) instead. To get a de-fragmented frame, use `newframe = frame.copy()`\n",
      "  portfolio_cumulative_returns[n] = (1 + sim_df.fillna(0)).cumprod()\n",
      "C:\\Users\\boris\\OneDrive\\Documents\\Studies\\ColumbiaBootCamp\\FinTech-Workspace\\Module_5\\Challenge_5\\Starter_Code\\FinTech_Module5_Financial_Planner\\MCForecastTools.py:117: PerformanceWarning: DataFrame is highly fragmented.  This is usually the result of calling `frame.insert` many times, which has poor performance.  Consider joining all columns at once using pd.concat(axis=1) instead. To get a de-fragmented frame, use `newframe = frame.copy()`\n",
      "  portfolio_cumulative_returns[n] = (1 + sim_df.fillna(0)).cumprod()\n",
      "C:\\Users\\boris\\OneDrive\\Documents\\Studies\\ColumbiaBootCamp\\FinTech-Workspace\\Module_5\\Challenge_5\\Starter_Code\\FinTech_Module5_Financial_Planner\\MCForecastTools.py:117: PerformanceWarning: DataFrame is highly fragmented.  This is usually the result of calling `frame.insert` many times, which has poor performance.  Consider joining all columns at once using pd.concat(axis=1) instead. To get a de-fragmented frame, use `newframe = frame.copy()`\n",
      "  portfolio_cumulative_returns[n] = (1 + sim_df.fillna(0)).cumprod()\n",
      "C:\\Users\\boris\\OneDrive\\Documents\\Studies\\ColumbiaBootCamp\\FinTech-Workspace\\Module_5\\Challenge_5\\Starter_Code\\FinTech_Module5_Financial_Planner\\MCForecastTools.py:117: PerformanceWarning: DataFrame is highly fragmented.  This is usually the result of calling `frame.insert` many times, which has poor performance.  Consider joining all columns at once using pd.concat(axis=1) instead. To get a de-fragmented frame, use `newframe = frame.copy()`\n",
      "  portfolio_cumulative_returns[n] = (1 + sim_df.fillna(0)).cumprod()\n",
      "C:\\Users\\boris\\OneDrive\\Documents\\Studies\\ColumbiaBootCamp\\FinTech-Workspace\\Module_5\\Challenge_5\\Starter_Code\\FinTech_Module5_Financial_Planner\\MCForecastTools.py:117: PerformanceWarning: DataFrame is highly fragmented.  This is usually the result of calling `frame.insert` many times, which has poor performance.  Consider joining all columns at once using pd.concat(axis=1) instead. To get a de-fragmented frame, use `newframe = frame.copy()`\n",
      "  portfolio_cumulative_returns[n] = (1 + sim_df.fillna(0)).cumprod()\n",
      "C:\\Users\\boris\\OneDrive\\Documents\\Studies\\ColumbiaBootCamp\\FinTech-Workspace\\Module_5\\Challenge_5\\Starter_Code\\FinTech_Module5_Financial_Planner\\MCForecastTools.py:117: PerformanceWarning: DataFrame is highly fragmented.  This is usually the result of calling `frame.insert` many times, which has poor performance.  Consider joining all columns at once using pd.concat(axis=1) instead. To get a de-fragmented frame, use `newframe = frame.copy()`\n",
      "  portfolio_cumulative_returns[n] = (1 + sim_df.fillna(0)).cumprod()\n",
      "C:\\Users\\boris\\OneDrive\\Documents\\Studies\\ColumbiaBootCamp\\FinTech-Workspace\\Module_5\\Challenge_5\\Starter_Code\\FinTech_Module5_Financial_Planner\\MCForecastTools.py:117: PerformanceWarning: DataFrame is highly fragmented.  This is usually the result of calling `frame.insert` many times, which has poor performance.  Consider joining all columns at once using pd.concat(axis=1) instead. To get a de-fragmented frame, use `newframe = frame.copy()`\n",
      "  portfolio_cumulative_returns[n] = (1 + sim_df.fillna(0)).cumprod()\n",
      "C:\\Users\\boris\\OneDrive\\Documents\\Studies\\ColumbiaBootCamp\\FinTech-Workspace\\Module_5\\Challenge_5\\Starter_Code\\FinTech_Module5_Financial_Planner\\MCForecastTools.py:117: PerformanceWarning: DataFrame is highly fragmented.  This is usually the result of calling `frame.insert` many times, which has poor performance.  Consider joining all columns at once using pd.concat(axis=1) instead. To get a de-fragmented frame, use `newframe = frame.copy()`\n",
      "  portfolio_cumulative_returns[n] = (1 + sim_df.fillna(0)).cumprod()\n"
     ]
    },
    {
     "name": "stdout",
     "output_type": "stream",
     "text": [
      "Running Monte Carlo simulation number 240.\n"
     ]
    },
    {
     "name": "stderr",
     "output_type": "stream",
     "text": [
      "C:\\Users\\boris\\OneDrive\\Documents\\Studies\\ColumbiaBootCamp\\FinTech-Workspace\\Module_5\\Challenge_5\\Starter_Code\\FinTech_Module5_Financial_Planner\\MCForecastTools.py:117: PerformanceWarning: DataFrame is highly fragmented.  This is usually the result of calling `frame.insert` many times, which has poor performance.  Consider joining all columns at once using pd.concat(axis=1) instead. To get a de-fragmented frame, use `newframe = frame.copy()`\n",
      "  portfolio_cumulative_returns[n] = (1 + sim_df.fillna(0)).cumprod()\n",
      "C:\\Users\\boris\\OneDrive\\Documents\\Studies\\ColumbiaBootCamp\\FinTech-Workspace\\Module_5\\Challenge_5\\Starter_Code\\FinTech_Module5_Financial_Planner\\MCForecastTools.py:117: PerformanceWarning: DataFrame is highly fragmented.  This is usually the result of calling `frame.insert` many times, which has poor performance.  Consider joining all columns at once using pd.concat(axis=1) instead. To get a de-fragmented frame, use `newframe = frame.copy()`\n",
      "  portfolio_cumulative_returns[n] = (1 + sim_df.fillna(0)).cumprod()\n",
      "C:\\Users\\boris\\OneDrive\\Documents\\Studies\\ColumbiaBootCamp\\FinTech-Workspace\\Module_5\\Challenge_5\\Starter_Code\\FinTech_Module5_Financial_Planner\\MCForecastTools.py:117: PerformanceWarning: DataFrame is highly fragmented.  This is usually the result of calling `frame.insert` many times, which has poor performance.  Consider joining all columns at once using pd.concat(axis=1) instead. To get a de-fragmented frame, use `newframe = frame.copy()`\n",
      "  portfolio_cumulative_returns[n] = (1 + sim_df.fillna(0)).cumprod()\n",
      "C:\\Users\\boris\\OneDrive\\Documents\\Studies\\ColumbiaBootCamp\\FinTech-Workspace\\Module_5\\Challenge_5\\Starter_Code\\FinTech_Module5_Financial_Planner\\MCForecastTools.py:117: PerformanceWarning: DataFrame is highly fragmented.  This is usually the result of calling `frame.insert` many times, which has poor performance.  Consider joining all columns at once using pd.concat(axis=1) instead. To get a de-fragmented frame, use `newframe = frame.copy()`\n",
      "  portfolio_cumulative_returns[n] = (1 + sim_df.fillna(0)).cumprod()\n",
      "C:\\Users\\boris\\OneDrive\\Documents\\Studies\\ColumbiaBootCamp\\FinTech-Workspace\\Module_5\\Challenge_5\\Starter_Code\\FinTech_Module5_Financial_Planner\\MCForecastTools.py:117: PerformanceWarning: DataFrame is highly fragmented.  This is usually the result of calling `frame.insert` many times, which has poor performance.  Consider joining all columns at once using pd.concat(axis=1) instead. To get a de-fragmented frame, use `newframe = frame.copy()`\n",
      "  portfolio_cumulative_returns[n] = (1 + sim_df.fillna(0)).cumprod()\n",
      "C:\\Users\\boris\\OneDrive\\Documents\\Studies\\ColumbiaBootCamp\\FinTech-Workspace\\Module_5\\Challenge_5\\Starter_Code\\FinTech_Module5_Financial_Planner\\MCForecastTools.py:117: PerformanceWarning: DataFrame is highly fragmented.  This is usually the result of calling `frame.insert` many times, which has poor performance.  Consider joining all columns at once using pd.concat(axis=1) instead. To get a de-fragmented frame, use `newframe = frame.copy()`\n",
      "  portfolio_cumulative_returns[n] = (1 + sim_df.fillna(0)).cumprod()\n",
      "C:\\Users\\boris\\OneDrive\\Documents\\Studies\\ColumbiaBootCamp\\FinTech-Workspace\\Module_5\\Challenge_5\\Starter_Code\\FinTech_Module5_Financial_Planner\\MCForecastTools.py:117: PerformanceWarning: DataFrame is highly fragmented.  This is usually the result of calling `frame.insert` many times, which has poor performance.  Consider joining all columns at once using pd.concat(axis=1) instead. To get a de-fragmented frame, use `newframe = frame.copy()`\n",
      "  portfolio_cumulative_returns[n] = (1 + sim_df.fillna(0)).cumprod()\n",
      "C:\\Users\\boris\\OneDrive\\Documents\\Studies\\ColumbiaBootCamp\\FinTech-Workspace\\Module_5\\Challenge_5\\Starter_Code\\FinTech_Module5_Financial_Planner\\MCForecastTools.py:117: PerformanceWarning: DataFrame is highly fragmented.  This is usually the result of calling `frame.insert` many times, which has poor performance.  Consider joining all columns at once using pd.concat(axis=1) instead. To get a de-fragmented frame, use `newframe = frame.copy()`\n",
      "  portfolio_cumulative_returns[n] = (1 + sim_df.fillna(0)).cumprod()\n",
      "C:\\Users\\boris\\OneDrive\\Documents\\Studies\\ColumbiaBootCamp\\FinTech-Workspace\\Module_5\\Challenge_5\\Starter_Code\\FinTech_Module5_Financial_Planner\\MCForecastTools.py:117: PerformanceWarning: DataFrame is highly fragmented.  This is usually the result of calling `frame.insert` many times, which has poor performance.  Consider joining all columns at once using pd.concat(axis=1) instead. To get a de-fragmented frame, use `newframe = frame.copy()`\n",
      "  portfolio_cumulative_returns[n] = (1 + sim_df.fillna(0)).cumprod()\n",
      "C:\\Users\\boris\\OneDrive\\Documents\\Studies\\ColumbiaBootCamp\\FinTech-Workspace\\Module_5\\Challenge_5\\Starter_Code\\FinTech_Module5_Financial_Planner\\MCForecastTools.py:117: PerformanceWarning: DataFrame is highly fragmented.  This is usually the result of calling `frame.insert` many times, which has poor performance.  Consider joining all columns at once using pd.concat(axis=1) instead. To get a de-fragmented frame, use `newframe = frame.copy()`\n",
      "  portfolio_cumulative_returns[n] = (1 + sim_df.fillna(0)).cumprod()\n",
      "C:\\Users\\boris\\OneDrive\\Documents\\Studies\\ColumbiaBootCamp\\FinTech-Workspace\\Module_5\\Challenge_5\\Starter_Code\\FinTech_Module5_Financial_Planner\\MCForecastTools.py:117: PerformanceWarning: DataFrame is highly fragmented.  This is usually the result of calling `frame.insert` many times, which has poor performance.  Consider joining all columns at once using pd.concat(axis=1) instead. To get a de-fragmented frame, use `newframe = frame.copy()`\n",
      "  portfolio_cumulative_returns[n] = (1 + sim_df.fillna(0)).cumprod()\n"
     ]
    },
    {
     "name": "stdout",
     "output_type": "stream",
     "text": [
      "Running Monte Carlo simulation number 250.\n"
     ]
    },
    {
     "name": "stderr",
     "output_type": "stream",
     "text": [
      "C:\\Users\\boris\\OneDrive\\Documents\\Studies\\ColumbiaBootCamp\\FinTech-Workspace\\Module_5\\Challenge_5\\Starter_Code\\FinTech_Module5_Financial_Planner\\MCForecastTools.py:117: PerformanceWarning: DataFrame is highly fragmented.  This is usually the result of calling `frame.insert` many times, which has poor performance.  Consider joining all columns at once using pd.concat(axis=1) instead. To get a de-fragmented frame, use `newframe = frame.copy()`\n",
      "  portfolio_cumulative_returns[n] = (1 + sim_df.fillna(0)).cumprod()\n",
      "C:\\Users\\boris\\OneDrive\\Documents\\Studies\\ColumbiaBootCamp\\FinTech-Workspace\\Module_5\\Challenge_5\\Starter_Code\\FinTech_Module5_Financial_Planner\\MCForecastTools.py:117: PerformanceWarning: DataFrame is highly fragmented.  This is usually the result of calling `frame.insert` many times, which has poor performance.  Consider joining all columns at once using pd.concat(axis=1) instead. To get a de-fragmented frame, use `newframe = frame.copy()`\n",
      "  portfolio_cumulative_returns[n] = (1 + sim_df.fillna(0)).cumprod()\n",
      "C:\\Users\\boris\\OneDrive\\Documents\\Studies\\ColumbiaBootCamp\\FinTech-Workspace\\Module_5\\Challenge_5\\Starter_Code\\FinTech_Module5_Financial_Planner\\MCForecastTools.py:117: PerformanceWarning: DataFrame is highly fragmented.  This is usually the result of calling `frame.insert` many times, which has poor performance.  Consider joining all columns at once using pd.concat(axis=1) instead. To get a de-fragmented frame, use `newframe = frame.copy()`\n",
      "  portfolio_cumulative_returns[n] = (1 + sim_df.fillna(0)).cumprod()\n",
      "C:\\Users\\boris\\OneDrive\\Documents\\Studies\\ColumbiaBootCamp\\FinTech-Workspace\\Module_5\\Challenge_5\\Starter_Code\\FinTech_Module5_Financial_Planner\\MCForecastTools.py:117: PerformanceWarning: DataFrame is highly fragmented.  This is usually the result of calling `frame.insert` many times, which has poor performance.  Consider joining all columns at once using pd.concat(axis=1) instead. To get a de-fragmented frame, use `newframe = frame.copy()`\n",
      "  portfolio_cumulative_returns[n] = (1 + sim_df.fillna(0)).cumprod()\n",
      "C:\\Users\\boris\\OneDrive\\Documents\\Studies\\ColumbiaBootCamp\\FinTech-Workspace\\Module_5\\Challenge_5\\Starter_Code\\FinTech_Module5_Financial_Planner\\MCForecastTools.py:117: PerformanceWarning: DataFrame is highly fragmented.  This is usually the result of calling `frame.insert` many times, which has poor performance.  Consider joining all columns at once using pd.concat(axis=1) instead. To get a de-fragmented frame, use `newframe = frame.copy()`\n",
      "  portfolio_cumulative_returns[n] = (1 + sim_df.fillna(0)).cumprod()\n",
      "C:\\Users\\boris\\OneDrive\\Documents\\Studies\\ColumbiaBootCamp\\FinTech-Workspace\\Module_5\\Challenge_5\\Starter_Code\\FinTech_Module5_Financial_Planner\\MCForecastTools.py:117: PerformanceWarning: DataFrame is highly fragmented.  This is usually the result of calling `frame.insert` many times, which has poor performance.  Consider joining all columns at once using pd.concat(axis=1) instead. To get a de-fragmented frame, use `newframe = frame.copy()`\n",
      "  portfolio_cumulative_returns[n] = (1 + sim_df.fillna(0)).cumprod()\n",
      "C:\\Users\\boris\\OneDrive\\Documents\\Studies\\ColumbiaBootCamp\\FinTech-Workspace\\Module_5\\Challenge_5\\Starter_Code\\FinTech_Module5_Financial_Planner\\MCForecastTools.py:117: PerformanceWarning: DataFrame is highly fragmented.  This is usually the result of calling `frame.insert` many times, which has poor performance.  Consider joining all columns at once using pd.concat(axis=1) instead. To get a de-fragmented frame, use `newframe = frame.copy()`\n",
      "  portfolio_cumulative_returns[n] = (1 + sim_df.fillna(0)).cumprod()\n",
      "C:\\Users\\boris\\OneDrive\\Documents\\Studies\\ColumbiaBootCamp\\FinTech-Workspace\\Module_5\\Challenge_5\\Starter_Code\\FinTech_Module5_Financial_Planner\\MCForecastTools.py:117: PerformanceWarning: DataFrame is highly fragmented.  This is usually the result of calling `frame.insert` many times, which has poor performance.  Consider joining all columns at once using pd.concat(axis=1) instead. To get a de-fragmented frame, use `newframe = frame.copy()`\n",
      "  portfolio_cumulative_returns[n] = (1 + sim_df.fillna(0)).cumprod()\n",
      "C:\\Users\\boris\\OneDrive\\Documents\\Studies\\ColumbiaBootCamp\\FinTech-Workspace\\Module_5\\Challenge_5\\Starter_Code\\FinTech_Module5_Financial_Planner\\MCForecastTools.py:117: PerformanceWarning: DataFrame is highly fragmented.  This is usually the result of calling `frame.insert` many times, which has poor performance.  Consider joining all columns at once using pd.concat(axis=1) instead. To get a de-fragmented frame, use `newframe = frame.copy()`\n",
      "  portfolio_cumulative_returns[n] = (1 + sim_df.fillna(0)).cumprod()\n"
     ]
    },
    {
     "name": "stdout",
     "output_type": "stream",
     "text": [
      "Running Monte Carlo simulation number 260.\n"
     ]
    },
    {
     "name": "stderr",
     "output_type": "stream",
     "text": [
      "C:\\Users\\boris\\OneDrive\\Documents\\Studies\\ColumbiaBootCamp\\FinTech-Workspace\\Module_5\\Challenge_5\\Starter_Code\\FinTech_Module5_Financial_Planner\\MCForecastTools.py:117: PerformanceWarning: DataFrame is highly fragmented.  This is usually the result of calling `frame.insert` many times, which has poor performance.  Consider joining all columns at once using pd.concat(axis=1) instead. To get a de-fragmented frame, use `newframe = frame.copy()`\n",
      "  portfolio_cumulative_returns[n] = (1 + sim_df.fillna(0)).cumprod()\n",
      "C:\\Users\\boris\\OneDrive\\Documents\\Studies\\ColumbiaBootCamp\\FinTech-Workspace\\Module_5\\Challenge_5\\Starter_Code\\FinTech_Module5_Financial_Planner\\MCForecastTools.py:117: PerformanceWarning: DataFrame is highly fragmented.  This is usually the result of calling `frame.insert` many times, which has poor performance.  Consider joining all columns at once using pd.concat(axis=1) instead. To get a de-fragmented frame, use `newframe = frame.copy()`\n",
      "  portfolio_cumulative_returns[n] = (1 + sim_df.fillna(0)).cumprod()\n",
      "C:\\Users\\boris\\OneDrive\\Documents\\Studies\\ColumbiaBootCamp\\FinTech-Workspace\\Module_5\\Challenge_5\\Starter_Code\\FinTech_Module5_Financial_Planner\\MCForecastTools.py:117: PerformanceWarning: DataFrame is highly fragmented.  This is usually the result of calling `frame.insert` many times, which has poor performance.  Consider joining all columns at once using pd.concat(axis=1) instead. To get a de-fragmented frame, use `newframe = frame.copy()`\n",
      "  portfolio_cumulative_returns[n] = (1 + sim_df.fillna(0)).cumprod()\n",
      "C:\\Users\\boris\\OneDrive\\Documents\\Studies\\ColumbiaBootCamp\\FinTech-Workspace\\Module_5\\Challenge_5\\Starter_Code\\FinTech_Module5_Financial_Planner\\MCForecastTools.py:117: PerformanceWarning: DataFrame is highly fragmented.  This is usually the result of calling `frame.insert` many times, which has poor performance.  Consider joining all columns at once using pd.concat(axis=1) instead. To get a de-fragmented frame, use `newframe = frame.copy()`\n",
      "  portfolio_cumulative_returns[n] = (1 + sim_df.fillna(0)).cumprod()\n",
      "C:\\Users\\boris\\OneDrive\\Documents\\Studies\\ColumbiaBootCamp\\FinTech-Workspace\\Module_5\\Challenge_5\\Starter_Code\\FinTech_Module5_Financial_Planner\\MCForecastTools.py:117: PerformanceWarning: DataFrame is highly fragmented.  This is usually the result of calling `frame.insert` many times, which has poor performance.  Consider joining all columns at once using pd.concat(axis=1) instead. To get a de-fragmented frame, use `newframe = frame.copy()`\n",
      "  portfolio_cumulative_returns[n] = (1 + sim_df.fillna(0)).cumprod()\n",
      "C:\\Users\\boris\\OneDrive\\Documents\\Studies\\ColumbiaBootCamp\\FinTech-Workspace\\Module_5\\Challenge_5\\Starter_Code\\FinTech_Module5_Financial_Planner\\MCForecastTools.py:117: PerformanceWarning: DataFrame is highly fragmented.  This is usually the result of calling `frame.insert` many times, which has poor performance.  Consider joining all columns at once using pd.concat(axis=1) instead. To get a de-fragmented frame, use `newframe = frame.copy()`\n",
      "  portfolio_cumulative_returns[n] = (1 + sim_df.fillna(0)).cumprod()\n",
      "C:\\Users\\boris\\OneDrive\\Documents\\Studies\\ColumbiaBootCamp\\FinTech-Workspace\\Module_5\\Challenge_5\\Starter_Code\\FinTech_Module5_Financial_Planner\\MCForecastTools.py:117: PerformanceWarning: DataFrame is highly fragmented.  This is usually the result of calling `frame.insert` many times, which has poor performance.  Consider joining all columns at once using pd.concat(axis=1) instead. To get a de-fragmented frame, use `newframe = frame.copy()`\n",
      "  portfolio_cumulative_returns[n] = (1 + sim_df.fillna(0)).cumprod()\n",
      "C:\\Users\\boris\\OneDrive\\Documents\\Studies\\ColumbiaBootCamp\\FinTech-Workspace\\Module_5\\Challenge_5\\Starter_Code\\FinTech_Module5_Financial_Planner\\MCForecastTools.py:117: PerformanceWarning: DataFrame is highly fragmented.  This is usually the result of calling `frame.insert` many times, which has poor performance.  Consider joining all columns at once using pd.concat(axis=1) instead. To get a de-fragmented frame, use `newframe = frame.copy()`\n",
      "  portfolio_cumulative_returns[n] = (1 + sim_df.fillna(0)).cumprod()\n",
      "C:\\Users\\boris\\OneDrive\\Documents\\Studies\\ColumbiaBootCamp\\FinTech-Workspace\\Module_5\\Challenge_5\\Starter_Code\\FinTech_Module5_Financial_Planner\\MCForecastTools.py:117: PerformanceWarning: DataFrame is highly fragmented.  This is usually the result of calling `frame.insert` many times, which has poor performance.  Consider joining all columns at once using pd.concat(axis=1) instead. To get a de-fragmented frame, use `newframe = frame.copy()`\n",
      "  portfolio_cumulative_returns[n] = (1 + sim_df.fillna(0)).cumprod()\n",
      "C:\\Users\\boris\\OneDrive\\Documents\\Studies\\ColumbiaBootCamp\\FinTech-Workspace\\Module_5\\Challenge_5\\Starter_Code\\FinTech_Module5_Financial_Planner\\MCForecastTools.py:117: PerformanceWarning: DataFrame is highly fragmented.  This is usually the result of calling `frame.insert` many times, which has poor performance.  Consider joining all columns at once using pd.concat(axis=1) instead. To get a de-fragmented frame, use `newframe = frame.copy()`\n",
      "  portfolio_cumulative_returns[n] = (1 + sim_df.fillna(0)).cumprod()\n",
      "C:\\Users\\boris\\OneDrive\\Documents\\Studies\\ColumbiaBootCamp\\FinTech-Workspace\\Module_5\\Challenge_5\\Starter_Code\\FinTech_Module5_Financial_Planner\\MCForecastTools.py:117: PerformanceWarning: DataFrame is highly fragmented.  This is usually the result of calling `frame.insert` many times, which has poor performance.  Consider joining all columns at once using pd.concat(axis=1) instead. To get a de-fragmented frame, use `newframe = frame.copy()`\n",
      "  portfolio_cumulative_returns[n] = (1 + sim_df.fillna(0)).cumprod()\n"
     ]
    },
    {
     "name": "stdout",
     "output_type": "stream",
     "text": [
      "Running Monte Carlo simulation number 270.\n"
     ]
    },
    {
     "name": "stderr",
     "output_type": "stream",
     "text": [
      "C:\\Users\\boris\\OneDrive\\Documents\\Studies\\ColumbiaBootCamp\\FinTech-Workspace\\Module_5\\Challenge_5\\Starter_Code\\FinTech_Module5_Financial_Planner\\MCForecastTools.py:117: PerformanceWarning: DataFrame is highly fragmented.  This is usually the result of calling `frame.insert` many times, which has poor performance.  Consider joining all columns at once using pd.concat(axis=1) instead. To get a de-fragmented frame, use `newframe = frame.copy()`\n",
      "  portfolio_cumulative_returns[n] = (1 + sim_df.fillna(0)).cumprod()\n",
      "C:\\Users\\boris\\OneDrive\\Documents\\Studies\\ColumbiaBootCamp\\FinTech-Workspace\\Module_5\\Challenge_5\\Starter_Code\\FinTech_Module5_Financial_Planner\\MCForecastTools.py:117: PerformanceWarning: DataFrame is highly fragmented.  This is usually the result of calling `frame.insert` many times, which has poor performance.  Consider joining all columns at once using pd.concat(axis=1) instead. To get a de-fragmented frame, use `newframe = frame.copy()`\n",
      "  portfolio_cumulative_returns[n] = (1 + sim_df.fillna(0)).cumprod()\n",
      "C:\\Users\\boris\\OneDrive\\Documents\\Studies\\ColumbiaBootCamp\\FinTech-Workspace\\Module_5\\Challenge_5\\Starter_Code\\FinTech_Module5_Financial_Planner\\MCForecastTools.py:117: PerformanceWarning: DataFrame is highly fragmented.  This is usually the result of calling `frame.insert` many times, which has poor performance.  Consider joining all columns at once using pd.concat(axis=1) instead. To get a de-fragmented frame, use `newframe = frame.copy()`\n",
      "  portfolio_cumulative_returns[n] = (1 + sim_df.fillna(0)).cumprod()\n",
      "C:\\Users\\boris\\OneDrive\\Documents\\Studies\\ColumbiaBootCamp\\FinTech-Workspace\\Module_5\\Challenge_5\\Starter_Code\\FinTech_Module5_Financial_Planner\\MCForecastTools.py:117: PerformanceWarning: DataFrame is highly fragmented.  This is usually the result of calling `frame.insert` many times, which has poor performance.  Consider joining all columns at once using pd.concat(axis=1) instead. To get a de-fragmented frame, use `newframe = frame.copy()`\n",
      "  portfolio_cumulative_returns[n] = (1 + sim_df.fillna(0)).cumprod()\n",
      "C:\\Users\\boris\\OneDrive\\Documents\\Studies\\ColumbiaBootCamp\\FinTech-Workspace\\Module_5\\Challenge_5\\Starter_Code\\FinTech_Module5_Financial_Planner\\MCForecastTools.py:117: PerformanceWarning: DataFrame is highly fragmented.  This is usually the result of calling `frame.insert` many times, which has poor performance.  Consider joining all columns at once using pd.concat(axis=1) instead. To get a de-fragmented frame, use `newframe = frame.copy()`\n",
      "  portfolio_cumulative_returns[n] = (1 + sim_df.fillna(0)).cumprod()\n",
      "C:\\Users\\boris\\OneDrive\\Documents\\Studies\\ColumbiaBootCamp\\FinTech-Workspace\\Module_5\\Challenge_5\\Starter_Code\\FinTech_Module5_Financial_Planner\\MCForecastTools.py:117: PerformanceWarning: DataFrame is highly fragmented.  This is usually the result of calling `frame.insert` many times, which has poor performance.  Consider joining all columns at once using pd.concat(axis=1) instead. To get a de-fragmented frame, use `newframe = frame.copy()`\n",
      "  portfolio_cumulative_returns[n] = (1 + sim_df.fillna(0)).cumprod()\n",
      "C:\\Users\\boris\\OneDrive\\Documents\\Studies\\ColumbiaBootCamp\\FinTech-Workspace\\Module_5\\Challenge_5\\Starter_Code\\FinTech_Module5_Financial_Planner\\MCForecastTools.py:117: PerformanceWarning: DataFrame is highly fragmented.  This is usually the result of calling `frame.insert` many times, which has poor performance.  Consider joining all columns at once using pd.concat(axis=1) instead. To get a de-fragmented frame, use `newframe = frame.copy()`\n",
      "  portfolio_cumulative_returns[n] = (1 + sim_df.fillna(0)).cumprod()\n",
      "C:\\Users\\boris\\OneDrive\\Documents\\Studies\\ColumbiaBootCamp\\FinTech-Workspace\\Module_5\\Challenge_5\\Starter_Code\\FinTech_Module5_Financial_Planner\\MCForecastTools.py:117: PerformanceWarning: DataFrame is highly fragmented.  This is usually the result of calling `frame.insert` many times, which has poor performance.  Consider joining all columns at once using pd.concat(axis=1) instead. To get a de-fragmented frame, use `newframe = frame.copy()`\n",
      "  portfolio_cumulative_returns[n] = (1 + sim_df.fillna(0)).cumprod()\n",
      "C:\\Users\\boris\\OneDrive\\Documents\\Studies\\ColumbiaBootCamp\\FinTech-Workspace\\Module_5\\Challenge_5\\Starter_Code\\FinTech_Module5_Financial_Planner\\MCForecastTools.py:117: PerformanceWarning: DataFrame is highly fragmented.  This is usually the result of calling `frame.insert` many times, which has poor performance.  Consider joining all columns at once using pd.concat(axis=1) instead. To get a de-fragmented frame, use `newframe = frame.copy()`\n",
      "  portfolio_cumulative_returns[n] = (1 + sim_df.fillna(0)).cumprod()\n",
      "C:\\Users\\boris\\OneDrive\\Documents\\Studies\\ColumbiaBootCamp\\FinTech-Workspace\\Module_5\\Challenge_5\\Starter_Code\\FinTech_Module5_Financial_Planner\\MCForecastTools.py:117: PerformanceWarning: DataFrame is highly fragmented.  This is usually the result of calling `frame.insert` many times, which has poor performance.  Consider joining all columns at once using pd.concat(axis=1) instead. To get a de-fragmented frame, use `newframe = frame.copy()`\n",
      "  portfolio_cumulative_returns[n] = (1 + sim_df.fillna(0)).cumprod()\n"
     ]
    },
    {
     "name": "stdout",
     "output_type": "stream",
     "text": [
      "Running Monte Carlo simulation number 280.\n"
     ]
    },
    {
     "name": "stderr",
     "output_type": "stream",
     "text": [
      "C:\\Users\\boris\\OneDrive\\Documents\\Studies\\ColumbiaBootCamp\\FinTech-Workspace\\Module_5\\Challenge_5\\Starter_Code\\FinTech_Module5_Financial_Planner\\MCForecastTools.py:117: PerformanceWarning: DataFrame is highly fragmented.  This is usually the result of calling `frame.insert` many times, which has poor performance.  Consider joining all columns at once using pd.concat(axis=1) instead. To get a de-fragmented frame, use `newframe = frame.copy()`\n",
      "  portfolio_cumulative_returns[n] = (1 + sim_df.fillna(0)).cumprod()\n",
      "C:\\Users\\boris\\OneDrive\\Documents\\Studies\\ColumbiaBootCamp\\FinTech-Workspace\\Module_5\\Challenge_5\\Starter_Code\\FinTech_Module5_Financial_Planner\\MCForecastTools.py:117: PerformanceWarning: DataFrame is highly fragmented.  This is usually the result of calling `frame.insert` many times, which has poor performance.  Consider joining all columns at once using pd.concat(axis=1) instead. To get a de-fragmented frame, use `newframe = frame.copy()`\n",
      "  portfolio_cumulative_returns[n] = (1 + sim_df.fillna(0)).cumprod()\n",
      "C:\\Users\\boris\\OneDrive\\Documents\\Studies\\ColumbiaBootCamp\\FinTech-Workspace\\Module_5\\Challenge_5\\Starter_Code\\FinTech_Module5_Financial_Planner\\MCForecastTools.py:117: PerformanceWarning: DataFrame is highly fragmented.  This is usually the result of calling `frame.insert` many times, which has poor performance.  Consider joining all columns at once using pd.concat(axis=1) instead. To get a de-fragmented frame, use `newframe = frame.copy()`\n",
      "  portfolio_cumulative_returns[n] = (1 + sim_df.fillna(0)).cumprod()\n",
      "C:\\Users\\boris\\OneDrive\\Documents\\Studies\\ColumbiaBootCamp\\FinTech-Workspace\\Module_5\\Challenge_5\\Starter_Code\\FinTech_Module5_Financial_Planner\\MCForecastTools.py:117: PerformanceWarning: DataFrame is highly fragmented.  This is usually the result of calling `frame.insert` many times, which has poor performance.  Consider joining all columns at once using pd.concat(axis=1) instead. To get a de-fragmented frame, use `newframe = frame.copy()`\n",
      "  portfolio_cumulative_returns[n] = (1 + sim_df.fillna(0)).cumprod()\n",
      "C:\\Users\\boris\\OneDrive\\Documents\\Studies\\ColumbiaBootCamp\\FinTech-Workspace\\Module_5\\Challenge_5\\Starter_Code\\FinTech_Module5_Financial_Planner\\MCForecastTools.py:117: PerformanceWarning: DataFrame is highly fragmented.  This is usually the result of calling `frame.insert` many times, which has poor performance.  Consider joining all columns at once using pd.concat(axis=1) instead. To get a de-fragmented frame, use `newframe = frame.copy()`\n",
      "  portfolio_cumulative_returns[n] = (1 + sim_df.fillna(0)).cumprod()\n",
      "C:\\Users\\boris\\OneDrive\\Documents\\Studies\\ColumbiaBootCamp\\FinTech-Workspace\\Module_5\\Challenge_5\\Starter_Code\\FinTech_Module5_Financial_Planner\\MCForecastTools.py:117: PerformanceWarning: DataFrame is highly fragmented.  This is usually the result of calling `frame.insert` many times, which has poor performance.  Consider joining all columns at once using pd.concat(axis=1) instead. To get a de-fragmented frame, use `newframe = frame.copy()`\n",
      "  portfolio_cumulative_returns[n] = (1 + sim_df.fillna(0)).cumprod()\n",
      "C:\\Users\\boris\\OneDrive\\Documents\\Studies\\ColumbiaBootCamp\\FinTech-Workspace\\Module_5\\Challenge_5\\Starter_Code\\FinTech_Module5_Financial_Planner\\MCForecastTools.py:117: PerformanceWarning: DataFrame is highly fragmented.  This is usually the result of calling `frame.insert` many times, which has poor performance.  Consider joining all columns at once using pd.concat(axis=1) instead. To get a de-fragmented frame, use `newframe = frame.copy()`\n",
      "  portfolio_cumulative_returns[n] = (1 + sim_df.fillna(0)).cumprod()\n",
      "C:\\Users\\boris\\OneDrive\\Documents\\Studies\\ColumbiaBootCamp\\FinTech-Workspace\\Module_5\\Challenge_5\\Starter_Code\\FinTech_Module5_Financial_Planner\\MCForecastTools.py:117: PerformanceWarning: DataFrame is highly fragmented.  This is usually the result of calling `frame.insert` many times, which has poor performance.  Consider joining all columns at once using pd.concat(axis=1) instead. To get a de-fragmented frame, use `newframe = frame.copy()`\n",
      "  portfolio_cumulative_returns[n] = (1 + sim_df.fillna(0)).cumprod()\n",
      "C:\\Users\\boris\\OneDrive\\Documents\\Studies\\ColumbiaBootCamp\\FinTech-Workspace\\Module_5\\Challenge_5\\Starter_Code\\FinTech_Module5_Financial_Planner\\MCForecastTools.py:117: PerformanceWarning: DataFrame is highly fragmented.  This is usually the result of calling `frame.insert` many times, which has poor performance.  Consider joining all columns at once using pd.concat(axis=1) instead. To get a de-fragmented frame, use `newframe = frame.copy()`\n",
      "  portfolio_cumulative_returns[n] = (1 + sim_df.fillna(0)).cumprod()\n",
      "C:\\Users\\boris\\OneDrive\\Documents\\Studies\\ColumbiaBootCamp\\FinTech-Workspace\\Module_5\\Challenge_5\\Starter_Code\\FinTech_Module5_Financial_Planner\\MCForecastTools.py:117: PerformanceWarning: DataFrame is highly fragmented.  This is usually the result of calling `frame.insert` many times, which has poor performance.  Consider joining all columns at once using pd.concat(axis=1) instead. To get a de-fragmented frame, use `newframe = frame.copy()`\n",
      "  portfolio_cumulative_returns[n] = (1 + sim_df.fillna(0)).cumprod()\n",
      "C:\\Users\\boris\\OneDrive\\Documents\\Studies\\ColumbiaBootCamp\\FinTech-Workspace\\Module_5\\Challenge_5\\Starter_Code\\FinTech_Module5_Financial_Planner\\MCForecastTools.py:117: PerformanceWarning: DataFrame is highly fragmented.  This is usually the result of calling `frame.insert` many times, which has poor performance.  Consider joining all columns at once using pd.concat(axis=1) instead. To get a de-fragmented frame, use `newframe = frame.copy()`\n",
      "  portfolio_cumulative_returns[n] = (1 + sim_df.fillna(0)).cumprod()\n",
      "C:\\Users\\boris\\OneDrive\\Documents\\Studies\\ColumbiaBootCamp\\FinTech-Workspace\\Module_5\\Challenge_5\\Starter_Code\\FinTech_Module5_Financial_Planner\\MCForecastTools.py:117: PerformanceWarning: DataFrame is highly fragmented.  This is usually the result of calling `frame.insert` many times, which has poor performance.  Consider joining all columns at once using pd.concat(axis=1) instead. To get a de-fragmented frame, use `newframe = frame.copy()`\n",
      "  portfolio_cumulative_returns[n] = (1 + sim_df.fillna(0)).cumprod()\n"
     ]
    },
    {
     "name": "stdout",
     "output_type": "stream",
     "text": [
      "Running Monte Carlo simulation number 290.\n"
     ]
    },
    {
     "name": "stderr",
     "output_type": "stream",
     "text": [
      "C:\\Users\\boris\\OneDrive\\Documents\\Studies\\ColumbiaBootCamp\\FinTech-Workspace\\Module_5\\Challenge_5\\Starter_Code\\FinTech_Module5_Financial_Planner\\MCForecastTools.py:117: PerformanceWarning: DataFrame is highly fragmented.  This is usually the result of calling `frame.insert` many times, which has poor performance.  Consider joining all columns at once using pd.concat(axis=1) instead. To get a de-fragmented frame, use `newframe = frame.copy()`\n",
      "  portfolio_cumulative_returns[n] = (1 + sim_df.fillna(0)).cumprod()\n",
      "C:\\Users\\boris\\OneDrive\\Documents\\Studies\\ColumbiaBootCamp\\FinTech-Workspace\\Module_5\\Challenge_5\\Starter_Code\\FinTech_Module5_Financial_Planner\\MCForecastTools.py:117: PerformanceWarning: DataFrame is highly fragmented.  This is usually the result of calling `frame.insert` many times, which has poor performance.  Consider joining all columns at once using pd.concat(axis=1) instead. To get a de-fragmented frame, use `newframe = frame.copy()`\n",
      "  portfolio_cumulative_returns[n] = (1 + sim_df.fillna(0)).cumprod()\n",
      "C:\\Users\\boris\\OneDrive\\Documents\\Studies\\ColumbiaBootCamp\\FinTech-Workspace\\Module_5\\Challenge_5\\Starter_Code\\FinTech_Module5_Financial_Planner\\MCForecastTools.py:117: PerformanceWarning: DataFrame is highly fragmented.  This is usually the result of calling `frame.insert` many times, which has poor performance.  Consider joining all columns at once using pd.concat(axis=1) instead. To get a de-fragmented frame, use `newframe = frame.copy()`\n",
      "  portfolio_cumulative_returns[n] = (1 + sim_df.fillna(0)).cumprod()\n",
      "C:\\Users\\boris\\OneDrive\\Documents\\Studies\\ColumbiaBootCamp\\FinTech-Workspace\\Module_5\\Challenge_5\\Starter_Code\\FinTech_Module5_Financial_Planner\\MCForecastTools.py:117: PerformanceWarning: DataFrame is highly fragmented.  This is usually the result of calling `frame.insert` many times, which has poor performance.  Consider joining all columns at once using pd.concat(axis=1) instead. To get a de-fragmented frame, use `newframe = frame.copy()`\n",
      "  portfolio_cumulative_returns[n] = (1 + sim_df.fillna(0)).cumprod()\n",
      "C:\\Users\\boris\\OneDrive\\Documents\\Studies\\ColumbiaBootCamp\\FinTech-Workspace\\Module_5\\Challenge_5\\Starter_Code\\FinTech_Module5_Financial_Planner\\MCForecastTools.py:117: PerformanceWarning: DataFrame is highly fragmented.  This is usually the result of calling `frame.insert` many times, which has poor performance.  Consider joining all columns at once using pd.concat(axis=1) instead. To get a de-fragmented frame, use `newframe = frame.copy()`\n",
      "  portfolio_cumulative_returns[n] = (1 + sim_df.fillna(0)).cumprod()\n",
      "C:\\Users\\boris\\OneDrive\\Documents\\Studies\\ColumbiaBootCamp\\FinTech-Workspace\\Module_5\\Challenge_5\\Starter_Code\\FinTech_Module5_Financial_Planner\\MCForecastTools.py:117: PerformanceWarning: DataFrame is highly fragmented.  This is usually the result of calling `frame.insert` many times, which has poor performance.  Consider joining all columns at once using pd.concat(axis=1) instead. To get a de-fragmented frame, use `newframe = frame.copy()`\n",
      "  portfolio_cumulative_returns[n] = (1 + sim_df.fillna(0)).cumprod()\n",
      "C:\\Users\\boris\\OneDrive\\Documents\\Studies\\ColumbiaBootCamp\\FinTech-Workspace\\Module_5\\Challenge_5\\Starter_Code\\FinTech_Module5_Financial_Planner\\MCForecastTools.py:117: PerformanceWarning: DataFrame is highly fragmented.  This is usually the result of calling `frame.insert` many times, which has poor performance.  Consider joining all columns at once using pd.concat(axis=1) instead. To get a de-fragmented frame, use `newframe = frame.copy()`\n",
      "  portfolio_cumulative_returns[n] = (1 + sim_df.fillna(0)).cumprod()\n",
      "C:\\Users\\boris\\OneDrive\\Documents\\Studies\\ColumbiaBootCamp\\FinTech-Workspace\\Module_5\\Challenge_5\\Starter_Code\\FinTech_Module5_Financial_Planner\\MCForecastTools.py:117: PerformanceWarning: DataFrame is highly fragmented.  This is usually the result of calling `frame.insert` many times, which has poor performance.  Consider joining all columns at once using pd.concat(axis=1) instead. To get a de-fragmented frame, use `newframe = frame.copy()`\n",
      "  portfolio_cumulative_returns[n] = (1 + sim_df.fillna(0)).cumprod()\n",
      "C:\\Users\\boris\\OneDrive\\Documents\\Studies\\ColumbiaBootCamp\\FinTech-Workspace\\Module_5\\Challenge_5\\Starter_Code\\FinTech_Module5_Financial_Planner\\MCForecastTools.py:117: PerformanceWarning: DataFrame is highly fragmented.  This is usually the result of calling `frame.insert` many times, which has poor performance.  Consider joining all columns at once using pd.concat(axis=1) instead. To get a de-fragmented frame, use `newframe = frame.copy()`\n",
      "  portfolio_cumulative_returns[n] = (1 + sim_df.fillna(0)).cumprod()\n",
      "C:\\Users\\boris\\OneDrive\\Documents\\Studies\\ColumbiaBootCamp\\FinTech-Workspace\\Module_5\\Challenge_5\\Starter_Code\\FinTech_Module5_Financial_Planner\\MCForecastTools.py:117: PerformanceWarning: DataFrame is highly fragmented.  This is usually the result of calling `frame.insert` many times, which has poor performance.  Consider joining all columns at once using pd.concat(axis=1) instead. To get a de-fragmented frame, use `newframe = frame.copy()`\n",
      "  portfolio_cumulative_returns[n] = (1 + sim_df.fillna(0)).cumprod()\n",
      "C:\\Users\\boris\\OneDrive\\Documents\\Studies\\ColumbiaBootCamp\\FinTech-Workspace\\Module_5\\Challenge_5\\Starter_Code\\FinTech_Module5_Financial_Planner\\MCForecastTools.py:117: PerformanceWarning: DataFrame is highly fragmented.  This is usually the result of calling `frame.insert` many times, which has poor performance.  Consider joining all columns at once using pd.concat(axis=1) instead. To get a de-fragmented frame, use `newframe = frame.copy()`\n",
      "  portfolio_cumulative_returns[n] = (1 + sim_df.fillna(0)).cumprod()\n"
     ]
    },
    {
     "name": "stdout",
     "output_type": "stream",
     "text": [
      "Running Monte Carlo simulation number 300.\n"
     ]
    },
    {
     "name": "stderr",
     "output_type": "stream",
     "text": [
      "C:\\Users\\boris\\OneDrive\\Documents\\Studies\\ColumbiaBootCamp\\FinTech-Workspace\\Module_5\\Challenge_5\\Starter_Code\\FinTech_Module5_Financial_Planner\\MCForecastTools.py:117: PerformanceWarning: DataFrame is highly fragmented.  This is usually the result of calling `frame.insert` many times, which has poor performance.  Consider joining all columns at once using pd.concat(axis=1) instead. To get a de-fragmented frame, use `newframe = frame.copy()`\n",
      "  portfolio_cumulative_returns[n] = (1 + sim_df.fillna(0)).cumprod()\n",
      "C:\\Users\\boris\\OneDrive\\Documents\\Studies\\ColumbiaBootCamp\\FinTech-Workspace\\Module_5\\Challenge_5\\Starter_Code\\FinTech_Module5_Financial_Planner\\MCForecastTools.py:117: PerformanceWarning: DataFrame is highly fragmented.  This is usually the result of calling `frame.insert` many times, which has poor performance.  Consider joining all columns at once using pd.concat(axis=1) instead. To get a de-fragmented frame, use `newframe = frame.copy()`\n",
      "  portfolio_cumulative_returns[n] = (1 + sim_df.fillna(0)).cumprod()\n",
      "C:\\Users\\boris\\OneDrive\\Documents\\Studies\\ColumbiaBootCamp\\FinTech-Workspace\\Module_5\\Challenge_5\\Starter_Code\\FinTech_Module5_Financial_Planner\\MCForecastTools.py:117: PerformanceWarning: DataFrame is highly fragmented.  This is usually the result of calling `frame.insert` many times, which has poor performance.  Consider joining all columns at once using pd.concat(axis=1) instead. To get a de-fragmented frame, use `newframe = frame.copy()`\n",
      "  portfolio_cumulative_returns[n] = (1 + sim_df.fillna(0)).cumprod()\n",
      "C:\\Users\\boris\\OneDrive\\Documents\\Studies\\ColumbiaBootCamp\\FinTech-Workspace\\Module_5\\Challenge_5\\Starter_Code\\FinTech_Module5_Financial_Planner\\MCForecastTools.py:117: PerformanceWarning: DataFrame is highly fragmented.  This is usually the result of calling `frame.insert` many times, which has poor performance.  Consider joining all columns at once using pd.concat(axis=1) instead. To get a de-fragmented frame, use `newframe = frame.copy()`\n",
      "  portfolio_cumulative_returns[n] = (1 + sim_df.fillna(0)).cumprod()\n",
      "C:\\Users\\boris\\OneDrive\\Documents\\Studies\\ColumbiaBootCamp\\FinTech-Workspace\\Module_5\\Challenge_5\\Starter_Code\\FinTech_Module5_Financial_Planner\\MCForecastTools.py:117: PerformanceWarning: DataFrame is highly fragmented.  This is usually the result of calling `frame.insert` many times, which has poor performance.  Consider joining all columns at once using pd.concat(axis=1) instead. To get a de-fragmented frame, use `newframe = frame.copy()`\n",
      "  portfolio_cumulative_returns[n] = (1 + sim_df.fillna(0)).cumprod()\n",
      "C:\\Users\\boris\\OneDrive\\Documents\\Studies\\ColumbiaBootCamp\\FinTech-Workspace\\Module_5\\Challenge_5\\Starter_Code\\FinTech_Module5_Financial_Planner\\MCForecastTools.py:117: PerformanceWarning: DataFrame is highly fragmented.  This is usually the result of calling `frame.insert` many times, which has poor performance.  Consider joining all columns at once using pd.concat(axis=1) instead. To get a de-fragmented frame, use `newframe = frame.copy()`\n",
      "  portfolio_cumulative_returns[n] = (1 + sim_df.fillna(0)).cumprod()\n",
      "C:\\Users\\boris\\OneDrive\\Documents\\Studies\\ColumbiaBootCamp\\FinTech-Workspace\\Module_5\\Challenge_5\\Starter_Code\\FinTech_Module5_Financial_Planner\\MCForecastTools.py:117: PerformanceWarning: DataFrame is highly fragmented.  This is usually the result of calling `frame.insert` many times, which has poor performance.  Consider joining all columns at once using pd.concat(axis=1) instead. To get a de-fragmented frame, use `newframe = frame.copy()`\n",
      "  portfolio_cumulative_returns[n] = (1 + sim_df.fillna(0)).cumprod()\n",
      "C:\\Users\\boris\\OneDrive\\Documents\\Studies\\ColumbiaBootCamp\\FinTech-Workspace\\Module_5\\Challenge_5\\Starter_Code\\FinTech_Module5_Financial_Planner\\MCForecastTools.py:117: PerformanceWarning: DataFrame is highly fragmented.  This is usually the result of calling `frame.insert` many times, which has poor performance.  Consider joining all columns at once using pd.concat(axis=1) instead. To get a de-fragmented frame, use `newframe = frame.copy()`\n",
      "  portfolio_cumulative_returns[n] = (1 + sim_df.fillna(0)).cumprod()\n",
      "C:\\Users\\boris\\OneDrive\\Documents\\Studies\\ColumbiaBootCamp\\FinTech-Workspace\\Module_5\\Challenge_5\\Starter_Code\\FinTech_Module5_Financial_Planner\\MCForecastTools.py:117: PerformanceWarning: DataFrame is highly fragmented.  This is usually the result of calling `frame.insert` many times, which has poor performance.  Consider joining all columns at once using pd.concat(axis=1) instead. To get a de-fragmented frame, use `newframe = frame.copy()`\n",
      "  portfolio_cumulative_returns[n] = (1 + sim_df.fillna(0)).cumprod()\n",
      "C:\\Users\\boris\\OneDrive\\Documents\\Studies\\ColumbiaBootCamp\\FinTech-Workspace\\Module_5\\Challenge_5\\Starter_Code\\FinTech_Module5_Financial_Planner\\MCForecastTools.py:117: PerformanceWarning: DataFrame is highly fragmented.  This is usually the result of calling `frame.insert` many times, which has poor performance.  Consider joining all columns at once using pd.concat(axis=1) instead. To get a de-fragmented frame, use `newframe = frame.copy()`\n",
      "  portfolio_cumulative_returns[n] = (1 + sim_df.fillna(0)).cumprod()\n"
     ]
    },
    {
     "name": "stdout",
     "output_type": "stream",
     "text": [
      "Running Monte Carlo simulation number 310.\n"
     ]
    },
    {
     "name": "stderr",
     "output_type": "stream",
     "text": [
      "C:\\Users\\boris\\OneDrive\\Documents\\Studies\\ColumbiaBootCamp\\FinTech-Workspace\\Module_5\\Challenge_5\\Starter_Code\\FinTech_Module5_Financial_Planner\\MCForecastTools.py:117: PerformanceWarning: DataFrame is highly fragmented.  This is usually the result of calling `frame.insert` many times, which has poor performance.  Consider joining all columns at once using pd.concat(axis=1) instead. To get a de-fragmented frame, use `newframe = frame.copy()`\n",
      "  portfolio_cumulative_returns[n] = (1 + sim_df.fillna(0)).cumprod()\n",
      "C:\\Users\\boris\\OneDrive\\Documents\\Studies\\ColumbiaBootCamp\\FinTech-Workspace\\Module_5\\Challenge_5\\Starter_Code\\FinTech_Module5_Financial_Planner\\MCForecastTools.py:117: PerformanceWarning: DataFrame is highly fragmented.  This is usually the result of calling `frame.insert` many times, which has poor performance.  Consider joining all columns at once using pd.concat(axis=1) instead. To get a de-fragmented frame, use `newframe = frame.copy()`\n",
      "  portfolio_cumulative_returns[n] = (1 + sim_df.fillna(0)).cumprod()\n",
      "C:\\Users\\boris\\OneDrive\\Documents\\Studies\\ColumbiaBootCamp\\FinTech-Workspace\\Module_5\\Challenge_5\\Starter_Code\\FinTech_Module5_Financial_Planner\\MCForecastTools.py:117: PerformanceWarning: DataFrame is highly fragmented.  This is usually the result of calling `frame.insert` many times, which has poor performance.  Consider joining all columns at once using pd.concat(axis=1) instead. To get a de-fragmented frame, use `newframe = frame.copy()`\n",
      "  portfolio_cumulative_returns[n] = (1 + sim_df.fillna(0)).cumprod()\n",
      "C:\\Users\\boris\\OneDrive\\Documents\\Studies\\ColumbiaBootCamp\\FinTech-Workspace\\Module_5\\Challenge_5\\Starter_Code\\FinTech_Module5_Financial_Planner\\MCForecastTools.py:117: PerformanceWarning: DataFrame is highly fragmented.  This is usually the result of calling `frame.insert` many times, which has poor performance.  Consider joining all columns at once using pd.concat(axis=1) instead. To get a de-fragmented frame, use `newframe = frame.copy()`\n",
      "  portfolio_cumulative_returns[n] = (1 + sim_df.fillna(0)).cumprod()\n",
      "C:\\Users\\boris\\OneDrive\\Documents\\Studies\\ColumbiaBootCamp\\FinTech-Workspace\\Module_5\\Challenge_5\\Starter_Code\\FinTech_Module5_Financial_Planner\\MCForecastTools.py:117: PerformanceWarning: DataFrame is highly fragmented.  This is usually the result of calling `frame.insert` many times, which has poor performance.  Consider joining all columns at once using pd.concat(axis=1) instead. To get a de-fragmented frame, use `newframe = frame.copy()`\n",
      "  portfolio_cumulative_returns[n] = (1 + sim_df.fillna(0)).cumprod()\n",
      "C:\\Users\\boris\\OneDrive\\Documents\\Studies\\ColumbiaBootCamp\\FinTech-Workspace\\Module_5\\Challenge_5\\Starter_Code\\FinTech_Module5_Financial_Planner\\MCForecastTools.py:117: PerformanceWarning: DataFrame is highly fragmented.  This is usually the result of calling `frame.insert` many times, which has poor performance.  Consider joining all columns at once using pd.concat(axis=1) instead. To get a de-fragmented frame, use `newframe = frame.copy()`\n",
      "  portfolio_cumulative_returns[n] = (1 + sim_df.fillna(0)).cumprod()\n",
      "C:\\Users\\boris\\OneDrive\\Documents\\Studies\\ColumbiaBootCamp\\FinTech-Workspace\\Module_5\\Challenge_5\\Starter_Code\\FinTech_Module5_Financial_Planner\\MCForecastTools.py:117: PerformanceWarning: DataFrame is highly fragmented.  This is usually the result of calling `frame.insert` many times, which has poor performance.  Consider joining all columns at once using pd.concat(axis=1) instead. To get a de-fragmented frame, use `newframe = frame.copy()`\n",
      "  portfolio_cumulative_returns[n] = (1 + sim_df.fillna(0)).cumprod()\n",
      "C:\\Users\\boris\\OneDrive\\Documents\\Studies\\ColumbiaBootCamp\\FinTech-Workspace\\Module_5\\Challenge_5\\Starter_Code\\FinTech_Module5_Financial_Planner\\MCForecastTools.py:117: PerformanceWarning: DataFrame is highly fragmented.  This is usually the result of calling `frame.insert` many times, which has poor performance.  Consider joining all columns at once using pd.concat(axis=1) instead. To get a de-fragmented frame, use `newframe = frame.copy()`\n",
      "  portfolio_cumulative_returns[n] = (1 + sim_df.fillna(0)).cumprod()\n",
      "C:\\Users\\boris\\OneDrive\\Documents\\Studies\\ColumbiaBootCamp\\FinTech-Workspace\\Module_5\\Challenge_5\\Starter_Code\\FinTech_Module5_Financial_Planner\\MCForecastTools.py:117: PerformanceWarning: DataFrame is highly fragmented.  This is usually the result of calling `frame.insert` many times, which has poor performance.  Consider joining all columns at once using pd.concat(axis=1) instead. To get a de-fragmented frame, use `newframe = frame.copy()`\n",
      "  portfolio_cumulative_returns[n] = (1 + sim_df.fillna(0)).cumprod()\n",
      "C:\\Users\\boris\\OneDrive\\Documents\\Studies\\ColumbiaBootCamp\\FinTech-Workspace\\Module_5\\Challenge_5\\Starter_Code\\FinTech_Module5_Financial_Planner\\MCForecastTools.py:117: PerformanceWarning: DataFrame is highly fragmented.  This is usually the result of calling `frame.insert` many times, which has poor performance.  Consider joining all columns at once using pd.concat(axis=1) instead. To get a de-fragmented frame, use `newframe = frame.copy()`\n",
      "  portfolio_cumulative_returns[n] = (1 + sim_df.fillna(0)).cumprod()\n"
     ]
    },
    {
     "name": "stdout",
     "output_type": "stream",
     "text": [
      "Running Monte Carlo simulation number 320.\n"
     ]
    },
    {
     "name": "stderr",
     "output_type": "stream",
     "text": [
      "C:\\Users\\boris\\OneDrive\\Documents\\Studies\\ColumbiaBootCamp\\FinTech-Workspace\\Module_5\\Challenge_5\\Starter_Code\\FinTech_Module5_Financial_Planner\\MCForecastTools.py:117: PerformanceWarning: DataFrame is highly fragmented.  This is usually the result of calling `frame.insert` many times, which has poor performance.  Consider joining all columns at once using pd.concat(axis=1) instead. To get a de-fragmented frame, use `newframe = frame.copy()`\n",
      "  portfolio_cumulative_returns[n] = (1 + sim_df.fillna(0)).cumprod()\n",
      "C:\\Users\\boris\\OneDrive\\Documents\\Studies\\ColumbiaBootCamp\\FinTech-Workspace\\Module_5\\Challenge_5\\Starter_Code\\FinTech_Module5_Financial_Planner\\MCForecastTools.py:117: PerformanceWarning: DataFrame is highly fragmented.  This is usually the result of calling `frame.insert` many times, which has poor performance.  Consider joining all columns at once using pd.concat(axis=1) instead. To get a de-fragmented frame, use `newframe = frame.copy()`\n",
      "  portfolio_cumulative_returns[n] = (1 + sim_df.fillna(0)).cumprod()\n",
      "C:\\Users\\boris\\OneDrive\\Documents\\Studies\\ColumbiaBootCamp\\FinTech-Workspace\\Module_5\\Challenge_5\\Starter_Code\\FinTech_Module5_Financial_Planner\\MCForecastTools.py:117: PerformanceWarning: DataFrame is highly fragmented.  This is usually the result of calling `frame.insert` many times, which has poor performance.  Consider joining all columns at once using pd.concat(axis=1) instead. To get a de-fragmented frame, use `newframe = frame.copy()`\n",
      "  portfolio_cumulative_returns[n] = (1 + sim_df.fillna(0)).cumprod()\n",
      "C:\\Users\\boris\\OneDrive\\Documents\\Studies\\ColumbiaBootCamp\\FinTech-Workspace\\Module_5\\Challenge_5\\Starter_Code\\FinTech_Module5_Financial_Planner\\MCForecastTools.py:117: PerformanceWarning: DataFrame is highly fragmented.  This is usually the result of calling `frame.insert` many times, which has poor performance.  Consider joining all columns at once using pd.concat(axis=1) instead. To get a de-fragmented frame, use `newframe = frame.copy()`\n",
      "  portfolio_cumulative_returns[n] = (1 + sim_df.fillna(0)).cumprod()\n",
      "C:\\Users\\boris\\OneDrive\\Documents\\Studies\\ColumbiaBootCamp\\FinTech-Workspace\\Module_5\\Challenge_5\\Starter_Code\\FinTech_Module5_Financial_Planner\\MCForecastTools.py:117: PerformanceWarning: DataFrame is highly fragmented.  This is usually the result of calling `frame.insert` many times, which has poor performance.  Consider joining all columns at once using pd.concat(axis=1) instead. To get a de-fragmented frame, use `newframe = frame.copy()`\n",
      "  portfolio_cumulative_returns[n] = (1 + sim_df.fillna(0)).cumprod()\n",
      "C:\\Users\\boris\\OneDrive\\Documents\\Studies\\ColumbiaBootCamp\\FinTech-Workspace\\Module_5\\Challenge_5\\Starter_Code\\FinTech_Module5_Financial_Planner\\MCForecastTools.py:117: PerformanceWarning: DataFrame is highly fragmented.  This is usually the result of calling `frame.insert` many times, which has poor performance.  Consider joining all columns at once using pd.concat(axis=1) instead. To get a de-fragmented frame, use `newframe = frame.copy()`\n",
      "  portfolio_cumulative_returns[n] = (1 + sim_df.fillna(0)).cumprod()\n",
      "C:\\Users\\boris\\OneDrive\\Documents\\Studies\\ColumbiaBootCamp\\FinTech-Workspace\\Module_5\\Challenge_5\\Starter_Code\\FinTech_Module5_Financial_Planner\\MCForecastTools.py:117: PerformanceWarning: DataFrame is highly fragmented.  This is usually the result of calling `frame.insert` many times, which has poor performance.  Consider joining all columns at once using pd.concat(axis=1) instead. To get a de-fragmented frame, use `newframe = frame.copy()`\n",
      "  portfolio_cumulative_returns[n] = (1 + sim_df.fillna(0)).cumprod()\n",
      "C:\\Users\\boris\\OneDrive\\Documents\\Studies\\ColumbiaBootCamp\\FinTech-Workspace\\Module_5\\Challenge_5\\Starter_Code\\FinTech_Module5_Financial_Planner\\MCForecastTools.py:117: PerformanceWarning: DataFrame is highly fragmented.  This is usually the result of calling `frame.insert` many times, which has poor performance.  Consider joining all columns at once using pd.concat(axis=1) instead. To get a de-fragmented frame, use `newframe = frame.copy()`\n",
      "  portfolio_cumulative_returns[n] = (1 + sim_df.fillna(0)).cumprod()\n",
      "C:\\Users\\boris\\OneDrive\\Documents\\Studies\\ColumbiaBootCamp\\FinTech-Workspace\\Module_5\\Challenge_5\\Starter_Code\\FinTech_Module5_Financial_Planner\\MCForecastTools.py:117: PerformanceWarning: DataFrame is highly fragmented.  This is usually the result of calling `frame.insert` many times, which has poor performance.  Consider joining all columns at once using pd.concat(axis=1) instead. To get a de-fragmented frame, use `newframe = frame.copy()`\n",
      "  portfolio_cumulative_returns[n] = (1 + sim_df.fillna(0)).cumprod()\n",
      "C:\\Users\\boris\\OneDrive\\Documents\\Studies\\ColumbiaBootCamp\\FinTech-Workspace\\Module_5\\Challenge_5\\Starter_Code\\FinTech_Module5_Financial_Planner\\MCForecastTools.py:117: PerformanceWarning: DataFrame is highly fragmented.  This is usually the result of calling `frame.insert` many times, which has poor performance.  Consider joining all columns at once using pd.concat(axis=1) instead. To get a de-fragmented frame, use `newframe = frame.copy()`\n",
      "  portfolio_cumulative_returns[n] = (1 + sim_df.fillna(0)).cumprod()\n",
      "C:\\Users\\boris\\OneDrive\\Documents\\Studies\\ColumbiaBootCamp\\FinTech-Workspace\\Module_5\\Challenge_5\\Starter_Code\\FinTech_Module5_Financial_Planner\\MCForecastTools.py:117: PerformanceWarning: DataFrame is highly fragmented.  This is usually the result of calling `frame.insert` many times, which has poor performance.  Consider joining all columns at once using pd.concat(axis=1) instead. To get a de-fragmented frame, use `newframe = frame.copy()`\n",
      "  portfolio_cumulative_returns[n] = (1 + sim_df.fillna(0)).cumprod()\n"
     ]
    },
    {
     "name": "stdout",
     "output_type": "stream",
     "text": [
      "Running Monte Carlo simulation number 330.\n"
     ]
    },
    {
     "name": "stderr",
     "output_type": "stream",
     "text": [
      "C:\\Users\\boris\\OneDrive\\Documents\\Studies\\ColumbiaBootCamp\\FinTech-Workspace\\Module_5\\Challenge_5\\Starter_Code\\FinTech_Module5_Financial_Planner\\MCForecastTools.py:117: PerformanceWarning: DataFrame is highly fragmented.  This is usually the result of calling `frame.insert` many times, which has poor performance.  Consider joining all columns at once using pd.concat(axis=1) instead. To get a de-fragmented frame, use `newframe = frame.copy()`\n",
      "  portfolio_cumulative_returns[n] = (1 + sim_df.fillna(0)).cumprod()\n",
      "C:\\Users\\boris\\OneDrive\\Documents\\Studies\\ColumbiaBootCamp\\FinTech-Workspace\\Module_5\\Challenge_5\\Starter_Code\\FinTech_Module5_Financial_Planner\\MCForecastTools.py:117: PerformanceWarning: DataFrame is highly fragmented.  This is usually the result of calling `frame.insert` many times, which has poor performance.  Consider joining all columns at once using pd.concat(axis=1) instead. To get a de-fragmented frame, use `newframe = frame.copy()`\n",
      "  portfolio_cumulative_returns[n] = (1 + sim_df.fillna(0)).cumprod()\n",
      "C:\\Users\\boris\\OneDrive\\Documents\\Studies\\ColumbiaBootCamp\\FinTech-Workspace\\Module_5\\Challenge_5\\Starter_Code\\FinTech_Module5_Financial_Planner\\MCForecastTools.py:117: PerformanceWarning: DataFrame is highly fragmented.  This is usually the result of calling `frame.insert` many times, which has poor performance.  Consider joining all columns at once using pd.concat(axis=1) instead. To get a de-fragmented frame, use `newframe = frame.copy()`\n",
      "  portfolio_cumulative_returns[n] = (1 + sim_df.fillna(0)).cumprod()\n",
      "C:\\Users\\boris\\OneDrive\\Documents\\Studies\\ColumbiaBootCamp\\FinTech-Workspace\\Module_5\\Challenge_5\\Starter_Code\\FinTech_Module5_Financial_Planner\\MCForecastTools.py:117: PerformanceWarning: DataFrame is highly fragmented.  This is usually the result of calling `frame.insert` many times, which has poor performance.  Consider joining all columns at once using pd.concat(axis=1) instead. To get a de-fragmented frame, use `newframe = frame.copy()`\n",
      "  portfolio_cumulative_returns[n] = (1 + sim_df.fillna(0)).cumprod()\n",
      "C:\\Users\\boris\\OneDrive\\Documents\\Studies\\ColumbiaBootCamp\\FinTech-Workspace\\Module_5\\Challenge_5\\Starter_Code\\FinTech_Module5_Financial_Planner\\MCForecastTools.py:117: PerformanceWarning: DataFrame is highly fragmented.  This is usually the result of calling `frame.insert` many times, which has poor performance.  Consider joining all columns at once using pd.concat(axis=1) instead. To get a de-fragmented frame, use `newframe = frame.copy()`\n",
      "  portfolio_cumulative_returns[n] = (1 + sim_df.fillna(0)).cumprod()\n",
      "C:\\Users\\boris\\OneDrive\\Documents\\Studies\\ColumbiaBootCamp\\FinTech-Workspace\\Module_5\\Challenge_5\\Starter_Code\\FinTech_Module5_Financial_Planner\\MCForecastTools.py:117: PerformanceWarning: DataFrame is highly fragmented.  This is usually the result of calling `frame.insert` many times, which has poor performance.  Consider joining all columns at once using pd.concat(axis=1) instead. To get a de-fragmented frame, use `newframe = frame.copy()`\n",
      "  portfolio_cumulative_returns[n] = (1 + sim_df.fillna(0)).cumprod()\n"
     ]
    },
    {
     "name": "stdout",
     "output_type": "stream",
     "text": [
      "Running Monte Carlo simulation number 340.\n"
     ]
    },
    {
     "name": "stderr",
     "output_type": "stream",
     "text": [
      "C:\\Users\\boris\\OneDrive\\Documents\\Studies\\ColumbiaBootCamp\\FinTech-Workspace\\Module_5\\Challenge_5\\Starter_Code\\FinTech_Module5_Financial_Planner\\MCForecastTools.py:117: PerformanceWarning: DataFrame is highly fragmented.  This is usually the result of calling `frame.insert` many times, which has poor performance.  Consider joining all columns at once using pd.concat(axis=1) instead. To get a de-fragmented frame, use `newframe = frame.copy()`\n",
      "  portfolio_cumulative_returns[n] = (1 + sim_df.fillna(0)).cumprod()\n",
      "C:\\Users\\boris\\OneDrive\\Documents\\Studies\\ColumbiaBootCamp\\FinTech-Workspace\\Module_5\\Challenge_5\\Starter_Code\\FinTech_Module5_Financial_Planner\\MCForecastTools.py:117: PerformanceWarning: DataFrame is highly fragmented.  This is usually the result of calling `frame.insert` many times, which has poor performance.  Consider joining all columns at once using pd.concat(axis=1) instead. To get a de-fragmented frame, use `newframe = frame.copy()`\n",
      "  portfolio_cumulative_returns[n] = (1 + sim_df.fillna(0)).cumprod()\n",
      "C:\\Users\\boris\\OneDrive\\Documents\\Studies\\ColumbiaBootCamp\\FinTech-Workspace\\Module_5\\Challenge_5\\Starter_Code\\FinTech_Module5_Financial_Planner\\MCForecastTools.py:117: PerformanceWarning: DataFrame is highly fragmented.  This is usually the result of calling `frame.insert` many times, which has poor performance.  Consider joining all columns at once using pd.concat(axis=1) instead. To get a de-fragmented frame, use `newframe = frame.copy()`\n",
      "  portfolio_cumulative_returns[n] = (1 + sim_df.fillna(0)).cumprod()\n",
      "C:\\Users\\boris\\OneDrive\\Documents\\Studies\\ColumbiaBootCamp\\FinTech-Workspace\\Module_5\\Challenge_5\\Starter_Code\\FinTech_Module5_Financial_Planner\\MCForecastTools.py:117: PerformanceWarning: DataFrame is highly fragmented.  This is usually the result of calling `frame.insert` many times, which has poor performance.  Consider joining all columns at once using pd.concat(axis=1) instead. To get a de-fragmented frame, use `newframe = frame.copy()`\n",
      "  portfolio_cumulative_returns[n] = (1 + sim_df.fillna(0)).cumprod()\n",
      "C:\\Users\\boris\\OneDrive\\Documents\\Studies\\ColumbiaBootCamp\\FinTech-Workspace\\Module_5\\Challenge_5\\Starter_Code\\FinTech_Module5_Financial_Planner\\MCForecastTools.py:117: PerformanceWarning: DataFrame is highly fragmented.  This is usually the result of calling `frame.insert` many times, which has poor performance.  Consider joining all columns at once using pd.concat(axis=1) instead. To get a de-fragmented frame, use `newframe = frame.copy()`\n",
      "  portfolio_cumulative_returns[n] = (1 + sim_df.fillna(0)).cumprod()\n",
      "C:\\Users\\boris\\OneDrive\\Documents\\Studies\\ColumbiaBootCamp\\FinTech-Workspace\\Module_5\\Challenge_5\\Starter_Code\\FinTech_Module5_Financial_Planner\\MCForecastTools.py:117: PerformanceWarning: DataFrame is highly fragmented.  This is usually the result of calling `frame.insert` many times, which has poor performance.  Consider joining all columns at once using pd.concat(axis=1) instead. To get a de-fragmented frame, use `newframe = frame.copy()`\n",
      "  portfolio_cumulative_returns[n] = (1 + sim_df.fillna(0)).cumprod()\n",
      "C:\\Users\\boris\\OneDrive\\Documents\\Studies\\ColumbiaBootCamp\\FinTech-Workspace\\Module_5\\Challenge_5\\Starter_Code\\FinTech_Module5_Financial_Planner\\MCForecastTools.py:117: PerformanceWarning: DataFrame is highly fragmented.  This is usually the result of calling `frame.insert` many times, which has poor performance.  Consider joining all columns at once using pd.concat(axis=1) instead. To get a de-fragmented frame, use `newframe = frame.copy()`\n",
      "  portfolio_cumulative_returns[n] = (1 + sim_df.fillna(0)).cumprod()\n",
      "C:\\Users\\boris\\OneDrive\\Documents\\Studies\\ColumbiaBootCamp\\FinTech-Workspace\\Module_5\\Challenge_5\\Starter_Code\\FinTech_Module5_Financial_Planner\\MCForecastTools.py:117: PerformanceWarning: DataFrame is highly fragmented.  This is usually the result of calling `frame.insert` many times, which has poor performance.  Consider joining all columns at once using pd.concat(axis=1) instead. To get a de-fragmented frame, use `newframe = frame.copy()`\n",
      "  portfolio_cumulative_returns[n] = (1 + sim_df.fillna(0)).cumprod()\n",
      "C:\\Users\\boris\\OneDrive\\Documents\\Studies\\ColumbiaBootCamp\\FinTech-Workspace\\Module_5\\Challenge_5\\Starter_Code\\FinTech_Module5_Financial_Planner\\MCForecastTools.py:117: PerformanceWarning: DataFrame is highly fragmented.  This is usually the result of calling `frame.insert` many times, which has poor performance.  Consider joining all columns at once using pd.concat(axis=1) instead. To get a de-fragmented frame, use `newframe = frame.copy()`\n",
      "  portfolio_cumulative_returns[n] = (1 + sim_df.fillna(0)).cumprod()\n",
      "C:\\Users\\boris\\OneDrive\\Documents\\Studies\\ColumbiaBootCamp\\FinTech-Workspace\\Module_5\\Challenge_5\\Starter_Code\\FinTech_Module5_Financial_Planner\\MCForecastTools.py:117: PerformanceWarning: DataFrame is highly fragmented.  This is usually the result of calling `frame.insert` many times, which has poor performance.  Consider joining all columns at once using pd.concat(axis=1) instead. To get a de-fragmented frame, use `newframe = frame.copy()`\n",
      "  portfolio_cumulative_returns[n] = (1 + sim_df.fillna(0)).cumprod()\n"
     ]
    },
    {
     "name": "stdout",
     "output_type": "stream",
     "text": [
      "Running Monte Carlo simulation number 350.\n"
     ]
    },
    {
     "name": "stderr",
     "output_type": "stream",
     "text": [
      "C:\\Users\\boris\\OneDrive\\Documents\\Studies\\ColumbiaBootCamp\\FinTech-Workspace\\Module_5\\Challenge_5\\Starter_Code\\FinTech_Module5_Financial_Planner\\MCForecastTools.py:117: PerformanceWarning: DataFrame is highly fragmented.  This is usually the result of calling `frame.insert` many times, which has poor performance.  Consider joining all columns at once using pd.concat(axis=1) instead. To get a de-fragmented frame, use `newframe = frame.copy()`\n",
      "  portfolio_cumulative_returns[n] = (1 + sim_df.fillna(0)).cumprod()\n",
      "C:\\Users\\boris\\OneDrive\\Documents\\Studies\\ColumbiaBootCamp\\FinTech-Workspace\\Module_5\\Challenge_5\\Starter_Code\\FinTech_Module5_Financial_Planner\\MCForecastTools.py:117: PerformanceWarning: DataFrame is highly fragmented.  This is usually the result of calling `frame.insert` many times, which has poor performance.  Consider joining all columns at once using pd.concat(axis=1) instead. To get a de-fragmented frame, use `newframe = frame.copy()`\n",
      "  portfolio_cumulative_returns[n] = (1 + sim_df.fillna(0)).cumprod()\n",
      "C:\\Users\\boris\\OneDrive\\Documents\\Studies\\ColumbiaBootCamp\\FinTech-Workspace\\Module_5\\Challenge_5\\Starter_Code\\FinTech_Module5_Financial_Planner\\MCForecastTools.py:117: PerformanceWarning: DataFrame is highly fragmented.  This is usually the result of calling `frame.insert` many times, which has poor performance.  Consider joining all columns at once using pd.concat(axis=1) instead. To get a de-fragmented frame, use `newframe = frame.copy()`\n",
      "  portfolio_cumulative_returns[n] = (1 + sim_df.fillna(0)).cumprod()\n",
      "C:\\Users\\boris\\OneDrive\\Documents\\Studies\\ColumbiaBootCamp\\FinTech-Workspace\\Module_5\\Challenge_5\\Starter_Code\\FinTech_Module5_Financial_Planner\\MCForecastTools.py:117: PerformanceWarning: DataFrame is highly fragmented.  This is usually the result of calling `frame.insert` many times, which has poor performance.  Consider joining all columns at once using pd.concat(axis=1) instead. To get a de-fragmented frame, use `newframe = frame.copy()`\n",
      "  portfolio_cumulative_returns[n] = (1 + sim_df.fillna(0)).cumprod()\n",
      "C:\\Users\\boris\\OneDrive\\Documents\\Studies\\ColumbiaBootCamp\\FinTech-Workspace\\Module_5\\Challenge_5\\Starter_Code\\FinTech_Module5_Financial_Planner\\MCForecastTools.py:117: PerformanceWarning: DataFrame is highly fragmented.  This is usually the result of calling `frame.insert` many times, which has poor performance.  Consider joining all columns at once using pd.concat(axis=1) instead. To get a de-fragmented frame, use `newframe = frame.copy()`\n",
      "  portfolio_cumulative_returns[n] = (1 + sim_df.fillna(0)).cumprod()\n",
      "C:\\Users\\boris\\OneDrive\\Documents\\Studies\\ColumbiaBootCamp\\FinTech-Workspace\\Module_5\\Challenge_5\\Starter_Code\\FinTech_Module5_Financial_Planner\\MCForecastTools.py:117: PerformanceWarning: DataFrame is highly fragmented.  This is usually the result of calling `frame.insert` many times, which has poor performance.  Consider joining all columns at once using pd.concat(axis=1) instead. To get a de-fragmented frame, use `newframe = frame.copy()`\n",
      "  portfolio_cumulative_returns[n] = (1 + sim_df.fillna(0)).cumprod()\n",
      "C:\\Users\\boris\\OneDrive\\Documents\\Studies\\ColumbiaBootCamp\\FinTech-Workspace\\Module_5\\Challenge_5\\Starter_Code\\FinTech_Module5_Financial_Planner\\MCForecastTools.py:117: PerformanceWarning: DataFrame is highly fragmented.  This is usually the result of calling `frame.insert` many times, which has poor performance.  Consider joining all columns at once using pd.concat(axis=1) instead. To get a de-fragmented frame, use `newframe = frame.copy()`\n",
      "  portfolio_cumulative_returns[n] = (1 + sim_df.fillna(0)).cumprod()\n",
      "C:\\Users\\boris\\OneDrive\\Documents\\Studies\\ColumbiaBootCamp\\FinTech-Workspace\\Module_5\\Challenge_5\\Starter_Code\\FinTech_Module5_Financial_Planner\\MCForecastTools.py:117: PerformanceWarning: DataFrame is highly fragmented.  This is usually the result of calling `frame.insert` many times, which has poor performance.  Consider joining all columns at once using pd.concat(axis=1) instead. To get a de-fragmented frame, use `newframe = frame.copy()`\n",
      "  portfolio_cumulative_returns[n] = (1 + sim_df.fillna(0)).cumprod()\n",
      "C:\\Users\\boris\\OneDrive\\Documents\\Studies\\ColumbiaBootCamp\\FinTech-Workspace\\Module_5\\Challenge_5\\Starter_Code\\FinTech_Module5_Financial_Planner\\MCForecastTools.py:117: PerformanceWarning: DataFrame is highly fragmented.  This is usually the result of calling `frame.insert` many times, which has poor performance.  Consider joining all columns at once using pd.concat(axis=1) instead. To get a de-fragmented frame, use `newframe = frame.copy()`\n",
      "  portfolio_cumulative_returns[n] = (1 + sim_df.fillna(0)).cumprod()\n"
     ]
    },
    {
     "name": "stdout",
     "output_type": "stream",
     "text": [
      "Running Monte Carlo simulation number 360.\n"
     ]
    },
    {
     "name": "stderr",
     "output_type": "stream",
     "text": [
      "C:\\Users\\boris\\OneDrive\\Documents\\Studies\\ColumbiaBootCamp\\FinTech-Workspace\\Module_5\\Challenge_5\\Starter_Code\\FinTech_Module5_Financial_Planner\\MCForecastTools.py:117: PerformanceWarning: DataFrame is highly fragmented.  This is usually the result of calling `frame.insert` many times, which has poor performance.  Consider joining all columns at once using pd.concat(axis=1) instead. To get a de-fragmented frame, use `newframe = frame.copy()`\n",
      "  portfolio_cumulative_returns[n] = (1 + sim_df.fillna(0)).cumprod()\n",
      "C:\\Users\\boris\\OneDrive\\Documents\\Studies\\ColumbiaBootCamp\\FinTech-Workspace\\Module_5\\Challenge_5\\Starter_Code\\FinTech_Module5_Financial_Planner\\MCForecastTools.py:117: PerformanceWarning: DataFrame is highly fragmented.  This is usually the result of calling `frame.insert` many times, which has poor performance.  Consider joining all columns at once using pd.concat(axis=1) instead. To get a de-fragmented frame, use `newframe = frame.copy()`\n",
      "  portfolio_cumulative_returns[n] = (1 + sim_df.fillna(0)).cumprod()\n",
      "C:\\Users\\boris\\OneDrive\\Documents\\Studies\\ColumbiaBootCamp\\FinTech-Workspace\\Module_5\\Challenge_5\\Starter_Code\\FinTech_Module5_Financial_Planner\\MCForecastTools.py:117: PerformanceWarning: DataFrame is highly fragmented.  This is usually the result of calling `frame.insert` many times, which has poor performance.  Consider joining all columns at once using pd.concat(axis=1) instead. To get a de-fragmented frame, use `newframe = frame.copy()`\n",
      "  portfolio_cumulative_returns[n] = (1 + sim_df.fillna(0)).cumprod()\n",
      "C:\\Users\\boris\\OneDrive\\Documents\\Studies\\ColumbiaBootCamp\\FinTech-Workspace\\Module_5\\Challenge_5\\Starter_Code\\FinTech_Module5_Financial_Planner\\MCForecastTools.py:117: PerformanceWarning: DataFrame is highly fragmented.  This is usually the result of calling `frame.insert` many times, which has poor performance.  Consider joining all columns at once using pd.concat(axis=1) instead. To get a de-fragmented frame, use `newframe = frame.copy()`\n",
      "  portfolio_cumulative_returns[n] = (1 + sim_df.fillna(0)).cumprod()\n",
      "C:\\Users\\boris\\OneDrive\\Documents\\Studies\\ColumbiaBootCamp\\FinTech-Workspace\\Module_5\\Challenge_5\\Starter_Code\\FinTech_Module5_Financial_Planner\\MCForecastTools.py:117: PerformanceWarning: DataFrame is highly fragmented.  This is usually the result of calling `frame.insert` many times, which has poor performance.  Consider joining all columns at once using pd.concat(axis=1) instead. To get a de-fragmented frame, use `newframe = frame.copy()`\n",
      "  portfolio_cumulative_returns[n] = (1 + sim_df.fillna(0)).cumprod()\n",
      "C:\\Users\\boris\\OneDrive\\Documents\\Studies\\ColumbiaBootCamp\\FinTech-Workspace\\Module_5\\Challenge_5\\Starter_Code\\FinTech_Module5_Financial_Planner\\MCForecastTools.py:117: PerformanceWarning: DataFrame is highly fragmented.  This is usually the result of calling `frame.insert` many times, which has poor performance.  Consider joining all columns at once using pd.concat(axis=1) instead. To get a de-fragmented frame, use `newframe = frame.copy()`\n",
      "  portfolio_cumulative_returns[n] = (1 + sim_df.fillna(0)).cumprod()\n",
      "C:\\Users\\boris\\OneDrive\\Documents\\Studies\\ColumbiaBootCamp\\FinTech-Workspace\\Module_5\\Challenge_5\\Starter_Code\\FinTech_Module5_Financial_Planner\\MCForecastTools.py:117: PerformanceWarning: DataFrame is highly fragmented.  This is usually the result of calling `frame.insert` many times, which has poor performance.  Consider joining all columns at once using pd.concat(axis=1) instead. To get a de-fragmented frame, use `newframe = frame.copy()`\n",
      "  portfolio_cumulative_returns[n] = (1 + sim_df.fillna(0)).cumprod()\n",
      "C:\\Users\\boris\\OneDrive\\Documents\\Studies\\ColumbiaBootCamp\\FinTech-Workspace\\Module_5\\Challenge_5\\Starter_Code\\FinTech_Module5_Financial_Planner\\MCForecastTools.py:117: PerformanceWarning: DataFrame is highly fragmented.  This is usually the result of calling `frame.insert` many times, which has poor performance.  Consider joining all columns at once using pd.concat(axis=1) instead. To get a de-fragmented frame, use `newframe = frame.copy()`\n",
      "  portfolio_cumulative_returns[n] = (1 + sim_df.fillna(0)).cumprod()\n",
      "C:\\Users\\boris\\OneDrive\\Documents\\Studies\\ColumbiaBootCamp\\FinTech-Workspace\\Module_5\\Challenge_5\\Starter_Code\\FinTech_Module5_Financial_Planner\\MCForecastTools.py:117: PerformanceWarning: DataFrame is highly fragmented.  This is usually the result of calling `frame.insert` many times, which has poor performance.  Consider joining all columns at once using pd.concat(axis=1) instead. To get a de-fragmented frame, use `newframe = frame.copy()`\n",
      "  portfolio_cumulative_returns[n] = (1 + sim_df.fillna(0)).cumprod()\n",
      "C:\\Users\\boris\\OneDrive\\Documents\\Studies\\ColumbiaBootCamp\\FinTech-Workspace\\Module_5\\Challenge_5\\Starter_Code\\FinTech_Module5_Financial_Planner\\MCForecastTools.py:117: PerformanceWarning: DataFrame is highly fragmented.  This is usually the result of calling `frame.insert` many times, which has poor performance.  Consider joining all columns at once using pd.concat(axis=1) instead. To get a de-fragmented frame, use `newframe = frame.copy()`\n",
      "  portfolio_cumulative_returns[n] = (1 + sim_df.fillna(0)).cumprod()\n",
      "C:\\Users\\boris\\OneDrive\\Documents\\Studies\\ColumbiaBootCamp\\FinTech-Workspace\\Module_5\\Challenge_5\\Starter_Code\\FinTech_Module5_Financial_Planner\\MCForecastTools.py:117: PerformanceWarning: DataFrame is highly fragmented.  This is usually the result of calling `frame.insert` many times, which has poor performance.  Consider joining all columns at once using pd.concat(axis=1) instead. To get a de-fragmented frame, use `newframe = frame.copy()`\n",
      "  portfolio_cumulative_returns[n] = (1 + sim_df.fillna(0)).cumprod()\n",
      "C:\\Users\\boris\\OneDrive\\Documents\\Studies\\ColumbiaBootCamp\\FinTech-Workspace\\Module_5\\Challenge_5\\Starter_Code\\FinTech_Module5_Financial_Planner\\MCForecastTools.py:117: PerformanceWarning: DataFrame is highly fragmented.  This is usually the result of calling `frame.insert` many times, which has poor performance.  Consider joining all columns at once using pd.concat(axis=1) instead. To get a de-fragmented frame, use `newframe = frame.copy()`\n",
      "  portfolio_cumulative_returns[n] = (1 + sim_df.fillna(0)).cumprod()\n",
      "C:\\Users\\boris\\OneDrive\\Documents\\Studies\\ColumbiaBootCamp\\FinTech-Workspace\\Module_5\\Challenge_5\\Starter_Code\\FinTech_Module5_Financial_Planner\\MCForecastTools.py:117: PerformanceWarning: DataFrame is highly fragmented.  This is usually the result of calling `frame.insert` many times, which has poor performance.  Consider joining all columns at once using pd.concat(axis=1) instead. To get a de-fragmented frame, use `newframe = frame.copy()`\n",
      "  portfolio_cumulative_returns[n] = (1 + sim_df.fillna(0)).cumprod()\n",
      "C:\\Users\\boris\\OneDrive\\Documents\\Studies\\ColumbiaBootCamp\\FinTech-Workspace\\Module_5\\Challenge_5\\Starter_Code\\FinTech_Module5_Financial_Planner\\MCForecastTools.py:117: PerformanceWarning: DataFrame is highly fragmented.  This is usually the result of calling `frame.insert` many times, which has poor performance.  Consider joining all columns at once using pd.concat(axis=1) instead. To get a de-fragmented frame, use `newframe = frame.copy()`\n",
      "  portfolio_cumulative_returns[n] = (1 + sim_df.fillna(0)).cumprod()\n"
     ]
    },
    {
     "name": "stdout",
     "output_type": "stream",
     "text": [
      "Running Monte Carlo simulation number 370.\n"
     ]
    },
    {
     "name": "stderr",
     "output_type": "stream",
     "text": [
      "C:\\Users\\boris\\OneDrive\\Documents\\Studies\\ColumbiaBootCamp\\FinTech-Workspace\\Module_5\\Challenge_5\\Starter_Code\\FinTech_Module5_Financial_Planner\\MCForecastTools.py:117: PerformanceWarning: DataFrame is highly fragmented.  This is usually the result of calling `frame.insert` many times, which has poor performance.  Consider joining all columns at once using pd.concat(axis=1) instead. To get a de-fragmented frame, use `newframe = frame.copy()`\n",
      "  portfolio_cumulative_returns[n] = (1 + sim_df.fillna(0)).cumprod()\n",
      "C:\\Users\\boris\\OneDrive\\Documents\\Studies\\ColumbiaBootCamp\\FinTech-Workspace\\Module_5\\Challenge_5\\Starter_Code\\FinTech_Module5_Financial_Planner\\MCForecastTools.py:117: PerformanceWarning: DataFrame is highly fragmented.  This is usually the result of calling `frame.insert` many times, which has poor performance.  Consider joining all columns at once using pd.concat(axis=1) instead. To get a de-fragmented frame, use `newframe = frame.copy()`\n",
      "  portfolio_cumulative_returns[n] = (1 + sim_df.fillna(0)).cumprod()\n",
      "C:\\Users\\boris\\OneDrive\\Documents\\Studies\\ColumbiaBootCamp\\FinTech-Workspace\\Module_5\\Challenge_5\\Starter_Code\\FinTech_Module5_Financial_Planner\\MCForecastTools.py:117: PerformanceWarning: DataFrame is highly fragmented.  This is usually the result of calling `frame.insert` many times, which has poor performance.  Consider joining all columns at once using pd.concat(axis=1) instead. To get a de-fragmented frame, use `newframe = frame.copy()`\n",
      "  portfolio_cumulative_returns[n] = (1 + sim_df.fillna(0)).cumprod()\n",
      "C:\\Users\\boris\\OneDrive\\Documents\\Studies\\ColumbiaBootCamp\\FinTech-Workspace\\Module_5\\Challenge_5\\Starter_Code\\FinTech_Module5_Financial_Planner\\MCForecastTools.py:117: PerformanceWarning: DataFrame is highly fragmented.  This is usually the result of calling `frame.insert` many times, which has poor performance.  Consider joining all columns at once using pd.concat(axis=1) instead. To get a de-fragmented frame, use `newframe = frame.copy()`\n",
      "  portfolio_cumulative_returns[n] = (1 + sim_df.fillna(0)).cumprod()\n",
      "C:\\Users\\boris\\OneDrive\\Documents\\Studies\\ColumbiaBootCamp\\FinTech-Workspace\\Module_5\\Challenge_5\\Starter_Code\\FinTech_Module5_Financial_Planner\\MCForecastTools.py:117: PerformanceWarning: DataFrame is highly fragmented.  This is usually the result of calling `frame.insert` many times, which has poor performance.  Consider joining all columns at once using pd.concat(axis=1) instead. To get a de-fragmented frame, use `newframe = frame.copy()`\n",
      "  portfolio_cumulative_returns[n] = (1 + sim_df.fillna(0)).cumprod()\n",
      "C:\\Users\\boris\\OneDrive\\Documents\\Studies\\ColumbiaBootCamp\\FinTech-Workspace\\Module_5\\Challenge_5\\Starter_Code\\FinTech_Module5_Financial_Planner\\MCForecastTools.py:117: PerformanceWarning: DataFrame is highly fragmented.  This is usually the result of calling `frame.insert` many times, which has poor performance.  Consider joining all columns at once using pd.concat(axis=1) instead. To get a de-fragmented frame, use `newframe = frame.copy()`\n",
      "  portfolio_cumulative_returns[n] = (1 + sim_df.fillna(0)).cumprod()\n",
      "C:\\Users\\boris\\OneDrive\\Documents\\Studies\\ColumbiaBootCamp\\FinTech-Workspace\\Module_5\\Challenge_5\\Starter_Code\\FinTech_Module5_Financial_Planner\\MCForecastTools.py:117: PerformanceWarning: DataFrame is highly fragmented.  This is usually the result of calling `frame.insert` many times, which has poor performance.  Consider joining all columns at once using pd.concat(axis=1) instead. To get a de-fragmented frame, use `newframe = frame.copy()`\n",
      "  portfolio_cumulative_returns[n] = (1 + sim_df.fillna(0)).cumprod()\n",
      "C:\\Users\\boris\\OneDrive\\Documents\\Studies\\ColumbiaBootCamp\\FinTech-Workspace\\Module_5\\Challenge_5\\Starter_Code\\FinTech_Module5_Financial_Planner\\MCForecastTools.py:117: PerformanceWarning: DataFrame is highly fragmented.  This is usually the result of calling `frame.insert` many times, which has poor performance.  Consider joining all columns at once using pd.concat(axis=1) instead. To get a de-fragmented frame, use `newframe = frame.copy()`\n",
      "  portfolio_cumulative_returns[n] = (1 + sim_df.fillna(0)).cumprod()\n",
      "C:\\Users\\boris\\OneDrive\\Documents\\Studies\\ColumbiaBootCamp\\FinTech-Workspace\\Module_5\\Challenge_5\\Starter_Code\\FinTech_Module5_Financial_Planner\\MCForecastTools.py:117: PerformanceWarning: DataFrame is highly fragmented.  This is usually the result of calling `frame.insert` many times, which has poor performance.  Consider joining all columns at once using pd.concat(axis=1) instead. To get a de-fragmented frame, use `newframe = frame.copy()`\n",
      "  portfolio_cumulative_returns[n] = (1 + sim_df.fillna(0)).cumprod()\n",
      "C:\\Users\\boris\\OneDrive\\Documents\\Studies\\ColumbiaBootCamp\\FinTech-Workspace\\Module_5\\Challenge_5\\Starter_Code\\FinTech_Module5_Financial_Planner\\MCForecastTools.py:117: PerformanceWarning: DataFrame is highly fragmented.  This is usually the result of calling `frame.insert` many times, which has poor performance.  Consider joining all columns at once using pd.concat(axis=1) instead. To get a de-fragmented frame, use `newframe = frame.copy()`\n",
      "  portfolio_cumulative_returns[n] = (1 + sim_df.fillna(0)).cumprod()\n",
      "C:\\Users\\boris\\OneDrive\\Documents\\Studies\\ColumbiaBootCamp\\FinTech-Workspace\\Module_5\\Challenge_5\\Starter_Code\\FinTech_Module5_Financial_Planner\\MCForecastTools.py:117: PerformanceWarning: DataFrame is highly fragmented.  This is usually the result of calling `frame.insert` many times, which has poor performance.  Consider joining all columns at once using pd.concat(axis=1) instead. To get a de-fragmented frame, use `newframe = frame.copy()`\n",
      "  portfolio_cumulative_returns[n] = (1 + sim_df.fillna(0)).cumprod()\n"
     ]
    },
    {
     "name": "stdout",
     "output_type": "stream",
     "text": [
      "Running Monte Carlo simulation number 380.\n"
     ]
    },
    {
     "name": "stderr",
     "output_type": "stream",
     "text": [
      "C:\\Users\\boris\\OneDrive\\Documents\\Studies\\ColumbiaBootCamp\\FinTech-Workspace\\Module_5\\Challenge_5\\Starter_Code\\FinTech_Module5_Financial_Planner\\MCForecastTools.py:117: PerformanceWarning: DataFrame is highly fragmented.  This is usually the result of calling `frame.insert` many times, which has poor performance.  Consider joining all columns at once using pd.concat(axis=1) instead. To get a de-fragmented frame, use `newframe = frame.copy()`\n",
      "  portfolio_cumulative_returns[n] = (1 + sim_df.fillna(0)).cumprod()\n",
      "C:\\Users\\boris\\OneDrive\\Documents\\Studies\\ColumbiaBootCamp\\FinTech-Workspace\\Module_5\\Challenge_5\\Starter_Code\\FinTech_Module5_Financial_Planner\\MCForecastTools.py:117: PerformanceWarning: DataFrame is highly fragmented.  This is usually the result of calling `frame.insert` many times, which has poor performance.  Consider joining all columns at once using pd.concat(axis=1) instead. To get a de-fragmented frame, use `newframe = frame.copy()`\n",
      "  portfolio_cumulative_returns[n] = (1 + sim_df.fillna(0)).cumprod()\n",
      "C:\\Users\\boris\\OneDrive\\Documents\\Studies\\ColumbiaBootCamp\\FinTech-Workspace\\Module_5\\Challenge_5\\Starter_Code\\FinTech_Module5_Financial_Planner\\MCForecastTools.py:117: PerformanceWarning: DataFrame is highly fragmented.  This is usually the result of calling `frame.insert` many times, which has poor performance.  Consider joining all columns at once using pd.concat(axis=1) instead. To get a de-fragmented frame, use `newframe = frame.copy()`\n",
      "  portfolio_cumulative_returns[n] = (1 + sim_df.fillna(0)).cumprod()\n",
      "C:\\Users\\boris\\OneDrive\\Documents\\Studies\\ColumbiaBootCamp\\FinTech-Workspace\\Module_5\\Challenge_5\\Starter_Code\\FinTech_Module5_Financial_Planner\\MCForecastTools.py:117: PerformanceWarning: DataFrame is highly fragmented.  This is usually the result of calling `frame.insert` many times, which has poor performance.  Consider joining all columns at once using pd.concat(axis=1) instead. To get a de-fragmented frame, use `newframe = frame.copy()`\n",
      "  portfolio_cumulative_returns[n] = (1 + sim_df.fillna(0)).cumprod()\n",
      "C:\\Users\\boris\\OneDrive\\Documents\\Studies\\ColumbiaBootCamp\\FinTech-Workspace\\Module_5\\Challenge_5\\Starter_Code\\FinTech_Module5_Financial_Planner\\MCForecastTools.py:117: PerformanceWarning: DataFrame is highly fragmented.  This is usually the result of calling `frame.insert` many times, which has poor performance.  Consider joining all columns at once using pd.concat(axis=1) instead. To get a de-fragmented frame, use `newframe = frame.copy()`\n",
      "  portfolio_cumulative_returns[n] = (1 + sim_df.fillna(0)).cumprod()\n"
     ]
    },
    {
     "name": "stdout",
     "output_type": "stream",
     "text": [
      "Running Monte Carlo simulation number 390.\n"
     ]
    },
    {
     "name": "stderr",
     "output_type": "stream",
     "text": [
      "C:\\Users\\boris\\OneDrive\\Documents\\Studies\\ColumbiaBootCamp\\FinTech-Workspace\\Module_5\\Challenge_5\\Starter_Code\\FinTech_Module5_Financial_Planner\\MCForecastTools.py:117: PerformanceWarning: DataFrame is highly fragmented.  This is usually the result of calling `frame.insert` many times, which has poor performance.  Consider joining all columns at once using pd.concat(axis=1) instead. To get a de-fragmented frame, use `newframe = frame.copy()`\n",
      "  portfolio_cumulative_returns[n] = (1 + sim_df.fillna(0)).cumprod()\n",
      "C:\\Users\\boris\\OneDrive\\Documents\\Studies\\ColumbiaBootCamp\\FinTech-Workspace\\Module_5\\Challenge_5\\Starter_Code\\FinTech_Module5_Financial_Planner\\MCForecastTools.py:117: PerformanceWarning: DataFrame is highly fragmented.  This is usually the result of calling `frame.insert` many times, which has poor performance.  Consider joining all columns at once using pd.concat(axis=1) instead. To get a de-fragmented frame, use `newframe = frame.copy()`\n",
      "  portfolio_cumulative_returns[n] = (1 + sim_df.fillna(0)).cumprod()\n",
      "C:\\Users\\boris\\OneDrive\\Documents\\Studies\\ColumbiaBootCamp\\FinTech-Workspace\\Module_5\\Challenge_5\\Starter_Code\\FinTech_Module5_Financial_Planner\\MCForecastTools.py:117: PerformanceWarning: DataFrame is highly fragmented.  This is usually the result of calling `frame.insert` many times, which has poor performance.  Consider joining all columns at once using pd.concat(axis=1) instead. To get a de-fragmented frame, use `newframe = frame.copy()`\n",
      "  portfolio_cumulative_returns[n] = (1 + sim_df.fillna(0)).cumprod()\n",
      "C:\\Users\\boris\\OneDrive\\Documents\\Studies\\ColumbiaBootCamp\\FinTech-Workspace\\Module_5\\Challenge_5\\Starter_Code\\FinTech_Module5_Financial_Planner\\MCForecastTools.py:117: PerformanceWarning: DataFrame is highly fragmented.  This is usually the result of calling `frame.insert` many times, which has poor performance.  Consider joining all columns at once using pd.concat(axis=1) instead. To get a de-fragmented frame, use `newframe = frame.copy()`\n",
      "  portfolio_cumulative_returns[n] = (1 + sim_df.fillna(0)).cumprod()\n",
      "C:\\Users\\boris\\OneDrive\\Documents\\Studies\\ColumbiaBootCamp\\FinTech-Workspace\\Module_5\\Challenge_5\\Starter_Code\\FinTech_Module5_Financial_Planner\\MCForecastTools.py:117: PerformanceWarning: DataFrame is highly fragmented.  This is usually the result of calling `frame.insert` many times, which has poor performance.  Consider joining all columns at once using pd.concat(axis=1) instead. To get a de-fragmented frame, use `newframe = frame.copy()`\n",
      "  portfolio_cumulative_returns[n] = (1 + sim_df.fillna(0)).cumprod()\n",
      "C:\\Users\\boris\\OneDrive\\Documents\\Studies\\ColumbiaBootCamp\\FinTech-Workspace\\Module_5\\Challenge_5\\Starter_Code\\FinTech_Module5_Financial_Planner\\MCForecastTools.py:117: PerformanceWarning: DataFrame is highly fragmented.  This is usually the result of calling `frame.insert` many times, which has poor performance.  Consider joining all columns at once using pd.concat(axis=1) instead. To get a de-fragmented frame, use `newframe = frame.copy()`\n",
      "  portfolio_cumulative_returns[n] = (1 + sim_df.fillna(0)).cumprod()\n",
      "C:\\Users\\boris\\OneDrive\\Documents\\Studies\\ColumbiaBootCamp\\FinTech-Workspace\\Module_5\\Challenge_5\\Starter_Code\\FinTech_Module5_Financial_Planner\\MCForecastTools.py:117: PerformanceWarning: DataFrame is highly fragmented.  This is usually the result of calling `frame.insert` many times, which has poor performance.  Consider joining all columns at once using pd.concat(axis=1) instead. To get a de-fragmented frame, use `newframe = frame.copy()`\n",
      "  portfolio_cumulative_returns[n] = (1 + sim_df.fillna(0)).cumprod()\n",
      "C:\\Users\\boris\\OneDrive\\Documents\\Studies\\ColumbiaBootCamp\\FinTech-Workspace\\Module_5\\Challenge_5\\Starter_Code\\FinTech_Module5_Financial_Planner\\MCForecastTools.py:117: PerformanceWarning: DataFrame is highly fragmented.  This is usually the result of calling `frame.insert` many times, which has poor performance.  Consider joining all columns at once using pd.concat(axis=1) instead. To get a de-fragmented frame, use `newframe = frame.copy()`\n",
      "  portfolio_cumulative_returns[n] = (1 + sim_df.fillna(0)).cumprod()\n",
      "C:\\Users\\boris\\OneDrive\\Documents\\Studies\\ColumbiaBootCamp\\FinTech-Workspace\\Module_5\\Challenge_5\\Starter_Code\\FinTech_Module5_Financial_Planner\\MCForecastTools.py:117: PerformanceWarning: DataFrame is highly fragmented.  This is usually the result of calling `frame.insert` many times, which has poor performance.  Consider joining all columns at once using pd.concat(axis=1) instead. To get a de-fragmented frame, use `newframe = frame.copy()`\n",
      "  portfolio_cumulative_returns[n] = (1 + sim_df.fillna(0)).cumprod()\n",
      "C:\\Users\\boris\\OneDrive\\Documents\\Studies\\ColumbiaBootCamp\\FinTech-Workspace\\Module_5\\Challenge_5\\Starter_Code\\FinTech_Module5_Financial_Planner\\MCForecastTools.py:117: PerformanceWarning: DataFrame is highly fragmented.  This is usually the result of calling `frame.insert` many times, which has poor performance.  Consider joining all columns at once using pd.concat(axis=1) instead. To get a de-fragmented frame, use `newframe = frame.copy()`\n",
      "  portfolio_cumulative_returns[n] = (1 + sim_df.fillna(0)).cumprod()\n",
      "C:\\Users\\boris\\OneDrive\\Documents\\Studies\\ColumbiaBootCamp\\FinTech-Workspace\\Module_5\\Challenge_5\\Starter_Code\\FinTech_Module5_Financial_Planner\\MCForecastTools.py:117: PerformanceWarning: DataFrame is highly fragmented.  This is usually the result of calling `frame.insert` many times, which has poor performance.  Consider joining all columns at once using pd.concat(axis=1) instead. To get a de-fragmented frame, use `newframe = frame.copy()`\n",
      "  portfolio_cumulative_returns[n] = (1 + sim_df.fillna(0)).cumprod()\n"
     ]
    },
    {
     "name": "stdout",
     "output_type": "stream",
     "text": [
      "Running Monte Carlo simulation number 400.\n"
     ]
    },
    {
     "name": "stderr",
     "output_type": "stream",
     "text": [
      "C:\\Users\\boris\\OneDrive\\Documents\\Studies\\ColumbiaBootCamp\\FinTech-Workspace\\Module_5\\Challenge_5\\Starter_Code\\FinTech_Module5_Financial_Planner\\MCForecastTools.py:117: PerformanceWarning: DataFrame is highly fragmented.  This is usually the result of calling `frame.insert` many times, which has poor performance.  Consider joining all columns at once using pd.concat(axis=1) instead. To get a de-fragmented frame, use `newframe = frame.copy()`\n",
      "  portfolio_cumulative_returns[n] = (1 + sim_df.fillna(0)).cumprod()\n",
      "C:\\Users\\boris\\OneDrive\\Documents\\Studies\\ColumbiaBootCamp\\FinTech-Workspace\\Module_5\\Challenge_5\\Starter_Code\\FinTech_Module5_Financial_Planner\\MCForecastTools.py:117: PerformanceWarning: DataFrame is highly fragmented.  This is usually the result of calling `frame.insert` many times, which has poor performance.  Consider joining all columns at once using pd.concat(axis=1) instead. To get a de-fragmented frame, use `newframe = frame.copy()`\n",
      "  portfolio_cumulative_returns[n] = (1 + sim_df.fillna(0)).cumprod()\n",
      "C:\\Users\\boris\\OneDrive\\Documents\\Studies\\ColumbiaBootCamp\\FinTech-Workspace\\Module_5\\Challenge_5\\Starter_Code\\FinTech_Module5_Financial_Planner\\MCForecastTools.py:117: PerformanceWarning: DataFrame is highly fragmented.  This is usually the result of calling `frame.insert` many times, which has poor performance.  Consider joining all columns at once using pd.concat(axis=1) instead. To get a de-fragmented frame, use `newframe = frame.copy()`\n",
      "  portfolio_cumulative_returns[n] = (1 + sim_df.fillna(0)).cumprod()\n",
      "C:\\Users\\boris\\OneDrive\\Documents\\Studies\\ColumbiaBootCamp\\FinTech-Workspace\\Module_5\\Challenge_5\\Starter_Code\\FinTech_Module5_Financial_Planner\\MCForecastTools.py:117: PerformanceWarning: DataFrame is highly fragmented.  This is usually the result of calling `frame.insert` many times, which has poor performance.  Consider joining all columns at once using pd.concat(axis=1) instead. To get a de-fragmented frame, use `newframe = frame.copy()`\n",
      "  portfolio_cumulative_returns[n] = (1 + sim_df.fillna(0)).cumprod()\n",
      "C:\\Users\\boris\\OneDrive\\Documents\\Studies\\ColumbiaBootCamp\\FinTech-Workspace\\Module_5\\Challenge_5\\Starter_Code\\FinTech_Module5_Financial_Planner\\MCForecastTools.py:117: PerformanceWarning: DataFrame is highly fragmented.  This is usually the result of calling `frame.insert` many times, which has poor performance.  Consider joining all columns at once using pd.concat(axis=1) instead. To get a de-fragmented frame, use `newframe = frame.copy()`\n",
      "  portfolio_cumulative_returns[n] = (1 + sim_df.fillna(0)).cumprod()\n",
      "C:\\Users\\boris\\OneDrive\\Documents\\Studies\\ColumbiaBootCamp\\FinTech-Workspace\\Module_5\\Challenge_5\\Starter_Code\\FinTech_Module5_Financial_Planner\\MCForecastTools.py:117: PerformanceWarning: DataFrame is highly fragmented.  This is usually the result of calling `frame.insert` many times, which has poor performance.  Consider joining all columns at once using pd.concat(axis=1) instead. To get a de-fragmented frame, use `newframe = frame.copy()`\n",
      "  portfolio_cumulative_returns[n] = (1 + sim_df.fillna(0)).cumprod()\n",
      "C:\\Users\\boris\\OneDrive\\Documents\\Studies\\ColumbiaBootCamp\\FinTech-Workspace\\Module_5\\Challenge_5\\Starter_Code\\FinTech_Module5_Financial_Planner\\MCForecastTools.py:117: PerformanceWarning: DataFrame is highly fragmented.  This is usually the result of calling `frame.insert` many times, which has poor performance.  Consider joining all columns at once using pd.concat(axis=1) instead. To get a de-fragmented frame, use `newframe = frame.copy()`\n",
      "  portfolio_cumulative_returns[n] = (1 + sim_df.fillna(0)).cumprod()\n",
      "C:\\Users\\boris\\OneDrive\\Documents\\Studies\\ColumbiaBootCamp\\FinTech-Workspace\\Module_5\\Challenge_5\\Starter_Code\\FinTech_Module5_Financial_Planner\\MCForecastTools.py:117: PerformanceWarning: DataFrame is highly fragmented.  This is usually the result of calling `frame.insert` many times, which has poor performance.  Consider joining all columns at once using pd.concat(axis=1) instead. To get a de-fragmented frame, use `newframe = frame.copy()`\n",
      "  portfolio_cumulative_returns[n] = (1 + sim_df.fillna(0)).cumprod()\n",
      "C:\\Users\\boris\\OneDrive\\Documents\\Studies\\ColumbiaBootCamp\\FinTech-Workspace\\Module_5\\Challenge_5\\Starter_Code\\FinTech_Module5_Financial_Planner\\MCForecastTools.py:117: PerformanceWarning: DataFrame is highly fragmented.  This is usually the result of calling `frame.insert` many times, which has poor performance.  Consider joining all columns at once using pd.concat(axis=1) instead. To get a de-fragmented frame, use `newframe = frame.copy()`\n",
      "  portfolio_cumulative_returns[n] = (1 + sim_df.fillna(0)).cumprod()\n",
      "C:\\Users\\boris\\OneDrive\\Documents\\Studies\\ColumbiaBootCamp\\FinTech-Workspace\\Module_5\\Challenge_5\\Starter_Code\\FinTech_Module5_Financial_Planner\\MCForecastTools.py:117: PerformanceWarning: DataFrame is highly fragmented.  This is usually the result of calling `frame.insert` many times, which has poor performance.  Consider joining all columns at once using pd.concat(axis=1) instead. To get a de-fragmented frame, use `newframe = frame.copy()`\n",
      "  portfolio_cumulative_returns[n] = (1 + sim_df.fillna(0)).cumprod()\n"
     ]
    },
    {
     "name": "stdout",
     "output_type": "stream",
     "text": [
      "Running Monte Carlo simulation number 410.\n"
     ]
    },
    {
     "name": "stderr",
     "output_type": "stream",
     "text": [
      "C:\\Users\\boris\\OneDrive\\Documents\\Studies\\ColumbiaBootCamp\\FinTech-Workspace\\Module_5\\Challenge_5\\Starter_Code\\FinTech_Module5_Financial_Planner\\MCForecastTools.py:117: PerformanceWarning: DataFrame is highly fragmented.  This is usually the result of calling `frame.insert` many times, which has poor performance.  Consider joining all columns at once using pd.concat(axis=1) instead. To get a de-fragmented frame, use `newframe = frame.copy()`\n",
      "  portfolio_cumulative_returns[n] = (1 + sim_df.fillna(0)).cumprod()\n",
      "C:\\Users\\boris\\OneDrive\\Documents\\Studies\\ColumbiaBootCamp\\FinTech-Workspace\\Module_5\\Challenge_5\\Starter_Code\\FinTech_Module5_Financial_Planner\\MCForecastTools.py:117: PerformanceWarning: DataFrame is highly fragmented.  This is usually the result of calling `frame.insert` many times, which has poor performance.  Consider joining all columns at once using pd.concat(axis=1) instead. To get a de-fragmented frame, use `newframe = frame.copy()`\n",
      "  portfolio_cumulative_returns[n] = (1 + sim_df.fillna(0)).cumprod()\n",
      "C:\\Users\\boris\\OneDrive\\Documents\\Studies\\ColumbiaBootCamp\\FinTech-Workspace\\Module_5\\Challenge_5\\Starter_Code\\FinTech_Module5_Financial_Planner\\MCForecastTools.py:117: PerformanceWarning: DataFrame is highly fragmented.  This is usually the result of calling `frame.insert` many times, which has poor performance.  Consider joining all columns at once using pd.concat(axis=1) instead. To get a de-fragmented frame, use `newframe = frame.copy()`\n",
      "  portfolio_cumulative_returns[n] = (1 + sim_df.fillna(0)).cumprod()\n",
      "C:\\Users\\boris\\OneDrive\\Documents\\Studies\\ColumbiaBootCamp\\FinTech-Workspace\\Module_5\\Challenge_5\\Starter_Code\\FinTech_Module5_Financial_Planner\\MCForecastTools.py:117: PerformanceWarning: DataFrame is highly fragmented.  This is usually the result of calling `frame.insert` many times, which has poor performance.  Consider joining all columns at once using pd.concat(axis=1) instead. To get a de-fragmented frame, use `newframe = frame.copy()`\n",
      "  portfolio_cumulative_returns[n] = (1 + sim_df.fillna(0)).cumprod()\n",
      "C:\\Users\\boris\\OneDrive\\Documents\\Studies\\ColumbiaBootCamp\\FinTech-Workspace\\Module_5\\Challenge_5\\Starter_Code\\FinTech_Module5_Financial_Planner\\MCForecastTools.py:117: PerformanceWarning: DataFrame is highly fragmented.  This is usually the result of calling `frame.insert` many times, which has poor performance.  Consider joining all columns at once using pd.concat(axis=1) instead. To get a de-fragmented frame, use `newframe = frame.copy()`\n",
      "  portfolio_cumulative_returns[n] = (1 + sim_df.fillna(0)).cumprod()\n",
      "C:\\Users\\boris\\OneDrive\\Documents\\Studies\\ColumbiaBootCamp\\FinTech-Workspace\\Module_5\\Challenge_5\\Starter_Code\\FinTech_Module5_Financial_Planner\\MCForecastTools.py:117: PerformanceWarning: DataFrame is highly fragmented.  This is usually the result of calling `frame.insert` many times, which has poor performance.  Consider joining all columns at once using pd.concat(axis=1) instead. To get a de-fragmented frame, use `newframe = frame.copy()`\n",
      "  portfolio_cumulative_returns[n] = (1 + sim_df.fillna(0)).cumprod()\n",
      "C:\\Users\\boris\\OneDrive\\Documents\\Studies\\ColumbiaBootCamp\\FinTech-Workspace\\Module_5\\Challenge_5\\Starter_Code\\FinTech_Module5_Financial_Planner\\MCForecastTools.py:117: PerformanceWarning: DataFrame is highly fragmented.  This is usually the result of calling `frame.insert` many times, which has poor performance.  Consider joining all columns at once using pd.concat(axis=1) instead. To get a de-fragmented frame, use `newframe = frame.copy()`\n",
      "  portfolio_cumulative_returns[n] = (1 + sim_df.fillna(0)).cumprod()\n",
      "C:\\Users\\boris\\OneDrive\\Documents\\Studies\\ColumbiaBootCamp\\FinTech-Workspace\\Module_5\\Challenge_5\\Starter_Code\\FinTech_Module5_Financial_Planner\\MCForecastTools.py:117: PerformanceWarning: DataFrame is highly fragmented.  This is usually the result of calling `frame.insert` many times, which has poor performance.  Consider joining all columns at once using pd.concat(axis=1) instead. To get a de-fragmented frame, use `newframe = frame.copy()`\n",
      "  portfolio_cumulative_returns[n] = (1 + sim_df.fillna(0)).cumprod()\n",
      "C:\\Users\\boris\\OneDrive\\Documents\\Studies\\ColumbiaBootCamp\\FinTech-Workspace\\Module_5\\Challenge_5\\Starter_Code\\FinTech_Module5_Financial_Planner\\MCForecastTools.py:117: PerformanceWarning: DataFrame is highly fragmented.  This is usually the result of calling `frame.insert` many times, which has poor performance.  Consider joining all columns at once using pd.concat(axis=1) instead. To get a de-fragmented frame, use `newframe = frame.copy()`\n",
      "  portfolio_cumulative_returns[n] = (1 + sim_df.fillna(0)).cumprod()\n"
     ]
    },
    {
     "name": "stdout",
     "output_type": "stream",
     "text": [
      "Running Monte Carlo simulation number 420.\n"
     ]
    },
    {
     "name": "stderr",
     "output_type": "stream",
     "text": [
      "C:\\Users\\boris\\OneDrive\\Documents\\Studies\\ColumbiaBootCamp\\FinTech-Workspace\\Module_5\\Challenge_5\\Starter_Code\\FinTech_Module5_Financial_Planner\\MCForecastTools.py:117: PerformanceWarning: DataFrame is highly fragmented.  This is usually the result of calling `frame.insert` many times, which has poor performance.  Consider joining all columns at once using pd.concat(axis=1) instead. To get a de-fragmented frame, use `newframe = frame.copy()`\n",
      "  portfolio_cumulative_returns[n] = (1 + sim_df.fillna(0)).cumprod()\n",
      "C:\\Users\\boris\\OneDrive\\Documents\\Studies\\ColumbiaBootCamp\\FinTech-Workspace\\Module_5\\Challenge_5\\Starter_Code\\FinTech_Module5_Financial_Planner\\MCForecastTools.py:117: PerformanceWarning: DataFrame is highly fragmented.  This is usually the result of calling `frame.insert` many times, which has poor performance.  Consider joining all columns at once using pd.concat(axis=1) instead. To get a de-fragmented frame, use `newframe = frame.copy()`\n",
      "  portfolio_cumulative_returns[n] = (1 + sim_df.fillna(0)).cumprod()\n",
      "C:\\Users\\boris\\OneDrive\\Documents\\Studies\\ColumbiaBootCamp\\FinTech-Workspace\\Module_5\\Challenge_5\\Starter_Code\\FinTech_Module5_Financial_Planner\\MCForecastTools.py:117: PerformanceWarning: DataFrame is highly fragmented.  This is usually the result of calling `frame.insert` many times, which has poor performance.  Consider joining all columns at once using pd.concat(axis=1) instead. To get a de-fragmented frame, use `newframe = frame.copy()`\n",
      "  portfolio_cumulative_returns[n] = (1 + sim_df.fillna(0)).cumprod()\n",
      "C:\\Users\\boris\\OneDrive\\Documents\\Studies\\ColumbiaBootCamp\\FinTech-Workspace\\Module_5\\Challenge_5\\Starter_Code\\FinTech_Module5_Financial_Planner\\MCForecastTools.py:117: PerformanceWarning: DataFrame is highly fragmented.  This is usually the result of calling `frame.insert` many times, which has poor performance.  Consider joining all columns at once using pd.concat(axis=1) instead. To get a de-fragmented frame, use `newframe = frame.copy()`\n",
      "  portfolio_cumulative_returns[n] = (1 + sim_df.fillna(0)).cumprod()\n",
      "C:\\Users\\boris\\OneDrive\\Documents\\Studies\\ColumbiaBootCamp\\FinTech-Workspace\\Module_5\\Challenge_5\\Starter_Code\\FinTech_Module5_Financial_Planner\\MCForecastTools.py:117: PerformanceWarning: DataFrame is highly fragmented.  This is usually the result of calling `frame.insert` many times, which has poor performance.  Consider joining all columns at once using pd.concat(axis=1) instead. To get a de-fragmented frame, use `newframe = frame.copy()`\n",
      "  portfolio_cumulative_returns[n] = (1 + sim_df.fillna(0)).cumprod()\n",
      "C:\\Users\\boris\\OneDrive\\Documents\\Studies\\ColumbiaBootCamp\\FinTech-Workspace\\Module_5\\Challenge_5\\Starter_Code\\FinTech_Module5_Financial_Planner\\MCForecastTools.py:117: PerformanceWarning: DataFrame is highly fragmented.  This is usually the result of calling `frame.insert` many times, which has poor performance.  Consider joining all columns at once using pd.concat(axis=1) instead. To get a de-fragmented frame, use `newframe = frame.copy()`\n",
      "  portfolio_cumulative_returns[n] = (1 + sim_df.fillna(0)).cumprod()\n",
      "C:\\Users\\boris\\OneDrive\\Documents\\Studies\\ColumbiaBootCamp\\FinTech-Workspace\\Module_5\\Challenge_5\\Starter_Code\\FinTech_Module5_Financial_Planner\\MCForecastTools.py:117: PerformanceWarning: DataFrame is highly fragmented.  This is usually the result of calling `frame.insert` many times, which has poor performance.  Consider joining all columns at once using pd.concat(axis=1) instead. To get a de-fragmented frame, use `newframe = frame.copy()`\n",
      "  portfolio_cumulative_returns[n] = (1 + sim_df.fillna(0)).cumprod()\n",
      "C:\\Users\\boris\\OneDrive\\Documents\\Studies\\ColumbiaBootCamp\\FinTech-Workspace\\Module_5\\Challenge_5\\Starter_Code\\FinTech_Module5_Financial_Planner\\MCForecastTools.py:117: PerformanceWarning: DataFrame is highly fragmented.  This is usually the result of calling `frame.insert` many times, which has poor performance.  Consider joining all columns at once using pd.concat(axis=1) instead. To get a de-fragmented frame, use `newframe = frame.copy()`\n",
      "  portfolio_cumulative_returns[n] = (1 + sim_df.fillna(0)).cumprod()\n",
      "C:\\Users\\boris\\OneDrive\\Documents\\Studies\\ColumbiaBootCamp\\FinTech-Workspace\\Module_5\\Challenge_5\\Starter_Code\\FinTech_Module5_Financial_Planner\\MCForecastTools.py:117: PerformanceWarning: DataFrame is highly fragmented.  This is usually the result of calling `frame.insert` many times, which has poor performance.  Consider joining all columns at once using pd.concat(axis=1) instead. To get a de-fragmented frame, use `newframe = frame.copy()`\n",
      "  portfolio_cumulative_returns[n] = (1 + sim_df.fillna(0)).cumprod()\n",
      "C:\\Users\\boris\\OneDrive\\Documents\\Studies\\ColumbiaBootCamp\\FinTech-Workspace\\Module_5\\Challenge_5\\Starter_Code\\FinTech_Module5_Financial_Planner\\MCForecastTools.py:117: PerformanceWarning: DataFrame is highly fragmented.  This is usually the result of calling `frame.insert` many times, which has poor performance.  Consider joining all columns at once using pd.concat(axis=1) instead. To get a de-fragmented frame, use `newframe = frame.copy()`\n",
      "  portfolio_cumulative_returns[n] = (1 + sim_df.fillna(0)).cumprod()\n",
      "C:\\Users\\boris\\OneDrive\\Documents\\Studies\\ColumbiaBootCamp\\FinTech-Workspace\\Module_5\\Challenge_5\\Starter_Code\\FinTech_Module5_Financial_Planner\\MCForecastTools.py:117: PerformanceWarning: DataFrame is highly fragmented.  This is usually the result of calling `frame.insert` many times, which has poor performance.  Consider joining all columns at once using pd.concat(axis=1) instead. To get a de-fragmented frame, use `newframe = frame.copy()`\n",
      "  portfolio_cumulative_returns[n] = (1 + sim_df.fillna(0)).cumprod()\n"
     ]
    },
    {
     "name": "stdout",
     "output_type": "stream",
     "text": [
      "Running Monte Carlo simulation number 430.\n"
     ]
    },
    {
     "name": "stderr",
     "output_type": "stream",
     "text": [
      "C:\\Users\\boris\\OneDrive\\Documents\\Studies\\ColumbiaBootCamp\\FinTech-Workspace\\Module_5\\Challenge_5\\Starter_Code\\FinTech_Module5_Financial_Planner\\MCForecastTools.py:117: PerformanceWarning: DataFrame is highly fragmented.  This is usually the result of calling `frame.insert` many times, which has poor performance.  Consider joining all columns at once using pd.concat(axis=1) instead. To get a de-fragmented frame, use `newframe = frame.copy()`\n",
      "  portfolio_cumulative_returns[n] = (1 + sim_df.fillna(0)).cumprod()\n",
      "C:\\Users\\boris\\OneDrive\\Documents\\Studies\\ColumbiaBootCamp\\FinTech-Workspace\\Module_5\\Challenge_5\\Starter_Code\\FinTech_Module5_Financial_Planner\\MCForecastTools.py:117: PerformanceWarning: DataFrame is highly fragmented.  This is usually the result of calling `frame.insert` many times, which has poor performance.  Consider joining all columns at once using pd.concat(axis=1) instead. To get a de-fragmented frame, use `newframe = frame.copy()`\n",
      "  portfolio_cumulative_returns[n] = (1 + sim_df.fillna(0)).cumprod()\n",
      "C:\\Users\\boris\\OneDrive\\Documents\\Studies\\ColumbiaBootCamp\\FinTech-Workspace\\Module_5\\Challenge_5\\Starter_Code\\FinTech_Module5_Financial_Planner\\MCForecastTools.py:117: PerformanceWarning: DataFrame is highly fragmented.  This is usually the result of calling `frame.insert` many times, which has poor performance.  Consider joining all columns at once using pd.concat(axis=1) instead. To get a de-fragmented frame, use `newframe = frame.copy()`\n",
      "  portfolio_cumulative_returns[n] = (1 + sim_df.fillna(0)).cumprod()\n",
      "C:\\Users\\boris\\OneDrive\\Documents\\Studies\\ColumbiaBootCamp\\FinTech-Workspace\\Module_5\\Challenge_5\\Starter_Code\\FinTech_Module5_Financial_Planner\\MCForecastTools.py:117: PerformanceWarning: DataFrame is highly fragmented.  This is usually the result of calling `frame.insert` many times, which has poor performance.  Consider joining all columns at once using pd.concat(axis=1) instead. To get a de-fragmented frame, use `newframe = frame.copy()`\n",
      "  portfolio_cumulative_returns[n] = (1 + sim_df.fillna(0)).cumprod()\n",
      "C:\\Users\\boris\\OneDrive\\Documents\\Studies\\ColumbiaBootCamp\\FinTech-Workspace\\Module_5\\Challenge_5\\Starter_Code\\FinTech_Module5_Financial_Planner\\MCForecastTools.py:117: PerformanceWarning: DataFrame is highly fragmented.  This is usually the result of calling `frame.insert` many times, which has poor performance.  Consider joining all columns at once using pd.concat(axis=1) instead. To get a de-fragmented frame, use `newframe = frame.copy()`\n",
      "  portfolio_cumulative_returns[n] = (1 + sim_df.fillna(0)).cumprod()\n",
      "C:\\Users\\boris\\OneDrive\\Documents\\Studies\\ColumbiaBootCamp\\FinTech-Workspace\\Module_5\\Challenge_5\\Starter_Code\\FinTech_Module5_Financial_Planner\\MCForecastTools.py:117: PerformanceWarning: DataFrame is highly fragmented.  This is usually the result of calling `frame.insert` many times, which has poor performance.  Consider joining all columns at once using pd.concat(axis=1) instead. To get a de-fragmented frame, use `newframe = frame.copy()`\n",
      "  portfolio_cumulative_returns[n] = (1 + sim_df.fillna(0)).cumprod()\n",
      "C:\\Users\\boris\\OneDrive\\Documents\\Studies\\ColumbiaBootCamp\\FinTech-Workspace\\Module_5\\Challenge_5\\Starter_Code\\FinTech_Module5_Financial_Planner\\MCForecastTools.py:117: PerformanceWarning: DataFrame is highly fragmented.  This is usually the result of calling `frame.insert` many times, which has poor performance.  Consider joining all columns at once using pd.concat(axis=1) instead. To get a de-fragmented frame, use `newframe = frame.copy()`\n",
      "  portfolio_cumulative_returns[n] = (1 + sim_df.fillna(0)).cumprod()\n",
      "C:\\Users\\boris\\OneDrive\\Documents\\Studies\\ColumbiaBootCamp\\FinTech-Workspace\\Module_5\\Challenge_5\\Starter_Code\\FinTech_Module5_Financial_Planner\\MCForecastTools.py:117: PerformanceWarning: DataFrame is highly fragmented.  This is usually the result of calling `frame.insert` many times, which has poor performance.  Consider joining all columns at once using pd.concat(axis=1) instead. To get a de-fragmented frame, use `newframe = frame.copy()`\n",
      "  portfolio_cumulative_returns[n] = (1 + sim_df.fillna(0)).cumprod()\n",
      "C:\\Users\\boris\\OneDrive\\Documents\\Studies\\ColumbiaBootCamp\\FinTech-Workspace\\Module_5\\Challenge_5\\Starter_Code\\FinTech_Module5_Financial_Planner\\MCForecastTools.py:117: PerformanceWarning: DataFrame is highly fragmented.  This is usually the result of calling `frame.insert` many times, which has poor performance.  Consider joining all columns at once using pd.concat(axis=1) instead. To get a de-fragmented frame, use `newframe = frame.copy()`\n",
      "  portfolio_cumulative_returns[n] = (1 + sim_df.fillna(0)).cumprod()\n",
      "C:\\Users\\boris\\OneDrive\\Documents\\Studies\\ColumbiaBootCamp\\FinTech-Workspace\\Module_5\\Challenge_5\\Starter_Code\\FinTech_Module5_Financial_Planner\\MCForecastTools.py:117: PerformanceWarning: DataFrame is highly fragmented.  This is usually the result of calling `frame.insert` many times, which has poor performance.  Consider joining all columns at once using pd.concat(axis=1) instead. To get a de-fragmented frame, use `newframe = frame.copy()`\n",
      "  portfolio_cumulative_returns[n] = (1 + sim_df.fillna(0)).cumprod()\n",
      "C:\\Users\\boris\\OneDrive\\Documents\\Studies\\ColumbiaBootCamp\\FinTech-Workspace\\Module_5\\Challenge_5\\Starter_Code\\FinTech_Module5_Financial_Planner\\MCForecastTools.py:117: PerformanceWarning: DataFrame is highly fragmented.  This is usually the result of calling `frame.insert` many times, which has poor performance.  Consider joining all columns at once using pd.concat(axis=1) instead. To get a de-fragmented frame, use `newframe = frame.copy()`\n",
      "  portfolio_cumulative_returns[n] = (1 + sim_df.fillna(0)).cumprod()\n",
      "C:\\Users\\boris\\OneDrive\\Documents\\Studies\\ColumbiaBootCamp\\FinTech-Workspace\\Module_5\\Challenge_5\\Starter_Code\\FinTech_Module5_Financial_Planner\\MCForecastTools.py:117: PerformanceWarning: DataFrame is highly fragmented.  This is usually the result of calling `frame.insert` many times, which has poor performance.  Consider joining all columns at once using pd.concat(axis=1) instead. To get a de-fragmented frame, use `newframe = frame.copy()`\n",
      "  portfolio_cumulative_returns[n] = (1 + sim_df.fillna(0)).cumprod()\n",
      "C:\\Users\\boris\\OneDrive\\Documents\\Studies\\ColumbiaBootCamp\\FinTech-Workspace\\Module_5\\Challenge_5\\Starter_Code\\FinTech_Module5_Financial_Planner\\MCForecastTools.py:117: PerformanceWarning: DataFrame is highly fragmented.  This is usually the result of calling `frame.insert` many times, which has poor performance.  Consider joining all columns at once using pd.concat(axis=1) instead. To get a de-fragmented frame, use `newframe = frame.copy()`\n",
      "  portfolio_cumulative_returns[n] = (1 + sim_df.fillna(0)).cumprod()\n"
     ]
    },
    {
     "name": "stdout",
     "output_type": "stream",
     "text": [
      "Running Monte Carlo simulation number 440.\n"
     ]
    },
    {
     "name": "stderr",
     "output_type": "stream",
     "text": [
      "C:\\Users\\boris\\OneDrive\\Documents\\Studies\\ColumbiaBootCamp\\FinTech-Workspace\\Module_5\\Challenge_5\\Starter_Code\\FinTech_Module5_Financial_Planner\\MCForecastTools.py:117: PerformanceWarning: DataFrame is highly fragmented.  This is usually the result of calling `frame.insert` many times, which has poor performance.  Consider joining all columns at once using pd.concat(axis=1) instead. To get a de-fragmented frame, use `newframe = frame.copy()`\n",
      "  portfolio_cumulative_returns[n] = (1 + sim_df.fillna(0)).cumprod()\n",
      "C:\\Users\\boris\\OneDrive\\Documents\\Studies\\ColumbiaBootCamp\\FinTech-Workspace\\Module_5\\Challenge_5\\Starter_Code\\FinTech_Module5_Financial_Planner\\MCForecastTools.py:117: PerformanceWarning: DataFrame is highly fragmented.  This is usually the result of calling `frame.insert` many times, which has poor performance.  Consider joining all columns at once using pd.concat(axis=1) instead. To get a de-fragmented frame, use `newframe = frame.copy()`\n",
      "  portfolio_cumulative_returns[n] = (1 + sim_df.fillna(0)).cumprod()\n",
      "C:\\Users\\boris\\OneDrive\\Documents\\Studies\\ColumbiaBootCamp\\FinTech-Workspace\\Module_5\\Challenge_5\\Starter_Code\\FinTech_Module5_Financial_Planner\\MCForecastTools.py:117: PerformanceWarning: DataFrame is highly fragmented.  This is usually the result of calling `frame.insert` many times, which has poor performance.  Consider joining all columns at once using pd.concat(axis=1) instead. To get a de-fragmented frame, use `newframe = frame.copy()`\n",
      "  portfolio_cumulative_returns[n] = (1 + sim_df.fillna(0)).cumprod()\n",
      "C:\\Users\\boris\\OneDrive\\Documents\\Studies\\ColumbiaBootCamp\\FinTech-Workspace\\Module_5\\Challenge_5\\Starter_Code\\FinTech_Module5_Financial_Planner\\MCForecastTools.py:117: PerformanceWarning: DataFrame is highly fragmented.  This is usually the result of calling `frame.insert` many times, which has poor performance.  Consider joining all columns at once using pd.concat(axis=1) instead. To get a de-fragmented frame, use `newframe = frame.copy()`\n",
      "  portfolio_cumulative_returns[n] = (1 + sim_df.fillna(0)).cumprod()\n",
      "C:\\Users\\boris\\OneDrive\\Documents\\Studies\\ColumbiaBootCamp\\FinTech-Workspace\\Module_5\\Challenge_5\\Starter_Code\\FinTech_Module5_Financial_Planner\\MCForecastTools.py:117: PerformanceWarning: DataFrame is highly fragmented.  This is usually the result of calling `frame.insert` many times, which has poor performance.  Consider joining all columns at once using pd.concat(axis=1) instead. To get a de-fragmented frame, use `newframe = frame.copy()`\n",
      "  portfolio_cumulative_returns[n] = (1 + sim_df.fillna(0)).cumprod()\n",
      "C:\\Users\\boris\\OneDrive\\Documents\\Studies\\ColumbiaBootCamp\\FinTech-Workspace\\Module_5\\Challenge_5\\Starter_Code\\FinTech_Module5_Financial_Planner\\MCForecastTools.py:117: PerformanceWarning: DataFrame is highly fragmented.  This is usually the result of calling `frame.insert` many times, which has poor performance.  Consider joining all columns at once using pd.concat(axis=1) instead. To get a de-fragmented frame, use `newframe = frame.copy()`\n",
      "  portfolio_cumulative_returns[n] = (1 + sim_df.fillna(0)).cumprod()\n",
      "C:\\Users\\boris\\OneDrive\\Documents\\Studies\\ColumbiaBootCamp\\FinTech-Workspace\\Module_5\\Challenge_5\\Starter_Code\\FinTech_Module5_Financial_Planner\\MCForecastTools.py:117: PerformanceWarning: DataFrame is highly fragmented.  This is usually the result of calling `frame.insert` many times, which has poor performance.  Consider joining all columns at once using pd.concat(axis=1) instead. To get a de-fragmented frame, use `newframe = frame.copy()`\n",
      "  portfolio_cumulative_returns[n] = (1 + sim_df.fillna(0)).cumprod()\n",
      "C:\\Users\\boris\\OneDrive\\Documents\\Studies\\ColumbiaBootCamp\\FinTech-Workspace\\Module_5\\Challenge_5\\Starter_Code\\FinTech_Module5_Financial_Planner\\MCForecastTools.py:117: PerformanceWarning: DataFrame is highly fragmented.  This is usually the result of calling `frame.insert` many times, which has poor performance.  Consider joining all columns at once using pd.concat(axis=1) instead. To get a de-fragmented frame, use `newframe = frame.copy()`\n",
      "  portfolio_cumulative_returns[n] = (1 + sim_df.fillna(0)).cumprod()\n",
      "C:\\Users\\boris\\OneDrive\\Documents\\Studies\\ColumbiaBootCamp\\FinTech-Workspace\\Module_5\\Challenge_5\\Starter_Code\\FinTech_Module5_Financial_Planner\\MCForecastTools.py:117: PerformanceWarning: DataFrame is highly fragmented.  This is usually the result of calling `frame.insert` many times, which has poor performance.  Consider joining all columns at once using pd.concat(axis=1) instead. To get a de-fragmented frame, use `newframe = frame.copy()`\n",
      "  portfolio_cumulative_returns[n] = (1 + sim_df.fillna(0)).cumprod()\n",
      "C:\\Users\\boris\\OneDrive\\Documents\\Studies\\ColumbiaBootCamp\\FinTech-Workspace\\Module_5\\Challenge_5\\Starter_Code\\FinTech_Module5_Financial_Planner\\MCForecastTools.py:117: PerformanceWarning: DataFrame is highly fragmented.  This is usually the result of calling `frame.insert` many times, which has poor performance.  Consider joining all columns at once using pd.concat(axis=1) instead. To get a de-fragmented frame, use `newframe = frame.copy()`\n",
      "  portfolio_cumulative_returns[n] = (1 + sim_df.fillna(0)).cumprod()\n"
     ]
    },
    {
     "name": "stdout",
     "output_type": "stream",
     "text": [
      "Running Monte Carlo simulation number 450.\n"
     ]
    },
    {
     "name": "stderr",
     "output_type": "stream",
     "text": [
      "C:\\Users\\boris\\OneDrive\\Documents\\Studies\\ColumbiaBootCamp\\FinTech-Workspace\\Module_5\\Challenge_5\\Starter_Code\\FinTech_Module5_Financial_Planner\\MCForecastTools.py:117: PerformanceWarning: DataFrame is highly fragmented.  This is usually the result of calling `frame.insert` many times, which has poor performance.  Consider joining all columns at once using pd.concat(axis=1) instead. To get a de-fragmented frame, use `newframe = frame.copy()`\n",
      "  portfolio_cumulative_returns[n] = (1 + sim_df.fillna(0)).cumprod()\n",
      "C:\\Users\\boris\\OneDrive\\Documents\\Studies\\ColumbiaBootCamp\\FinTech-Workspace\\Module_5\\Challenge_5\\Starter_Code\\FinTech_Module5_Financial_Planner\\MCForecastTools.py:117: PerformanceWarning: DataFrame is highly fragmented.  This is usually the result of calling `frame.insert` many times, which has poor performance.  Consider joining all columns at once using pd.concat(axis=1) instead. To get a de-fragmented frame, use `newframe = frame.copy()`\n",
      "  portfolio_cumulative_returns[n] = (1 + sim_df.fillna(0)).cumprod()\n",
      "C:\\Users\\boris\\OneDrive\\Documents\\Studies\\ColumbiaBootCamp\\FinTech-Workspace\\Module_5\\Challenge_5\\Starter_Code\\FinTech_Module5_Financial_Planner\\MCForecastTools.py:117: PerformanceWarning: DataFrame is highly fragmented.  This is usually the result of calling `frame.insert` many times, which has poor performance.  Consider joining all columns at once using pd.concat(axis=1) instead. To get a de-fragmented frame, use `newframe = frame.copy()`\n",
      "  portfolio_cumulative_returns[n] = (1 + sim_df.fillna(0)).cumprod()\n",
      "C:\\Users\\boris\\OneDrive\\Documents\\Studies\\ColumbiaBootCamp\\FinTech-Workspace\\Module_5\\Challenge_5\\Starter_Code\\FinTech_Module5_Financial_Planner\\MCForecastTools.py:117: PerformanceWarning: DataFrame is highly fragmented.  This is usually the result of calling `frame.insert` many times, which has poor performance.  Consider joining all columns at once using pd.concat(axis=1) instead. To get a de-fragmented frame, use `newframe = frame.copy()`\n",
      "  portfolio_cumulative_returns[n] = (1 + sim_df.fillna(0)).cumprod()\n",
      "C:\\Users\\boris\\OneDrive\\Documents\\Studies\\ColumbiaBootCamp\\FinTech-Workspace\\Module_5\\Challenge_5\\Starter_Code\\FinTech_Module5_Financial_Planner\\MCForecastTools.py:117: PerformanceWarning: DataFrame is highly fragmented.  This is usually the result of calling `frame.insert` many times, which has poor performance.  Consider joining all columns at once using pd.concat(axis=1) instead. To get a de-fragmented frame, use `newframe = frame.copy()`\n",
      "  portfolio_cumulative_returns[n] = (1 + sim_df.fillna(0)).cumprod()\n",
      "C:\\Users\\boris\\OneDrive\\Documents\\Studies\\ColumbiaBootCamp\\FinTech-Workspace\\Module_5\\Challenge_5\\Starter_Code\\FinTech_Module5_Financial_Planner\\MCForecastTools.py:117: PerformanceWarning: DataFrame is highly fragmented.  This is usually the result of calling `frame.insert` many times, which has poor performance.  Consider joining all columns at once using pd.concat(axis=1) instead. To get a de-fragmented frame, use `newframe = frame.copy()`\n",
      "  portfolio_cumulative_returns[n] = (1 + sim_df.fillna(0)).cumprod()\n"
     ]
    },
    {
     "name": "stdout",
     "output_type": "stream",
     "text": [
      "Running Monte Carlo simulation number 460.\n"
     ]
    },
    {
     "name": "stderr",
     "output_type": "stream",
     "text": [
      "C:\\Users\\boris\\OneDrive\\Documents\\Studies\\ColumbiaBootCamp\\FinTech-Workspace\\Module_5\\Challenge_5\\Starter_Code\\FinTech_Module5_Financial_Planner\\MCForecastTools.py:117: PerformanceWarning: DataFrame is highly fragmented.  This is usually the result of calling `frame.insert` many times, which has poor performance.  Consider joining all columns at once using pd.concat(axis=1) instead. To get a de-fragmented frame, use `newframe = frame.copy()`\n",
      "  portfolio_cumulative_returns[n] = (1 + sim_df.fillna(0)).cumprod()\n",
      "C:\\Users\\boris\\OneDrive\\Documents\\Studies\\ColumbiaBootCamp\\FinTech-Workspace\\Module_5\\Challenge_5\\Starter_Code\\FinTech_Module5_Financial_Planner\\MCForecastTools.py:117: PerformanceWarning: DataFrame is highly fragmented.  This is usually the result of calling `frame.insert` many times, which has poor performance.  Consider joining all columns at once using pd.concat(axis=1) instead. To get a de-fragmented frame, use `newframe = frame.copy()`\n",
      "  portfolio_cumulative_returns[n] = (1 + sim_df.fillna(0)).cumprod()\n",
      "C:\\Users\\boris\\OneDrive\\Documents\\Studies\\ColumbiaBootCamp\\FinTech-Workspace\\Module_5\\Challenge_5\\Starter_Code\\FinTech_Module5_Financial_Planner\\MCForecastTools.py:117: PerformanceWarning: DataFrame is highly fragmented.  This is usually the result of calling `frame.insert` many times, which has poor performance.  Consider joining all columns at once using pd.concat(axis=1) instead. To get a de-fragmented frame, use `newframe = frame.copy()`\n",
      "  portfolio_cumulative_returns[n] = (1 + sim_df.fillna(0)).cumprod()\n",
      "C:\\Users\\boris\\OneDrive\\Documents\\Studies\\ColumbiaBootCamp\\FinTech-Workspace\\Module_5\\Challenge_5\\Starter_Code\\FinTech_Module5_Financial_Planner\\MCForecastTools.py:117: PerformanceWarning: DataFrame is highly fragmented.  This is usually the result of calling `frame.insert` many times, which has poor performance.  Consider joining all columns at once using pd.concat(axis=1) instead. To get a de-fragmented frame, use `newframe = frame.copy()`\n",
      "  portfolio_cumulative_returns[n] = (1 + sim_df.fillna(0)).cumprod()\n",
      "C:\\Users\\boris\\OneDrive\\Documents\\Studies\\ColumbiaBootCamp\\FinTech-Workspace\\Module_5\\Challenge_5\\Starter_Code\\FinTech_Module5_Financial_Planner\\MCForecastTools.py:117: PerformanceWarning: DataFrame is highly fragmented.  This is usually the result of calling `frame.insert` many times, which has poor performance.  Consider joining all columns at once using pd.concat(axis=1) instead. To get a de-fragmented frame, use `newframe = frame.copy()`\n",
      "  portfolio_cumulative_returns[n] = (1 + sim_df.fillna(0)).cumprod()\n",
      "C:\\Users\\boris\\OneDrive\\Documents\\Studies\\ColumbiaBootCamp\\FinTech-Workspace\\Module_5\\Challenge_5\\Starter_Code\\FinTech_Module5_Financial_Planner\\MCForecastTools.py:117: PerformanceWarning: DataFrame is highly fragmented.  This is usually the result of calling `frame.insert` many times, which has poor performance.  Consider joining all columns at once using pd.concat(axis=1) instead. To get a de-fragmented frame, use `newframe = frame.copy()`\n",
      "  portfolio_cumulative_returns[n] = (1 + sim_df.fillna(0)).cumprod()\n",
      "C:\\Users\\boris\\OneDrive\\Documents\\Studies\\ColumbiaBootCamp\\FinTech-Workspace\\Module_5\\Challenge_5\\Starter_Code\\FinTech_Module5_Financial_Planner\\MCForecastTools.py:117: PerformanceWarning: DataFrame is highly fragmented.  This is usually the result of calling `frame.insert` many times, which has poor performance.  Consider joining all columns at once using pd.concat(axis=1) instead. To get a de-fragmented frame, use `newframe = frame.copy()`\n",
      "  portfolio_cumulative_returns[n] = (1 + sim_df.fillna(0)).cumprod()\n",
      "C:\\Users\\boris\\OneDrive\\Documents\\Studies\\ColumbiaBootCamp\\FinTech-Workspace\\Module_5\\Challenge_5\\Starter_Code\\FinTech_Module5_Financial_Planner\\MCForecastTools.py:117: PerformanceWarning: DataFrame is highly fragmented.  This is usually the result of calling `frame.insert` many times, which has poor performance.  Consider joining all columns at once using pd.concat(axis=1) instead. To get a de-fragmented frame, use `newframe = frame.copy()`\n",
      "  portfolio_cumulative_returns[n] = (1 + sim_df.fillna(0)).cumprod()\n",
      "C:\\Users\\boris\\OneDrive\\Documents\\Studies\\ColumbiaBootCamp\\FinTech-Workspace\\Module_5\\Challenge_5\\Starter_Code\\FinTech_Module5_Financial_Planner\\MCForecastTools.py:117: PerformanceWarning: DataFrame is highly fragmented.  This is usually the result of calling `frame.insert` many times, which has poor performance.  Consider joining all columns at once using pd.concat(axis=1) instead. To get a de-fragmented frame, use `newframe = frame.copy()`\n",
      "  portfolio_cumulative_returns[n] = (1 + sim_df.fillna(0)).cumprod()\n",
      "C:\\Users\\boris\\OneDrive\\Documents\\Studies\\ColumbiaBootCamp\\FinTech-Workspace\\Module_5\\Challenge_5\\Starter_Code\\FinTech_Module5_Financial_Planner\\MCForecastTools.py:117: PerformanceWarning: DataFrame is highly fragmented.  This is usually the result of calling `frame.insert` many times, which has poor performance.  Consider joining all columns at once using pd.concat(axis=1) instead. To get a de-fragmented frame, use `newframe = frame.copy()`\n",
      "  portfolio_cumulative_returns[n] = (1 + sim_df.fillna(0)).cumprod()\n",
      "C:\\Users\\boris\\OneDrive\\Documents\\Studies\\ColumbiaBootCamp\\FinTech-Workspace\\Module_5\\Challenge_5\\Starter_Code\\FinTech_Module5_Financial_Planner\\MCForecastTools.py:117: PerformanceWarning: DataFrame is highly fragmented.  This is usually the result of calling `frame.insert` many times, which has poor performance.  Consider joining all columns at once using pd.concat(axis=1) instead. To get a de-fragmented frame, use `newframe = frame.copy()`\n",
      "  portfolio_cumulative_returns[n] = (1 + sim_df.fillna(0)).cumprod()\n"
     ]
    },
    {
     "name": "stdout",
     "output_type": "stream",
     "text": [
      "Running Monte Carlo simulation number 470.\n"
     ]
    },
    {
     "name": "stderr",
     "output_type": "stream",
     "text": [
      "C:\\Users\\boris\\OneDrive\\Documents\\Studies\\ColumbiaBootCamp\\FinTech-Workspace\\Module_5\\Challenge_5\\Starter_Code\\FinTech_Module5_Financial_Planner\\MCForecastTools.py:117: PerformanceWarning: DataFrame is highly fragmented.  This is usually the result of calling `frame.insert` many times, which has poor performance.  Consider joining all columns at once using pd.concat(axis=1) instead. To get a de-fragmented frame, use `newframe = frame.copy()`\n",
      "  portfolio_cumulative_returns[n] = (1 + sim_df.fillna(0)).cumprod()\n",
      "C:\\Users\\boris\\OneDrive\\Documents\\Studies\\ColumbiaBootCamp\\FinTech-Workspace\\Module_5\\Challenge_5\\Starter_Code\\FinTech_Module5_Financial_Planner\\MCForecastTools.py:117: PerformanceWarning: DataFrame is highly fragmented.  This is usually the result of calling `frame.insert` many times, which has poor performance.  Consider joining all columns at once using pd.concat(axis=1) instead. To get a de-fragmented frame, use `newframe = frame.copy()`\n",
      "  portfolio_cumulative_returns[n] = (1 + sim_df.fillna(0)).cumprod()\n",
      "C:\\Users\\boris\\OneDrive\\Documents\\Studies\\ColumbiaBootCamp\\FinTech-Workspace\\Module_5\\Challenge_5\\Starter_Code\\FinTech_Module5_Financial_Planner\\MCForecastTools.py:117: PerformanceWarning: DataFrame is highly fragmented.  This is usually the result of calling `frame.insert` many times, which has poor performance.  Consider joining all columns at once using pd.concat(axis=1) instead. To get a de-fragmented frame, use `newframe = frame.copy()`\n",
      "  portfolio_cumulative_returns[n] = (1 + sim_df.fillna(0)).cumprod()\n",
      "C:\\Users\\boris\\OneDrive\\Documents\\Studies\\ColumbiaBootCamp\\FinTech-Workspace\\Module_5\\Challenge_5\\Starter_Code\\FinTech_Module5_Financial_Planner\\MCForecastTools.py:117: PerformanceWarning: DataFrame is highly fragmented.  This is usually the result of calling `frame.insert` many times, which has poor performance.  Consider joining all columns at once using pd.concat(axis=1) instead. To get a de-fragmented frame, use `newframe = frame.copy()`\n",
      "  portfolio_cumulative_returns[n] = (1 + sim_df.fillna(0)).cumprod()\n",
      "C:\\Users\\boris\\OneDrive\\Documents\\Studies\\ColumbiaBootCamp\\FinTech-Workspace\\Module_5\\Challenge_5\\Starter_Code\\FinTech_Module5_Financial_Planner\\MCForecastTools.py:117: PerformanceWarning: DataFrame is highly fragmented.  This is usually the result of calling `frame.insert` many times, which has poor performance.  Consider joining all columns at once using pd.concat(axis=1) instead. To get a de-fragmented frame, use `newframe = frame.copy()`\n",
      "  portfolio_cumulative_returns[n] = (1 + sim_df.fillna(0)).cumprod()\n",
      "C:\\Users\\boris\\OneDrive\\Documents\\Studies\\ColumbiaBootCamp\\FinTech-Workspace\\Module_5\\Challenge_5\\Starter_Code\\FinTech_Module5_Financial_Planner\\MCForecastTools.py:117: PerformanceWarning: DataFrame is highly fragmented.  This is usually the result of calling `frame.insert` many times, which has poor performance.  Consider joining all columns at once using pd.concat(axis=1) instead. To get a de-fragmented frame, use `newframe = frame.copy()`\n",
      "  portfolio_cumulative_returns[n] = (1 + sim_df.fillna(0)).cumprod()\n",
      "C:\\Users\\boris\\OneDrive\\Documents\\Studies\\ColumbiaBootCamp\\FinTech-Workspace\\Module_5\\Challenge_5\\Starter_Code\\FinTech_Module5_Financial_Planner\\MCForecastTools.py:117: PerformanceWarning: DataFrame is highly fragmented.  This is usually the result of calling `frame.insert` many times, which has poor performance.  Consider joining all columns at once using pd.concat(axis=1) instead. To get a de-fragmented frame, use `newframe = frame.copy()`\n",
      "  portfolio_cumulative_returns[n] = (1 + sim_df.fillna(0)).cumprod()\n",
      "C:\\Users\\boris\\OneDrive\\Documents\\Studies\\ColumbiaBootCamp\\FinTech-Workspace\\Module_5\\Challenge_5\\Starter_Code\\FinTech_Module5_Financial_Planner\\MCForecastTools.py:117: PerformanceWarning: DataFrame is highly fragmented.  This is usually the result of calling `frame.insert` many times, which has poor performance.  Consider joining all columns at once using pd.concat(axis=1) instead. To get a de-fragmented frame, use `newframe = frame.copy()`\n",
      "  portfolio_cumulative_returns[n] = (1 + sim_df.fillna(0)).cumprod()\n",
      "C:\\Users\\boris\\OneDrive\\Documents\\Studies\\ColumbiaBootCamp\\FinTech-Workspace\\Module_5\\Challenge_5\\Starter_Code\\FinTech_Module5_Financial_Planner\\MCForecastTools.py:117: PerformanceWarning: DataFrame is highly fragmented.  This is usually the result of calling `frame.insert` many times, which has poor performance.  Consider joining all columns at once using pd.concat(axis=1) instead. To get a de-fragmented frame, use `newframe = frame.copy()`\n",
      "  portfolio_cumulative_returns[n] = (1 + sim_df.fillna(0)).cumprod()\n",
      "C:\\Users\\boris\\OneDrive\\Documents\\Studies\\ColumbiaBootCamp\\FinTech-Workspace\\Module_5\\Challenge_5\\Starter_Code\\FinTech_Module5_Financial_Planner\\MCForecastTools.py:117: PerformanceWarning: DataFrame is highly fragmented.  This is usually the result of calling `frame.insert` many times, which has poor performance.  Consider joining all columns at once using pd.concat(axis=1) instead. To get a de-fragmented frame, use `newframe = frame.copy()`\n",
      "  portfolio_cumulative_returns[n] = (1 + sim_df.fillna(0)).cumprod()\n"
     ]
    },
    {
     "name": "stdout",
     "output_type": "stream",
     "text": [
      "Running Monte Carlo simulation number 480.\n"
     ]
    },
    {
     "name": "stderr",
     "output_type": "stream",
     "text": [
      "C:\\Users\\boris\\OneDrive\\Documents\\Studies\\ColumbiaBootCamp\\FinTech-Workspace\\Module_5\\Challenge_5\\Starter_Code\\FinTech_Module5_Financial_Planner\\MCForecastTools.py:117: PerformanceWarning: DataFrame is highly fragmented.  This is usually the result of calling `frame.insert` many times, which has poor performance.  Consider joining all columns at once using pd.concat(axis=1) instead. To get a de-fragmented frame, use `newframe = frame.copy()`\n",
      "  portfolio_cumulative_returns[n] = (1 + sim_df.fillna(0)).cumprod()\n",
      "C:\\Users\\boris\\OneDrive\\Documents\\Studies\\ColumbiaBootCamp\\FinTech-Workspace\\Module_5\\Challenge_5\\Starter_Code\\FinTech_Module5_Financial_Planner\\MCForecastTools.py:117: PerformanceWarning: DataFrame is highly fragmented.  This is usually the result of calling `frame.insert` many times, which has poor performance.  Consider joining all columns at once using pd.concat(axis=1) instead. To get a de-fragmented frame, use `newframe = frame.copy()`\n",
      "  portfolio_cumulative_returns[n] = (1 + sim_df.fillna(0)).cumprod()\n",
      "C:\\Users\\boris\\OneDrive\\Documents\\Studies\\ColumbiaBootCamp\\FinTech-Workspace\\Module_5\\Challenge_5\\Starter_Code\\FinTech_Module5_Financial_Planner\\MCForecastTools.py:117: PerformanceWarning: DataFrame is highly fragmented.  This is usually the result of calling `frame.insert` many times, which has poor performance.  Consider joining all columns at once using pd.concat(axis=1) instead. To get a de-fragmented frame, use `newframe = frame.copy()`\n",
      "  portfolio_cumulative_returns[n] = (1 + sim_df.fillna(0)).cumprod()\n",
      "C:\\Users\\boris\\OneDrive\\Documents\\Studies\\ColumbiaBootCamp\\FinTech-Workspace\\Module_5\\Challenge_5\\Starter_Code\\FinTech_Module5_Financial_Planner\\MCForecastTools.py:117: PerformanceWarning: DataFrame is highly fragmented.  This is usually the result of calling `frame.insert` many times, which has poor performance.  Consider joining all columns at once using pd.concat(axis=1) instead. To get a de-fragmented frame, use `newframe = frame.copy()`\n",
      "  portfolio_cumulative_returns[n] = (1 + sim_df.fillna(0)).cumprod()\n",
      "C:\\Users\\boris\\OneDrive\\Documents\\Studies\\ColumbiaBootCamp\\FinTech-Workspace\\Module_5\\Challenge_5\\Starter_Code\\FinTech_Module5_Financial_Planner\\MCForecastTools.py:117: PerformanceWarning: DataFrame is highly fragmented.  This is usually the result of calling `frame.insert` many times, which has poor performance.  Consider joining all columns at once using pd.concat(axis=1) instead. To get a de-fragmented frame, use `newframe = frame.copy()`\n",
      "  portfolio_cumulative_returns[n] = (1 + sim_df.fillna(0)).cumprod()\n",
      "C:\\Users\\boris\\OneDrive\\Documents\\Studies\\ColumbiaBootCamp\\FinTech-Workspace\\Module_5\\Challenge_5\\Starter_Code\\FinTech_Module5_Financial_Planner\\MCForecastTools.py:117: PerformanceWarning: DataFrame is highly fragmented.  This is usually the result of calling `frame.insert` many times, which has poor performance.  Consider joining all columns at once using pd.concat(axis=1) instead. To get a de-fragmented frame, use `newframe = frame.copy()`\n",
      "  portfolio_cumulative_returns[n] = (1 + sim_df.fillna(0)).cumprod()\n",
      "C:\\Users\\boris\\OneDrive\\Documents\\Studies\\ColumbiaBootCamp\\FinTech-Workspace\\Module_5\\Challenge_5\\Starter_Code\\FinTech_Module5_Financial_Planner\\MCForecastTools.py:117: PerformanceWarning: DataFrame is highly fragmented.  This is usually the result of calling `frame.insert` many times, which has poor performance.  Consider joining all columns at once using pd.concat(axis=1) instead. To get a de-fragmented frame, use `newframe = frame.copy()`\n",
      "  portfolio_cumulative_returns[n] = (1 + sim_df.fillna(0)).cumprod()\n",
      "C:\\Users\\boris\\OneDrive\\Documents\\Studies\\ColumbiaBootCamp\\FinTech-Workspace\\Module_5\\Challenge_5\\Starter_Code\\FinTech_Module5_Financial_Planner\\MCForecastTools.py:117: PerformanceWarning: DataFrame is highly fragmented.  This is usually the result of calling `frame.insert` many times, which has poor performance.  Consider joining all columns at once using pd.concat(axis=1) instead. To get a de-fragmented frame, use `newframe = frame.copy()`\n",
      "  portfolio_cumulative_returns[n] = (1 + sim_df.fillna(0)).cumprod()\n",
      "C:\\Users\\boris\\OneDrive\\Documents\\Studies\\ColumbiaBootCamp\\FinTech-Workspace\\Module_5\\Challenge_5\\Starter_Code\\FinTech_Module5_Financial_Planner\\MCForecastTools.py:117: PerformanceWarning: DataFrame is highly fragmented.  This is usually the result of calling `frame.insert` many times, which has poor performance.  Consider joining all columns at once using pd.concat(axis=1) instead. To get a de-fragmented frame, use `newframe = frame.copy()`\n",
      "  portfolio_cumulative_returns[n] = (1 + sim_df.fillna(0)).cumprod()\n"
     ]
    },
    {
     "name": "stdout",
     "output_type": "stream",
     "text": [
      "Running Monte Carlo simulation number 490.\n"
     ]
    },
    {
     "name": "stderr",
     "output_type": "stream",
     "text": [
      "C:\\Users\\boris\\OneDrive\\Documents\\Studies\\ColumbiaBootCamp\\FinTech-Workspace\\Module_5\\Challenge_5\\Starter_Code\\FinTech_Module5_Financial_Planner\\MCForecastTools.py:117: PerformanceWarning: DataFrame is highly fragmented.  This is usually the result of calling `frame.insert` many times, which has poor performance.  Consider joining all columns at once using pd.concat(axis=1) instead. To get a de-fragmented frame, use `newframe = frame.copy()`\n",
      "  portfolio_cumulative_returns[n] = (1 + sim_df.fillna(0)).cumprod()\n",
      "C:\\Users\\boris\\OneDrive\\Documents\\Studies\\ColumbiaBootCamp\\FinTech-Workspace\\Module_5\\Challenge_5\\Starter_Code\\FinTech_Module5_Financial_Planner\\MCForecastTools.py:117: PerformanceWarning: DataFrame is highly fragmented.  This is usually the result of calling `frame.insert` many times, which has poor performance.  Consider joining all columns at once using pd.concat(axis=1) instead. To get a de-fragmented frame, use `newframe = frame.copy()`\n",
      "  portfolio_cumulative_returns[n] = (1 + sim_df.fillna(0)).cumprod()\n",
      "C:\\Users\\boris\\OneDrive\\Documents\\Studies\\ColumbiaBootCamp\\FinTech-Workspace\\Module_5\\Challenge_5\\Starter_Code\\FinTech_Module5_Financial_Planner\\MCForecastTools.py:117: PerformanceWarning: DataFrame is highly fragmented.  This is usually the result of calling `frame.insert` many times, which has poor performance.  Consider joining all columns at once using pd.concat(axis=1) instead. To get a de-fragmented frame, use `newframe = frame.copy()`\n",
      "  portfolio_cumulative_returns[n] = (1 + sim_df.fillna(0)).cumprod()\n",
      "C:\\Users\\boris\\OneDrive\\Documents\\Studies\\ColumbiaBootCamp\\FinTech-Workspace\\Module_5\\Challenge_5\\Starter_Code\\FinTech_Module5_Financial_Planner\\MCForecastTools.py:117: PerformanceWarning: DataFrame is highly fragmented.  This is usually the result of calling `frame.insert` many times, which has poor performance.  Consider joining all columns at once using pd.concat(axis=1) instead. To get a de-fragmented frame, use `newframe = frame.copy()`\n",
      "  portfolio_cumulative_returns[n] = (1 + sim_df.fillna(0)).cumprod()\n",
      "C:\\Users\\boris\\OneDrive\\Documents\\Studies\\ColumbiaBootCamp\\FinTech-Workspace\\Module_5\\Challenge_5\\Starter_Code\\FinTech_Module5_Financial_Planner\\MCForecastTools.py:117: PerformanceWarning: DataFrame is highly fragmented.  This is usually the result of calling `frame.insert` many times, which has poor performance.  Consider joining all columns at once using pd.concat(axis=1) instead. To get a de-fragmented frame, use `newframe = frame.copy()`\n",
      "  portfolio_cumulative_returns[n] = (1 + sim_df.fillna(0)).cumprod()\n",
      "C:\\Users\\boris\\OneDrive\\Documents\\Studies\\ColumbiaBootCamp\\FinTech-Workspace\\Module_5\\Challenge_5\\Starter_Code\\FinTech_Module5_Financial_Planner\\MCForecastTools.py:117: PerformanceWarning: DataFrame is highly fragmented.  This is usually the result of calling `frame.insert` many times, which has poor performance.  Consider joining all columns at once using pd.concat(axis=1) instead. To get a de-fragmented frame, use `newframe = frame.copy()`\n",
      "  portfolio_cumulative_returns[n] = (1 + sim_df.fillna(0)).cumprod()\n",
      "C:\\Users\\boris\\OneDrive\\Documents\\Studies\\ColumbiaBootCamp\\FinTech-Workspace\\Module_5\\Challenge_5\\Starter_Code\\FinTech_Module5_Financial_Planner\\MCForecastTools.py:117: PerformanceWarning: DataFrame is highly fragmented.  This is usually the result of calling `frame.insert` many times, which has poor performance.  Consider joining all columns at once using pd.concat(axis=1) instead. To get a de-fragmented frame, use `newframe = frame.copy()`\n",
      "  portfolio_cumulative_returns[n] = (1 + sim_df.fillna(0)).cumprod()\n",
      "C:\\Users\\boris\\OneDrive\\Documents\\Studies\\ColumbiaBootCamp\\FinTech-Workspace\\Module_5\\Challenge_5\\Starter_Code\\FinTech_Module5_Financial_Planner\\MCForecastTools.py:117: PerformanceWarning: DataFrame is highly fragmented.  This is usually the result of calling `frame.insert` many times, which has poor performance.  Consider joining all columns at once using pd.concat(axis=1) instead. To get a de-fragmented frame, use `newframe = frame.copy()`\n",
      "  portfolio_cumulative_returns[n] = (1 + sim_df.fillna(0)).cumprod()\n",
      "C:\\Users\\boris\\OneDrive\\Documents\\Studies\\ColumbiaBootCamp\\FinTech-Workspace\\Module_5\\Challenge_5\\Starter_Code\\FinTech_Module5_Financial_Planner\\MCForecastTools.py:117: PerformanceWarning: DataFrame is highly fragmented.  This is usually the result of calling `frame.insert` many times, which has poor performance.  Consider joining all columns at once using pd.concat(axis=1) instead. To get a de-fragmented frame, use `newframe = frame.copy()`\n",
      "  portfolio_cumulative_returns[n] = (1 + sim_df.fillna(0)).cumprod()\n",
      "C:\\Users\\boris\\OneDrive\\Documents\\Studies\\ColumbiaBootCamp\\FinTech-Workspace\\Module_5\\Challenge_5\\Starter_Code\\FinTech_Module5_Financial_Planner\\MCForecastTools.py:117: PerformanceWarning: DataFrame is highly fragmented.  This is usually the result of calling `frame.insert` many times, which has poor performance.  Consider joining all columns at once using pd.concat(axis=1) instead. To get a de-fragmented frame, use `newframe = frame.copy()`\n",
      "  portfolio_cumulative_returns[n] = (1 + sim_df.fillna(0)).cumprod()\n"
     ]
    },
    {
     "data": {
      "text/html": [
       "<div>\n",
       "<style scoped>\n",
       "    .dataframe tbody tr th:only-of-type {\n",
       "        vertical-align: middle;\n",
       "    }\n",
       "\n",
       "    .dataframe tbody tr th {\n",
       "        vertical-align: top;\n",
       "    }\n",
       "\n",
       "    .dataframe thead th {\n",
       "        text-align: right;\n",
       "    }\n",
       "</style>\n",
       "<table border=\"1\" class=\"dataframe\">\n",
       "  <thead>\n",
       "    <tr style=\"text-align: right;\">\n",
       "      <th></th>\n",
       "      <th>0</th>\n",
       "      <th>1</th>\n",
       "      <th>2</th>\n",
       "      <th>3</th>\n",
       "      <th>4</th>\n",
       "      <th>5</th>\n",
       "      <th>6</th>\n",
       "      <th>7</th>\n",
       "      <th>8</th>\n",
       "      <th>9</th>\n",
       "      <th>...</th>\n",
       "      <th>490</th>\n",
       "      <th>491</th>\n",
       "      <th>492</th>\n",
       "      <th>493</th>\n",
       "      <th>494</th>\n",
       "      <th>495</th>\n",
       "      <th>496</th>\n",
       "      <th>497</th>\n",
       "      <th>498</th>\n",
       "      <th>499</th>\n",
       "    </tr>\n",
       "  </thead>\n",
       "  <tbody>\n",
       "    <tr>\n",
       "      <th>0</th>\n",
       "      <td>1.000000</td>\n",
       "      <td>1.000000</td>\n",
       "      <td>1.000000</td>\n",
       "      <td>1.000000</td>\n",
       "      <td>1.000000</td>\n",
       "      <td>1.000000</td>\n",
       "      <td>1.000000</td>\n",
       "      <td>1.000000</td>\n",
       "      <td>1.000000</td>\n",
       "      <td>1.000000</td>\n",
       "      <td>...</td>\n",
       "      <td>1.000000</td>\n",
       "      <td>1.000000</td>\n",
       "      <td>1.000000</td>\n",
       "      <td>1.000000</td>\n",
       "      <td>1.000000</td>\n",
       "      <td>1.000000</td>\n",
       "      <td>1.000000</td>\n",
       "      <td>1.000000</td>\n",
       "      <td>1.000000</td>\n",
       "      <td>1.000000</td>\n",
       "    </tr>\n",
       "    <tr>\n",
       "      <th>1</th>\n",
       "      <td>0.990159</td>\n",
       "      <td>0.999763</td>\n",
       "      <td>1.000113</td>\n",
       "      <td>1.013662</td>\n",
       "      <td>1.004609</td>\n",
       "      <td>1.008206</td>\n",
       "      <td>0.995579</td>\n",
       "      <td>1.016724</td>\n",
       "      <td>1.001543</td>\n",
       "      <td>1.001707</td>\n",
       "      <td>...</td>\n",
       "      <td>1.006705</td>\n",
       "      <td>1.006105</td>\n",
       "      <td>1.012776</td>\n",
       "      <td>1.016408</td>\n",
       "      <td>0.994966</td>\n",
       "      <td>0.984110</td>\n",
       "      <td>0.986605</td>\n",
       "      <td>0.987448</td>\n",
       "      <td>0.987940</td>\n",
       "      <td>0.990670</td>\n",
       "    </tr>\n",
       "    <tr>\n",
       "      <th>2</th>\n",
       "      <td>0.999487</td>\n",
       "      <td>0.980978</td>\n",
       "      <td>0.991063</td>\n",
       "      <td>1.012604</td>\n",
       "      <td>0.995668</td>\n",
       "      <td>0.986412</td>\n",
       "      <td>0.994428</td>\n",
       "      <td>1.030756</td>\n",
       "      <td>0.994559</td>\n",
       "      <td>1.005802</td>\n",
       "      <td>...</td>\n",
       "      <td>0.998242</td>\n",
       "      <td>1.000244</td>\n",
       "      <td>0.999236</td>\n",
       "      <td>1.013350</td>\n",
       "      <td>1.001229</td>\n",
       "      <td>1.007116</td>\n",
       "      <td>0.990799</td>\n",
       "      <td>0.984156</td>\n",
       "      <td>0.993463</td>\n",
       "      <td>0.989134</td>\n",
       "    </tr>\n",
       "    <tr>\n",
       "      <th>3</th>\n",
       "      <td>1.027379</td>\n",
       "      <td>1.002843</td>\n",
       "      <td>1.000540</td>\n",
       "      <td>1.025026</td>\n",
       "      <td>0.983941</td>\n",
       "      <td>0.986486</td>\n",
       "      <td>0.982120</td>\n",
       "      <td>1.026195</td>\n",
       "      <td>1.004700</td>\n",
       "      <td>0.979452</td>\n",
       "      <td>...</td>\n",
       "      <td>0.978678</td>\n",
       "      <td>1.007945</td>\n",
       "      <td>1.013737</td>\n",
       "      <td>0.995322</td>\n",
       "      <td>0.979782</td>\n",
       "      <td>0.987891</td>\n",
       "      <td>1.010260</td>\n",
       "      <td>0.980855</td>\n",
       "      <td>0.986701</td>\n",
       "      <td>0.998858</td>\n",
       "    </tr>\n",
       "    <tr>\n",
       "      <th>4</th>\n",
       "      <td>1.033055</td>\n",
       "      <td>1.009443</td>\n",
       "      <td>1.003046</td>\n",
       "      <td>1.008843</td>\n",
       "      <td>0.991609</td>\n",
       "      <td>0.965543</td>\n",
       "      <td>0.991742</td>\n",
       "      <td>1.027837</td>\n",
       "      <td>0.995571</td>\n",
       "      <td>0.981155</td>\n",
       "      <td>...</td>\n",
       "      <td>0.978510</td>\n",
       "      <td>0.995948</td>\n",
       "      <td>1.007118</td>\n",
       "      <td>0.984564</td>\n",
       "      <td>0.966948</td>\n",
       "      <td>0.977555</td>\n",
       "      <td>0.997297</td>\n",
       "      <td>0.985773</td>\n",
       "      <td>0.985288</td>\n",
       "      <td>0.990884</td>\n",
       "    </tr>\n",
       "    <tr>\n",
       "      <th>...</th>\n",
       "      <td>...</td>\n",
       "      <td>...</td>\n",
       "      <td>...</td>\n",
       "      <td>...</td>\n",
       "      <td>...</td>\n",
       "      <td>...</td>\n",
       "      <td>...</td>\n",
       "      <td>...</td>\n",
       "      <td>...</td>\n",
       "      <td>...</td>\n",
       "      <td>...</td>\n",
       "      <td>...</td>\n",
       "      <td>...</td>\n",
       "      <td>...</td>\n",
       "      <td>...</td>\n",
       "      <td>...</td>\n",
       "      <td>...</td>\n",
       "      <td>...</td>\n",
       "      <td>...</td>\n",
       "      <td>...</td>\n",
       "      <td>...</td>\n",
       "    </tr>\n",
       "    <tr>\n",
       "      <th>2516</th>\n",
       "      <td>1.352069</td>\n",
       "      <td>1.619274</td>\n",
       "      <td>0.607477</td>\n",
       "      <td>1.134145</td>\n",
       "      <td>1.192570</td>\n",
       "      <td>0.778337</td>\n",
       "      <td>3.809221</td>\n",
       "      <td>2.812308</td>\n",
       "      <td>1.896101</td>\n",
       "      <td>2.226028</td>\n",
       "      <td>...</td>\n",
       "      <td>0.905901</td>\n",
       "      <td>2.006352</td>\n",
       "      <td>2.181507</td>\n",
       "      <td>1.860441</td>\n",
       "      <td>1.154255</td>\n",
       "      <td>7.523686</td>\n",
       "      <td>1.559611</td>\n",
       "      <td>1.312645</td>\n",
       "      <td>1.592969</td>\n",
       "      <td>1.436667</td>\n",
       "    </tr>\n",
       "    <tr>\n",
       "      <th>2517</th>\n",
       "      <td>1.354067</td>\n",
       "      <td>1.601525</td>\n",
       "      <td>0.604982</td>\n",
       "      <td>1.123025</td>\n",
       "      <td>1.183674</td>\n",
       "      <td>0.777246</td>\n",
       "      <td>3.806838</td>\n",
       "      <td>2.778088</td>\n",
       "      <td>1.935194</td>\n",
       "      <td>2.195099</td>\n",
       "      <td>...</td>\n",
       "      <td>0.899216</td>\n",
       "      <td>1.989948</td>\n",
       "      <td>2.203611</td>\n",
       "      <td>1.875492</td>\n",
       "      <td>1.153302</td>\n",
       "      <td>7.533842</td>\n",
       "      <td>1.577323</td>\n",
       "      <td>1.299340</td>\n",
       "      <td>1.592741</td>\n",
       "      <td>1.421952</td>\n",
       "    </tr>\n",
       "    <tr>\n",
       "      <th>2518</th>\n",
       "      <td>1.362791</td>\n",
       "      <td>1.632703</td>\n",
       "      <td>0.605902</td>\n",
       "      <td>1.117289</td>\n",
       "      <td>1.190370</td>\n",
       "      <td>0.776325</td>\n",
       "      <td>3.815546</td>\n",
       "      <td>2.782152</td>\n",
       "      <td>1.955386</td>\n",
       "      <td>2.232728</td>\n",
       "      <td>...</td>\n",
       "      <td>0.910166</td>\n",
       "      <td>1.990674</td>\n",
       "      <td>2.187445</td>\n",
       "      <td>1.924446</td>\n",
       "      <td>1.158236</td>\n",
       "      <td>7.438524</td>\n",
       "      <td>1.550207</td>\n",
       "      <td>1.321927</td>\n",
       "      <td>1.623527</td>\n",
       "      <td>1.408778</td>\n",
       "    </tr>\n",
       "    <tr>\n",
       "      <th>2519</th>\n",
       "      <td>1.380243</td>\n",
       "      <td>1.621388</td>\n",
       "      <td>0.610800</td>\n",
       "      <td>1.109645</td>\n",
       "      <td>1.196409</td>\n",
       "      <td>0.774517</td>\n",
       "      <td>3.817032</td>\n",
       "      <td>2.796483</td>\n",
       "      <td>1.934319</td>\n",
       "      <td>2.237828</td>\n",
       "      <td>...</td>\n",
       "      <td>0.914651</td>\n",
       "      <td>2.019875</td>\n",
       "      <td>2.183164</td>\n",
       "      <td>1.922873</td>\n",
       "      <td>1.145443</td>\n",
       "      <td>7.361794</td>\n",
       "      <td>1.569271</td>\n",
       "      <td>1.315412</td>\n",
       "      <td>1.660220</td>\n",
       "      <td>1.395801</td>\n",
       "    </tr>\n",
       "    <tr>\n",
       "      <th>2520</th>\n",
       "      <td>1.359617</td>\n",
       "      <td>1.590652</td>\n",
       "      <td>0.601738</td>\n",
       "      <td>1.115043</td>\n",
       "      <td>1.149511</td>\n",
       "      <td>0.767046</td>\n",
       "      <td>3.852514</td>\n",
       "      <td>2.870962</td>\n",
       "      <td>1.900452</td>\n",
       "      <td>2.271546</td>\n",
       "      <td>...</td>\n",
       "      <td>0.913243</td>\n",
       "      <td>2.028640</td>\n",
       "      <td>2.181079</td>\n",
       "      <td>1.917784</td>\n",
       "      <td>1.148607</td>\n",
       "      <td>7.239532</td>\n",
       "      <td>1.562163</td>\n",
       "      <td>1.298182</td>\n",
       "      <td>1.658170</td>\n",
       "      <td>1.391252</td>\n",
       "    </tr>\n",
       "  </tbody>\n",
       "</table>\n",
       "<p>2521 rows × 500 columns</p>\n",
       "</div>"
      ],
      "text/plain": [
       "           0         1         2         3         4         5         6    \\\n",
       "0     1.000000  1.000000  1.000000  1.000000  1.000000  1.000000  1.000000   \n",
       "1     0.990159  0.999763  1.000113  1.013662  1.004609  1.008206  0.995579   \n",
       "2     0.999487  0.980978  0.991063  1.012604  0.995668  0.986412  0.994428   \n",
       "3     1.027379  1.002843  1.000540  1.025026  0.983941  0.986486  0.982120   \n",
       "4     1.033055  1.009443  1.003046  1.008843  0.991609  0.965543  0.991742   \n",
       "...        ...       ...       ...       ...       ...       ...       ...   \n",
       "2516  1.352069  1.619274  0.607477  1.134145  1.192570  0.778337  3.809221   \n",
       "2517  1.354067  1.601525  0.604982  1.123025  1.183674  0.777246  3.806838   \n",
       "2518  1.362791  1.632703  0.605902  1.117289  1.190370  0.776325  3.815546   \n",
       "2519  1.380243  1.621388  0.610800  1.109645  1.196409  0.774517  3.817032   \n",
       "2520  1.359617  1.590652  0.601738  1.115043  1.149511  0.767046  3.852514   \n",
       "\n",
       "           7         8         9    ...       490       491       492  \\\n",
       "0     1.000000  1.000000  1.000000  ...  1.000000  1.000000  1.000000   \n",
       "1     1.016724  1.001543  1.001707  ...  1.006705  1.006105  1.012776   \n",
       "2     1.030756  0.994559  1.005802  ...  0.998242  1.000244  0.999236   \n",
       "3     1.026195  1.004700  0.979452  ...  0.978678  1.007945  1.013737   \n",
       "4     1.027837  0.995571  0.981155  ...  0.978510  0.995948  1.007118   \n",
       "...        ...       ...       ...  ...       ...       ...       ...   \n",
       "2516  2.812308  1.896101  2.226028  ...  0.905901  2.006352  2.181507   \n",
       "2517  2.778088  1.935194  2.195099  ...  0.899216  1.989948  2.203611   \n",
       "2518  2.782152  1.955386  2.232728  ...  0.910166  1.990674  2.187445   \n",
       "2519  2.796483  1.934319  2.237828  ...  0.914651  2.019875  2.183164   \n",
       "2520  2.870962  1.900452  2.271546  ...  0.913243  2.028640  2.181079   \n",
       "\n",
       "           493       494       495       496       497       498       499  \n",
       "0     1.000000  1.000000  1.000000  1.000000  1.000000  1.000000  1.000000  \n",
       "1     1.016408  0.994966  0.984110  0.986605  0.987448  0.987940  0.990670  \n",
       "2     1.013350  1.001229  1.007116  0.990799  0.984156  0.993463  0.989134  \n",
       "3     0.995322  0.979782  0.987891  1.010260  0.980855  0.986701  0.998858  \n",
       "4     0.984564  0.966948  0.977555  0.997297  0.985773  0.985288  0.990884  \n",
       "...        ...       ...       ...       ...       ...       ...       ...  \n",
       "2516  1.860441  1.154255  7.523686  1.559611  1.312645  1.592969  1.436667  \n",
       "2517  1.875492  1.153302  7.533842  1.577323  1.299340  1.592741  1.421952  \n",
       "2518  1.924446  1.158236  7.438524  1.550207  1.321927  1.623527  1.408778  \n",
       "2519  1.922873  1.145443  7.361794  1.569271  1.315412  1.660220  1.395801  \n",
       "2520  1.917784  1.148607  7.239532  1.562163  1.298182  1.658170  1.391252  \n",
       "\n",
       "[2521 rows x 500 columns]"
      ]
     },
     "execution_count": 38,
     "metadata": {},
     "output_type": "execute_result"
    }
   ],
   "source": [
    "# Run the Monte Carlo simulation to forecast 10 years cumulative returns\n",
    "MC_10year.calc_cumulative_return()\n"
   ]
  },
  {
   "cell_type": "code",
   "execution_count": 39,
   "metadata": {},
   "outputs": [
    {
     "data": {
      "image/png": "[encoded data removed]",
      "text/plain": [
       "<Figure size 640x480 with 1 Axes>"
      ]
     },
     "metadata": {},
     "output_type": "display_data"
    }
   ],
   "source": [
    "# Visualize the 10-year Monte Carlo simulation by creating an\n",
    "# overlay line plot\n",
    "MC_sim_line_plot_10y = MC_10year.plot_simulation()\n",
    "\n",
    "# Save the plot for future use\n",
    "MC_sim_line_plot_10y.get_figure().savefig(\"MC_10year_sim_plot.png\", bbox_inches=\"tight\")\n",
    "\n"
   ]
  },
  {
   "cell_type": "code",
   "execution_count": 40,
   "metadata": {},
   "outputs": [
    {
     "data": {
      "image/png": "[encoded data removed]",
      "text/plain": [
       "<Figure size 640x480 with 1 Axes>"
      ]
     },
     "metadata": {},
     "output_type": "display_data"
    }
   ],
   "source": [
    "# Visualize the probability distribution of the 10-year Monte Carlo simulation \n",
    "# by plotting a histogram\n",
    "MC_sim_dist_plot_10y = MC_10year.plot_distribution()\n",
    "\n",
    "# Save the plot for future use\n",
    "MC_sim_dist_plot_10y.get_figure().savefig('MC_10year_dist_plot.png',bbox_inches='tight')"
   ]
  },
  {
   "cell_type": "code",
   "execution_count": 41,
   "metadata": {},
   "outputs": [
    {
     "name": "stdout",
     "output_type": "stream",
     "text": [
      "count           500.000000\n",
      "mean              1.874903\n",
      "std               1.438047\n",
      "min               0.200585\n",
      "25%               1.026580\n",
      "50%               1.512152\n",
      "75%               2.305807\n",
      "max              15.807096\n",
      "95% CI Lower      0.466978\n",
      "95% CI Upper      5.282921\n",
      "Name: 2520, dtype: float64\n"
     ]
    },
    {
     "name": "stderr",
     "output_type": "stream",
     "text": [
      "C:\\Users\\boris\\OneDrive\\Documents\\Studies\\ColumbiaBootCamp\\FinTech-Workspace\\Module_5\\Challenge_5\\Starter_Code\\FinTech_Module5_Financial_Planner\\MCForecastTools.py:172: FutureWarning: The series.append method is deprecated and will be removed from pandas in a future version. Use pandas.concat instead.\n",
      "  return metrics.append(ci_series)\n"
     ]
    }
   ],
   "source": [
    "# Generate summary statistics from the 10-year Monte Carlo simulation results\n",
    "# Save the results as a variable\n",
    "MC_summary_statistics_10y = MC_10year.summarize_cumulative_return()\n",
    "\n",
    "\n",
    "# Review the 10-year Monte Carlo summary statistics\n",
    "print(MC_summary_statistics_10y)"
   ]
  },
  {
   "cell_type": "markdown",
   "metadata": {},
   "source": [
    "### Answer the following questions:"
   ]
  },
  {
   "cell_type": "markdown",
   "metadata": {},
   "source": [
    "#### Question: Using the current value of only the stock and bond portion of the member's portfolio and the summary statistics that you generated from the new Monte Carlo simulation, what are the lower and upper bounds for the expected value of the portfolio (with the new weights) with a 95% confidence interval?"
   ]
  },
  {
   "cell_type": "code",
   "execution_count": 42,
   "metadata": {},
   "outputs": [
    {
     "data": {
      "text/plain": [
       "61465.3"
      ]
     },
     "execution_count": 42,
     "metadata": {},
     "output_type": "execute_result"
    }
   ],
   "source": [
    "# Print the current balance of the stock and bond portion of the members portfolio\n",
    "total_stocks_bonds"
   ]
  },
  {
   "cell_type": "code",
   "execution_count": 43,
   "metadata": {},
   "outputs": [
    {
     "name": "stdout",
     "output_type": "stream",
     "text": [
      "There is a 95% chance that an initial investment of $61465.3 in the portfolio over the next 10 years will end within the range of $ 28702.93 and $ 324716.33.\n"
     ]
    }
   ],
   "source": [
    "# Use the lower and upper `95%` confidence intervals to calculate the range of the possible outcomes for the current stock/bond portfolio\n",
    "ci_lower_ten_cumulative_return = MC_summary_statistics_10y[8] * total_stocks_bonds\n",
    "ci_upper_ten_cumulative_return = MC_summary_statistics_10y[9] * total_stocks_bonds\n",
    "\n",
    "# Print the result of your calculations\n",
    "print(f\"There is a 95% chance that an initial investment of ${total_stocks_bonds} in the portfolio\"\n",
    "    f\" over the next 10 years will end within the range of\"\n",
    "    f\" ${ci_lower_ten_cumulative_return: .2f} and ${ci_upper_ten_cumulative_return: .2f}.\")\n"
   ]
  },
  {
   "cell_type": "markdown",
   "metadata": {},
   "source": [
    "#### Question: Will weighting the portfolio more heavily to stocks allow the credit union members to retire after only 10 years?"
   ]
  },
  {
   "attachments": {},
   "cell_type": "markdown",
   "metadata": {},
   "source": [
    "## Part 2 conclusion:\n",
    "Just by looking at the relationship between the mean and the standard deviation of the 10y and 30y results it looks that the higher allocation to riskier asset and a shorter time horizon (from 30y to 10y) the portfolio manager was able to improve the risk/retrun characteristics of the fund. However, considering the 10y range of outcomes with the 95% confidence level, ***it would be too risky to recommend to the union memebers to count on retriring in 10y with the proposed asset mix, as even the highest boundary projected portfolio value of USD324,716 seems insufficient for the retirement.***\n",
    "\n",
    "### Important to consider:\n",
    "When examining the 10y and 30y simulation outcomes we need to take into account that:\n",
    " - we simulated 10y and 30y data based on only 3y of historical observations. This will largely distort the simulation results due to insufficient historical data (ideally, we should have an amount of historical data equvivalent to the forcasted data).\n",
    " - the last 3 years were unprecedented in terms of the market performance and this period can not serve as a good basis for simulating long into the future: \n",
    "  >> - the chosen historical period is covering the pandemic (sharp drop in stock prices and flight to safety - bonds), \n",
    "  >> - very large increase in the money supply (steep increase in bond prices followed by sharp rise in the stock market), \n",
    "  >> - subsequent market opening and increase in consumer demand combined with supply chain problems, previous huge money injection into the economy and war in Ukrain (infltion followed by hiking interest rates - drop in the bond and stock prices).\n",
    "  \n",
    "**Therefore, unless we are convince such a bumpy market environment will extend into the future and become a new normal, it would be strongly recommended not to rely on the past 3 years of history and instead getting a much longer histroical data set for simulating so far into the future.**\n",
    "\n",
    "### Smmary statistics:\n",
    "\n",
    "30Y statistics:<br/>\n",
    "![30y_stats](/Images/30Y_Stats.png)\n",
    "> There is a 95% chance that an initial investment of USD61,465 in the portfolio over the next 30 years will end within the range of USD26,764 and USD664,639.\n",
    "\n",
    "10y statistics:<br/>\n",
    "![10y_stats](/Images/10Y_Stats.png)\n",
    "> There is a 95% chance that an initial investment of USD61,465 in the portfolio over the next 10 years will end within the range of USD28,702 and USD324,716.\n"
   ]
  }
 ],
 "metadata": {
  "kernelspec": {
   "display_name": "Python 3 (ipykernel)",
   "language": "python",
   "name": "python3"
  },
  "language_info": {
   "codemirror_mode": {
    "name": "ipython",
    "version": 3
   },
   "file_extension": ".py",
   "mimetype": "text/x-python",
   "name": "python",
   "nbconvert_exporter": "python",
   "pygments_lexer": "ipython3",
   "version": "3.9.15"
  }
 },
 "nbformat": 4,
 "nbformat_minor": 4
}
